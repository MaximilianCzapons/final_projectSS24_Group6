{
  "metadata": {
    "kernelspec": {
      "name": "python",
      "display_name": "Python (Pyodide)",
      "language": "python"
    },
    "language_info": {
      "codemirror_mode": {
        "name": "python",
        "version": 3
      },
      "file_extension": ".py",
      "mimetype": "text/x-python",
      "name": "python",
      "nbconvert_exporter": "python",
      "pygments_lexer": "ipython3",
      "version": "3.8"
    },
    "celltoolbar": "Slideshow"
  },
  "nbformat_minor": 5,
  "nbformat": 4,
  "cells": [
    {
      "id": "59dbdcb7",
      "cell_type": "markdown",
      "source": "# Bereinigung der Datensätze",
      "metadata": {
        "slideshow": {
          "slide_type": "skip"
        },
        "tags": [],
        "editable": true
      }
    },
    {
      "id": "0eac4c81-703d-4aff-a26d-7372a53f7a21",
      "cell_type": "markdown",
      "source": "### 2.1 Kundendatei einlesen",
      "metadata": {
        "slideshow": {
          "slide_type": "skip"
        },
        "tags": [],
        "editable": true
      }
    },
    {
      "id": "fad08255",
      "cell_type": "code",
      "source": "kunden = pd.read_csv(\"kunden.csv\", decimal = '.', sep = \";\")\nkunden.head()",
      "metadata": {
        "slideshow": {
          "slide_type": "skip"
        },
        "trusted": true,
        "tags": [],
        "editable": true
      },
      "outputs": [],
      "execution_count": null
    },
    {
      "id": "d5022e9a-b102-4ea9-ae5c-0f5ea84f4577",
      "cell_type": "markdown",
      "source": "### 2.2 Überblick über Datentypen",
      "metadata": {
        "slideshow": {
          "slide_type": "skip"
        },
        "tags": [],
        "editable": true
      }
    },
    {
      "id": "1f0a053f",
      "cell_type": "code",
      "source": "kunden.dtypes",
      "metadata": {
        "slideshow": {
          "slide_type": "skip"
        },
        "trusted": true,
        "tags": [],
        "editable": true
      },
      "outputs": [],
      "execution_count": null
    },
    {
      "id": "21b4b255-768d-4e12-9ac0-fac3cc16fe16",
      "cell_type": "markdown",
      "source": "### 2.3. Bereinigung",
      "metadata": {
        "slideshow": {
          "slide_type": "skip"
        },
        "tags": [],
        "editable": true
      }
    },
    {
      "id": "dfc76067",
      "cell_type": "markdown",
      "source": "### 2.3.1 Fehlende Datenpunkte ermitteln und ersetzen",
      "metadata": {
        "slideshow": {
          "slide_type": "skip"
        },
        "tags": [],
        "editable": true
      }
    },
    {
      "id": "0a459b24",
      "cell_type": "code",
      "source": "kunden.isnull().sum()",
      "metadata": {
        "slideshow": {
          "slide_type": "skip"
        },
        "trusted": true,
        "tags": [],
        "editable": true
      },
      "outputs": [],
      "execution_count": null
    },
    {
      "id": "8e5bfd33",
      "cell_type": "code",
      "source": "# Finden des Modalwertes:",
      "metadata": {
        "slideshow": {
          "slide_type": "skip"
        },
        "trusted": true,
        "tags": [],
        "editable": true
      },
      "outputs": [],
      "execution_count": null
    },
    {
      "id": "eb4d8d0c",
      "cell_type": "code",
      "source": "modalwert_kunden = kunden['Geschlecht'].mode()[0]",
      "metadata": {
        "slideshow": {
          "slide_type": "skip"
        },
        "trusted": true,
        "tags": [],
        "editable": true
      },
      "outputs": [],
      "execution_count": null
    },
    {
      "id": "281480c0",
      "cell_type": "code",
      "source": "modalwert_kunden",
      "metadata": {
        "slideshow": {
          "slide_type": "skip"
        },
        "trusted": true,
        "tags": [],
        "editable": true
      },
      "outputs": [],
      "execution_count": null
    },
    {
      "id": "c6bf589f",
      "cell_type": "code",
      "source": "# Ersetzen der 5 fehlenden Geschlechtseinträge mit dem Modalwert 1.0",
      "metadata": {
        "slideshow": {
          "slide_type": "skip"
        },
        "trusted": true,
        "tags": [],
        "editable": true
      },
      "outputs": [],
      "execution_count": null
    },
    {
      "id": "d2af5f2d",
      "cell_type": "code",
      "source": "kunden.fillna(value = modalwert_kunden, axis = 0, inplace = True)",
      "metadata": {
        "slideshow": {
          "slide_type": "skip"
        },
        "trusted": true,
        "tags": [],
        "editable": true
      },
      "outputs": [],
      "execution_count": null
    },
    {
      "id": "08ccd3d1",
      "cell_type": "code",
      "source": "# Überprüfung\nkunden.isnull().sum()",
      "metadata": {
        "slideshow": {
          "slide_type": "skip"
        },
        "trusted": true,
        "tags": [],
        "editable": true
      },
      "outputs": [],
      "execution_count": null
    },
    {
      "id": "e4febb36-807b-4f50-bd57-b643bb53b7d1",
      "cell_type": "markdown",
      "source": "### 2.3.2 Ausreißer ermitteln und entfernen",
      "metadata": {
        "slideshow": {
          "slide_type": "skip"
        },
        "tags": [],
        "editable": true
      }
    },
    {
      "id": "fd6815eb-a49b-4ddd-b6c6-a302ba14f04f",
      "cell_type": "code",
      "source": "# Außreißer ermitteln\nkunden.describe().T",
      "metadata": {
        "slideshow": {
          "slide_type": "skip"
        },
        "trusted": true,
        "tags": [],
        "editable": true
      },
      "outputs": [],
      "execution_count": null
    },
    {
      "id": "ad1750cc-c3b7-4508-96b3-3019e9b3d607",
      "cell_type": "markdown",
      "source": "### 2.3.2.1 Alter ",
      "metadata": {
        "slideshow": {
          "slide_type": "skip"
        },
        "tags": [],
        "editable": true
      }
    },
    {
      "id": "c6a280a6",
      "cell_type": "code",
      "source": "boxplot_alter = kunden.boxplot(column = 'Alter')\nplt.show()",
      "metadata": {
        "slideshow": {
          "slide_type": "skip"
        },
        "trusted": true,
        "tags": [],
        "editable": true
      },
      "outputs": [],
      "execution_count": null
    },
    {
      "id": "849f2d87-21fa-4f0a-a2c4-fd3b7dca90de",
      "cell_type": "code",
      "source": "# zwei Ausreißer zu erkennen",
      "metadata": {
        "slideshow": {
          "slide_type": "skip"
        },
        "trusted": true,
        "tags": [],
        "editable": true
      },
      "outputs": [],
      "execution_count": null
    },
    {
      "id": "81eb8902-104b-4ac0-a4a3-3313711eb073",
      "cell_type": "code",
      "source": "# Berechnung von Q1, Q3 und IQR\nQ1_Alter = kunden['Alter'].quantile(0.25)\nQ3_Alter = kunden['Alter'].quantile(0.75)\nIQR_Alter = Q3_Alter - Q1_Alter\n# Berechnung der Ausreißer-Grenzen\nuntere_grenze_Alter = Q1_Alter - 1.5 * IQR_Alter\nobere_grenze_Alter = Q3_Alter + 1.5 * IQR_Alter\nkunden['Ausreißer'] = (kunden['Alter'] < untere_grenze_Alter) | (kunden['Alter'] > obere_grenze_Alter)\nausreißer_alter = kunden.Ausreißer.value_counts()\nausreißer_alter",
      "metadata": {
        "slideshow": {
          "slide_type": "skip"
        },
        "trusted": true,
        "tags": [],
        "editable": true
      },
      "outputs": [],
      "execution_count": null
    },
    {
      "id": "0df22729-c6e0-490c-bf09-04a119fd87ed",
      "cell_type": "code",
      "source": "# Ermitteln der genauen Werte der Ausreißer",
      "metadata": {
        "slideshow": {
          "slide_type": "skip"
        },
        "trusted": true,
        "tags": [],
        "editable": true
      },
      "outputs": [],
      "execution_count": null
    },
    {
      "id": "9b3acc1f-9773-4b15-9e2b-8ba478c0108c",
      "cell_type": "code",
      "source": "kunden.loc[kunden['Ausreißer'] == True]",
      "metadata": {
        "slideshow": {
          "slide_type": "skip"
        },
        "trusted": true,
        "tags": [],
        "editable": true
      },
      "outputs": [],
      "execution_count": null
    },
    {
      "id": "c7fccb9c-604a-493b-a158-05cbb6fa9b21",
      "cell_type": "code",
      "source": "# Personen im Alter von 100 und 120 Jahren werden kein Auto mehr kaufen",
      "metadata": {
        "slideshow": {
          "slide_type": "skip"
        },
        "trusted": true,
        "tags": [],
        "editable": true
      },
      "outputs": [],
      "execution_count": null
    },
    {
      "id": "8c56494b-9d00-43dd-a4a6-016fc3a1b581",
      "cell_type": "code",
      "source": "# Ersetzen der Ausreißer in der Alters-Spalte durch Medianwert\nalter_median = kunden['Alter'].median()\nkunden.replace([120, 100], alter_median, inplace=True)",
      "metadata": {
        "slideshow": {
          "slide_type": "skip"
        },
        "trusted": true,
        "tags": [],
        "editable": true
      },
      "outputs": [],
      "execution_count": null
    },
    {
      "id": "847ba99c-589e-4419-bd7d-a775c36fdbb0",
      "cell_type": "code",
      "source": "# Überprüfen ob noch Ausreißer vorhanden sind\nkunden['Ausreißer'] = (kunden['Alter'] < untere_grenze_Alter) | (kunden['Alter'] > obere_grenze_Alter)\nausreißer_alter = kunden.Ausreißer.value_counts()\nausreißer_alter",
      "metadata": {
        "slideshow": {
          "slide_type": "skip"
        },
        "trusted": true,
        "tags": [],
        "editable": true
      },
      "outputs": [],
      "execution_count": null
    },
    {
      "id": "8a2eb429-37fa-4b82-953d-004dc34ccb0d",
      "cell_type": "code",
      "source": "# keine Ausreißer mehr vorhanden",
      "metadata": {
        "slideshow": {
          "slide_type": "skip"
        },
        "trusted": true,
        "tags": [],
        "editable": true
      },
      "outputs": [],
      "execution_count": null
    },
    {
      "id": "f6ed8f33-4fdc-4fae-acd0-85c09cf88baf",
      "cell_type": "markdown",
      "source": "## 2.3.2.2 Einkommen ",
      "metadata": {
        "slideshow": {
          "slide_type": "skip"
        },
        "tags": [],
        "editable": true
      }
    },
    {
      "id": "0cfec3d4",
      "cell_type": "code",
      "source": "boxplot_einkommen = kunden.boxplot(column = 'Einkommen')\nplt.show()",
      "metadata": {
        "slideshow": {
          "slide_type": "skip"
        },
        "trusted": true,
        "tags": [],
        "editable": true
      },
      "outputs": [],
      "execution_count": null
    },
    {
      "id": "0e47b07c-b6d2-4fb7-8cbd-d445bddf10ec",
      "cell_type": "code",
      "source": "# 4 Ausreißer (aufgrund der Skalierung schwer zu erkennen)",
      "metadata": {
        "slideshow": {
          "slide_type": "skip"
        },
        "trusted": true,
        "tags": [],
        "editable": true
      },
      "outputs": [],
      "execution_count": null
    },
    {
      "id": "44411014-f36c-449e-8a87-ecc56796cf43",
      "cell_type": "code",
      "source": "# Berechnung von Q1, Q3 und IQR der Einkommens-Spalte\nQ1_einkommen = kunden['Einkommen'].quantile(0.25)\nQ3_einkommen = kunden['Einkommen'].quantile(0.75)\nIQR_einkommen = Q3_einkommen - Q1_einkommen\nIQR_einkommen\nuntere_grenze_einkommen = Q1_einkommen - 1.5 * IQR_einkommen\nobere_grenze_einkommen = Q3_einkommen + 1.5 * IQR_einkommen\nkunden['Ausreißer'] = (kunden['Einkommen'] < untere_grenze_einkommen) | (kunden['Einkommen'] > obere_grenze_einkommen)\nausreißer_einkommen = kunden.Ausreißer.value_counts()\nausreißer_einkommen",
      "metadata": {
        "slideshow": {
          "slide_type": "skip"
        },
        "trusted": true,
        "tags": [],
        "editable": true
      },
      "outputs": [],
      "execution_count": null
    },
    {
      "id": "fd5cbd2c-a93b-4a93-82e1-f014bdc99d82",
      "cell_type": "code",
      "source": "# Ermitteln der genauen Werte der 4 Ausreißer\nkunden.loc[kunden['Ausreißer'] == True]",
      "metadata": {
        "slideshow": {
          "slide_type": "skip"
        },
        "trusted": true,
        "tags": [],
        "editable": true
      },
      "outputs": [],
      "execution_count": null
    },
    {
      "id": "1ed00e1b-cdd4-4330-95d8-0735de9a6369",
      "cell_type": "code",
      "source": "# Ersetzen der Ausreißer in der Einkommens-Spalte durch Medianwert\neinkommen_median = kunden['Einkommen'].median()\nkunden.replace({'Einkommen': [1.000000e+09, 1.076890e+05, 0.000000e+00, -62840.374523]}, einkommen_median, inplace=True)",
      "metadata": {
        "slideshow": {
          "slide_type": "skip"
        },
        "trusted": true,
        "tags": [],
        "editable": true
      },
      "outputs": [],
      "execution_count": null
    },
    {
      "id": "d50a1586-2c17-45d9-b780-8be7fa7081ee",
      "cell_type": "code",
      "source": "# Überprüfen ob noch Ausreißer vorhanden sind\nkunden['Ausreißer'] = (kunden['Einkommen'] < untere_grenze_einkommen) | (kunden['Einkommen'] > obere_grenze_einkommen)\nausreißer_einkommen = kunden.Ausreißer.value_counts()\nausreißer_einkommen",
      "metadata": {
        "slideshow": {
          "slide_type": "skip"
        },
        "trusted": true,
        "tags": [],
        "editable": true
      },
      "outputs": [],
      "execution_count": null
    },
    {
      "id": "4da5fe78-4a32-4387-8a29-4c9d3b8144d9",
      "cell_type": "code",
      "source": "# keine Ausreißer mehr vorhanden",
      "metadata": {
        "slideshow": {
          "slide_type": "skip"
        },
        "trusted": true,
        "tags": [],
        "editable": true
      },
      "outputs": [],
      "execution_count": null
    },
    {
      "id": "9894d36d-9c58-4ec2-89a3-aa82dbda8c5d",
      "cell_type": "markdown",
      "source": "### 2.3.2.3 Preis",
      "metadata": {
        "slideshow": {
          "slide_type": "skip"
        },
        "tags": [],
        "editable": true
      }
    },
    {
      "id": "b6b5af6c",
      "cell_type": "code",
      "source": "boxplot_preis = kunden.boxplot(column = 'Preis')\nplt.show()",
      "metadata": {
        "slideshow": {
          "slide_type": "skip"
        },
        "trusted": true,
        "tags": [],
        "editable": true
      },
      "outputs": [],
      "execution_count": null
    },
    {
      "id": "200399fa-2f9d-4913-84b9-da295cf3e215",
      "cell_type": "code",
      "source": "# ein Ausreißer zu erkennen",
      "metadata": {
        "slideshow": {
          "slide_type": "skip"
        },
        "trusted": true,
        "tags": [],
        "editable": true
      },
      "outputs": [],
      "execution_count": null
    },
    {
      "id": "3364ad26-e096-464b-8568-5a7f30087a86",
      "cell_type": "code",
      "source": "Q1_preis = kunden['Preis'].quantile(0.25)\nQ3_preis = kunden['Preis'].quantile(0.75)\nIQR_preis = Q3_preis - Q1_preis\nIQR_preis\nuntere_grenze_preis = Q1_preis - 1.5 * IQR_preis\nobere_grenze_preis = Q3_preis + 1.5 * IQR_preis\nkunden['Ausreißer'] = (kunden['Preis'] < untere_grenze_preis) | (kunden['Preis'] > obere_grenze_preis)\nausreißer_preis = kunden.Ausreißer.value_counts()\nausreißer_preis",
      "metadata": {
        "slideshow": {
          "slide_type": "skip"
        },
        "trusted": true,
        "tags": [],
        "editable": true
      },
      "outputs": [],
      "execution_count": null
    },
    {
      "id": "c1b8f91f-954a-4c43-837d-53ed898ccb35",
      "cell_type": "code",
      "source": "# Ermitteln der genauen Werte der Ausreißer\nkunden.loc[kunden['Ausreißer'] == True]",
      "metadata": {
        "slideshow": {
          "slide_type": "skip"
        },
        "trusted": true,
        "tags": [],
        "editable": true
      },
      "outputs": [],
      "execution_count": null
    },
    {
      "id": "1ae4b8c2-5fea-4cbe-aa0c-76bd554c13f1",
      "cell_type": "code",
      "source": "# bei einem Einkommen von 59.013 ist es überraschend sich ein Auto im Preis von 165.482,31 zu kaufen, aber möglich, daher wird der Wert behalten\n",
      "metadata": {
        "trusted": true,
        "tags": [],
        "editable": true,
        "slideshow": {
          "slide_type": ""
        }
      },
      "outputs": [],
      "execution_count": null
    },
    {
      "id": "9811adce",
      "cell_type": "markdown",
      "source": "### 2.3.2.4 Zeit",
      "metadata": {
        "slideshow": {
          "slide_type": "skip"
        },
        "tags": [],
        "editable": true
      }
    },
    {
      "id": "1b839bcc-3072-4950-9d2f-49d271671c40",
      "cell_type": "code",
      "source": "boxplot_preis = kunden.boxplot(column = 'Zeit')\nplt.show()",
      "metadata": {
        "slideshow": {
          "slide_type": "skip"
        },
        "trusted": true,
        "tags": [],
        "editable": true
      },
      "outputs": [],
      "execution_count": null
    },
    {
      "id": "fecd704e-a27e-44d0-83cf-0a8a32ff1aab",
      "cell_type": "code",
      "source": "# mehrere Ausreißer zu erkennen",
      "metadata": {
        "slideshow": {
          "slide_type": "skip"
        },
        "trusted": true,
        "tags": [],
        "editable": true
      },
      "outputs": [],
      "execution_count": null
    },
    {
      "id": "18f08f32",
      "cell_type": "code",
      "source": "# Berechnung von Q1, Q3 und IQR der Zeit-Spalte\nQ1_zeit = kunden['Zeit'].quantile(0.25)\nQ3_zeit = kunden['Zeit'].quantile(0.75)\nIQR_zeit = Q3_zeit - Q1_zeit\nIQR_zeit\nuntere_grenze_zeit = Q1_zeit - 1.5 * IQR_zeit\nobere_grenze_zeit = Q3_zeit + 1.5 * IQR_zeit\nkunden['Ausreißer'] = (kunden['Zeit'] < untere_grenze_zeit) | (kunden['Zeit'] > obere_grenze_zeit)\nausreißer_zeit = kunden.Ausreißer.value_counts()\nausreißer_zeit",
      "metadata": {
        "slideshow": {
          "slide_type": "skip"
        },
        "trusted": true,
        "tags": [],
        "editable": true
      },
      "outputs": [],
      "execution_count": null
    },
    {
      "id": "2e63e8d9",
      "cell_type": "code",
      "source": "# Ermittlung der genauen Werte der Ausreißer\nkunden.loc[kunden['Ausreißer'] == True]",
      "metadata": {
        "slideshow": {
          "slide_type": "skip"
        },
        "trusted": true,
        "tags": [],
        "editable": true
      },
      "outputs": [],
      "execution_count": null
    },
    {
      "id": "30c658a9-67f0-4ef4-b6d6-1be025559ab0",
      "cell_type": "code",
      "source": "# Die Zeiten sind möglich, z.B. 12 Minuten weil keine Probefahrt gemacht wurde oder 80 Minuten weil eine lange gemacht wurde, Werte bleiben erhalten",
      "metadata": {
        "slideshow": {
          "slide_type": "skip"
        },
        "trusted": true,
        "tags": [],
        "editable": true
      },
      "outputs": [],
      "execution_count": null
    },
    {
      "id": "ba356621-0127-4ec9-b073-11219a996223",
      "cell_type": "code",
      "source": "kunden",
      "metadata": {
        "slideshow": {
          "slide_type": "skip"
        },
        "trusted": true,
        "tags": [],
        "editable": true
      },
      "outputs": [],
      "execution_count": null
    },
    {
      "id": "8c444290",
      "cell_type": "code",
      "source": "# Boolean-Spalte wieder entfernen\nkunden = kunden.drop(kunden.columns[-1], axis=1)\nkunden",
      "metadata": {
        "slideshow": {
          "slide_type": "skip"
        },
        "trusted": true,
        "tags": [],
        "editable": true
      },
      "outputs": [],
      "execution_count": null
    },
    {
      "id": "8e25bed9-a53d-4bdc-97b9-07a576355e97",
      "cell_type": "markdown",
      "source": "## 3. Besucherdaten",
      "metadata": {
        "slideshow": {
          "slide_type": "skip"
        },
        "tags": [],
        "editable": true
      }
    },
    {
      "id": "8d2f50a4-b8d0-4b6e-8994-76abdfdc4253",
      "cell_type": "markdown",
      "source": "### 3.1 Besucherdatei einlesen",
      "metadata": {
        "slideshow": {
          "slide_type": "skip"
        },
        "tags": [],
        "editable": true
      }
    },
    {
      "id": "09fd1f7c-1849-44b9-bc35-4fcfc760f3fe",
      "cell_type": "code",
      "source": "besucher = pd.read_csv(\"besucher.csv\", decimal = '.', sep = \";\")\nbesucher.head()",
      "metadata": {
        "slideshow": {
          "slide_type": "skip"
        },
        "trusted": true,
        "tags": [],
        "editable": true
      },
      "outputs": [],
      "execution_count": null
    },
    {
      "id": "952b4a01-a628-4ff6-bdb9-1de8fb234ca9",
      "cell_type": "markdown",
      "source": "### 3.2 Überblick über Datentypen",
      "metadata": {
        "slideshow": {
          "slide_type": "skip"
        },
        "tags": [],
        "editable": true
      }
    },
    {
      "id": "9f45ee44-4546-49a5-8d16-01ba6e724738",
      "cell_type": "code",
      "source": "besucher.dtypes",
      "metadata": {
        "slideshow": {
          "slide_type": "skip"
        },
        "trusted": true,
        "tags": [],
        "editable": true
      },
      "outputs": [],
      "execution_count": null
    },
    {
      "id": "151e9427-7596-4386-b3d8-cc9e64e043f6",
      "cell_type": "code",
      "source": "# zum Vergleich: Kunden\nkunden.dtypes",
      "metadata": {
        "slideshow": {
          "slide_type": "skip"
        },
        "trusted": true,
        "tags": [],
        "editable": true
      },
      "outputs": [],
      "execution_count": null
    },
    {
      "id": "f8bcdd25-690d-423b-accc-f2d718a3546e",
      "cell_type": "code",
      "source": "# Alter = int, Einkommen = float (ändern bei besucher), Preis = float, Geschlecht = int (ändern bei kunden), Zeit = float (ändern bei besucher), KundeNr = object",
      "metadata": {
        "slideshow": {
          "slide_type": "skip"
        },
        "trusted": true,
        "tags": [],
        "editable": true
      },
      "outputs": [],
      "execution_count": null
    },
    {
      "id": "175b6b36-c3f8-4c85-a428-851a35d57c10",
      "cell_type": "markdown",
      "source": "### 3.3. Bereinigung",
      "metadata": {
        "slideshow": {
          "slide_type": "skip"
        },
        "tags": [],
        "editable": true
      }
    },
    {
      "id": "03535ce2-f6bd-4636-be9e-3a5a74b9c24b",
      "cell_type": "code",
      "source": "# vermutlich ist die Kommaschreibweise aus dem deutschen, während wir die Werte in der englischen Schreibweise mit einem Punkt, statt Komma benötigen",
      "metadata": {
        "slideshow": {
          "slide_type": "skip"
        },
        "trusted": true,
        "tags": [],
        "editable": true
      },
      "outputs": [],
      "execution_count": null
    },
    {
      "id": "57d54a97-146f-44dc-9a1e-ccf0ec25ca63",
      "cell_type": "markdown",
      "source": "### 3.3.1 Bereinigung der Nachkommastellen und Umwandlung der dtypes",
      "metadata": {
        "slideshow": {
          "slide_type": "skip"
        },
        "tags": [],
        "editable": true
      }
    },
    {
      "id": "dfc4734e-3852-4438-be97-a513dac153bf",
      "cell_type": "markdown",
      "source": "### 3.3.1.1 Einkommen",
      "metadata": {
        "slideshow": {
          "slide_type": "skip"
        },
        "tags": [],
        "editable": true
      }
    },
    {
      "id": "9c198db0-8c5e-4407-9fbb-7c03abcb7fc4",
      "cell_type": "code",
      "source": "besucher[\"Einkommen\"] = besucher[\"Einkommen\"].str.replace(\",\",\".\")\nbesucher[\"Einkommen\"] = pd.to_numeric(besucher[\"Einkommen\"]) \nbesucher[\"Einkommen\"] = besucher[\"Einkommen\"].round(0).astype(\"float64\")\nbesucher",
      "metadata": {
        "slideshow": {
          "slide_type": "skip"
        },
        "trusted": true,
        "tags": [],
        "editable": true
      },
      "outputs": [],
      "execution_count": null
    },
    {
      "id": "23574315-6cf8-49e4-861e-e5addac7028a",
      "cell_type": "markdown",
      "source": "### 3.3.1.2 Zeit",
      "metadata": {
        "slideshow": {
          "slide_type": "skip"
        },
        "tags": [],
        "editable": true
      }
    },
    {
      "id": "68414472-6a88-4178-bf20-281e3a55ff41",
      "cell_type": "code",
      "source": "besucher[\"Zeit\"] = besucher[\"Zeit\"].str.replace(\",\",\".\")\nbesucher[\"Zeit\"] = pd.to_numeric(besucher[\"Zeit\"])\nbesucher[\"Zeit\"] = besucher[\"Zeit\"].round(0).astype(\"float64\")\nbesucher",
      "metadata": {
        "slideshow": {
          "slide_type": "skip"
        },
        "trusted": true,
        "tags": [],
        "editable": true
      },
      "outputs": [],
      "execution_count": null
    },
    {
      "id": "456e30e7",
      "cell_type": "markdown",
      "source": "### 3.3.1.3 Umwandlung von Geschlecht von float in integer\n",
      "metadata": {
        "slideshow": {
          "slide_type": "skip"
        },
        "tags": [],
        "editable": true
      }
    },
    {
      "id": "f5bdbdbd",
      "cell_type": "code",
      "source": "kunden[\"Geschlecht\"] = kunden[\"Geschlecht\"].astype(\"int64\")\nkunden",
      "metadata": {
        "slideshow": {
          "slide_type": "skip"
        },
        "trusted": true,
        "tags": [],
        "editable": true
      },
      "outputs": [],
      "execution_count": null
    },
    {
      "id": "7f8d47fc-79e4-41ff-8f5e-6b95d062916a",
      "cell_type": "code",
      "source": "# Überprüfen der dtypes\nbesucher.dtypes, kunden.dtypes",
      "metadata": {
        "slideshow": {
          "slide_type": "skip"
        },
        "trusted": true,
        "tags": [],
        "editable": true
      },
      "outputs": [],
      "execution_count": null
    },
    {
      "id": "ecec2ca9-bbe4-47ec-8ff7-6e578fbcb81b",
      "cell_type": "markdown",
      "source": "### 3.3.2 Fehlende Datenpunkte ermitteln und ersetzen",
      "metadata": {
        "slideshow": {
          "slide_type": "skip"
        },
        "tags": [],
        "editable": true
      }
    },
    {
      "id": "055acef9-70af-4af0-b9b3-ca8f8b3de400",
      "cell_type": "code",
      "source": "besucher.isnull().sum()",
      "metadata": {
        "slideshow": {
          "slide_type": "skip"
        },
        "trusted": true,
        "tags": [],
        "editable": true
      },
      "outputs": [],
      "execution_count": null
    },
    {
      "id": "703ca297-14dd-4032-a52a-83edcf48fd4c",
      "cell_type": "code",
      "source": "# keine fehlenden Datenpunkte im Datensatz",
      "metadata": {
        "slideshow": {
          "slide_type": "skip"
        },
        "trusted": true,
        "tags": [],
        "editable": true
      },
      "outputs": [],
      "execution_count": null
    },
    {
      "id": "720720bd-f6a7-4daf-be97-aba4c1e9fb97",
      "cell_type": "markdown",
      "source": "### 3.3.3 Ausreißer ermitteln und entfernen",
      "metadata": {
        "slideshow": {
          "slide_type": "skip"
        },
        "tags": [],
        "editable": true
      }
    },
    {
      "id": "c406389b-29f5-49f1-8abc-6a00120023aa",
      "cell_type": "code",
      "source": "# Außreißer ermitteln\nkunden.describe().T",
      "metadata": {
        "slideshow": {
          "slide_type": "skip"
        },
        "trusted": true,
        "tags": [],
        "editable": true
      },
      "outputs": [],
      "execution_count": null
    },
    {
      "id": "ef8fa4df-4149-4a8e-876b-78e18545f630",
      "cell_type": "markdown",
      "source": "### 3.3.3.1 Alter",
      "metadata": {
        "slideshow": {
          "slide_type": "skip"
        },
        "tags": [],
        "editable": true
      }
    },
    {
      "id": "c8972a3c-3306-411d-b7d8-0877b95f2bef",
      "cell_type": "code",
      "source": "boxplot_besucher_alter = besucher.boxplot(column = 'Alter')\nplt.show()",
      "metadata": {
        "slideshow": {
          "slide_type": "skip"
        },
        "trusted": true,
        "tags": [],
        "editable": true
      },
      "outputs": [],
      "execution_count": null
    },
    {
      "id": "6730eca4-d2c7-4254-956e-e69f63d5fbaa",
      "cell_type": "code",
      "source": "# sowohl bei describe-Tabelle als auch beim boxplot keine Ausreißer zu erkennen",
      "metadata": {
        "slideshow": {
          "slide_type": "skip"
        },
        "trusted": true,
        "tags": [],
        "editable": true
      },
      "outputs": [],
      "execution_count": null
    },
    {
      "id": "61e27a0b-4be7-4af4-8c87-de153892f9f4",
      "cell_type": "markdown",
      "source": "### 3.3.3.2 Einkommen",
      "metadata": {
        "slideshow": {
          "slide_type": "skip"
        },
        "tags": [],
        "editable": true
      }
    },
    {
      "id": "69523c19-d7c8-4f1c-8021-8695caf4eb55",
      "cell_type": "code",
      "source": "boxplot_besucher_einkommen = besucher.boxplot(column = 'Einkommen')\nplt.show()",
      "metadata": {
        "slideshow": {
          "slide_type": "skip"
        },
        "trusted": true,
        "tags": [],
        "editable": true
      },
      "outputs": [],
      "execution_count": null
    },
    {
      "id": "f151db84-24a3-4550-84e8-039750251c54",
      "cell_type": "code",
      "source": "# mehrere Ausreißer zu erkennen",
      "metadata": {
        "slideshow": {
          "slide_type": "skip"
        },
        "trusted": true,
        "tags": [],
        "editable": true
      },
      "outputs": [],
      "execution_count": null
    },
    {
      "id": "f63485c2-4d8d-47f8-ab35-346c7ffe6ae9",
      "cell_type": "code",
      "source": "# Berechnung von Q1, Q3 und IQR der Zeit-Spalte\nQ1_einkommen_besucher = besucher['Einkommen'].quantile(0.25)\nQ3_einkommen_besucher = besucher['Einkommen'].quantile(0.75)\nIQR_einkommen_besucher = Q3_einkommen_besucher - Q1_einkommen_besucher\nuntere_grenze_einkommen_besucher = Q1_einkommen_besucher - 1.5 * IQR_einkommen_besucher\nobere_grenze_einkommen_besucher = Q3_einkommen_besucher + 1.5 * IQR_einkommen_besucher\nbesucher['Ausreißer'] = (besucher['Einkommen'] < untere_grenze_einkommen_besucher) | (besucher['Einkommen'] > obere_grenze_einkommen_besucher)\nausreißer_einkommen_besucher = besucher.Ausreißer.value_counts()\nausreißer_einkommen_besucher",
      "metadata": {
        "slideshow": {
          "slide_type": "skip"
        },
        "trusted": true,
        "tags": [],
        "editable": true
      },
      "outputs": [],
      "execution_count": null
    },
    {
      "id": "bcbbf688-41e1-441f-8639-5ec5192f1282",
      "cell_type": "code",
      "source": "# Ermitteln der genauen Werte der Ausreißer\nbesucher.loc[besucher['Ausreißer'] == True]",
      "metadata": {
        "slideshow": {
          "slide_type": "skip"
        },
        "trusted": true,
        "tags": [],
        "editable": true
      },
      "outputs": [],
      "execution_count": null
    },
    {
      "id": "c58942af-27b1-4263-8530-c70d0fe14583",
      "cell_type": "code",
      "source": "# so niedriges und so hohes Einkommen ist möglich, daher bleiben Werte erhalten",
      "metadata": {
        "slideshow": {
          "slide_type": "skip"
        },
        "trusted": true,
        "tags": [],
        "editable": true
      },
      "outputs": [],
      "execution_count": null
    },
    {
      "id": "8f97a96b-696b-4c6e-a53c-f940f0c122e3",
      "cell_type": "markdown",
      "source": "### 3.3.3.3 Zeit",
      "metadata": {
        "slideshow": {
          "slide_type": "skip"
        },
        "tags": [],
        "editable": true
      }
    },
    {
      "id": "e4e47a9a-1213-46b8-a0d3-af6036c12a63",
      "cell_type": "code",
      "source": "boxplot_besucher_zeit = besucher.boxplot(column = 'Zeit')\nplt.show()",
      "metadata": {
        "slideshow": {
          "slide_type": "skip"
        },
        "trusted": true,
        "tags": [],
        "editable": true
      },
      "outputs": [],
      "execution_count": null
    },
    {
      "id": "d209cc1b-4b6d-4f67-8a45-f32c9050b6ab",
      "cell_type": "code",
      "source": "# mehrere Ausreißer zu erkennen",
      "metadata": {
        "slideshow": {
          "slide_type": "skip"
        },
        "trusted": true,
        "tags": [],
        "editable": true
      },
      "outputs": [],
      "execution_count": null
    },
    {
      "id": "8a3cd720-982f-418d-8256-4e583e636db0",
      "cell_type": "code",
      "source": "# Berechnung von Q1, Q3 und IQR der Zeit-Spalte\nQ1_zeit_besucher = besucher['Zeit'].quantile(0.25)\nQ3_zeit_besucher = besucher['Zeit'].quantile(0.75)\nIQR_zeit_besucher = Q3_zeit_besucher - Q1_zeit_besucher\nuntere_grenze_zeit_besucher = Q1_zeit_besucher - 1.5 * IQR_zeit_besucher\nobere_grenze_zeit_besucher = Q3_zeit_besucher + 1.5 * IQR_zeit_besucher\nbesucher['Ausreißer'] = (besucher['Zeit'] < untere_grenze_zeit_besucher) | (besucher['Zeit'] > obere_grenze_zeit_besucher)\nausreißer_zeit_besucher = besucher.Ausreißer.value_counts()\nausreißer_zeit_besucher",
      "metadata": {
        "slideshow": {
          "slide_type": "skip"
        },
        "trusted": true,
        "tags": [],
        "editable": true
      },
      "outputs": [],
      "execution_count": null
    },
    {
      "id": "b8ae8dca-eba9-4281-b887-fb06dd646dc2",
      "cell_type": "code",
      "source": "# Ermittlung der genauen Werte der Ausreißer\nbesucher.loc[besucher['Ausreißer'] == True]",
      "metadata": {
        "slideshow": {
          "slide_type": "skip"
        },
        "trusted": true,
        "tags": [],
        "editable": true
      },
      "outputs": [],
      "execution_count": null
    },
    {
      "id": "3f92fb50-266b-4ea0-86a2-06924d00b1ed",
      "cell_type": "code",
      "source": "# so kurze und lange Zeiten sind möglich, daher bleiben Werte erhalten",
      "metadata": {
        "slideshow": {
          "slide_type": "skip"
        },
        "trusted": true,
        "tags": [],
        "editable": true
      },
      "outputs": [],
      "execution_count": null
    },
    {
      "id": "785c0288-057e-4a89-aa3c-6a2f21644466",
      "cell_type": "code",
      "source": "besucher",
      "metadata": {
        "slideshow": {
          "slide_type": "skip"
        },
        "trusted": true,
        "tags": [],
        "editable": true
      },
      "outputs": [],
      "execution_count": null
    },
    {
      "id": "6313b1d5-c967-45b0-8a11-76cd690aaa00",
      "cell_type": "code",
      "source": "# Boolean-Spalte wieder entfernen",
      "metadata": {
        "slideshow": {
          "slide_type": "skip"
        },
        "trusted": true,
        "tags": [],
        "editable": true
      },
      "outputs": [],
      "execution_count": null
    },
    {
      "id": "9ed7ad57-ca0b-44eb-b6f3-49a9bcb8bbe4",
      "cell_type": "code",
      "source": "besucher = besucher.drop(besucher.columns[-1], axis=1)\nbesucher",
      "metadata": {
        "slideshow": {
          "slide_type": "skip"
        },
        "trusted": true,
        "tags": [],
        "editable": true
      },
      "outputs": [],
      "execution_count": null
    },
    {
      "id": "e567d3ce",
      "cell_type": "markdown",
      "source": "# 4. Geo-Daten",
      "metadata": {
        "slideshow": {
          "slide_type": "skip"
        },
        "tags": [],
        "editable": true
      }
    },
    {
      "id": "b9f50960-5e3a-498f-8dc9-0959b4c32e6f",
      "cell_type": "markdown",
      "source": "### 4.1. Geodatei einlesen",
      "metadata": {
        "slideshow": {
          "slide_type": "skip"
        },
        "tags": [],
        "editable": true
      }
    },
    {
      "id": "c4136bca-9c51-4b6f-a76e-6062d74b898c",
      "cell_type": "code",
      "source": "geo = pd.read_csv(\"geo.txt\", sep = \"\\t\")\ngeo.head()",
      "metadata": {
        "slideshow": {
          "slide_type": "skip"
        },
        "trusted": true,
        "tags": [],
        "editable": true
      },
      "outputs": [],
      "execution_count": null
    },
    {
      "id": "eac214be-89cb-44df-a00f-fbf4044d3c77",
      "cell_type": "markdown",
      "source": "## 4.2 Überblick über Datentypen",
      "metadata": {
        "slideshow": {
          "slide_type": "skip"
        },
        "tags": [],
        "editable": true
      }
    },
    {
      "id": "1da63f41-b8ca-49db-98ef-44b0ed5b715b",
      "cell_type": "code",
      "source": "geo.dtypes",
      "metadata": {
        "slideshow": {
          "slide_type": "skip"
        },
        "trusted": true,
        "tags": [],
        "editable": true
      },
      "outputs": [],
      "execution_count": null
    },
    {
      "id": "0ebe1254-c964-45fc-b56c-dce433c47d42",
      "cell_type": "code",
      "source": "# bei kunden und besucher ist der dypte der KundeNr auch object, daher keine Änderung benötigt",
      "metadata": {
        "slideshow": {
          "slide_type": "skip"
        },
        "trusted": true,
        "tags": [],
        "editable": true
      },
      "outputs": [],
      "execution_count": null
    },
    {
      "id": "b2509aeb-1297-4b33-b08e-da5826ae832d",
      "cell_type": "markdown",
      "source": "### 4.3 Bereinigung",
      "metadata": {
        "slideshow": {
          "slide_type": "skip"
        },
        "tags": [],
        "editable": true
      }
    },
    {
      "id": "cda090aa-6d08-48ab-bd1d-29bcabbcf8ed",
      "cell_type": "markdown",
      "source": "### 4.3.1 Fehlende Datenpunkte ermitteln und ersetzen",
      "metadata": {
        "slideshow": {
          "slide_type": "skip"
        },
        "tags": [],
        "editable": true
      }
    },
    {
      "id": "646b5f4b-d218-4ab1-8be5-77caa154d1a6",
      "cell_type": "code",
      "source": "geo.isnull().sum()",
      "metadata": {
        "slideshow": {
          "slide_type": "skip"
        },
        "trusted": true,
        "tags": [],
        "editable": true
      },
      "outputs": [],
      "execution_count": null
    },
    {
      "id": "3edcca31-790f-4c65-9dcd-74d1a22740fb",
      "cell_type": "markdown",
      "source": "### 4.3.2 Ausreißer ermitteln und entfernen/ersetzen",
      "metadata": {
        "slideshow": {
          "slide_type": "skip"
        },
        "tags": [],
        "editable": true
      }
    },
    {
      "id": "3d3d6633-7542-42ef-b347-c883c0c98100",
      "cell_type": "code",
      "source": "# Übersicht aller Niederlassungen\ngeo_niederlassung_uniques = geo[\"Niederlassung\"].unique()\nprint(geo_niederlassung_uniques)",
      "metadata": {
        "slideshow": {
          "slide_type": "skip"
        },
        "trusted": true,
        "tags": [],
        "editable": true
      },
      "outputs": [],
      "execution_count": null
    },
    {
      "id": "4c4af355-f44b-4c59-8091-9e295aafdc8b",
      "cell_type": "code",
      "source": "# Bereinigung der Datenpunkte (NRW, Düsseldorf zu Nordrhein-Westfalen), (Berlin-Charlottenburg, Berlin-Mitte, BERLIN zu Berlin)\ngeo_cleaning = {\n    \"NRW\" : \"Nordrhein-Westfalen\" , \n    \"Berlin-Charlottenburg\" : \"Berlin\" ,\n    \"Berlin-Mitte\" : \"Berlin\" ,\n    \"BERLIN\" : \"Berlin\",\n    \"Düsseldorf\" : \"Nordrhein-Westfalen\"}\n\ngeo[\"Niederlassung\"] = geo[\"Niederlassung\"].replace(geo_cleaning, regex = True)",
      "metadata": {
        "slideshow": {
          "slide_type": "skip"
        },
        "trusted": true,
        "tags": [],
        "editable": true
      },
      "outputs": [],
      "execution_count": null
    },
    {
      "id": "5c580644-5d8d-4562-8045-aea82c87e675",
      "cell_type": "code",
      "source": "# Überprüfung\ngeo_niederlassung_uniques2 = geo[\"Niederlassung\"].unique()\nprint(geo_niederlassung_uniques2)",
      "metadata": {
        "slideshow": {
          "slide_type": "skip"
        },
        "trusted": true,
        "tags": [],
        "editable": true
      },
      "outputs": [],
      "execution_count": null
    },
    {
      "id": "25bbee33-b3ae-48d0-b674-972f1792cd9c",
      "cell_type": "markdown",
      "source": "## 5. Zusammenführung der Listen",
      "metadata": {
        "slideshow": {
          "slide_type": "skip"
        },
        "tags": [],
        "editable": true
      }
    },
    {
      "id": "aac4a8b4-20b3-45a9-9424-6a32e248185d",
      "cell_type": "markdown",
      "source": "### 5.1 Kunden und Besucher mit Geo",
      "metadata": {
        "slideshow": {
          "slide_type": "skip"
        },
        "tags": [],
        "editable": true
      }
    },
    {
      "id": "db55aecc-b7c5-423c-852c-4589a0ba1a50",
      "cell_type": "markdown",
      "source": "### 5.1.1 Kunden mit Geo ",
      "metadata": {
        "slideshow": {
          "slide_type": "skip"
        },
        "tags": [],
        "editable": true
      }
    },
    {
      "id": "aea65563-39a7-4710-9d12-55d504810245",
      "cell_type": "code",
      "source": "kunden_geo = pd.merge(kunden,geo, on = \"KundeNr\")\nkunden_geo",
      "metadata": {
        "slideshow": {
          "slide_type": "skip"
        },
        "trusted": true,
        "tags": [],
        "editable": true
      },
      "outputs": [],
      "execution_count": null
    },
    {
      "id": "2060d258-2dd8-42f8-a064-5ffe92fe7285",
      "cell_type": "markdown",
      "source": "### 5.1.2 Besucher mit Geo",
      "metadata": {
        "slideshow": {
          "slide_type": "skip"
        },
        "tags": [],
        "editable": true
      }
    },
    {
      "id": "8eb4cb71-ba36-4f98-b58b-803d5251b16f",
      "cell_type": "code",
      "source": "besucher_geo = pd.merge(besucher, geo, on = \"KundeNr\")\nbesucher_geo",
      "metadata": {
        "slideshow": {
          "slide_type": "skip"
        },
        "trusted": true,
        "tags": [],
        "editable": true
      },
      "outputs": [],
      "execution_count": null
    },
    {
      "id": "5d4480c1-c2be-47b8-9646-c337ff0277ca",
      "cell_type": "markdown",
      "source": "### 5.2 kunden_geo und besucher_geo zu df_final",
      "metadata": {
        "slideshow": {
          "slide_type": "skip"
        },
        "tags": [],
        "editable": true
      }
    },
    {
      "id": "ce8787f9-747a-4a4d-bde7-caa9a0f718d5",
      "cell_type": "code",
      "source": "df_final = pd.concat([kunden_geo, besucher_geo], axis = 0, ignore_index = True)\ndf_final",
      "metadata": {
        "slideshow": {
          "slide_type": "skip"
        },
        "trusted": true,
        "tags": [],
        "editable": true
      },
      "outputs": [],
      "execution_count": null
    },
    {
      "id": "f0253604",
      "cell_type": "markdown",
      "source": "### 5.3 CSV Datei df_final",
      "metadata": {
        "slideshow": {
          "slide_type": "skip"
        },
        "tags": [],
        "editable": true
      }
    },
    {
      "id": "de0a6a1c",
      "cell_type": "code",
      "source": "df_final.to_csv('df_final.csv', index=False)",
      "metadata": {
        "slideshow": {
          "slide_type": "skip"
        },
        "trusted": true,
        "tags": [],
        "editable": true
      },
      "outputs": [],
      "execution_count": null
    },
    {
      "id": "d55858c6",
      "cell_type": "markdown",
      "source": "<html>\n<body>\n<font size = \"8\">Elektorauto AG</font><br>\n<i>HWR Berlin, Sommersemester 2024 </i><br>\n<i> Maximilian Czapons, Monika Nekipelova, Nicola Reitz</i><br>\n<i> 27. Juni 2024 </i>\n</body>\n</html>",
      "metadata": {
        "slideshow": {
          "slide_type": "slide"
        },
        "tags": [],
        "editable": true
      }
    },
    {
      "id": "43d26dfc-3074-4f19-91bd-fe41c2ca29fe",
      "cell_type": "markdown",
      "source": "<font size = \"8\">CEO Pr&auml;sentation: Performance Analyse</font>",
      "metadata": {
        "tags": [],
        "editable": true,
        "slideshow": {
          "slide_type": "slide"
        }
      }
    },
    {
      "id": "1fde6ff6-7dbb-43e3-a245-433b450e2ada",
      "cell_type": "markdown",
      "source": "<html>\n<body>\n<font size = \"8\">Gliederung</font><br>\n    <ol>\n        <li> Verkaufszahlen </li>\n        <li> Umsatzzahlen </li>\n        <li> Regionale Verteilung </li>\n        <li> Kundenanalyse </li>\n        <li> Einfluss der sozio&ouml;konomischen Faktoren </li>\n    </ol>\n</body>\n</html>",
      "metadata": {
        "tags": [],
        "editable": true,
        "slideshow": {
          "slide_type": "slide"
        }
      }
    },
    {
      "id": "ed0cac4c-7c3a-4e0f-8973-c3148a6ab063",
      "cell_type": "markdown",
      "source": "# Verkaufszahlen",
      "metadata": {
        "tags": [],
        "editable": true,
        "slideshow": {
          "slide_type": "slide"
        }
      }
    },
    {
      "id": "4ffabf5f-f067-4ede-abde-b2917eaf6dc4",
      "cell_type": "markdown",
      "source": "<html>\n<body>\n<font size = \"6\"> F1: Wie viele Autos wurden verkauft</font><br>\n    <h3>Trotz wenigen Monaten im Markt starke Zahlen:</h3>\n        <ul> \n            <li> 1104 verkaufte Autos </li>\n            <li> Eintritt gelungen</li>\n        </ul>\n</body>\n</html>",
      "metadata": {
        "slideshow": {
          "slide_type": "subslide"
        },
        "tags": [],
        "editable": true
      }
    },
    {
      "id": "e593f456-3d6f-43e6-8308-cfb9f1d4692f",
      "cell_type": "markdown",
      "source": "<html>\n<body>\n<font size = \"6\">F2: Was ist der H&ouml;chst-, Mindest- und Durchschnittspreis?</font>\n    <br><br><br>\n<table border=\"1\" class=\"dataframe\" style=\"float: left;\">\n  <thead>\n    <tr style=\"text-align: left;\">\n      <th></th>\n      <th>Maximaler Verkaufspreis</th>\n      <th>Minimaler Verkaufspreis</th>\n      <th>Durchschnittspreis</th>\n    </tr>\n  </thead>\n  <tbody>\n    <tr>\n      <th></th>\n      <td>165.482,31 Euro</td>\n      <td>21.471,65 Euro</td>\n      <td>88.975,20 Euro</td>\n    </tr>\n  </tbody>\n</table>\n</body>\n</html>",
      "metadata": {
        "slideshow": {
          "slide_type": "subslide"
        },
        "tags": [],
        "editable": true
      }
    },
    {
      "id": "e6546fe7-9594-4984-9f91-f4c4e4f9b929",
      "cell_type": "markdown",
      "source": "<html>\n<body>\n    <h3> Gro&szlig;e Spanne </h3>\n        <ul> \n            <li> Diversifizierte Produktlinie </li>\n            <li> Diverse Zusatzoptionen mit Aufpreisen </li>\n        </ul>\n\n</body>\n</html>",
      "metadata": {
        "tags": [],
        "editable": true,
        "slideshow": {
          "slide_type": "subslide"
        }
      }
    },
    {
      "id": "21c00822-5a78-4777-8c79-c80be404e3bf",
      "cell_type": "markdown",
      "source": "<html>\n<body>\n    <h3> Nutzen der Spanne </h3>\n        <ul> Verschiedene Kostenoptionen (mit je Zusatzoptionen)\n            <li> g&uuml;nstig </li>\n            <li> mittel</li>\n            <li> teuer</li>\n        </ul>\n        <ul> Verschiedene Modelle (mit je Zusatzoptionen)\n            <li> Kleinwagen </li>\n            <li> SUV</li>\n            <li> Sportwagen </li>\n        </ul>\n</body>\n</html>",
      "metadata": {
        "tags": [],
        "editable": true,
        "slideshow": {
          "slide_type": "subslide"
        }
      }
    },
    {
      "id": "47fef317-7279-4104-8dd8-a5fc686c6be6",
      "cell_type": "markdown",
      "source": "# Umsatzzahlen",
      "metadata": {
        "tags": [],
        "editable": true,
        "slideshow": {
          "slide_type": "slide"
        }
      }
    },
    {
      "id": "980b38c9-ebde-48ee-9132-78812447647f",
      "cell_type": "markdown",
      "source": "\n<html>\n<body>\n<font size = \"6\">F3: Wie hoch war der Gesamtumsatz?</font><br>\n    <h3> In den wenigen Monaten im Markt beeindruckenden Umsatz erzielt</h3>\n    <ul> \n        <li> Gesamtumsatz: 92.228.619,38 Euro</li>\n        <li> Eintritt gelungen </li>\n    </ul>\n</body>\n</html>",
      "metadata": {
        "slideshow": {
          "slide_type": "subslide"
        },
        "tags": [],
        "editable": true
      }
    },
    {
      "id": "3756f8f3-f9c8-4236-9e7b-1802060c2887",
      "cell_type": "markdown",
      "source": "# Regionale Aufteilung",
      "metadata": {
        "tags": [],
        "editable": true,
        "slideshow": {
          "slide_type": "slide"
        }
      }
    },
    {
      "id": "a6f72c4f-cc79-4f7e-a715-fddb48a52931",
      "cell_type": "markdown",
      "source": "<html>    \n<body>\n    <font size=\"6\">F4: Wie viele Autos wurden pro Bundesland verkauft?</font>\n</body>\n</html>",
      "metadata": {
        "tags": [],
        "editable": true,
        "slideshow": {
          "slide_type": "subslide"
        }
      }
    },
    {
      "id": "e0b69c7d-f90b-46b1-a02b-be4ed0b967b3",
      "cell_type": "code",
      "source": "autos_pro_bundesland = kunden_geo[\"Niederlassung\"].value_counts()\nautos_pro_bundesland\n",
      "metadata": {
        "slideshow": {
          "slide_type": "skip"
        },
        "tags": [],
        "trusted": true,
        "editable": true
      },
      "outputs": [],
      "execution_count": null
    },
    {
      "id": "359dd30a-c13f-43f6-9486-eaa5c657b6cd",
      "cell_type": "code",
      "source": "# Erstellen eines Diagramms zur Darstellung\n# Dataframe\ndaten = {\"Bundesland\" : [\"Baden-Württemberg\" , \"Bayern\" , \"Nordrhein-Westfalen\" , \"Berlin\" , \"Hessen\" , \"Niedersachsen\",\n                        \"Sachsen\" , \"Thüringen\" , \"Hamburg\" , \"Brandenburg\"] , \n        \"Verkäufe\" : [205 , 188 , 175 , 126 , 96 , 96 , 89 , 49 , 43 , 37]}\n\ndf_autos_pro_bundesland = pd.DataFrame(daten)\n\nverkäufe_durchschnitt = df_autos_pro_bundesland[\"Verkäufe\"].mean()\n\n# Diagramm\nplt.figure(figsize=(10, 6))\ndiagramm = plt.bar(df_autos_pro_bundesland[\"Bundesland\"],df_autos_pro_bundesland[\"Verkäufe\"], color=\"lightsteelblue\")\nplt.axhline(y=verkäufe_durchschnitt, color='red', linestyle='--', linewidth=2)\n\nfor bar in diagramm:\n    height = bar.get_height()\n    plt.text(bar.get_x() + bar.get_width() / 2, height, f\"{int(height)}\", ha = \"center\", va = \"center_baseline\", fontsize=10)\n    \nplt.title(\"Anzahl der verkauften Autos pro Bundesland\")\nplt.xlabel(\"Bundesland\")\nplt.ylabel(\"Anzahl der verkauften Autos\")\nplt.xticks(rotation=45, ha='right')  \nplt.tight_layout()\nplt.show()",
      "metadata": {
        "slideshow": {
          "slide_type": "fragment"
        },
        "trusted": true,
        "tags": [],
        "editable": true
      },
      "outputs": [],
      "execution_count": null
    },
    {
      "id": "2558b0b0-eab0-47fa-b12a-5255965a2021",
      "cell_type": "markdown",
      "source": "",
      "metadata": {
        "tags": [],
        "editable": true,
        "slideshow": {
          "slide_type": ""
        }
      }
    },
    {
      "id": "eb1eb12c-6d1d-4d08-9358-a5e0c74e1f55",
      "cell_type": "markdown",
      "source": "<body>\n<html>\n<font size = \"6\">F5: Wie hoch war der durchschnittliche Umsatz pro Bundesland?</font>\n</body>\n</html>",
      "metadata": {
        "slideshow": {
          "slide_type": "subslide"
        },
        "tags": [],
        "editable": true
      }
    },
    {
      "id": "df37090c-5e4e-47ee-a4c7-43e79d5d6233",
      "cell_type": "code",
      "source": "umsatz_pro_bundesland = kunden_geo.groupby(\"Niederlassung\")[\"Preis\"].agg(\"mean\")\numsatz_pro_bundesland = umsatz_pro_bundesland.round(2)\numsatz_pro_bundesland",
      "metadata": {
        "slideshow": {
          "slide_type": "skip"
        },
        "trusted": true,
        "tags": [],
        "editable": true
      },
      "outputs": [],
      "execution_count": null
    },
    {
      "id": "2a09408b-4db1-4b92-9cdb-d109cda49c5a",
      "cell_type": "code",
      "source": "# Erstellen eines Diagramms zur Darstellung\n# Dataframe\ndaten2 = {\"Bundesland\" : [\"Baden-Württemberg\" , \"Bayern\" , \"Nordrhein-Westfalen\" , \"Berlin\" , \"Hessen\" , \"Niedersachsen\",\n                        \"Sachsen\" , \"Thüringen\" , \"Hamburg\" , \"Brandenburg\"] , \n        \"Umsatz\" : [90969.56 , 89344.31 , 89584.98 , 86673.64 , 85549.50 , 85864.93 , 87963.31 , 88633.27 , 89455.08 , 90816.99]}\n\ndf_umsatz_pro_bundesland = pd.DataFrame(daten2)\n\n# Diagramm\nplt.figure(figsize=(10, 6))\ndiagramm2 = plt.bar(df_umsatz_pro_bundesland[\"Bundesland\"],df_umsatz_pro_bundesland[\"Umsatz\"], color=\"lightsteelblue\")\n\nfor bar in diagramm2:\n    height = bar.get_height()\n    plt.text(bar.get_x() + bar.get_width() / 2, height, f\"{int(height)}\", ha = \"center\", va = \"center_baseline\", fontsize=10)\n\nplt.title(\"Umsatz pro Bundesland\")\nplt.xlabel(\"Bundesland\")\nplt.ylabel(\"Umsatz (in €)\")\nplt.xticks(rotation=45, ha='right')  \nplt.tight_layout()\nplt.show()\n",
      "metadata": {
        "slideshow": {
          "slide_type": "fragment"
        },
        "trusted": true,
        "tags": [],
        "editable": true
      },
      "outputs": [],
      "execution_count": null
    },
    {
      "id": "bd377ac2-bea4-40b9-a6b5-7b772f9ee352",
      "cell_type": "markdown",
      "source": "<html>\n<body>\n<font size = \"6\"> F6: In welchem Bundesland wurde das teuerste Auto verkauft?</font><br>\n    <h3>Bundesland und Preis:</h3>\n        <ul> \n            <li> teuerstes Auto: In Niedersachsen f&uuml;r 165.482,31 Euro  </li>\n            <li> g&uuml;nstigstes Auto: In Sachsen f&uuml;r 21.471,65 Euro </li>\n        </ul>\n</body>\n</html>",
      "metadata": {
        "slideshow": {
          "slide_type": "subslide"
        },
        "tags": [],
        "editable": true
      }
    },
    {
      "id": "00e8302d-25d2-4c10-a77d-854fd87224f3",
      "cell_type": "markdown",
      "source": "# Kundenanalyse",
      "metadata": {
        "tags": [],
        "editable": true,
        "slideshow": {
          "slide_type": "slide"
        }
      }
    },
    {
      "id": "0c123aa4-ec00-4c2f-b8fb-e7b1a6b57403",
      "cell_type": "markdown",
      "source": "<html>\n<body>\n<font size = \"6\">F7: Haben mehr Frauen oder mehr M&auml;nner unsere Autos gekauft?</font>\n</body>\n</html>",
      "metadata": {
        "slideshow": {
          "slide_type": "subslide"
        },
        "tags": [],
        "editable": true
      }
    },
    {
      "id": "b4fdd350-b83b-420c-9770-fc8b012b4812",
      "cell_type": "code",
      "source": "geschlecht_vergleich = kunden_geo[\"Geschlecht\"].value_counts()\n\nlabels = [\"männlich\", \"weiblich\"]\nsizes = [700,400]\ncolors = [\"lightblue\",\"lightpink\"]\nplt.pie(sizes, labels = labels, colors = colors, autopct = \"%1.1f%%\", startangle = 90)\nplt.axis(\"equal\")\nplt.title(\"Verteilung der verkauften Autos nach Geschlecht\")\nplt.show()\n",
      "metadata": {
        "slideshow": {
          "slide_type": "fragment"
        },
        "trusted": true,
        "tags": [],
        "editable": true
      },
      "outputs": [
        {
          "ename": "<class 'NameError'>",
          "evalue": "name 'kunden_geo' is not defined",
          "traceback": [
            "\u001b[0;31m---------------------------------------------------------------------------\u001b[0m",
            "\u001b[0;31mNameError\u001b[0m                                 Traceback (most recent call last)",
            "Cell \u001b[0;32mIn[1], line 1\u001b[0m\n\u001b[0;32m----> 1\u001b[0m geschlecht_vergleich \u001b[38;5;241m=\u001b[39m \u001b[43mkunden_geo\u001b[49m[\u001b[38;5;124m\"\u001b[39m\u001b[38;5;124mGeschlecht\u001b[39m\u001b[38;5;124m\"\u001b[39m]\u001b[38;5;241m.\u001b[39mvalue_counts()\n\u001b[1;32m      3\u001b[0m labels \u001b[38;5;241m=\u001b[39m [\u001b[38;5;124m\"\u001b[39m\u001b[38;5;124mmännlich\u001b[39m\u001b[38;5;124m\"\u001b[39m, \u001b[38;5;124m\"\u001b[39m\u001b[38;5;124mweiblich\u001b[39m\u001b[38;5;124m\"\u001b[39m]\n\u001b[1;32m      4\u001b[0m sizes \u001b[38;5;241m=\u001b[39m [\u001b[38;5;241m700\u001b[39m,\u001b[38;5;241m400\u001b[39m]\n",
            "\u001b[0;31mNameError\u001b[0m: name 'kunden_geo' is not defined"
          ],
          "output_type": "error"
        }
      ],
      "execution_count": 1
    },
    {
      "id": "c725b277-7bd9-4f3f-9f4e-dc71d40cff15",
      "cell_type": "markdown",
      "source": "<html>\n<body> \n<font size = \"6\">F8: Wie hoch ist das Durchschnittsalter unserer Kunden und unserer Besucher?</font>\n        <h3>Durchschnittsalter der Kunden und Besucher</h3>\n        <table border=\"1\" class=\"dataframe\" style=\"float: left;\">\n            <tr>\n                <th>Kategorie</th>\n                <th>Durchschnittsalter</th>\n            </tr>\n            <tr>\n                <td>Kunden</td>\n                <td>50,38 Jahre</td>\n            </tr>\n            <tr>\n                <td>Besucher</td>\n                <td>49,88 Jahre</td>\n            </tr>\n        </table>\n</body>\n</html>",
      "metadata": {
        "tags": [],
        "editable": true,
        "slideshow": {
          "slide_type": "subslide"
        }
      }
    },
    {
      "id": "32f401cd-d47e-4a54-9eff-a0debf3419cc",
      "cell_type": "markdown",
      "source": "<html>\n<body>\n<font size = \"6\">F9: Wie hoch ist das Durchschnittseinkommen unserer Kunden und unserer Besucher</font>\n    <h3>Durchschnittseinkommen der Kunden und Besucher</h3>\n        <table border=\"1\" class=\"dataframe\" style=\"float: left;\">\n            <tr>\n                <th>Kategorie</th>\n                <th>Durchschnittseinkommen</th>\n            </tr>\n            <tr>\n                <td>Kunden</td>\n                <td>58.850,91 Euro</td>\n            </tr>\n            <tr>\n                <td>Besucher</td>\n                <td>59.367,93 Euro</td>\n            </tr>\n        </table>\n</body>\n</html>",
      "metadata": {
        "slideshow": {
          "slide_type": "subslide"
        },
        "tags": [],
        "editable": true
      }
    },
    {
      "id": "a9637242-d8c5-4d8e-bb3f-c6f11e0644c2",
      "cell_type": "markdown",
      "source": "<html>\n<body>\n<font size = \"6\">F13: Wie viele Kunden haben keinen Bankkredit aufgenommen, um das Auto zu kaufen?</font><br>\n    <h3> M&ouml;gliches Risiko:</h3>\n        <ul> \n            <li> 5 Kunden haben keinen Kredit aufgenommen  </li>\n            <li> 99,55% unserer Kunden finanzieren sich ihr Auto mit einem Kredit</li>\n        </ul>\n</body>\n</html>",
      "metadata": {
        "tags": [],
        "editable": true,
        "slideshow": {
          "slide_type": "subslide"
        }
      }
    },
    {
      "id": "36ee5bc9-24a3-49d2-a803-68db1437923e",
      "cell_type": "markdown",
      "source": "# Einfluss der sozioökonomischen Faktoren",
      "metadata": {
        "tags": [],
        "editable": true,
        "slideshow": {
          "slide_type": "slide"
        }
      }
    },
    {
      "id": "d2bae546-e581-4438-80f1-1f552a662ba9",
      "cell_type": "markdown",
      "source": "<html>\n<body>\n<font size = \"6\">F14: Welche sozio&ouml;konomischen Merkmale beeinflussen den Kaufpreis? </font><br><br>\n    <table border=\"1\" class=\"dataframe\" style=\"float: left;\">\n        <tr>\n                <th>Faktor</th>\n                <th>Preiserh&ouml;hung pro 1 Einheit des Faktors</th>\n            </tr>\n            <tr>\n                <td>Alter</td>\n                <td>499,50 Euro</td>\n            </tr>\n            <tr>\n                <td>Einkommen</td>\n                <td>1,05 Euro</td>\n            </tr>\n            <tr>\n                <td>Geschlecht (wenn männlich)</td>\n                <td>2214,94 Euro</td>\n            </tr>\n    </table>\n</body>\n</html>",
      "metadata": {
        "tags": [],
        "editable": true,
        "slideshow": {
          "slide_type": "subslide"
        }
      }
    },
    {
      "id": "c90b73ee-f015-4cfc-8a21-30d7e6078fb4",
      "cell_type": "markdown",
      "source": "<html>\n<body>\n<font size = \"8\"> Ende der CEO Pr&auml;sentation</font>\n</body>\n</html>",
      "metadata": {
        "tags": [],
        "editable": true,
        "slideshow": {
          "slide_type": "slide"
        }
      }
    },
    {
      "id": "f2a4e89d-a363-48b4-bbe4-6e9ddd33bda4",
      "cell_type": "markdown",
      "source": "<html>\n<body>\n<font size = \"8\"> Pr&auml;sentation f&uuml;r Vorgesetzte und Kollegen</font><br>\n    <h3> Unsere Codes und Ergebnisse</h3>\n</body>\n</html>",
      "metadata": {
        "tags": [],
        "editable": true,
        "slideshow": {
          "slide_type": "slide"
        }
      }
    },
    {
      "id": "12a39386",
      "cell_type": "markdown",
      "source": "<html>\n<body>\n<font size = \"6\">F10: Gibt es einen statistisch signifikanten Unterschied zwischen dem Durchschnittseinkommen der Kunden und dem der Besucher?</font>\n<h3> Code: </h3>\n    <p></p>\n    <pre><code>\n\nH0:&micro;_kunden = &micro;_besucher\nH1:&micro;_kunden != &micro;_besucher\n&alpha; = 0.05\n\nstats.ttest_ind(kunden_geo[\"Einkommen\"], besucher_geo[\"Einkommen\"], equal_var = True)\n\n\nt_stat, p_val = stats.ttest_ind(kunden_geo[\"Einkommen\"].dropna(), besucher_geo[\"Einkommen\"].dropna(), equal_var=False)\n    </pre></code>\n    </p>\n</body>\n</html>",
      "metadata": {
        "slideshow": {
          "slide_type": "subslide"
        },
        "tags": [],
        "editable": true
      }
    },
    {
      "id": "3483765a-a935-4865-8a8b-7c367c85b7fb",
      "cell_type": "markdown",
      "source": "<html>\n<body>\n<h3> Ergebnis: </h3>\n    <p> Teststatistik = -0.7035, p-Wert = 0.4818 </p><br>\n    <p> Da p-Wert > &alpha; , wird die H0 nicht abgelehnt. Es liegen nicht gen&uuml;gende Anhaltspunkte vor, dass das Durchschnittseinkommen der Besucher und Kunden unterschiedlich ist </p>\n</body>\n</html>\n",
      "metadata": {
        "tags": [],
        "editable": true,
        "slideshow": {
          "slide_type": "fragment"
        }
      }
    },
    {
      "id": "c28da68e",
      "cell_type": "markdown",
      "source": "<html>\n<body>\n<font size = \"6\">F11: Pearson-Korrelations-Koeffizient zwischen den Variablen Alter, Einkommen, Preis und Zeit</font>\n    <h3> Code: </h3>\n    <pre><code>\nausgewählte_spalten = [\"Alter\", \"Einkommen\", \"Preis\", \"Zeit\"]\nkorrelations_matrix = kunden_geo[ausgewählte_spalten].corr(method = 'pearson')\n    </pre></code>\n</body>\n</html>",
      "metadata": {
        "slideshow": {
          "slide_type": "subslide"
        },
        "tags": [],
        "editable": true
      }
    },
    {
      "id": "8e03d214-7f70-415a-a659-4136df5fdd18",
      "cell_type": "markdown",
      "source": "<html>\n<body>\n    <h3> Ergebnis: </h3>\n</body>\n</html>\n",
      "metadata": {
        "slideshow": {
          "slide_type": "fragment"
        },
        "tags": [],
        "editable": true
      }
    },
    {
      "id": "23c53c7f-bf92-4d96-aa4b-4c67959f41c4",
      "cell_type": "code",
      "source": "\nsns.heatmap(korrelations_matrix, annot = True, cmap = \"coolwarm\", linewidth = 1)\nplt.title(\"Korrelationsmatrix\")\nplt.show()",
      "metadata": {
        "trusted": true,
        "tags": [],
        "editable": true,
        "slideshow": {
          "slide_type": "fragment"
        }
      },
      "outputs": [],
      "execution_count": null
    },
    {
      "id": "846d8b90-a53b-4883-a18d-71b6f039da95",
      "cell_type": "markdown",
      "source": "<html>\n<body>\n<font size = \"6\">F12: Ist die Variable Zeit approximativ normalverteilt? Darstellung mit QQ-Plot </font>\n    <h3> Code </h3>\n    <pre><code>\nzeit = df_final[\"Zeit\"]\n\n# QQ-Plot erstellen\n\nplt.figure(figsize = (8, 6))\nstats.probplot(zeit, dist=\"norm\", plot=plt)\nplt.title('QQ-Plot der Variable \"Zeit\"')\nplt.xlabel('Theoretische Quantile')\nplt.ylabel('Beobachtete Quantile')\nplt.show()\n    </pre></code>\n</body>\n</html>",
      "metadata": {
        "slideshow": {
          "slide_type": "subslide"
        },
        "tags": [],
        "editable": true
      }
    },
    {
      "id": "b95dc825",
      "cell_type": "code",
      "source": "zeit = df_final[\"Zeit\"]\n\n# qq-Plot erstellen:\nplt.figure(figsize = (8, 6))\nstats.probplot(zeit, dist=\"norm\", plot=plt)\nplt.title('QQ-Plot der Variable \"Zeit\"')\nplt.xlabel('Theoretische Quantile')\nplt.ylabel('Beobachtete Quantile')\nplt.show()\n# da die Punkte entlang einer geraden Linie verlaufen kann davon ausgegangen werden, dass die Daten approvimativ normalverteilt sind",
      "metadata": {
        "slideshow": {
          "slide_type": "fragment"
        },
        "trusted": true,
        "tags": [],
        "editable": true
      },
      "outputs": [],
      "execution_count": null
    },
    {
      "id": "76e07db6",
      "cell_type": "markdown",
      "source": "<html>\n<body>\n<font size = \"6\">F15: Prognostizieren Sie den Kaufpreis. </font><br>\n    <table border=\"1\" class=\"dataframe\" style=\"float: left;\">\n        <tr>\n                <th>Person</th>\n                <th>Alter</th>\n                <th>Einkommen</th>\n                <th>Geschlecht</th>\n                <th>Kaufpreis</th>\n            </tr>\n            <tr>\n                <td>1</td>\n                <td>32 Jahre</td>\n                <td>32.000 Euro</td>\n                <td>m&auml;nnlich</td>\n                <td>50.345,86 Euro</td>\n            </tr>\n            <tr>\n                <td>2</td>\n                <td>32 Jahre</td>\n                <td>32.000 Euro</td>\n                <td>m&auml;nnlich</td>\n                <td>84.999,83 Euro</td>\n            </tr>\n    </table>\n</body>\n</html>",
      "metadata": {
        "slideshow": {
          "slide_type": "subslide"
        },
        "tags": [],
        "editable": true
      }
    },
    {
      "id": "aba3f7d9-c178-40c3-bc02-34e456393b06",
      "cell_type": "markdown",
      "source": "<html>\n<body>\n<h3> Code: </h3>\n\n<pre><code>\nX_predict_kunden = pd.DataFrame({\n    'Alter': [32, 51],\n    'Einkommen': [30000, 54000],\n    'Geschlecht': [1,1]\n})\n\nX_predict_kunden = sm.add_constant(X_predict_kunden, has_constant='add')\n\nprediction_kunden = model_kunden.predict(X_predict_kunden)\n</pre></code>\n</body>\n</html>",
      "metadata": {
        "slideshow": {
          "slide_type": "fragment"
        },
        "tags": [],
        "editable": true
      }
    },
    {
      "id": "4b5dd32a-4ea8-4efc-88fe-0ddeed7c45e6",
      "cell_type": "markdown",
      "source": "<font size = \"6\">F16: Welche Variable beeinflusst den Preis des Autos am\nmeisten? Vergleichbarkeit der Regressionskoeffizienten durch eine logistische Regression.</font>\n<h3>Code</h3>\n<pre><code>\n<p>unabhängige Variablen: Alter, Einkommen, Geschlecht</p><br>\n<p> abhängige Variable: Preis</p>\n    \n<p>Standardisierung:</p>\nX_stand = kunden_geo[['Alter', 'Einkommen', 'Geschlecht', \"Preis\"]]\nStandard = X_stand.select_dtypes(include=[np.number]).dropna().apply(stats.zscore)\n\n<p> Regression:</p>\nregression = 'Preis ~ Alter + Einkommen + Geschlecht' \nresult = smf.ols(regression, data=Standard).fit()\nround(result.params, 6)\n</pre></code>\n",
      "metadata": {
        "slideshow": {
          "slide_type": "subslide"
        },
        "tags": [],
        "editable": true
      }
    },
    {
      "id": "d618996b",
      "cell_type": "code",
      "source": "# unabhängige Variablen: Alter, Einkommen, Geschlecht\n# abhängige Variable: Preis\n\n# Standardisierung\nX_stand = kunden_geo[['Alter', 'Einkommen', 'Geschlecht', \"Preis\"]]\nStandard = X_stand.select_dtypes(include=[np.number]).dropna().apply(stats.zscore)\n\n# Regression\nregression = 'Preis ~ Alter + Einkommen + Geschlecht' \nresult = smf.ols(regression, data=Standard).fit()\n\n# Betas \nround(result.params, 6)\n\n# Den meisten Einfluss auf den Autopreis hat das Einkommen mit einem Beta von rund 0,7.\n",
      "metadata": {
        "slideshow": {
          "slide_type": "fragment"
        },
        "trusted": true,
        "tags": [],
        "editable": true
      },
      "outputs": [],
      "execution_count": null
    },
    {
      "id": "459ce486-b138-490e-8d94-d5cad86f1546",
      "cell_type": "markdown",
      "source": "<font size = \"6\">F17: Regression, die die Wahrscheinlichkeit des Kaufs eines Autos ermittelt</font>\n<h3> Code </h3>\n<pre><code>\n# spalte einfügen, ob Kunde = 1 oder Besucher = 0\nkunden_geo['Kauf'] = 1\nbesucher_geo['Kauf'] = 0\n\n# Besucher unter Kunden anfügen\ndaten_alle = pd.concat([kunden_geo, besucher_geo])\n\n# Regression\ny_lg = daten_alle[\"Kauf\"]\n\nX_lg = daten_alle[['Alter', 'Einkommen', 'Geschlecht', 'Zeit']]\n\nX_lg = sm.add_constant(X_lg)\n\nmodel_lg = sm.Logit(y_lg, X_lg).fit()\n\nprint(model_lg.summary())\n\n</pre></code>",
      "metadata": {
        "slideshow": {
          "slide_type": "subslide"
        },
        "tags": [],
        "editable": true
      }
    },
    {
      "id": "b4c1c64b-09cf-4c9e-9419-1f4d9f25a237",
      "cell_type": "code",
      "source": "# spalte einfügen, ob Kunde = 1 oder Besucher = 0\nkunden_geo['Kauf'] = 1\nbesucher_geo['Kauf'] = 0\n\n# Besucher unter Kunden anfügen\ndaten_alle = pd.concat([kunden_geo, besucher_geo])\n\n# Überprüfung ob Käufer = 1 und Besucher = 0\ndaten_alle",
      "metadata": {
        "trusted": true,
        "tags": [],
        "editable": true,
        "slideshow": {
          "slide_type": ""
        }
      },
      "outputs": [],
      "execution_count": null
    },
    {
      "id": "f0c12923-f96c-45ca-8b2c-d0651edb7f5e",
      "cell_type": "code",
      "source": "# Regression\ny_lg = daten_alle[\"Kauf\"]\n\nX_lg = daten_alle[['Alter', 'Einkommen', 'Geschlecht', 'Zeit']]\n\nX_lg = sm.add_constant(X_lg)\n\nmodel_lg = sm.Logit(y_lg, X_lg).fit()\n\nprint(model_lg.summary())",
      "metadata": {
        "slideshow": {
          "slide_type": "fragment"
        },
        "trusted": true,
        "tags": [],
        "editable": true
      },
      "outputs": [],
      "execution_count": null
    },
    {
      "id": "4e2b76e6-0d24-4c19-8524-b69184b8b9ce",
      "cell_type": "markdown",
      "source": "<h3> Ergebnis </h3>\n<p> 57,88% </p>",
      "metadata": {
        "tags": [],
        "editable": true,
        "slideshow": {
          "slide_type": "fragment"
        }
      }
    },
    {
      "id": "b80f8073-47ed-4513-a32e-e8e7d0c1ed2d",
      "cell_type": "code",
      "source": "<font size = \"6\">F18: Wie hoch ist die Wahrscheinlichkeit, dass Person x,y unser Auto kauft?</font>\n<h3> Code </h3>\n<pre><code> # Kundendaten\nPerson_x = [1, 32, 30000, 1, 30]  # Kauf (1 = Kauf), Alter, Einkommen, Geschlecht (1 = männlich), Zeit \nPerson_y = [1, 51, 54000, 1, 45] \n\n# Modell\nparams = model_lg.params\n\n# Person X\nlog_1 = np.dot(params, Person_x)\nwahrscheinlichkeit_person_x = 1 / (1 + np.exp(-log_1))\n\n# Person Y \nlog_2 = np.dot(params, Person_y)\nwahrscheinlichkeit_person_y = 1 / (1 + np.exp(-log_2)) \n</pre></code>\n<h3> Ergebnis</h3>\n",
      "metadata": {
        "slideshow": {
          "slide_type": "subslide"
        },
        "tags": [],
        "editable": true,
        "trusted": true
      },
      "outputs": [],
      "execution_count": null
    },
    {
      "id": "c6d07e51",
      "cell_type": "code",
      "source": "# Kundendaten\nPerson_x = [1, 32, 30000, 1, 30]  # Kauf (1 = Kauf), Alter, Einkommen, Geschlecht (1 = männlich), Zeit \nPerson_y = [1, 51, 54000, 1, 45] \n\n# Modell\nparams = model_lg.params\n\n# Person X\nlog_1 = np.dot(params, Person_x)\nwahrscheinlichkeit_person_x = 1 / (1 + np.exp(-log_1))\n\n# Person Y \nlog_2 = np.dot(params, Person_y)\nwahrscheinlichkeit_person_y = 1 / (1 + np.exp(-log_2))\n\nprint(wahrscheinlichkeit_person_x)\nprint(wahrscheinlichkeit_person_y)",
      "metadata": {
        "slideshow": {
          "slide_type": "fragment"
        },
        "trusted": true,
        "tags": [],
        "editable": true
      },
      "outputs": [],
      "execution_count": null
    },
    {
      "id": "c47f1329-0d7a-4f1c-8914-f1835c9339c6",
      "cell_type": "markdown",
      "source": "<font size = \"6\">F19: Probleme bei der Zusammenf&uuml;hrung des Datensatzes und Operationen zum Zusammenf&uuml;hren und Bereinigen der Daten</font>\n<ol> \n    <li> Fehlende Daten</li>\n    <li> Ausrei&szlig;er</li>\n    <li> verschiedene Datentypen zwischen Dateien</li>\n    <li> Englische Kommasetzung</li>\n    <li> Konsolidierung von Daten</li>\n</ol>",
      "metadata": {
        "slideshow": {
          "slide_type": "subslide"
        },
        "tags": [],
        "editable": true
      }
    },
    {
      "id": "2a6236dc-8151-4bb1-ad1d-6d820e78378d",
      "cell_type": "markdown",
      "source": "<h1> Fehlende Daten </h1><br>\n<h2> Beispiel: Geschlecht in Kundendatei</h2><br>\n<h3> Code:</h3>\n<pre><code>\n    kunden.isnull().sum()\n    modalwert_kunden = kunden['Geschlecht'].mode()[0]\n    kunden.fillna(value = modalwert_kunden, axis = 0, inplace = True)\n</pre></code>\n<h3> Ergebnis: Fehlende Datenpunkte wurden mit dem Modalwert (1) ersetzt.</h3>",
      "metadata": {
        "tags": [],
        "editable": true,
        "slideshow": {
          "slide_type": "subslide"
        }
      }
    },
    {
      "id": "c4560536-12f2-4f46-852d-881fd8b1d5f1",
      "cell_type": "markdown",
      "source": "<h1> Ausrei&szlig;er </h1><br>\n<h2> Beispiel: Alter in Kundendatei</h2><br>\n<h3> Code:</h3>\n<pre><code>\n    \nkunden.describe().T \n    \n# Berechnung von Q1, Q3 und IQR\nQ1_Alter = kunden['Alter'].quantile(0.25)\nQ3_Alter = kunden['Alter'].quantile(0.75)\nIQR_Alter = Q3_Alter - Q1_Alter\n# Berechnung der Ausrei&szlig;er-Grenzen\nuntere_grenze_Alter = Q1_Alter - 1.5 * IQR_Alter\nobere_grenze_Alter = Q3_Alter + 1.5 * IQR_Alter\nkunden['Ausrei&szlig;er'] = (kunden['Alter'] < untere_grenze_Alter) | (kunden['Alter'] > obere_grenze_Alter)\nausrei&szlig;er_alter = kunden.Ausrei&szlig;er.value_counts()\nausrei&szlig;er_alter\n\nkunden.loc[kunden['Ausrei&szlig;er'] == True], alter_median = kunden['Alter'].median()\nkunden.replace([120, 100], alter_median, inplace=True)\n</pre></code>\n<h3>Ergebnis: Ausrei&szlig;er (100 und 120) wurden mit dem Modalwert ersetzt </h3>",
      "metadata": {
        "tags": [],
        "editable": true,
        "slideshow": {
          "slide_type": "subslide"
        }
      }
    },
    {
      "id": "7a805b4d-b2b4-4394-91d9-0fc02edfb0e0",
      "cell_type": "markdown",
      "source": "<h1> verschiedene Datentypen zwischen Dateien + Englische Kommasetzung</h1><br>\n<h2> Beispiel: Einkommen in Besucherdatei</h2><br>\n<h3> Code:</h3>\n<pre><code>\nbesucher[\"Einkommen\"] = besucher[\"Einkommen\"].str.replace(\",\",\".\")\nbesucher[\"Einkommen\"] = pd.to_numeric(besucher[\"Einkommen\"]) \nbesucher[\"Einkommen\"] = besucher[\"Einkommen\"].round(0).astype(\"float64\")\n</pre></code>\n<h3> Ergebnis: Englische Kommasetzung wurde in deutsche Kommasetzung umgewandelt und Einkommen in der Besucherdatei ist wie bei der Kundendatei float als dtype</h3>",
      "metadata": {
        "tags": [],
        "editable": true,
        "slideshow": {
          "slide_type": "subslide"
        }
      }
    },
    {
      "id": "16850071-83f5-4b04-aab0-1e63e5dfdf55",
      "cell_type": "markdown",
      "source": "<h1> Konsolidierung von Daten </h1><br>\n<h2> Beispiel: Bundesl&auml;nder in Geodatei</h2><br>\n<h3> Code:</h3>\n<pre><code>\ngeo_niederlassung_uniques = geo[\"Niederlassung\"].unique() \n    \ngeo_cleaning = {\n    \"NRW\" : \"Nordrhein-Westfalen\" , \n    \"Berlin-Charlottenburg\" : \"Berlin\" ,\n    \"Berlin-Mitte\" : \"Berlin\" ,\n    \"BERLIN\" : \"Berlin\",\n    \"Düsseldorf\" : \"Nordrhein-Westfalen\"}\n\ngeo[\"Niederlassung\"] = geo[\"Niederlassung\"].replace(geo_cleaning, regex = True)\n</pre></code>\n<h3>Ergebnis: Anders geschriebene Orte wurden f&uuml;r Berlin und Nordrhein-Westfalen konsolidiert, sodass es nur noch Berlin und Nordrhein-Westfalen gibt.</h3>",
      "metadata": {
        "tags": [],
        "editable": true,
        "slideshow": {
          "slide_type": "subslide"
        }
      }
    },
    {
      "id": "4760c2cb",
      "cell_type": "markdown",
      "source": "<html> \n<body> \n<font size = \"6\">F20: Vorschl&auml;ge f&uuml;r die Kundenabteilung</font>\n    <ul> Vorschl&auml;ge f&uuml;r die Daten\n        <li>Einheitliche Daten: entweder Trennung durch Komma oder Punkt</li>\n        <li>Vorgegebene Antwortm&ouml;glichkeiten, um fehlende und fehlerhafte Angaben zu vermeiden (Multiple Choice)</li>\n        <li>Geo-Daten nach genauen Standorten zum Abgleich mit lokalem Einkommensniveau und lokalen Pr&auml;ferenzen </li>\n    </ul>\n    <ul> Vorschl&auml;ge f&uuml;r weitere Fragen\n        <li>Weitere Informationen bez&uuml;glich Kundenpr&auml;ferenzen (Getriebe, Modell, Baujahr, etc.)</li>\n        <li>Nach Kauf eine Kundenzufriedenheit ermitteln, um so Data Analysis auf Zufriedenheit anzuwenden</li>\n    </ul>\n</body>\n</html>",
      "metadata": {
        "slideshow": {
          "slide_type": "subslide"
        },
        "tags": [],
        "editable": true
      }
    },
    {
      "id": "ea965ec5-b793-4a2b-a0d0-3be5f8f3e3ce",
      "cell_type": "markdown",
      "source": "<font size = \"8\">Vielen Dank f&uuml;r Ihre Aufmerksamkeit!</font>",
      "metadata": {
        "slideshow": {
          "slide_type": "slide"
        },
        "tags": [],
        "editable": true
      }
    },
    {
      "id": "223f5215-42ff-44a2-a08e-a723a03107f3",
      "cell_type": "code",
      "source": "",
      "metadata": {
        "trusted": true
      },
      "outputs": [],
      "execution_count": null
    }
  ]
}