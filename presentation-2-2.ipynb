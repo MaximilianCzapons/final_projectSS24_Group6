{
  "metadata": {
    "kernelspec": {
      "name": "python",
      "display_name": "Python (Pyodide)",
      "language": "python"
    },
    "language_info": {
      "codemirror_mode": {
        "name": "python",
        "version": 3
      },
      "file_extension": ".py",
      "mimetype": "text/x-python",
      "name": "python",
      "nbconvert_exporter": "python",
      "pygments_lexer": "ipython3",
      "version": "3.8"
    },
    "celltoolbar": "Slideshow"
  },
  "nbformat_minor": 5,
  "nbformat": 4,
  "cells": [
    {
      "id": "59dbdcb7",
      "cell_type": "markdown",
      "source": "# Bereinigung der Datensätze",
      "metadata": {
        "slideshow": {
          "slide_type": "skip"
        },
        "tags": []
      }
    },
    {
      "id": "6914f38d-04c5-455d-9a44-06bb29483ed6",
      "cell_type": "markdown",
      "source": "## 1. Importieren der Pakete",
      "metadata": {
        "slideshow": {
          "slide_type": "skip"
        }
      }
    },
    {
      "id": "611b4ad8-8f0d-42ca-8be6-2314d95e6e6f",
      "cell_type": "code",
      "source": "import pandas as pd\nimport matplotlib.pyplot as plt\nimport numpy as np\nfrom scipy import stats\nimport statsmodels.api as sm\nfrom sklearn.preprocessing import StandardScaler\nimport statsmodels.formula.api as smf \nimport seaborn as sns\n",
      "metadata": {
        "slideshow": {
          "slide_type": "skip"
        },
        "trusted": true
      },
      "outputs": [
        {
          "ename": "<class 'ModuleNotFoundError'>",
          "evalue": "No module named 'seaborn'",
          "traceback": [
            "\u001b[0;31m---------------------------------------------------------------------------\u001b[0m",
            "\u001b[0;31mModuleNotFoundError\u001b[0m                       Traceback (most recent call last)",
            "Cell \u001b[0;32mIn[17], line 8\u001b[0m\n\u001b[1;32m      6\u001b[0m \u001b[38;5;28;01mfrom\u001b[39;00m \u001b[38;5;21;01msklearn\u001b[39;00m\u001b[38;5;21;01m.\u001b[39;00m\u001b[38;5;21;01mpreprocessing\u001b[39;00m \u001b[38;5;28;01mimport\u001b[39;00m StandardScaler\n\u001b[1;32m      7\u001b[0m \u001b[38;5;28;01mimport\u001b[39;00m \u001b[38;5;21;01mstatsmodels\u001b[39;00m\u001b[38;5;21;01m.\u001b[39;00m\u001b[38;5;21;01mformula\u001b[39;00m\u001b[38;5;21;01m.\u001b[39;00m\u001b[38;5;21;01mapi\u001b[39;00m \u001b[38;5;28;01mas\u001b[39;00m \u001b[38;5;21;01msmf\u001b[39;00m \n\u001b[0;32m----> 8\u001b[0m \u001b[38;5;28;01mimport\u001b[39;00m \u001b[38;5;21;01mseaborn\u001b[39;00m \u001b[38;5;28;01mas\u001b[39;00m \u001b[38;5;21;01msns\u001b[39;00m\n",
            "\u001b[0;31mModuleNotFoundError\u001b[0m: No module named 'seaborn'"
          ],
          "output_type": "error"
        }
      ],
      "execution_count": 17
    },
    {
      "id": "20b5f2d9",
      "cell_type": "markdown",
      "source": "## 2. Kundendaten",
      "metadata": {
        "slideshow": {
          "slide_type": "skip"
        }
      }
    },
    {
      "id": "0eac4c81-703d-4aff-a26d-7372a53f7a21",
      "cell_type": "markdown",
      "source": "### 2.1 Kundendatei einlesen",
      "metadata": {
        "slideshow": {
          "slide_type": "skip"
        }
      }
    },
    {
      "id": "fad08255",
      "cell_type": "code",
      "source": "kunden = pd.read_csv(\"kunden.csv\", decimal = '.', sep = \";\")\nkunden.head()",
      "metadata": {
        "slideshow": {
          "slide_type": "skip"
        },
        "trusted": true
      },
      "outputs": [
        {
          "execution_count": 18,
          "output_type": "execute_result",
          "data": {
            "text/plain": "   Alter  Einkommen      Preis  Geschlecht  Zeit KundeNr\n0     64    66894.0   88160.31         1.0  43.0   K0310\n1     54    77644.0  103145.70         1.0  40.0   K1042\n2     55    44341.0   80565.16         0.0  37.0   K0382\n3     49    67271.0   83949.89         0.0  42.0   K0498\n4     46    49832.0   93781.58         0.0  41.0   K0552",
            "text/html": "<div>\n<style scoped>\n    .dataframe tbody tr th:only-of-type {\n        vertical-align: middle;\n    }\n\n    .dataframe tbody tr th {\n        vertical-align: top;\n    }\n\n    .dataframe thead th {\n        text-align: right;\n    }\n</style>\n<table border=\"1\" class=\"dataframe\">\n  <thead>\n    <tr style=\"text-align: right;\">\n      <th></th>\n      <th>Alter</th>\n      <th>Einkommen</th>\n      <th>Preis</th>\n      <th>Geschlecht</th>\n      <th>Zeit</th>\n      <th>KundeNr</th>\n    </tr>\n  </thead>\n  <tbody>\n    <tr>\n      <th>0</th>\n      <td>64</td>\n      <td>66894.0</td>\n      <td>88160.31</td>\n      <td>1.0</td>\n      <td>43.0</td>\n      <td>K0310</td>\n    </tr>\n    <tr>\n      <th>1</th>\n      <td>54</td>\n      <td>77644.0</td>\n      <td>103145.70</td>\n      <td>1.0</td>\n      <td>40.0</td>\n      <td>K1042</td>\n    </tr>\n    <tr>\n      <th>2</th>\n      <td>55</td>\n      <td>44341.0</td>\n      <td>80565.16</td>\n      <td>0.0</td>\n      <td>37.0</td>\n      <td>K0382</td>\n    </tr>\n    <tr>\n      <th>3</th>\n      <td>49</td>\n      <td>67271.0</td>\n      <td>83949.89</td>\n      <td>0.0</td>\n      <td>42.0</td>\n      <td>K0498</td>\n    </tr>\n    <tr>\n      <th>4</th>\n      <td>46</td>\n      <td>49832.0</td>\n      <td>93781.58</td>\n      <td>0.0</td>\n      <td>41.0</td>\n      <td>K0552</td>\n    </tr>\n  </tbody>\n</table>\n</div>"
          },
          "metadata": {}
        }
      ],
      "execution_count": 18
    },
    {
      "id": "d5022e9a-b102-4ea9-ae5c-0f5ea84f4577",
      "cell_type": "markdown",
      "source": "### 2.2 Überblick über Datentypen",
      "metadata": {
        "slideshow": {
          "slide_type": "skip"
        }
      }
    },
    {
      "id": "1f0a053f",
      "cell_type": "code",
      "source": "kunden.dtypes",
      "metadata": {
        "slideshow": {
          "slide_type": "skip"
        },
        "trusted": true
      },
      "outputs": [
        {
          "execution_count": 19,
          "output_type": "execute_result",
          "data": {
            "text/plain": "Alter           int64\nEinkommen     float64\nPreis         float64\nGeschlecht    float64\nZeit          float64\nKundeNr        object\ndtype: object"
          },
          "metadata": {}
        }
      ],
      "execution_count": 19
    },
    {
      "id": "21b4b255-768d-4e12-9ac0-fac3cc16fe16",
      "cell_type": "markdown",
      "source": "### 2.3. Bereinigung",
      "metadata": {
        "slideshow": {
          "slide_type": "skip"
        }
      }
    },
    {
      "id": "dfc76067",
      "cell_type": "markdown",
      "source": "### 2.3.1 Fehlende Datenpunkte ermitteln und ersetzen",
      "metadata": {
        "slideshow": {
          "slide_type": "skip"
        }
      }
    },
    {
      "id": "0a459b24",
      "cell_type": "code",
      "source": "kunden.isnull().sum()",
      "metadata": {
        "slideshow": {
          "slide_type": "skip"
        },
        "trusted": true
      },
      "outputs": [
        {
          "execution_count": 20,
          "output_type": "execute_result",
          "data": {
            "text/plain": "Alter         0\nEinkommen     0\nPreis         0\nGeschlecht    5\nZeit          0\nKundeNr       0\ndtype: int64"
          },
          "metadata": {}
        }
      ],
      "execution_count": 20
    },
    {
      "id": "8e5bfd33",
      "cell_type": "code",
      "source": "# Finden des Modalwertes:",
      "metadata": {
        "slideshow": {
          "slide_type": "skip"
        },
        "trusted": true
      },
      "outputs": [],
      "execution_count": 21
    },
    {
      "id": "eb4d8d0c",
      "cell_type": "code",
      "source": "modalwert_kunden = kunden['Geschlecht'].mode()[0]",
      "metadata": {
        "slideshow": {
          "slide_type": "skip"
        },
        "trusted": true
      },
      "outputs": [],
      "execution_count": 22
    },
    {
      "id": "281480c0",
      "cell_type": "code",
      "source": "modalwert_kunden",
      "metadata": {
        "slideshow": {
          "slide_type": "skip"
        },
        "trusted": true
      },
      "outputs": [
        {
          "execution_count": 23,
          "output_type": "execute_result",
          "data": {
            "text/plain": "1.0"
          },
          "metadata": {}
        }
      ],
      "execution_count": 23
    },
    {
      "id": "c6bf589f",
      "cell_type": "code",
      "source": "# Ersetzen der 5 fehlenden Geschlechtseinträge mit dem Modalwert 1.0",
      "metadata": {
        "slideshow": {
          "slide_type": "skip"
        },
        "trusted": true
      },
      "outputs": [],
      "execution_count": 24
    },
    {
      "id": "d2af5f2d",
      "cell_type": "code",
      "source": "kunden.fillna(value = modalwert_kunden, axis = 0, inplace = True)",
      "metadata": {
        "slideshow": {
          "slide_type": "skip"
        },
        "trusted": true
      },
      "outputs": [],
      "execution_count": 25
    },
    {
      "id": "08ccd3d1",
      "cell_type": "code",
      "source": "# Überprüfung\nkunden.isnull().sum()",
      "metadata": {
        "slideshow": {
          "slide_type": "skip"
        },
        "trusted": true
      },
      "outputs": [
        {
          "execution_count": 26,
          "output_type": "execute_result",
          "data": {
            "text/plain": "Alter         0\nEinkommen     0\nPreis         0\nGeschlecht    0\nZeit          0\nKundeNr       0\ndtype: int64"
          },
          "metadata": {}
        }
      ],
      "execution_count": 26
    },
    {
      "id": "e4febb36-807b-4f50-bd57-b643bb53b7d1",
      "cell_type": "markdown",
      "source": "### 2.3.2 Ausreißer ermitteln und entfernen",
      "metadata": {
        "slideshow": {
          "slide_type": "skip"
        }
      }
    },
    {
      "id": "fd6815eb-a49b-4ddd-b6c6-a302ba14f04f",
      "cell_type": "code",
      "source": "# Außreißer ermitteln\nkunden.describe().T",
      "metadata": {
        "slideshow": {
          "slide_type": "skip"
        },
        "trusted": true
      },
      "outputs": [
        {
          "execution_count": 27,
          "output_type": "execute_result",
          "data": {
            "text/plain": "             count           mean           std           min         25%  \\\nAlter       1104.0      50.481884  1.222506e+01     30.000000     40.0000   \nEinkommen   1104.0  964474.817596  3.009470e+07 -62840.374523  46638.5000   \nPreis       1104.0   88975.198714  2.446407e+04  21471.650000  70609.4225   \nGeschlecht  1104.0       0.639493  4.803653e-01      0.000000      0.0000   \nZeit        1104.0      44.375906  1.084804e+01     12.000000     37.0000   \n\n                  50%         75%           max  \nAlter          51.000      61.000  1.200000e+02  \nEinkommen   59013.000   70298.000  1.000000e+09  \nPreis       88931.455  107093.375  1.654823e+05  \nGeschlecht      1.000       1.000  1.000000e+00  \nZeit           44.000      52.000  8.000000e+01  ",
            "text/html": "<div>\n<style scoped>\n    .dataframe tbody tr th:only-of-type {\n        vertical-align: middle;\n    }\n\n    .dataframe tbody tr th {\n        vertical-align: top;\n    }\n\n    .dataframe thead th {\n        text-align: right;\n    }\n</style>\n<table border=\"1\" class=\"dataframe\">\n  <thead>\n    <tr style=\"text-align: right;\">\n      <th></th>\n      <th>count</th>\n      <th>mean</th>\n      <th>std</th>\n      <th>min</th>\n      <th>25%</th>\n      <th>50%</th>\n      <th>75%</th>\n      <th>max</th>\n    </tr>\n  </thead>\n  <tbody>\n    <tr>\n      <th>Alter</th>\n      <td>1104.0</td>\n      <td>50.481884</td>\n      <td>1.222506e+01</td>\n      <td>30.000000</td>\n      <td>40.0000</td>\n      <td>51.000</td>\n      <td>61.000</td>\n      <td>1.200000e+02</td>\n    </tr>\n    <tr>\n      <th>Einkommen</th>\n      <td>1104.0</td>\n      <td>964474.817596</td>\n      <td>3.009470e+07</td>\n      <td>-62840.374523</td>\n      <td>46638.5000</td>\n      <td>59013.000</td>\n      <td>70298.000</td>\n      <td>1.000000e+09</td>\n    </tr>\n    <tr>\n      <th>Preis</th>\n      <td>1104.0</td>\n      <td>88975.198714</td>\n      <td>2.446407e+04</td>\n      <td>21471.650000</td>\n      <td>70609.4225</td>\n      <td>88931.455</td>\n      <td>107093.375</td>\n      <td>1.654823e+05</td>\n    </tr>\n    <tr>\n      <th>Geschlecht</th>\n      <td>1104.0</td>\n      <td>0.639493</td>\n      <td>4.803653e-01</td>\n      <td>0.000000</td>\n      <td>0.0000</td>\n      <td>1.000</td>\n      <td>1.000</td>\n      <td>1.000000e+00</td>\n    </tr>\n    <tr>\n      <th>Zeit</th>\n      <td>1104.0</td>\n      <td>44.375906</td>\n      <td>1.084804e+01</td>\n      <td>12.000000</td>\n      <td>37.0000</td>\n      <td>44.000</td>\n      <td>52.000</td>\n      <td>8.000000e+01</td>\n    </tr>\n  </tbody>\n</table>\n</div>"
          },
          "metadata": {}
        }
      ],
      "execution_count": 27
    },
    {
      "id": "ad1750cc-c3b7-4508-96b3-3019e9b3d607",
      "cell_type": "markdown",
      "source": "### 2.3.2.1 Alter ",
      "metadata": {
        "slideshow": {
          "slide_type": "skip"
        }
      }
    },
    {
      "id": "c6a280a6",
      "cell_type": "code",
      "source": "boxplot_alter = kunden.boxplot(column = 'Alter')\nplt.show()",
      "metadata": {
        "slideshow": {
          "slide_type": "skip"
        },
        "trusted": true
      },
      "outputs": [
        {
          "output_type": "display_data",
          "data": {
            "text/plain": "<Figure size 640x480 with 1 Axes>",
            "image/png": "[encoded data removed]"
          },
          "metadata": {}
        }
      ],
      "execution_count": 28
    },
    {
      "id": "849f2d87-21fa-4f0a-a2c4-fd3b7dca90de",
      "cell_type": "code",
      "source": "# zwei Ausreißer zu erkennen",
      "metadata": {
        "slideshow": {
          "slide_type": "skip"
        },
        "trusted": true
      },
      "outputs": [],
      "execution_count": 29
    },
    {
      "id": "81eb8902-104b-4ac0-a4a3-3313711eb073",
      "cell_type": "code",
      "source": "# Berechnung von Q1, Q3 und IQR\nQ1_Alter = kunden['Alter'].quantile(0.25)\nQ3_Alter = kunden['Alter'].quantile(0.75)\nIQR_Alter = Q3_Alter - Q1_Alter\n# Berechnung der Ausreißer-Grenzen\nuntere_grenze_Alter = Q1_Alter - 1.5 * IQR_Alter\nobere_grenze_Alter = Q3_Alter + 1.5 * IQR_Alter\nkunden['Ausreißer'] = (kunden['Alter'] < untere_grenze_Alter) | (kunden['Alter'] > obere_grenze_Alter)\nausreißer_alter = kunden.Ausreißer.value_counts()\nausreißer_alter",
      "metadata": {
        "slideshow": {
          "slide_type": "skip"
        },
        "trusted": true
      },
      "outputs": [
        {
          "execution_count": 30,
          "output_type": "execute_result",
          "data": {
            "text/plain": "False    1102\nTrue        2\nName: Ausreißer, dtype: int64"
          },
          "metadata": {}
        }
      ],
      "execution_count": 30
    },
    {
      "id": "0df22729-c6e0-490c-bf09-04a119fd87ed",
      "cell_type": "code",
      "source": "# Ermitteln der genauen Werte der Ausreißer",
      "metadata": {
        "slideshow": {
          "slide_type": "skip"
        },
        "trusted": true
      },
      "outputs": [],
      "execution_count": 31
    },
    {
      "id": "9b3acc1f-9773-4b15-9e2b-8ba478c0108c",
      "cell_type": "code",
      "source": "kunden.loc[kunden['Ausreißer'] == True]",
      "metadata": {
        "slideshow": {
          "slide_type": "skip"
        },
        "trusted": true
      },
      "outputs": [
        {
          "execution_count": 32,
          "output_type": "execute_result",
          "data": {
            "text/plain": "     Alter  Einkommen      Preis  Geschlecht  Zeit KundeNr  Ausreißer\n142    100    88749.0  119134.23         0.0  64.0   K0494       True\n711    120    61857.0  104214.07         1.0  52.0   K0039       True",
            "text/html": "<div>\n<style scoped>\n    .dataframe tbody tr th:only-of-type {\n        vertical-align: middle;\n    }\n\n    .dataframe tbody tr th {\n        vertical-align: top;\n    }\n\n    .dataframe thead th {\n        text-align: right;\n    }\n</style>\n<table border=\"1\" class=\"dataframe\">\n  <thead>\n    <tr style=\"text-align: right;\">\n      <th></th>\n      <th>Alter</th>\n      <th>Einkommen</th>\n      <th>Preis</th>\n      <th>Geschlecht</th>\n      <th>Zeit</th>\n      <th>KundeNr</th>\n      <th>Ausreißer</th>\n    </tr>\n  </thead>\n  <tbody>\n    <tr>\n      <th>142</th>\n      <td>100</td>\n      <td>88749.0</td>\n      <td>119134.23</td>\n      <td>0.0</td>\n      <td>64.0</td>\n      <td>K0494</td>\n      <td>True</td>\n    </tr>\n    <tr>\n      <th>711</th>\n      <td>120</td>\n      <td>61857.0</td>\n      <td>104214.07</td>\n      <td>1.0</td>\n      <td>52.0</td>\n      <td>K0039</td>\n      <td>True</td>\n    </tr>\n  </tbody>\n</table>\n</div>"
          },
          "metadata": {}
        }
      ],
      "execution_count": 32
    },
    {
      "id": "c7fccb9c-604a-493b-a158-05cbb6fa9b21",
      "cell_type": "code",
      "source": "# Personen im Alter von 100 und 120 Jahren werden kein Auto mehr kaufen",
      "metadata": {
        "slideshow": {
          "slide_type": "skip"
        },
        "trusted": true
      },
      "outputs": [],
      "execution_count": 33
    },
    {
      "id": "8c56494b-9d00-43dd-a4a6-016fc3a1b581",
      "cell_type": "code",
      "source": "# Ersetzen der Ausreißer in der Alters-Spalte durch Medianwert\nalter_median = kunden['Alter'].median()\nkunden.replace([120, 100], alter_median, inplace=True)",
      "metadata": {
        "slideshow": {
          "slide_type": "skip"
        },
        "trusted": true
      },
      "outputs": [],
      "execution_count": 34
    },
    {
      "id": "847ba99c-589e-4419-bd7d-a775c36fdbb0",
      "cell_type": "code",
      "source": "# Überprüfen ob noch Ausreißer vorhanden sind\nkunden['Ausreißer'] = (kunden['Alter'] < untere_grenze_Alter) | (kunden['Alter'] > obere_grenze_Alter)\nausreißer_alter = kunden.Ausreißer.value_counts()\nausreißer_alter",
      "metadata": {
        "slideshow": {
          "slide_type": "skip"
        },
        "trusted": true
      },
      "outputs": [
        {
          "execution_count": 35,
          "output_type": "execute_result",
          "data": {
            "text/plain": "False    1104\nName: Ausreißer, dtype: int64"
          },
          "metadata": {}
        }
      ],
      "execution_count": 35
    },
    {
      "id": "8a2eb429-37fa-4b82-953d-004dc34ccb0d",
      "cell_type": "code",
      "source": "# keine Ausreißer mehr vorhanden",
      "metadata": {
        "slideshow": {
          "slide_type": "skip"
        },
        "trusted": true
      },
      "outputs": [],
      "execution_count": 36
    },
    {
      "id": "f6ed8f33-4fdc-4fae-acd0-85c09cf88baf",
      "cell_type": "markdown",
      "source": "## 2.3.2.2 Einkommen ",
      "metadata": {
        "slideshow": {
          "slide_type": "skip"
        }
      }
    },
    {
      "id": "0cfec3d4",
      "cell_type": "code",
      "source": "boxplot_einkommen = kunden.boxplot(column = 'Einkommen')\nplt.show()",
      "metadata": {
        "slideshow": {
          "slide_type": "skip"
        },
        "trusted": true
      },
      "outputs": [
        {
          "output_type": "display_data",
          "data": {
            "text/plain": "<Figure size 640x480 with 1 Axes>",
            "image/png": "[encoded data removed]"
          },
          "metadata": {}
        }
      ],
      "execution_count": 37
    },
    {
      "id": "0e47b07c-b6d2-4fb7-8cbd-d445bddf10ec",
      "cell_type": "code",
      "source": "# 4 Ausreißer (aufgrund der Skalierung schwer zu erkennen)",
      "metadata": {
        "slideshow": {
          "slide_type": "skip"
        },
        "trusted": true
      },
      "outputs": [],
      "execution_count": 38
    },
    {
      "id": "44411014-f36c-449e-8a87-ecc56796cf43",
      "cell_type": "code",
      "source": "# Berechnung von Q1, Q3 und IQR der Einkommens-Spalte\nQ1_einkommen = kunden['Einkommen'].quantile(0.25)\nQ3_einkommen = kunden['Einkommen'].quantile(0.75)\nIQR_einkommen = Q3_einkommen - Q1_einkommen\nIQR_einkommen\nuntere_grenze_einkommen = Q1_einkommen - 1.5 * IQR_einkommen\nobere_grenze_einkommen = Q3_einkommen + 1.5 * IQR_einkommen\nkunden['Ausreißer'] = (kunden['Einkommen'] < untere_grenze_einkommen) | (kunden['Einkommen'] > obere_grenze_einkommen)\nausreißer_einkommen = kunden.Ausreißer.value_counts()\nausreißer_einkommen",
      "metadata": {
        "slideshow": {
          "slide_type": "skip"
        },
        "trusted": true
      },
      "outputs": [
        {
          "execution_count": 39,
          "output_type": "execute_result",
          "data": {
            "text/plain": "False    1100\nTrue        4\nName: Ausreißer, dtype: int64"
          },
          "metadata": {}
        }
      ],
      "execution_count": 39
    },
    {
      "id": "fd5cbd2c-a93b-4a93-82e1-f014bdc99d82",
      "cell_type": "code",
      "source": "# Ermitteln der genauen Werte der 4 Ausreißer\nkunden.loc[kunden['Ausreißer'] == True]",
      "metadata": {
        "slideshow": {
          "slide_type": "skip"
        },
        "trusted": true
      },
      "outputs": [
        {
          "execution_count": 40,
          "output_type": "execute_result",
          "data": {
            "text/plain": "      Alter     Einkommen      Preis  Geschlecht  Zeit KundeNr  Ausreißer\n408      68  1.000000e+09   87209.72         0.0  52.0   K0701       True\n834      68  1.076890e+05  165482.31         1.0  60.0   K0415       True\n966      69  0.000000e+00  125140.05         1.0  65.0   K1021       True\n1082     59 -6.284037e+04   92837.59         0.0  46.0   K1083       True",
            "text/html": "<div>\n<style scoped>\n    .dataframe tbody tr th:only-of-type {\n        vertical-align: middle;\n    }\n\n    .dataframe tbody tr th {\n        vertical-align: top;\n    }\n\n    .dataframe thead th {\n        text-align: right;\n    }\n</style>\n<table border=\"1\" class=\"dataframe\">\n  <thead>\n    <tr style=\"text-align: right;\">\n      <th></th>\n      <th>Alter</th>\n      <th>Einkommen</th>\n      <th>Preis</th>\n      <th>Geschlecht</th>\n      <th>Zeit</th>\n      <th>KundeNr</th>\n      <th>Ausreißer</th>\n    </tr>\n  </thead>\n  <tbody>\n    <tr>\n      <th>408</th>\n      <td>68</td>\n      <td>1.000000e+09</td>\n      <td>87209.72</td>\n      <td>0.0</td>\n      <td>52.0</td>\n      <td>K0701</td>\n      <td>True</td>\n    </tr>\n    <tr>\n      <th>834</th>\n      <td>68</td>\n      <td>1.076890e+05</td>\n      <td>165482.31</td>\n      <td>1.0</td>\n      <td>60.0</td>\n      <td>K0415</td>\n      <td>True</td>\n    </tr>\n    <tr>\n      <th>966</th>\n      <td>69</td>\n      <td>0.000000e+00</td>\n      <td>125140.05</td>\n      <td>1.0</td>\n      <td>65.0</td>\n      <td>K1021</td>\n      <td>True</td>\n    </tr>\n    <tr>\n      <th>1082</th>\n      <td>59</td>\n      <td>-6.284037e+04</td>\n      <td>92837.59</td>\n      <td>0.0</td>\n      <td>46.0</td>\n      <td>K1083</td>\n      <td>True</td>\n    </tr>\n  </tbody>\n</table>\n</div>"
          },
          "metadata": {}
        }
      ],
      "execution_count": 40
    },
    {
      "id": "1ed00e1b-cdd4-4330-95d8-0735de9a6369",
      "cell_type": "code",
      "source": "# Ersetzen der Ausreißer in der Einkommens-Spalte durch Medianwert\neinkommen_median = kunden['Einkommen'].median()\nkunden.replace({'Einkommen': [1.000000e+09, 1.076890e+05, 0.000000e+00, -62840.374523]}, einkommen_median, inplace=True)",
      "metadata": {
        "slideshow": {
          "slide_type": "skip"
        },
        "trusted": true
      },
      "outputs": [],
      "execution_count": 41
    },
    {
      "id": "d50a1586-2c17-45d9-b780-8be7fa7081ee",
      "cell_type": "code",
      "source": "# Überprüfen ob noch Ausreißer vorhanden sind\nkunden['Ausreißer'] = (kunden['Einkommen'] < untere_grenze_einkommen) | (kunden['Einkommen'] > obere_grenze_einkommen)\nausreißer_einkommen = kunden.Ausreißer.value_counts()\nausreißer_einkommen",
      "metadata": {
        "slideshow": {
          "slide_type": "skip"
        },
        "trusted": true
      },
      "outputs": [
        {
          "execution_count": 42,
          "output_type": "execute_result",
          "data": {
            "text/plain": "False    1104\nName: Ausreißer, dtype: int64"
          },
          "metadata": {}
        }
      ],
      "execution_count": 42
    },
    {
      "id": "4da5fe78-4a32-4387-8a29-4c9d3b8144d9",
      "cell_type": "code",
      "source": "# keine Ausreißer mehr vorhanden",
      "metadata": {
        "slideshow": {
          "slide_type": "skip"
        },
        "trusted": true
      },
      "outputs": [],
      "execution_count": 43
    },
    {
      "id": "9894d36d-9c58-4ec2-89a3-aa82dbda8c5d",
      "cell_type": "markdown",
      "source": "### 2.3.2.3 Preis",
      "metadata": {
        "slideshow": {
          "slide_type": "skip"
        }
      }
    },
    {
      "id": "b6b5af6c",
      "cell_type": "code",
      "source": "boxplot_preis = kunden.boxplot(column = 'Preis')\nplt.show()",
      "metadata": {
        "slideshow": {
          "slide_type": "skip"
        },
        "trusted": true
      },
      "outputs": [
        {
          "output_type": "display_data",
          "data": {
            "text/plain": "<Figure size 640x480 with 1 Axes>",
            "image/png": "[encoded data removed]"
          },
          "metadata": {}
        }
      ],
      "execution_count": 44
    },
    {
      "id": "200399fa-2f9d-4913-84b9-da295cf3e215",
      "cell_type": "code",
      "source": "# ein Ausreißer zu erkennen",
      "metadata": {
        "slideshow": {
          "slide_type": "skip"
        },
        "trusted": true
      },
      "outputs": [],
      "execution_count": 45
    },
    {
      "id": "3364ad26-e096-464b-8568-5a7f30087a86",
      "cell_type": "code",
      "source": "Q1_preis = kunden['Preis'].quantile(0.25)\nQ3_preis = kunden['Preis'].quantile(0.75)\nIQR_preis = Q3_preis - Q1_preis\nIQR_preis\nuntere_grenze_preis = Q1_preis - 1.5 * IQR_preis\nobere_grenze_preis = Q3_preis + 1.5 * IQR_preis\nkunden['Ausreißer'] = (kunden['Preis'] < untere_grenze_preis) | (kunden['Preis'] > obere_grenze_preis)\nausreißer_preis = kunden.Ausreißer.value_counts()\nausreißer_preis",
      "metadata": {
        "slideshow": {
          "slide_type": "skip"
        },
        "trusted": true
      },
      "outputs": [
        {
          "execution_count": 46,
          "output_type": "execute_result",
          "data": {
            "text/plain": "False    1103\nTrue        1\nName: Ausreißer, dtype: int64"
          },
          "metadata": {}
        }
      ],
      "execution_count": 46
    },
    {
      "id": "c1b8f91f-954a-4c43-837d-53ed898ccb35",
      "cell_type": "code",
      "source": "# Ermitteln der genauen Werte der Ausreißer\nkunden.loc[kunden['Ausreißer'] == True]",
      "metadata": {
        "slideshow": {
          "slide_type": "skip"
        },
        "trusted": true
      },
      "outputs": [
        {
          "execution_count": 47,
          "output_type": "execute_result",
          "data": {
            "text/plain": "     Alter  Einkommen      Preis  Geschlecht  Zeit KundeNr  Ausreißer\n834     68    59013.0  165482.31         1.0  60.0   K0415       True",
            "text/html": "<div>\n<style scoped>\n    .dataframe tbody tr th:only-of-type {\n        vertical-align: middle;\n    }\n\n    .dataframe tbody tr th {\n        vertical-align: top;\n    }\n\n    .dataframe thead th {\n        text-align: right;\n    }\n</style>\n<table border=\"1\" class=\"dataframe\">\n  <thead>\n    <tr style=\"text-align: right;\">\n      <th></th>\n      <th>Alter</th>\n      <th>Einkommen</th>\n      <th>Preis</th>\n      <th>Geschlecht</th>\n      <th>Zeit</th>\n      <th>KundeNr</th>\n      <th>Ausreißer</th>\n    </tr>\n  </thead>\n  <tbody>\n    <tr>\n      <th>834</th>\n      <td>68</td>\n      <td>59013.0</td>\n      <td>165482.31</td>\n      <td>1.0</td>\n      <td>60.0</td>\n      <td>K0415</td>\n      <td>True</td>\n    </tr>\n  </tbody>\n</table>\n</div>"
          },
          "metadata": {}
        }
      ],
      "execution_count": 47
    },
    {
      "id": "1ae4b8c2-5fea-4cbe-aa0c-76bd554c13f1",
      "cell_type": "code",
      "source": "# bei einem Einkommen von 59.013 ist es überraschend sich ein Auto im Preis von 165.482,31 zu kaufen, aber möglich, daher wird der Wert behalten\n",
      "metadata": {
        "trusted": true
      },
      "outputs": [],
      "execution_count": 48
    },
    {
      "id": "9811adce",
      "cell_type": "markdown",
      "source": "### 2.3.2.4 Zeit",
      "metadata": {
        "slideshow": {
          "slide_type": "skip"
        }
      }
    },
    {
      "id": "1b839bcc-3072-4950-9d2f-49d271671c40",
      "cell_type": "code",
      "source": "boxplot_preis = kunden.boxplot(column = 'Zeit')\nplt.show()",
      "metadata": {
        "slideshow": {
          "slide_type": "skip"
        },
        "trusted": true
      },
      "outputs": [
        {
          "output_type": "display_data",
          "data": {
            "text/plain": "<Figure size 640x480 with 1 Axes>",
            "image/png": "[encoded data removed]"
          },
          "metadata": {}
        }
      ],
      "execution_count": 49
    },
    {
      "id": "fecd704e-a27e-44d0-83cf-0a8a32ff1aab",
      "cell_type": "code",
      "source": "# mehrere Ausreißer zu erkennen",
      "metadata": {
        "slideshow": {
          "slide_type": "skip"
        },
        "trusted": true
      },
      "outputs": [],
      "execution_count": 50
    },
    {
      "id": "18f08f32",
      "cell_type": "code",
      "source": "# Berechnung von Q1, Q3 und IQR der Zeit-Spalte\nQ1_zeit = kunden['Zeit'].quantile(0.25)\nQ3_zeit = kunden['Zeit'].quantile(0.75)\nIQR_zeit = Q3_zeit - Q1_zeit\nIQR_zeit\nuntere_grenze_zeit = Q1_zeit - 1.5 * IQR_zeit\nobere_grenze_zeit = Q3_zeit + 1.5 * IQR_zeit\nkunden['Ausreißer'] = (kunden['Zeit'] < untere_grenze_zeit) | (kunden['Zeit'] > obere_grenze_zeit)\nausreißer_zeit = kunden.Ausreißer.value_counts()\nausreißer_zeit",
      "metadata": {
        "slideshow": {
          "slide_type": "skip"
        },
        "trusted": true
      },
      "outputs": [
        {
          "execution_count": 51,
          "output_type": "execute_result",
          "data": {
            "text/plain": "False    1098\nTrue        6\nName: Ausreißer, dtype: int64"
          },
          "metadata": {}
        }
      ],
      "execution_count": 51
    },
    {
      "id": "2e63e8d9",
      "cell_type": "code",
      "source": "# Ermittlung der genauen Werte der Ausreißer\nkunden.loc[kunden['Ausreißer'] == True]",
      "metadata": {
        "slideshow": {
          "slide_type": "skip"
        },
        "trusted": true
      },
      "outputs": [
        {
          "execution_count": 52,
          "output_type": "execute_result",
          "data": {
            "text/plain": "     Alter  Einkommen      Preis  Geschlecht  Zeit KundeNr  Ausreißer\n218     33    38675.0   56493.40         1.0  13.0   K0983       True\n313     62    96569.0  140745.65         0.0  80.0   K0249       True\n327     34    24811.0   57541.73         1.0  12.0   K0395       True\n542     67    89170.0  123408.48         1.0  76.0   K1093       True\n553     38    33666.0   50494.07         1.0  13.0   K0384       True\n805     64    91409.0  140161.07         1.0  76.0   K0897       True",
            "text/html": "<div>\n<style scoped>\n    .dataframe tbody tr th:only-of-type {\n        vertical-align: middle;\n    }\n\n    .dataframe tbody tr th {\n        vertical-align: top;\n    }\n\n    .dataframe thead th {\n        text-align: right;\n    }\n</style>\n<table border=\"1\" class=\"dataframe\">\n  <thead>\n    <tr style=\"text-align: right;\">\n      <th></th>\n      <th>Alter</th>\n      <th>Einkommen</th>\n      <th>Preis</th>\n      <th>Geschlecht</th>\n      <th>Zeit</th>\n      <th>KundeNr</th>\n      <th>Ausreißer</th>\n    </tr>\n  </thead>\n  <tbody>\n    <tr>\n      <th>218</th>\n      <td>33</td>\n      <td>38675.0</td>\n      <td>56493.40</td>\n      <td>1.0</td>\n      <td>13.0</td>\n      <td>K0983</td>\n      <td>True</td>\n    </tr>\n    <tr>\n      <th>313</th>\n      <td>62</td>\n      <td>96569.0</td>\n      <td>140745.65</td>\n      <td>0.0</td>\n      <td>80.0</td>\n      <td>K0249</td>\n      <td>True</td>\n    </tr>\n    <tr>\n      <th>327</th>\n      <td>34</td>\n      <td>24811.0</td>\n      <td>57541.73</td>\n      <td>1.0</td>\n      <td>12.0</td>\n      <td>K0395</td>\n      <td>True</td>\n    </tr>\n    <tr>\n      <th>542</th>\n      <td>67</td>\n      <td>89170.0</td>\n      <td>123408.48</td>\n      <td>1.0</td>\n      <td>76.0</td>\n      <td>K1093</td>\n      <td>True</td>\n    </tr>\n    <tr>\n      <th>553</th>\n      <td>38</td>\n      <td>33666.0</td>\n      <td>50494.07</td>\n      <td>1.0</td>\n      <td>13.0</td>\n      <td>K0384</td>\n      <td>True</td>\n    </tr>\n    <tr>\n      <th>805</th>\n      <td>64</td>\n      <td>91409.0</td>\n      <td>140161.07</td>\n      <td>1.0</td>\n      <td>76.0</td>\n      <td>K0897</td>\n      <td>True</td>\n    </tr>\n  </tbody>\n</table>\n</div>"
          },
          "metadata": {}
        }
      ],
      "execution_count": 52
    },
    {
      "id": "30c658a9-67f0-4ef4-b6d6-1be025559ab0",
      "cell_type": "code",
      "source": "# Die Zeiten sind möglich, z.B. 12 Minuten weil keine Probefahrt gemacht wurde oder 80 Minuten weil eine lange gemacht wurde, Werte bleiben erhalten",
      "metadata": {
        "slideshow": {
          "slide_type": "skip"
        },
        "trusted": true
      },
      "outputs": [],
      "execution_count": 53
    },
    {
      "id": "ba356621-0127-4ec9-b073-11219a996223",
      "cell_type": "code",
      "source": "kunden",
      "metadata": {
        "slideshow": {
          "slide_type": "skip"
        },
        "trusted": true
      },
      "outputs": [
        {
          "execution_count": 54,
          "output_type": "execute_result",
          "data": {
            "text/plain": "      Alter  Einkommen      Preis  Geschlecht  Zeit KundeNr  Ausreißer\n0        64    66894.0   88160.31         1.0  43.0   K0310      False\n1        54    77644.0  103145.70         1.0  40.0   K1042      False\n2        55    44341.0   80565.16         0.0  37.0   K0382      False\n3        49    67271.0   83949.89         0.0  42.0   K0498      False\n4        46    49832.0   93781.58         0.0  41.0   K0552      False\n...     ...        ...        ...         ...   ...     ...        ...\n1099     70    69581.0  103751.58         1.0  51.0   K0467      False\n1100     38    48301.0   64230.98         1.0  33.0   K0122      False\n1101     67    63547.0  103123.57         1.0  41.0   K1045      False\n1102     37    32686.0   49215.87         1.0  36.0   K1096      False\n1103     55    71240.0  106132.59         1.0  49.0   K0861      False\n\n[1104 rows x 7 columns]",
            "text/html": "<div>\n<style scoped>\n    .dataframe tbody tr th:only-of-type {\n        vertical-align: middle;\n    }\n\n    .dataframe tbody tr th {\n        vertical-align: top;\n    }\n\n    .dataframe thead th {\n        text-align: right;\n    }\n</style>\n<table border=\"1\" class=\"dataframe\">\n  <thead>\n    <tr style=\"text-align: right;\">\n      <th></th>\n      <th>Alter</th>\n      <th>Einkommen</th>\n      <th>Preis</th>\n      <th>Geschlecht</th>\n      <th>Zeit</th>\n      <th>KundeNr</th>\n      <th>Ausreißer</th>\n    </tr>\n  </thead>\n  <tbody>\n    <tr>\n      <th>0</th>\n      <td>64</td>\n      <td>66894.0</td>\n      <td>88160.31</td>\n      <td>1.0</td>\n      <td>43.0</td>\n      <td>K0310</td>\n      <td>False</td>\n    </tr>\n    <tr>\n      <th>1</th>\n      <td>54</td>\n      <td>77644.0</td>\n      <td>103145.70</td>\n      <td>1.0</td>\n      <td>40.0</td>\n      <td>K1042</td>\n      <td>False</td>\n    </tr>\n    <tr>\n      <th>2</th>\n      <td>55</td>\n      <td>44341.0</td>\n      <td>80565.16</td>\n      <td>0.0</td>\n      <td>37.0</td>\n      <td>K0382</td>\n      <td>False</td>\n    </tr>\n    <tr>\n      <th>3</th>\n      <td>49</td>\n      <td>67271.0</td>\n      <td>83949.89</td>\n      <td>0.0</td>\n      <td>42.0</td>\n      <td>K0498</td>\n      <td>False</td>\n    </tr>\n    <tr>\n      <th>4</th>\n      <td>46</td>\n      <td>49832.0</td>\n      <td>93781.58</td>\n      <td>0.0</td>\n      <td>41.0</td>\n      <td>K0552</td>\n      <td>False</td>\n    </tr>\n    <tr>\n      <th>...</th>\n      <td>...</td>\n      <td>...</td>\n      <td>...</td>\n      <td>...</td>\n      <td>...</td>\n      <td>...</td>\n      <td>...</td>\n    </tr>\n    <tr>\n      <th>1099</th>\n      <td>70</td>\n      <td>69581.0</td>\n      <td>103751.58</td>\n      <td>1.0</td>\n      <td>51.0</td>\n      <td>K0467</td>\n      <td>False</td>\n    </tr>\n    <tr>\n      <th>1100</th>\n      <td>38</td>\n      <td>48301.0</td>\n      <td>64230.98</td>\n      <td>1.0</td>\n      <td>33.0</td>\n      <td>K0122</td>\n      <td>False</td>\n    </tr>\n    <tr>\n      <th>1101</th>\n      <td>67</td>\n      <td>63547.0</td>\n      <td>103123.57</td>\n      <td>1.0</td>\n      <td>41.0</td>\n      <td>K1045</td>\n      <td>False</td>\n    </tr>\n    <tr>\n      <th>1102</th>\n      <td>37</td>\n      <td>32686.0</td>\n      <td>49215.87</td>\n      <td>1.0</td>\n      <td>36.0</td>\n      <td>K1096</td>\n      <td>False</td>\n    </tr>\n    <tr>\n      <th>1103</th>\n      <td>55</td>\n      <td>71240.0</td>\n      <td>106132.59</td>\n      <td>1.0</td>\n      <td>49.0</td>\n      <td>K0861</td>\n      <td>False</td>\n    </tr>\n  </tbody>\n</table>\n<p>1104 rows × 7 columns</p>\n</div>"
          },
          "metadata": {}
        }
      ],
      "execution_count": 54
    },
    {
      "id": "8c444290",
      "cell_type": "code",
      "source": "# Boolean-Spalte wieder entfernen\nkunden = kunden.drop(kunden.columns[-1], axis=1)\nkunden",
      "metadata": {
        "slideshow": {
          "slide_type": "skip"
        },
        "trusted": true
      },
      "outputs": [
        {
          "execution_count": 55,
          "output_type": "execute_result",
          "data": {
            "text/plain": "      Alter  Einkommen      Preis  Geschlecht  Zeit KundeNr\n0        64    66894.0   88160.31         1.0  43.0   K0310\n1        54    77644.0  103145.70         1.0  40.0   K1042\n2        55    44341.0   80565.16         0.0  37.0   K0382\n3        49    67271.0   83949.89         0.0  42.0   K0498\n4        46    49832.0   93781.58         0.0  41.0   K0552\n...     ...        ...        ...         ...   ...     ...\n1099     70    69581.0  103751.58         1.0  51.0   K0467\n1100     38    48301.0   64230.98         1.0  33.0   K0122\n1101     67    63547.0  103123.57         1.0  41.0   K1045\n1102     37    32686.0   49215.87         1.0  36.0   K1096\n1103     55    71240.0  106132.59         1.0  49.0   K0861\n\n[1104 rows x 6 columns]",
            "text/html": "<div>\n<style scoped>\n    .dataframe tbody tr th:only-of-type {\n        vertical-align: middle;\n    }\n\n    .dataframe tbody tr th {\n        vertical-align: top;\n    }\n\n    .dataframe thead th {\n        text-align: right;\n    }\n</style>\n<table border=\"1\" class=\"dataframe\">\n  <thead>\n    <tr style=\"text-align: right;\">\n      <th></th>\n      <th>Alter</th>\n      <th>Einkommen</th>\n      <th>Preis</th>\n      <th>Geschlecht</th>\n      <th>Zeit</th>\n      <th>KundeNr</th>\n    </tr>\n  </thead>\n  <tbody>\n    <tr>\n      <th>0</th>\n      <td>64</td>\n      <td>66894.0</td>\n      <td>88160.31</td>\n      <td>1.0</td>\n      <td>43.0</td>\n      <td>K0310</td>\n    </tr>\n    <tr>\n      <th>1</th>\n      <td>54</td>\n      <td>77644.0</td>\n      <td>103145.70</td>\n      <td>1.0</td>\n      <td>40.0</td>\n      <td>K1042</td>\n    </tr>\n    <tr>\n      <th>2</th>\n      <td>55</td>\n      <td>44341.0</td>\n      <td>80565.16</td>\n      <td>0.0</td>\n      <td>37.0</td>\n      <td>K0382</td>\n    </tr>\n    <tr>\n      <th>3</th>\n      <td>49</td>\n      <td>67271.0</td>\n      <td>83949.89</td>\n      <td>0.0</td>\n      <td>42.0</td>\n      <td>K0498</td>\n    </tr>\n    <tr>\n      <th>4</th>\n      <td>46</td>\n      <td>49832.0</td>\n      <td>93781.58</td>\n      <td>0.0</td>\n      <td>41.0</td>\n      <td>K0552</td>\n    </tr>\n    <tr>\n      <th>...</th>\n      <td>...</td>\n      <td>...</td>\n      <td>...</td>\n      <td>...</td>\n      <td>...</td>\n      <td>...</td>\n    </tr>\n    <tr>\n      <th>1099</th>\n      <td>70</td>\n      <td>69581.0</td>\n      <td>103751.58</td>\n      <td>1.0</td>\n      <td>51.0</td>\n      <td>K0467</td>\n    </tr>\n    <tr>\n      <th>1100</th>\n      <td>38</td>\n      <td>48301.0</td>\n      <td>64230.98</td>\n      <td>1.0</td>\n      <td>33.0</td>\n      <td>K0122</td>\n    </tr>\n    <tr>\n      <th>1101</th>\n      <td>67</td>\n      <td>63547.0</td>\n      <td>103123.57</td>\n      <td>1.0</td>\n      <td>41.0</td>\n      <td>K1045</td>\n    </tr>\n    <tr>\n      <th>1102</th>\n      <td>37</td>\n      <td>32686.0</td>\n      <td>49215.87</td>\n      <td>1.0</td>\n      <td>36.0</td>\n      <td>K1096</td>\n    </tr>\n    <tr>\n      <th>1103</th>\n      <td>55</td>\n      <td>71240.0</td>\n      <td>106132.59</td>\n      <td>1.0</td>\n      <td>49.0</td>\n      <td>K0861</td>\n    </tr>\n  </tbody>\n</table>\n<p>1104 rows × 6 columns</p>\n</div>"
          },
          "metadata": {}
        }
      ],
      "execution_count": 55
    },
    {
      "id": "8e25bed9-a53d-4bdc-97b9-07a576355e97",
      "cell_type": "markdown",
      "source": "## 3. Besucherdaten",
      "metadata": {
        "slideshow": {
          "slide_type": "skip"
        }
      }
    },
    {
      "id": "8d2f50a4-b8d0-4b6e-8994-76abdfdc4253",
      "cell_type": "markdown",
      "source": "### 3.1 Besucherdatei einlesen",
      "metadata": {
        "slideshow": {
          "slide_type": "skip"
        }
      }
    },
    {
      "id": "09fd1f7c-1849-44b9-bc35-4fcfc760f3fe",
      "cell_type": "code",
      "source": "besucher = pd.read_csv(\"besucher.csv\", decimal = '.', sep = \";\")\nbesucher.head()",
      "metadata": {
        "slideshow": {
          "slide_type": "skip"
        },
        "trusted": true
      },
      "outputs": [
        {
          "execution_count": 56,
          "output_type": "execute_result",
          "data": {
            "text/plain": "   Alter           Einkommen  Geschlecht  Zeit KundeNr\n0     30    39919,0953348874           0  29,0   K1814\n1     41   53430,67308587748           0  27,0   K1544\n2     64    73163,2169267002           0  32,0   K1945\n3     41  36761,482581315344           0  44,0   K1825\n4     35   42684,33163178136           1  33,0   K1144",
            "text/html": "<div>\n<style scoped>\n    .dataframe tbody tr th:only-of-type {\n        vertical-align: middle;\n    }\n\n    .dataframe tbody tr th {\n        vertical-align: top;\n    }\n\n    .dataframe thead th {\n        text-align: right;\n    }\n</style>\n<table border=\"1\" class=\"dataframe\">\n  <thead>\n    <tr style=\"text-align: right;\">\n      <th></th>\n      <th>Alter</th>\n      <th>Einkommen</th>\n      <th>Geschlecht</th>\n      <th>Zeit</th>\n      <th>KundeNr</th>\n    </tr>\n  </thead>\n  <tbody>\n    <tr>\n      <th>0</th>\n      <td>30</td>\n      <td>39919,0953348874</td>\n      <td>0</td>\n      <td>29,0</td>\n      <td>K1814</td>\n    </tr>\n    <tr>\n      <th>1</th>\n      <td>41</td>\n      <td>53430,67308587748</td>\n      <td>0</td>\n      <td>27,0</td>\n      <td>K1544</td>\n    </tr>\n    <tr>\n      <th>2</th>\n      <td>64</td>\n      <td>73163,2169267002</td>\n      <td>0</td>\n      <td>32,0</td>\n      <td>K1945</td>\n    </tr>\n    <tr>\n      <th>3</th>\n      <td>41</td>\n      <td>36761,482581315344</td>\n      <td>0</td>\n      <td>44,0</td>\n      <td>K1825</td>\n    </tr>\n    <tr>\n      <th>4</th>\n      <td>35</td>\n      <td>42684,33163178136</td>\n      <td>1</td>\n      <td>33,0</td>\n      <td>K1144</td>\n    </tr>\n  </tbody>\n</table>\n</div>"
          },
          "metadata": {}
        }
      ],
      "execution_count": 56
    },
    {
      "id": "952b4a01-a628-4ff6-bdb9-1de8fb234ca9",
      "cell_type": "markdown",
      "source": "### 3.2 Überblick über Datentypen",
      "metadata": {
        "slideshow": {
          "slide_type": "skip"
        }
      }
    },
    {
      "id": "9f45ee44-4546-49a5-8d16-01ba6e724738",
      "cell_type": "code",
      "source": "besucher.dtypes",
      "metadata": {
        "slideshow": {
          "slide_type": "skip"
        },
        "trusted": true
      },
      "outputs": [
        {
          "execution_count": 57,
          "output_type": "execute_result",
          "data": {
            "text/plain": "Alter          int64\nEinkommen     object\nGeschlecht     int64\nZeit          object\nKundeNr       object\ndtype: object"
          },
          "metadata": {}
        }
      ],
      "execution_count": 57
    },
    {
      "id": "151e9427-7596-4386-b3d8-cc9e64e043f6",
      "cell_type": "code",
      "source": "# zum Vergleich: Kunden\nkunden.dtypes",
      "metadata": {
        "slideshow": {
          "slide_type": "skip"
        },
        "trusted": true
      },
      "outputs": [
        {
          "execution_count": 58,
          "output_type": "execute_result",
          "data": {
            "text/plain": "Alter           int64\nEinkommen     float64\nPreis         float64\nGeschlecht    float64\nZeit          float64\nKundeNr        object\ndtype: object"
          },
          "metadata": {}
        }
      ],
      "execution_count": 58
    },
    {
      "id": "f8bcdd25-690d-423b-accc-f2d718a3546e",
      "cell_type": "code",
      "source": "# Alter = int, Einkommen = float (ändern bei besucher), Preis = float, Geschlecht = int (ändern bei kunden), Zeit = float (ändern bei besucher), KundeNr = object",
      "metadata": {
        "slideshow": {
          "slide_type": "skip"
        },
        "trusted": true
      },
      "outputs": [],
      "execution_count": 59
    },
    {
      "id": "175b6b36-c3f8-4c85-a428-851a35d57c10",
      "cell_type": "markdown",
      "source": "### 3.3. Bereinigung",
      "metadata": {
        "slideshow": {
          "slide_type": "skip"
        }
      }
    },
    {
      "id": "03535ce2-f6bd-4636-be9e-3a5a74b9c24b",
      "cell_type": "code",
      "source": "# vermutlich ist die Kommaschreibweise aus dem deutschen, während wir die Werte in der englischen Schreibweise mit einem Punkt, statt Komma benötigen",
      "metadata": {
        "slideshow": {
          "slide_type": "skip"
        },
        "trusted": true
      },
      "outputs": [],
      "execution_count": 60
    },
    {
      "id": "57d54a97-146f-44dc-9a1e-ccf0ec25ca63",
      "cell_type": "markdown",
      "source": "### 3.3.1 Bereinigung der Nachkommastellen und Umwandlung der dtypes",
      "metadata": {
        "slideshow": {
          "slide_type": "skip"
        }
      }
    },
    {
      "id": "dfc4734e-3852-4438-be97-a513dac153bf",
      "cell_type": "markdown",
      "source": "### 3.3.1.1 Einkommen",
      "metadata": {
        "slideshow": {
          "slide_type": "skip"
        }
      }
    },
    {
      "id": "9c198db0-8c5e-4407-9fbb-7c03abcb7fc4",
      "cell_type": "code",
      "source": "besucher[\"Einkommen\"] = besucher[\"Einkommen\"].str.replace(\",\",\".\")\nbesucher[\"Einkommen\"] = pd.to_numeric(besucher[\"Einkommen\"]) \nbesucher[\"Einkommen\"] = besucher[\"Einkommen\"].round(0).astype(\"float64\")\nbesucher",
      "metadata": {
        "slideshow": {
          "slide_type": "skip"
        },
        "trusted": true
      },
      "outputs": [
        {
          "execution_count": 61,
          "output_type": "execute_result",
          "data": {
            "text/plain": "     Alter  Einkommen  Geschlecht  Zeit KundeNr\n0       30    39919.0           0  29,0   K1814\n1       41    53431.0           0  27,0   K1544\n2       64    73163.0           0  32,0   K1945\n3       41    36761.0           0  44,0   K1825\n4       35    42684.0           1  33,0   K1144\n..     ...        ...         ...   ...     ...\n886     32    34392.0           1  48,0   K1211\n887     41    68516.0           0  34,0   K1375\n888     65    89685.0           0  23,0   K1965\n889     68    95714.0           0  32,0   K1540\n890     49    73319.0           0  27,0   K1207\n\n[891 rows x 5 columns]",
            "text/html": "<div>\n<style scoped>\n    .dataframe tbody tr th:only-of-type {\n        vertical-align: middle;\n    }\n\n    .dataframe tbody tr th {\n        vertical-align: top;\n    }\n\n    .dataframe thead th {\n        text-align: right;\n    }\n</style>\n<table border=\"1\" class=\"dataframe\">\n  <thead>\n    <tr style=\"text-align: right;\">\n      <th></th>\n      <th>Alter</th>\n      <th>Einkommen</th>\n      <th>Geschlecht</th>\n      <th>Zeit</th>\n      <th>KundeNr</th>\n    </tr>\n  </thead>\n  <tbody>\n    <tr>\n      <th>0</th>\n      <td>30</td>\n      <td>39919.0</td>\n      <td>0</td>\n      <td>29,0</td>\n      <td>K1814</td>\n    </tr>\n    <tr>\n      <th>1</th>\n      <td>41</td>\n      <td>53431.0</td>\n      <td>0</td>\n      <td>27,0</td>\n      <td>K1544</td>\n    </tr>\n    <tr>\n      <th>2</th>\n      <td>64</td>\n      <td>73163.0</td>\n      <td>0</td>\n      <td>32,0</td>\n      <td>K1945</td>\n    </tr>\n    <tr>\n      <th>3</th>\n      <td>41</td>\n      <td>36761.0</td>\n      <td>0</td>\n      <td>44,0</td>\n      <td>K1825</td>\n    </tr>\n    <tr>\n      <th>4</th>\n      <td>35</td>\n      <td>42684.0</td>\n      <td>1</td>\n      <td>33,0</td>\n      <td>K1144</td>\n    </tr>\n    <tr>\n      <th>...</th>\n      <td>...</td>\n      <td>...</td>\n      <td>...</td>\n      <td>...</td>\n      <td>...</td>\n    </tr>\n    <tr>\n      <th>886</th>\n      <td>32</td>\n      <td>34392.0</td>\n      <td>1</td>\n      <td>48,0</td>\n      <td>K1211</td>\n    </tr>\n    <tr>\n      <th>887</th>\n      <td>41</td>\n      <td>68516.0</td>\n      <td>0</td>\n      <td>34,0</td>\n      <td>K1375</td>\n    </tr>\n    <tr>\n      <th>888</th>\n      <td>65</td>\n      <td>89685.0</td>\n      <td>0</td>\n      <td>23,0</td>\n      <td>K1965</td>\n    </tr>\n    <tr>\n      <th>889</th>\n      <td>68</td>\n      <td>95714.0</td>\n      <td>0</td>\n      <td>32,0</td>\n      <td>K1540</td>\n    </tr>\n    <tr>\n      <th>890</th>\n      <td>49</td>\n      <td>73319.0</td>\n      <td>0</td>\n      <td>27,0</td>\n      <td>K1207</td>\n    </tr>\n  </tbody>\n</table>\n<p>891 rows × 5 columns</p>\n</div>"
          },
          "metadata": {}
        }
      ],
      "execution_count": 61
    },
    {
      "id": "23574315-6cf8-49e4-861e-e5addac7028a",
      "cell_type": "markdown",
      "source": "### 3.3.1.2 Zeit",
      "metadata": {
        "slideshow": {
          "slide_type": "skip"
        }
      }
    },
    {
      "id": "68414472-6a88-4178-bf20-281e3a55ff41",
      "cell_type": "code",
      "source": "besucher[\"Zeit\"] = besucher[\"Zeit\"].str.replace(\",\",\".\")\nbesucher[\"Zeit\"] = pd.to_numeric(besucher[\"Zeit\"])\nbesucher[\"Zeit\"] = besucher[\"Zeit\"].round(0).astype(\"float64\")\nbesucher",
      "metadata": {
        "slideshow": {
          "slide_type": "skip"
        },
        "trusted": true
      },
      "outputs": [
        {
          "execution_count": 62,
          "output_type": "execute_result",
          "data": {
            "text/plain": "     Alter  Einkommen  Geschlecht  Zeit KundeNr\n0       30    39919.0           0  29.0   K1814\n1       41    53431.0           0  27.0   K1544\n2       64    73163.0           0  32.0   K1945\n3       41    36761.0           0  44.0   K1825\n4       35    42684.0           1  33.0   K1144\n..     ...        ...         ...   ...     ...\n886     32    34392.0           1  48.0   K1211\n887     41    68516.0           0  34.0   K1375\n888     65    89685.0           0  23.0   K1965\n889     68    95714.0           0  32.0   K1540\n890     49    73319.0           0  27.0   K1207\n\n[891 rows x 5 columns]",
            "text/html": "<div>\n<style scoped>\n    .dataframe tbody tr th:only-of-type {\n        vertical-align: middle;\n    }\n\n    .dataframe tbody tr th {\n        vertical-align: top;\n    }\n\n    .dataframe thead th {\n        text-align: right;\n    }\n</style>\n<table border=\"1\" class=\"dataframe\">\n  <thead>\n    <tr style=\"text-align: right;\">\n      <th></th>\n      <th>Alter</th>\n      <th>Einkommen</th>\n      <th>Geschlecht</th>\n      <th>Zeit</th>\n      <th>KundeNr</th>\n    </tr>\n  </thead>\n  <tbody>\n    <tr>\n      <th>0</th>\n      <td>30</td>\n      <td>39919.0</td>\n      <td>0</td>\n      <td>29.0</td>\n      <td>K1814</td>\n    </tr>\n    <tr>\n      <th>1</th>\n      <td>41</td>\n      <td>53431.0</td>\n      <td>0</td>\n      <td>27.0</td>\n      <td>K1544</td>\n    </tr>\n    <tr>\n      <th>2</th>\n      <td>64</td>\n      <td>73163.0</td>\n      <td>0</td>\n      <td>32.0</td>\n      <td>K1945</td>\n    </tr>\n    <tr>\n      <th>3</th>\n      <td>41</td>\n      <td>36761.0</td>\n      <td>0</td>\n      <td>44.0</td>\n      <td>K1825</td>\n    </tr>\n    <tr>\n      <th>4</th>\n      <td>35</td>\n      <td>42684.0</td>\n      <td>1</td>\n      <td>33.0</td>\n      <td>K1144</td>\n    </tr>\n    <tr>\n      <th>...</th>\n      <td>...</td>\n      <td>...</td>\n      <td>...</td>\n      <td>...</td>\n      <td>...</td>\n    </tr>\n    <tr>\n      <th>886</th>\n      <td>32</td>\n      <td>34392.0</td>\n      <td>1</td>\n      <td>48.0</td>\n      <td>K1211</td>\n    </tr>\n    <tr>\n      <th>887</th>\n      <td>41</td>\n      <td>68516.0</td>\n      <td>0</td>\n      <td>34.0</td>\n      <td>K1375</td>\n    </tr>\n    <tr>\n      <th>888</th>\n      <td>65</td>\n      <td>89685.0</td>\n      <td>0</td>\n      <td>23.0</td>\n      <td>K1965</td>\n    </tr>\n    <tr>\n      <th>889</th>\n      <td>68</td>\n      <td>95714.0</td>\n      <td>0</td>\n      <td>32.0</td>\n      <td>K1540</td>\n    </tr>\n    <tr>\n      <th>890</th>\n      <td>49</td>\n      <td>73319.0</td>\n      <td>0</td>\n      <td>27.0</td>\n      <td>K1207</td>\n    </tr>\n  </tbody>\n</table>\n<p>891 rows × 5 columns</p>\n</div>"
          },
          "metadata": {}
        }
      ],
      "execution_count": 62
    },
    {
      "id": "456e30e7",
      "cell_type": "markdown",
      "source": "### 3.3.1.3 Umwandlung von Geschlecht von float in integer\n",
      "metadata": {
        "slideshow": {
          "slide_type": "skip"
        }
      }
    },
    {
      "id": "f5bdbdbd",
      "cell_type": "code",
      "source": "kunden[\"Geschlecht\"] = kunden[\"Geschlecht\"].astype(\"int64\")\nkunden",
      "metadata": {
        "slideshow": {
          "slide_type": "skip"
        },
        "trusted": true
      },
      "outputs": [
        {
          "execution_count": 63,
          "output_type": "execute_result",
          "data": {
            "text/plain": "      Alter  Einkommen      Preis  Geschlecht  Zeit KundeNr\n0        64    66894.0   88160.31           1  43.0   K0310\n1        54    77644.0  103145.70           1  40.0   K1042\n2        55    44341.0   80565.16           0  37.0   K0382\n3        49    67271.0   83949.89           0  42.0   K0498\n4        46    49832.0   93781.58           0  41.0   K0552\n...     ...        ...        ...         ...   ...     ...\n1099     70    69581.0  103751.58           1  51.0   K0467\n1100     38    48301.0   64230.98           1  33.0   K0122\n1101     67    63547.0  103123.57           1  41.0   K1045\n1102     37    32686.0   49215.87           1  36.0   K1096\n1103     55    71240.0  106132.59           1  49.0   K0861\n\n[1104 rows x 6 columns]",
            "text/html": "<div>\n<style scoped>\n    .dataframe tbody tr th:only-of-type {\n        vertical-align: middle;\n    }\n\n    .dataframe tbody tr th {\n        vertical-align: top;\n    }\n\n    .dataframe thead th {\n        text-align: right;\n    }\n</style>\n<table border=\"1\" class=\"dataframe\">\n  <thead>\n    <tr style=\"text-align: right;\">\n      <th></th>\n      <th>Alter</th>\n      <th>Einkommen</th>\n      <th>Preis</th>\n      <th>Geschlecht</th>\n      <th>Zeit</th>\n      <th>KundeNr</th>\n    </tr>\n  </thead>\n  <tbody>\n    <tr>\n      <th>0</th>\n      <td>64</td>\n      <td>66894.0</td>\n      <td>88160.31</td>\n      <td>1</td>\n      <td>43.0</td>\n      <td>K0310</td>\n    </tr>\n    <tr>\n      <th>1</th>\n      <td>54</td>\n      <td>77644.0</td>\n      <td>103145.70</td>\n      <td>1</td>\n      <td>40.0</td>\n      <td>K1042</td>\n    </tr>\n    <tr>\n      <th>2</th>\n      <td>55</td>\n      <td>44341.0</td>\n      <td>80565.16</td>\n      <td>0</td>\n      <td>37.0</td>\n      <td>K0382</td>\n    </tr>\n    <tr>\n      <th>3</th>\n      <td>49</td>\n      <td>67271.0</td>\n      <td>83949.89</td>\n      <td>0</td>\n      <td>42.0</td>\n      <td>K0498</td>\n    </tr>\n    <tr>\n      <th>4</th>\n      <td>46</td>\n      <td>49832.0</td>\n      <td>93781.58</td>\n      <td>0</td>\n      <td>41.0</td>\n      <td>K0552</td>\n    </tr>\n    <tr>\n      <th>...</th>\n      <td>...</td>\n      <td>...</td>\n      <td>...</td>\n      <td>...</td>\n      <td>...</td>\n      <td>...</td>\n    </tr>\n    <tr>\n      <th>1099</th>\n      <td>70</td>\n      <td>69581.0</td>\n      <td>103751.58</td>\n      <td>1</td>\n      <td>51.0</td>\n      <td>K0467</td>\n    </tr>\n    <tr>\n      <th>1100</th>\n      <td>38</td>\n      <td>48301.0</td>\n      <td>64230.98</td>\n      <td>1</td>\n      <td>33.0</td>\n      <td>K0122</td>\n    </tr>\n    <tr>\n      <th>1101</th>\n      <td>67</td>\n      <td>63547.0</td>\n      <td>103123.57</td>\n      <td>1</td>\n      <td>41.0</td>\n      <td>K1045</td>\n    </tr>\n    <tr>\n      <th>1102</th>\n      <td>37</td>\n      <td>32686.0</td>\n      <td>49215.87</td>\n      <td>1</td>\n      <td>36.0</td>\n      <td>K1096</td>\n    </tr>\n    <tr>\n      <th>1103</th>\n      <td>55</td>\n      <td>71240.0</td>\n      <td>106132.59</td>\n      <td>1</td>\n      <td>49.0</td>\n      <td>K0861</td>\n    </tr>\n  </tbody>\n</table>\n<p>1104 rows × 6 columns</p>\n</div>"
          },
          "metadata": {}
        }
      ],
      "execution_count": 63
    },
    {
      "id": "7f8d47fc-79e4-41ff-8f5e-6b95d062916a",
      "cell_type": "code",
      "source": "# Überprüfen der dtypes\nbesucher.dtypes, kunden.dtypes",
      "metadata": {
        "slideshow": {
          "slide_type": "skip"
        },
        "trusted": true
      },
      "outputs": [
        {
          "execution_count": 64,
          "output_type": "execute_result",
          "data": {
            "text/plain": "(Alter           int64\n Einkommen     float64\n Geschlecht      int64\n Zeit          float64\n KundeNr        object\n dtype: object,\n Alter           int64\n Einkommen     float64\n Preis         float64\n Geschlecht      int64\n Zeit          float64\n KundeNr        object\n dtype: object)"
          },
          "metadata": {}
        }
      ],
      "execution_count": 64
    },
    {
      "id": "ecec2ca9-bbe4-47ec-8ff7-6e578fbcb81b",
      "cell_type": "markdown",
      "source": "### 3.3.2 Fehlende Datenpunkte ermitteln und ersetzen",
      "metadata": {
        "slideshow": {
          "slide_type": "skip"
        }
      }
    },
    {
      "id": "055acef9-70af-4af0-b9b3-ca8f8b3de400",
      "cell_type": "code",
      "source": "besucher.isnull().sum()",
      "metadata": {
        "slideshow": {
          "slide_type": "skip"
        },
        "trusted": true
      },
      "outputs": [
        {
          "execution_count": 65,
          "output_type": "execute_result",
          "data": {
            "text/plain": "Alter         0\nEinkommen     0\nGeschlecht    0\nZeit          0\nKundeNr       0\ndtype: int64"
          },
          "metadata": {}
        }
      ],
      "execution_count": 65
    },
    {
      "id": "703ca297-14dd-4032-a52a-83edcf48fd4c",
      "cell_type": "code",
      "source": "# keine fehlenden Datenpunkte im Datensatz",
      "metadata": {
        "slideshow": {
          "slide_type": "skip"
        },
        "trusted": true
      },
      "outputs": [],
      "execution_count": 66
    },
    {
      "id": "720720bd-f6a7-4daf-be97-aba4c1e9fb97",
      "cell_type": "markdown",
      "source": "### 3.3.3 Ausreißer ermitteln und entfernen",
      "metadata": {
        "slideshow": {
          "slide_type": "skip"
        }
      }
    },
    {
      "id": "c406389b-29f5-49f1-8abc-6a00120023aa",
      "cell_type": "code",
      "source": "# Außreißer ermitteln\nkunden.describe().T",
      "metadata": {
        "slideshow": {
          "slide_type": "skip"
        },
        "trusted": true
      },
      "outputs": [
        {
          "execution_count": 67,
          "output_type": "execute_result",
          "data": {
            "text/plain": "             count          mean           std       min         25%  \\\nAlter       1104.0     50.375000     11.951426     30.00     40.0000   \nEinkommen   1104.0  58850.907609  16443.509924  14547.00  46697.0000   \nPreis       1104.0  88975.198714  24464.067781  21471.65  70609.4225   \nGeschlecht  1104.0      0.639493      0.480365      0.00      0.0000   \nZeit        1104.0     44.375906     10.848040     12.00     37.0000   \n\n                  50%         75%        max  \nAlter          51.000      61.000      70.00  \nEinkommen   59013.000   70270.250  100769.00  \nPreis       88931.455  107093.375  165482.31  \nGeschlecht      1.000       1.000       1.00  \nZeit           44.000      52.000      80.00  ",
            "text/html": "<div>\n<style scoped>\n    .dataframe tbody tr th:only-of-type {\n        vertical-align: middle;\n    }\n\n    .dataframe tbody tr th {\n        vertical-align: top;\n    }\n\n    .dataframe thead th {\n        text-align: right;\n    }\n</style>\n<table border=\"1\" class=\"dataframe\">\n  <thead>\n    <tr style=\"text-align: right;\">\n      <th></th>\n      <th>count</th>\n      <th>mean</th>\n      <th>std</th>\n      <th>min</th>\n      <th>25%</th>\n      <th>50%</th>\n      <th>75%</th>\n      <th>max</th>\n    </tr>\n  </thead>\n  <tbody>\n    <tr>\n      <th>Alter</th>\n      <td>1104.0</td>\n      <td>50.375000</td>\n      <td>11.951426</td>\n      <td>30.00</td>\n      <td>40.0000</td>\n      <td>51.000</td>\n      <td>61.000</td>\n      <td>70.00</td>\n    </tr>\n    <tr>\n      <th>Einkommen</th>\n      <td>1104.0</td>\n      <td>58850.907609</td>\n      <td>16443.509924</td>\n      <td>14547.00</td>\n      <td>46697.0000</td>\n      <td>59013.000</td>\n      <td>70270.250</td>\n      <td>100769.00</td>\n    </tr>\n    <tr>\n      <th>Preis</th>\n      <td>1104.0</td>\n      <td>88975.198714</td>\n      <td>24464.067781</td>\n      <td>21471.65</td>\n      <td>70609.4225</td>\n      <td>88931.455</td>\n      <td>107093.375</td>\n      <td>165482.31</td>\n    </tr>\n    <tr>\n      <th>Geschlecht</th>\n      <td>1104.0</td>\n      <td>0.639493</td>\n      <td>0.480365</td>\n      <td>0.00</td>\n      <td>0.0000</td>\n      <td>1.000</td>\n      <td>1.000</td>\n      <td>1.00</td>\n    </tr>\n    <tr>\n      <th>Zeit</th>\n      <td>1104.0</td>\n      <td>44.375906</td>\n      <td>10.848040</td>\n      <td>12.00</td>\n      <td>37.0000</td>\n      <td>44.000</td>\n      <td>52.000</td>\n      <td>80.00</td>\n    </tr>\n  </tbody>\n</table>\n</div>"
          },
          "metadata": {}
        }
      ],
      "execution_count": 67
    },
    {
      "id": "ef8fa4df-4149-4a8e-876b-78e18545f630",
      "cell_type": "markdown",
      "source": "### 3.3.3.1 Alter",
      "metadata": {
        "slideshow": {
          "slide_type": "skip"
        }
      }
    },
    {
      "id": "c8972a3c-3306-411d-b7d8-0877b95f2bef",
      "cell_type": "code",
      "source": "boxplot_besucher_alter = besucher.boxplot(column = 'Alter')\nplt.show()",
      "metadata": {
        "slideshow": {
          "slide_type": "skip"
        },
        "trusted": true
      },
      "outputs": [
        {
          "output_type": "display_data",
          "data": {
            "text/plain": "<Figure size 640x480 with 1 Axes>",
            "image/png": "[encoded data removed]"
          },
          "metadata": {}
        }
      ],
      "execution_count": 68
    },
    {
      "id": "6730eca4-d2c7-4254-956e-e69f63d5fbaa",
      "cell_type": "code",
      "source": "# sowohl bei describe-Tabelle als auch beim boxplot keine Ausreißer zu erkennen",
      "metadata": {
        "slideshow": {
          "slide_type": "skip"
        },
        "trusted": true
      },
      "outputs": [],
      "execution_count": 69
    },
    {
      "id": "61e27a0b-4be7-4af4-8c87-de153892f9f4",
      "cell_type": "markdown",
      "source": "### 3.3.3.2 Einkommen",
      "metadata": {
        "slideshow": {
          "slide_type": "skip"
        }
      }
    },
    {
      "id": "69523c19-d7c8-4f1c-8021-8695caf4eb55",
      "cell_type": "code",
      "source": "boxplot_besucher_einkommen = besucher.boxplot(column = 'Einkommen')\nplt.show()",
      "metadata": {
        "slideshow": {
          "slide_type": "skip"
        },
        "trusted": true
      },
      "outputs": [
        {
          "output_type": "display_data",
          "data": {
            "text/plain": "<Figure size 640x480 with 1 Axes>",
            "image/png": "[encoded data removed]"
          },
          "metadata": {}
        }
      ],
      "execution_count": 70
    },
    {
      "id": "f151db84-24a3-4550-84e8-039750251c54",
      "cell_type": "code",
      "source": "# mehrere Ausreißer zu erkennen",
      "metadata": {
        "slideshow": {
          "slide_type": "skip"
        },
        "trusted": true
      },
      "outputs": [],
      "execution_count": 71
    },
    {
      "id": "f63485c2-4d8d-47f8-ab35-346c7ffe6ae9",
      "cell_type": "code",
      "source": "# Berechnung von Q1, Q3 und IQR der Zeit-Spalte\nQ1_einkommen_besucher = besucher['Einkommen'].quantile(0.25)\nQ3_einkommen_besucher = besucher['Einkommen'].quantile(0.75)\nIQR_einkommen_besucher = Q3_einkommen_besucher - Q1_einkommen_besucher\nuntere_grenze_einkommen_besucher = Q1_einkommen_besucher - 1.5 * IQR_einkommen_besucher\nobere_grenze_einkommen_besucher = Q3_einkommen_besucher + 1.5 * IQR_einkommen_besucher\nbesucher['Ausreißer'] = (besucher['Einkommen'] < untere_grenze_einkommen_besucher) | (besucher['Einkommen'] > obere_grenze_einkommen_besucher)\nausreißer_einkommen_besucher = besucher.Ausreißer.value_counts()\nausreißer_einkommen_besucher",
      "metadata": {
        "slideshow": {
          "slide_type": "skip"
        },
        "trusted": true
      },
      "outputs": [
        {
          "execution_count": 72,
          "output_type": "execute_result",
          "data": {
            "text/plain": "False    888\nTrue       3\nName: Ausreißer, dtype: int64"
          },
          "metadata": {}
        }
      ],
      "execution_count": 72
    },
    {
      "id": "bcbbf688-41e1-441f-8639-5ec5192f1282",
      "cell_type": "code",
      "source": "# Ermitteln der genauen Werte der Ausreißer\nbesucher.loc[besucher['Ausreißer'] == True]",
      "metadata": {
        "slideshow": {
          "slide_type": "skip"
        },
        "trusted": true
      },
      "outputs": [
        {
          "execution_count": 73,
          "output_type": "execute_result",
          "data": {
            "text/plain": "     Alter  Einkommen  Geschlecht  Zeit KundeNr  Ausreißer\n44      69   108569.0           1  47.0   K1467       True\n132     31    12032.0           1  32.0   K1586       True\n265     31    10802.0           1  25.0   K1561       True",
            "text/html": "<div>\n<style scoped>\n    .dataframe tbody tr th:only-of-type {\n        vertical-align: middle;\n    }\n\n    .dataframe tbody tr th {\n        vertical-align: top;\n    }\n\n    .dataframe thead th {\n        text-align: right;\n    }\n</style>\n<table border=\"1\" class=\"dataframe\">\n  <thead>\n    <tr style=\"text-align: right;\">\n      <th></th>\n      <th>Alter</th>\n      <th>Einkommen</th>\n      <th>Geschlecht</th>\n      <th>Zeit</th>\n      <th>KundeNr</th>\n      <th>Ausreißer</th>\n    </tr>\n  </thead>\n  <tbody>\n    <tr>\n      <th>44</th>\n      <td>69</td>\n      <td>108569.0</td>\n      <td>1</td>\n      <td>47.0</td>\n      <td>K1467</td>\n      <td>True</td>\n    </tr>\n    <tr>\n      <th>132</th>\n      <td>31</td>\n      <td>12032.0</td>\n      <td>1</td>\n      <td>32.0</td>\n      <td>K1586</td>\n      <td>True</td>\n    </tr>\n    <tr>\n      <th>265</th>\n      <td>31</td>\n      <td>10802.0</td>\n      <td>1</td>\n      <td>25.0</td>\n      <td>K1561</td>\n      <td>True</td>\n    </tr>\n  </tbody>\n</table>\n</div>"
          },
          "metadata": {}
        }
      ],
      "execution_count": 73
    },
    {
      "id": "c58942af-27b1-4263-8530-c70d0fe14583",
      "cell_type": "code",
      "source": "# so niedriges und so hohes Einkommen ist möglich, daher bleiben Werte erhalten",
      "metadata": {
        "slideshow": {
          "slide_type": "skip"
        },
        "trusted": true
      },
      "outputs": [],
      "execution_count": 74
    },
    {
      "id": "8f97a96b-696b-4c6e-a53c-f940f0c122e3",
      "cell_type": "markdown",
      "source": "### 3.3.3.3 Zeit",
      "metadata": {
        "slideshow": {
          "slide_type": "skip"
        }
      }
    },
    {
      "id": "e4e47a9a-1213-46b8-a0d3-af6036c12a63",
      "cell_type": "code",
      "source": "boxplot_besucher_zeit = besucher.boxplot(column = 'Zeit')\nplt.show()",
      "metadata": {
        "slideshow": {
          "slide_type": "skip"
        },
        "trusted": true
      },
      "outputs": [
        {
          "output_type": "display_data",
          "data": {
            "text/plain": "<Figure size 640x480 with 1 Axes>",
            "image/png": "[encoded data removed]"
          },
          "metadata": {}
        }
      ],
      "execution_count": 75
    },
    {
      "id": "d209cc1b-4b6d-4f67-8a45-f32c9050b6ab",
      "cell_type": "code",
      "source": "# mehrere Ausreißer zu erkennen",
      "metadata": {
        "slideshow": {
          "slide_type": "skip"
        },
        "trusted": true
      },
      "outputs": [],
      "execution_count": 76
    },
    {
      "id": "8a3cd720-982f-418d-8256-4e583e636db0",
      "cell_type": "code",
      "source": "# Berechnung von Q1, Q3 und IQR der Zeit-Spalte\nQ1_zeit_besucher = besucher['Zeit'].quantile(0.25)\nQ3_zeit_besucher = besucher['Zeit'].quantile(0.75)\nIQR_zeit_besucher = Q3_zeit_besucher - Q1_zeit_besucher\nuntere_grenze_zeit_besucher = Q1_zeit_besucher - 1.5 * IQR_zeit_besucher\nobere_grenze_zeit_besucher = Q3_zeit_besucher + 1.5 * IQR_zeit_besucher\nbesucher['Ausreißer'] = (besucher['Zeit'] < untere_grenze_zeit_besucher) | (besucher['Zeit'] > obere_grenze_zeit_besucher)\nausreißer_zeit_besucher = besucher.Ausreißer.value_counts()\nausreißer_zeit_besucher",
      "metadata": {
        "slideshow": {
          "slide_type": "skip"
        },
        "trusted": true
      },
      "outputs": [
        {
          "execution_count": 77,
          "output_type": "execute_result",
          "data": {
            "text/plain": "False    888\nTrue       3\nName: Ausreißer, dtype: int64"
          },
          "metadata": {}
        }
      ],
      "execution_count": 77
    },
    {
      "id": "b8ae8dca-eba9-4281-b887-fb06dd646dc2",
      "cell_type": "code",
      "source": "# Ermittlung der genauen Werte der Ausreißer\nbesucher.loc[besucher['Ausreißer'] == True]",
      "metadata": {
        "slideshow": {
          "slide_type": "skip"
        },
        "trusted": true
      },
      "outputs": [
        {
          "execution_count": 78,
          "output_type": "execute_result",
          "data": {
            "text/plain": "     Alter  Einkommen  Geschlecht  Zeit KundeNr  Ausreißer\n105     40    39581.0           1   5.0   K1547       True\n158     31    38299.0           1   3.0   K1623       True\n603     62    84205.0           1  68.0   K1526       True",
            "text/html": "<div>\n<style scoped>\n    .dataframe tbody tr th:only-of-type {\n        vertical-align: middle;\n    }\n\n    .dataframe tbody tr th {\n        vertical-align: top;\n    }\n\n    .dataframe thead th {\n        text-align: right;\n    }\n</style>\n<table border=\"1\" class=\"dataframe\">\n  <thead>\n    <tr style=\"text-align: right;\">\n      <th></th>\n      <th>Alter</th>\n      <th>Einkommen</th>\n      <th>Geschlecht</th>\n      <th>Zeit</th>\n      <th>KundeNr</th>\n      <th>Ausreißer</th>\n    </tr>\n  </thead>\n  <tbody>\n    <tr>\n      <th>105</th>\n      <td>40</td>\n      <td>39581.0</td>\n      <td>1</td>\n      <td>5.0</td>\n      <td>K1547</td>\n      <td>True</td>\n    </tr>\n    <tr>\n      <th>158</th>\n      <td>31</td>\n      <td>38299.0</td>\n      <td>1</td>\n      <td>3.0</td>\n      <td>K1623</td>\n      <td>True</td>\n    </tr>\n    <tr>\n      <th>603</th>\n      <td>62</td>\n      <td>84205.0</td>\n      <td>1</td>\n      <td>68.0</td>\n      <td>K1526</td>\n      <td>True</td>\n    </tr>\n  </tbody>\n</table>\n</div>"
          },
          "metadata": {}
        }
      ],
      "execution_count": 78
    },
    {
      "id": "3f92fb50-266b-4ea0-86a2-06924d00b1ed",
      "cell_type": "code",
      "source": "# so kurze und lange Zeiten sind möglich, daher bleiben Werte erhalten",
      "metadata": {
        "slideshow": {
          "slide_type": "skip"
        },
        "trusted": true
      },
      "outputs": [],
      "execution_count": 79
    },
    {
      "id": "785c0288-057e-4a89-aa3c-6a2f21644466",
      "cell_type": "code",
      "source": "besucher",
      "metadata": {
        "slideshow": {
          "slide_type": "skip"
        },
        "trusted": true
      },
      "outputs": [
        {
          "execution_count": 80,
          "output_type": "execute_result",
          "data": {
            "text/plain": "     Alter  Einkommen  Geschlecht  Zeit KundeNr  Ausreißer\n0       30    39919.0           0  29.0   K1814      False\n1       41    53431.0           0  27.0   K1544      False\n2       64    73163.0           0  32.0   K1945      False\n3       41    36761.0           0  44.0   K1825      False\n4       35    42684.0           1  33.0   K1144      False\n..     ...        ...         ...   ...     ...        ...\n886     32    34392.0           1  48.0   K1211      False\n887     41    68516.0           0  34.0   K1375      False\n888     65    89685.0           0  23.0   K1965      False\n889     68    95714.0           0  32.0   K1540      False\n890     49    73319.0           0  27.0   K1207      False\n\n[891 rows x 6 columns]",
            "text/html": "<div>\n<style scoped>\n    .dataframe tbody tr th:only-of-type {\n        vertical-align: middle;\n    }\n\n    .dataframe tbody tr th {\n        vertical-align: top;\n    }\n\n    .dataframe thead th {\n        text-align: right;\n    }\n</style>\n<table border=\"1\" class=\"dataframe\">\n  <thead>\n    <tr style=\"text-align: right;\">\n      <th></th>\n      <th>Alter</th>\n      <th>Einkommen</th>\n      <th>Geschlecht</th>\n      <th>Zeit</th>\n      <th>KundeNr</th>\n      <th>Ausreißer</th>\n    </tr>\n  </thead>\n  <tbody>\n    <tr>\n      <th>0</th>\n      <td>30</td>\n      <td>39919.0</td>\n      <td>0</td>\n      <td>29.0</td>\n      <td>K1814</td>\n      <td>False</td>\n    </tr>\n    <tr>\n      <th>1</th>\n      <td>41</td>\n      <td>53431.0</td>\n      <td>0</td>\n      <td>27.0</td>\n      <td>K1544</td>\n      <td>False</td>\n    </tr>\n    <tr>\n      <th>2</th>\n      <td>64</td>\n      <td>73163.0</td>\n      <td>0</td>\n      <td>32.0</td>\n      <td>K1945</td>\n      <td>False</td>\n    </tr>\n    <tr>\n      <th>3</th>\n      <td>41</td>\n      <td>36761.0</td>\n      <td>0</td>\n      <td>44.0</td>\n      <td>K1825</td>\n      <td>False</td>\n    </tr>\n    <tr>\n      <th>4</th>\n      <td>35</td>\n      <td>42684.0</td>\n      <td>1</td>\n      <td>33.0</td>\n      <td>K1144</td>\n      <td>False</td>\n    </tr>\n    <tr>\n      <th>...</th>\n      <td>...</td>\n      <td>...</td>\n      <td>...</td>\n      <td>...</td>\n      <td>...</td>\n      <td>...</td>\n    </tr>\n    <tr>\n      <th>886</th>\n      <td>32</td>\n      <td>34392.0</td>\n      <td>1</td>\n      <td>48.0</td>\n      <td>K1211</td>\n      <td>False</td>\n    </tr>\n    <tr>\n      <th>887</th>\n      <td>41</td>\n      <td>68516.0</td>\n      <td>0</td>\n      <td>34.0</td>\n      <td>K1375</td>\n      <td>False</td>\n    </tr>\n    <tr>\n      <th>888</th>\n      <td>65</td>\n      <td>89685.0</td>\n      <td>0</td>\n      <td>23.0</td>\n      <td>K1965</td>\n      <td>False</td>\n    </tr>\n    <tr>\n      <th>889</th>\n      <td>68</td>\n      <td>95714.0</td>\n      <td>0</td>\n      <td>32.0</td>\n      <td>K1540</td>\n      <td>False</td>\n    </tr>\n    <tr>\n      <th>890</th>\n      <td>49</td>\n      <td>73319.0</td>\n      <td>0</td>\n      <td>27.0</td>\n      <td>K1207</td>\n      <td>False</td>\n    </tr>\n  </tbody>\n</table>\n<p>891 rows × 6 columns</p>\n</div>"
          },
          "metadata": {}
        }
      ],
      "execution_count": 80
    },
    {
      "id": "6313b1d5-c967-45b0-8a11-76cd690aaa00",
      "cell_type": "code",
      "source": "# Boolean-Spalte wieder entfernen",
      "metadata": {
        "slideshow": {
          "slide_type": "skip"
        },
        "trusted": true
      },
      "outputs": [],
      "execution_count": 81
    },
    {
      "id": "9ed7ad57-ca0b-44eb-b6f3-49a9bcb8bbe4",
      "cell_type": "code",
      "source": "besucher = besucher.drop(besucher.columns[-1], axis=1)\nbesucher",
      "metadata": {
        "slideshow": {
          "slide_type": "skip"
        },
        "trusted": true
      },
      "outputs": [
        {
          "execution_count": 82,
          "output_type": "execute_result",
          "data": {
            "text/plain": "     Alter  Einkommen  Geschlecht  Zeit KundeNr\n0       30    39919.0           0  29.0   K1814\n1       41    53431.0           0  27.0   K1544\n2       64    73163.0           0  32.0   K1945\n3       41    36761.0           0  44.0   K1825\n4       35    42684.0           1  33.0   K1144\n..     ...        ...         ...   ...     ...\n886     32    34392.0           1  48.0   K1211\n887     41    68516.0           0  34.0   K1375\n888     65    89685.0           0  23.0   K1965\n889     68    95714.0           0  32.0   K1540\n890     49    73319.0           0  27.0   K1207\n\n[891 rows x 5 columns]",
            "text/html": "<div>\n<style scoped>\n    .dataframe tbody tr th:only-of-type {\n        vertical-align: middle;\n    }\n\n    .dataframe tbody tr th {\n        vertical-align: top;\n    }\n\n    .dataframe thead th {\n        text-align: right;\n    }\n</style>\n<table border=\"1\" class=\"dataframe\">\n  <thead>\n    <tr style=\"text-align: right;\">\n      <th></th>\n      <th>Alter</th>\n      <th>Einkommen</th>\n      <th>Geschlecht</th>\n      <th>Zeit</th>\n      <th>KundeNr</th>\n    </tr>\n  </thead>\n  <tbody>\n    <tr>\n      <th>0</th>\n      <td>30</td>\n      <td>39919.0</td>\n      <td>0</td>\n      <td>29.0</td>\n      <td>K1814</td>\n    </tr>\n    <tr>\n      <th>1</th>\n      <td>41</td>\n      <td>53431.0</td>\n      <td>0</td>\n      <td>27.0</td>\n      <td>K1544</td>\n    </tr>\n    <tr>\n      <th>2</th>\n      <td>64</td>\n      <td>73163.0</td>\n      <td>0</td>\n      <td>32.0</td>\n      <td>K1945</td>\n    </tr>\n    <tr>\n      <th>3</th>\n      <td>41</td>\n      <td>36761.0</td>\n      <td>0</td>\n      <td>44.0</td>\n      <td>K1825</td>\n    </tr>\n    <tr>\n      <th>4</th>\n      <td>35</td>\n      <td>42684.0</td>\n      <td>1</td>\n      <td>33.0</td>\n      <td>K1144</td>\n    </tr>\n    <tr>\n      <th>...</th>\n      <td>...</td>\n      <td>...</td>\n      <td>...</td>\n      <td>...</td>\n      <td>...</td>\n    </tr>\n    <tr>\n      <th>886</th>\n      <td>32</td>\n      <td>34392.0</td>\n      <td>1</td>\n      <td>48.0</td>\n      <td>K1211</td>\n    </tr>\n    <tr>\n      <th>887</th>\n      <td>41</td>\n      <td>68516.0</td>\n      <td>0</td>\n      <td>34.0</td>\n      <td>K1375</td>\n    </tr>\n    <tr>\n      <th>888</th>\n      <td>65</td>\n      <td>89685.0</td>\n      <td>0</td>\n      <td>23.0</td>\n      <td>K1965</td>\n    </tr>\n    <tr>\n      <th>889</th>\n      <td>68</td>\n      <td>95714.0</td>\n      <td>0</td>\n      <td>32.0</td>\n      <td>K1540</td>\n    </tr>\n    <tr>\n      <th>890</th>\n      <td>49</td>\n      <td>73319.0</td>\n      <td>0</td>\n      <td>27.0</td>\n      <td>K1207</td>\n    </tr>\n  </tbody>\n</table>\n<p>891 rows × 5 columns</p>\n</div>"
          },
          "metadata": {}
        }
      ],
      "execution_count": 82
    },
    {
      "id": "e567d3ce",
      "cell_type": "markdown",
      "source": "# 4. Geo-Daten",
      "metadata": {
        "slideshow": {
          "slide_type": "skip"
        }
      }
    },
    {
      "id": "b9f50960-5e3a-498f-8dc9-0959b4c32e6f",
      "cell_type": "markdown",
      "source": "### 4.1. Geodatei einlesen",
      "metadata": {
        "slideshow": {
          "slide_type": "skip"
        }
      }
    },
    {
      "id": "c4136bca-9c51-4b6f-a76e-6062d74b898c",
      "cell_type": "code",
      "source": "geo = pd.read_csv(\"geo.txt\", sep = \"\\t\")\ngeo.head()",
      "metadata": {
        "slideshow": {
          "slide_type": "skip"
        },
        "trusted": true
      },
      "outputs": [
        {
          "execution_count": 83,
          "output_type": "execute_result",
          "data": {
            "text/plain": "  KundeNr Niederlassung\n0   K0001       Sachsen\n1   K0002           NRW\n2   K0003        Hessen\n3   K0004        Bayern\n4   K0005        Bayern",
            "text/html": "<div>\n<style scoped>\n    .dataframe tbody tr th:only-of-type {\n        vertical-align: middle;\n    }\n\n    .dataframe tbody tr th {\n        vertical-align: top;\n    }\n\n    .dataframe thead th {\n        text-align: right;\n    }\n</style>\n<table border=\"1\" class=\"dataframe\">\n  <thead>\n    <tr style=\"text-align: right;\">\n      <th></th>\n      <th>KundeNr</th>\n      <th>Niederlassung</th>\n    </tr>\n  </thead>\n  <tbody>\n    <tr>\n      <th>0</th>\n      <td>K0001</td>\n      <td>Sachsen</td>\n    </tr>\n    <tr>\n      <th>1</th>\n      <td>K0002</td>\n      <td>NRW</td>\n    </tr>\n    <tr>\n      <th>2</th>\n      <td>K0003</td>\n      <td>Hessen</td>\n    </tr>\n    <tr>\n      <th>3</th>\n      <td>K0004</td>\n      <td>Bayern</td>\n    </tr>\n    <tr>\n      <th>4</th>\n      <td>K0005</td>\n      <td>Bayern</td>\n    </tr>\n  </tbody>\n</table>\n</div>"
          },
          "metadata": {}
        }
      ],
      "execution_count": 83
    },
    {
      "id": "eac214be-89cb-44df-a00f-fbf4044d3c77",
      "cell_type": "markdown",
      "source": "## 4.2 Überblick über Datentypen",
      "metadata": {
        "slideshow": {
          "slide_type": "skip"
        }
      }
    },
    {
      "id": "1da63f41-b8ca-49db-98ef-44b0ed5b715b",
      "cell_type": "code",
      "source": "geo.dtypes",
      "metadata": {
        "slideshow": {
          "slide_type": "skip"
        },
        "trusted": true
      },
      "outputs": [
        {
          "execution_count": 84,
          "output_type": "execute_result",
          "data": {
            "text/plain": "KundeNr          object\nNiederlassung    object\ndtype: object"
          },
          "metadata": {}
        }
      ],
      "execution_count": 84
    },
    {
      "id": "0ebe1254-c964-45fc-b56c-dce433c47d42",
      "cell_type": "code",
      "source": "# bei kunden und besucher ist der dypte der KundeNr auch object, daher keine Änderung benötigt",
      "metadata": {
        "slideshow": {
          "slide_type": "skip"
        },
        "trusted": true
      },
      "outputs": [],
      "execution_count": 85
    },
    {
      "id": "b2509aeb-1297-4b33-b08e-da5826ae832d",
      "cell_type": "markdown",
      "source": "### 4.3 Bereinigung",
      "metadata": {
        "slideshow": {
          "slide_type": "skip"
        }
      }
    },
    {
      "id": "cda090aa-6d08-48ab-bd1d-29bcabbcf8ed",
      "cell_type": "markdown",
      "source": "### 4.3.1 Fehlende Datenpunkte ermitteln und ersetzen",
      "metadata": {
        "slideshow": {
          "slide_type": "skip"
        }
      }
    },
    {
      "id": "646b5f4b-d218-4ab1-8be5-77caa154d1a6",
      "cell_type": "code",
      "source": "geo.isnull().sum()",
      "metadata": {
        "slideshow": {
          "slide_type": "skip"
        },
        "trusted": true
      },
      "outputs": [
        {
          "execution_count": 86,
          "output_type": "execute_result",
          "data": {
            "text/plain": "KundeNr          0\nNiederlassung    0\ndtype: int64"
          },
          "metadata": {}
        }
      ],
      "execution_count": 86
    },
    {
      "id": "3edcca31-790f-4c65-9dcd-74d1a22740fb",
      "cell_type": "markdown",
      "source": "### 4.3.2 Ausreißer ermitteln und entfernen/ersetzen",
      "metadata": {
        "slideshow": {
          "slide_type": "skip"
        }
      }
    },
    {
      "id": "3d3d6633-7542-42ef-b347-c883c0c98100",
      "cell_type": "code",
      "source": "# Übersicht aller Niederlassungen\ngeo_niederlassung_uniques = geo[\"Niederlassung\"].unique()\nprint(geo_niederlassung_uniques)",
      "metadata": {
        "slideshow": {
          "slide_type": "skip"
        },
        "trusted": true
      },
      "outputs": [
        {
          "name": "stdout",
          "text": "['Sachsen' 'NRW' 'Hessen' 'Bayern' 'Baden-Württemberg'\n 'Nordrhein-Westfalen' 'Berlin' 'Niedersachsen' 'Brandenburg' 'Thüringen'\n 'Hamburg' 'Düsseldorf' 'Berlin-Charlottenburg' 'Berlin-Mitte' 'BERLIN']\n",
          "output_type": "stream"
        }
      ],
      "execution_count": 87
    },
    {
      "id": "4c4af355-f44b-4c59-8091-9e295aafdc8b",
      "cell_type": "code",
      "source": "# Bereinigung der Datenpunkte (NRW, Düsseldorf zu Nordrhein-Westfalen), (Berlin-Charlottenburg, Berlin-Mitte, BERLIN zu Berlin)\ngeo_cleaning = {\n    \"NRW\" : \"Nordrhein-Westfalen\" , \n    \"Berlin-Charlottenburg\" : \"Berlin\" ,\n    \"Berlin-Mitte\" : \"Berlin\" ,\n    \"BERLIN\" : \"Berlin\",\n    \"Düsseldorf\" : \"Nordrhein-Westfalen\"}\n\ngeo[\"Niederlassung\"] = geo[\"Niederlassung\"].replace(geo_cleaning, regex = True)",
      "metadata": {
        "slideshow": {
          "slide_type": "skip"
        },
        "trusted": true
      },
      "outputs": [],
      "execution_count": 88
    },
    {
      "id": "5c580644-5d8d-4562-8045-aea82c87e675",
      "cell_type": "code",
      "source": "# Überprüfung\ngeo_niederlassung_uniques2 = geo[\"Niederlassung\"].unique()\nprint(geo_niederlassung_uniques2)",
      "metadata": {
        "slideshow": {
          "slide_type": "skip"
        },
        "trusted": true
      },
      "outputs": [
        {
          "name": "stdout",
          "text": "['Sachsen' 'Nordrhein-Westfalen' 'Hessen' 'Bayern' 'Baden-Württemberg'\n 'Berlin' 'Niedersachsen' 'Brandenburg' 'Thüringen' 'Hamburg']\n",
          "output_type": "stream"
        }
      ],
      "execution_count": 89
    },
    {
      "id": "25bbee33-b3ae-48d0-b674-972f1792cd9c",
      "cell_type": "markdown",
      "source": "## 5. Zusammenführung der Listen",
      "metadata": {
        "slideshow": {
          "slide_type": "skip"
        }
      }
    },
    {
      "id": "aac4a8b4-20b3-45a9-9424-6a32e248185d",
      "cell_type": "markdown",
      "source": "### 5.1 Kunden und Besucher mit Geo",
      "metadata": {
        "slideshow": {
          "slide_type": "skip"
        }
      }
    },
    {
      "id": "db55aecc-b7c5-423c-852c-4589a0ba1a50",
      "cell_type": "markdown",
      "source": "### 5.1.1 Kunden mit Geo ",
      "metadata": {
        "slideshow": {
          "slide_type": "skip"
        }
      }
    },
    {
      "id": "aea65563-39a7-4710-9d12-55d504810245",
      "cell_type": "code",
      "source": "kunden_geo = pd.merge(kunden,geo, on = \"KundeNr\")\nkunden_geo",
      "metadata": {
        "slideshow": {
          "slide_type": "skip"
        },
        "trusted": true
      },
      "outputs": [
        {
          "execution_count": 90,
          "output_type": "execute_result",
          "data": {
            "text/plain": "      Alter  Einkommen      Preis  Geschlecht  Zeit KundeNr      Niederlassung\n0        64    66894.0   88160.31           1  43.0   K0310             Bayern\n1        54    77644.0  103145.70           1  40.0   K1042             Berlin\n2        55    44341.0   80565.16           0  37.0   K0382  Baden-Württemberg\n3        49    67271.0   83949.89           0  42.0   K0498             Bayern\n4        46    49832.0   93781.58           0  41.0   K0552             Hessen\n...     ...        ...        ...         ...   ...     ...                ...\n1099     70    69581.0  103751.58           1  51.0   K0467          Thüringen\n1100     38    48301.0   64230.98           1  33.0   K0122      Niedersachsen\n1101     67    63547.0  103123.57           1  41.0   K1045             Berlin\n1102     37    32686.0   49215.87           1  36.0   K1096  Baden-Württemberg\n1103     55    71240.0  106132.59           1  49.0   K0861             Bayern\n\n[1104 rows x 7 columns]",
            "text/html": "<div>\n<style scoped>\n    .dataframe tbody tr th:only-of-type {\n        vertical-align: middle;\n    }\n\n    .dataframe tbody tr th {\n        vertical-align: top;\n    }\n\n    .dataframe thead th {\n        text-align: right;\n    }\n</style>\n<table border=\"1\" class=\"dataframe\">\n  <thead>\n    <tr style=\"text-align: right;\">\n      <th></th>\n      <th>Alter</th>\n      <th>Einkommen</th>\n      <th>Preis</th>\n      <th>Geschlecht</th>\n      <th>Zeit</th>\n      <th>KundeNr</th>\n      <th>Niederlassung</th>\n    </tr>\n  </thead>\n  <tbody>\n    <tr>\n      <th>0</th>\n      <td>64</td>\n      <td>66894.0</td>\n      <td>88160.31</td>\n      <td>1</td>\n      <td>43.0</td>\n      <td>K0310</td>\n      <td>Bayern</td>\n    </tr>\n    <tr>\n      <th>1</th>\n      <td>54</td>\n      <td>77644.0</td>\n      <td>103145.70</td>\n      <td>1</td>\n      <td>40.0</td>\n      <td>K1042</td>\n      <td>Berlin</td>\n    </tr>\n    <tr>\n      <th>2</th>\n      <td>55</td>\n      <td>44341.0</td>\n      <td>80565.16</td>\n      <td>0</td>\n      <td>37.0</td>\n      <td>K0382</td>\n      <td>Baden-Württemberg</td>\n    </tr>\n    <tr>\n      <th>3</th>\n      <td>49</td>\n      <td>67271.0</td>\n      <td>83949.89</td>\n      <td>0</td>\n      <td>42.0</td>\n      <td>K0498</td>\n      <td>Bayern</td>\n    </tr>\n    <tr>\n      <th>4</th>\n      <td>46</td>\n      <td>49832.0</td>\n      <td>93781.58</td>\n      <td>0</td>\n      <td>41.0</td>\n      <td>K0552</td>\n      <td>Hessen</td>\n    </tr>\n    <tr>\n      <th>...</th>\n      <td>...</td>\n      <td>...</td>\n      <td>...</td>\n      <td>...</td>\n      <td>...</td>\n      <td>...</td>\n      <td>...</td>\n    </tr>\n    <tr>\n      <th>1099</th>\n      <td>70</td>\n      <td>69581.0</td>\n      <td>103751.58</td>\n      <td>1</td>\n      <td>51.0</td>\n      <td>K0467</td>\n      <td>Thüringen</td>\n    </tr>\n    <tr>\n      <th>1100</th>\n      <td>38</td>\n      <td>48301.0</td>\n      <td>64230.98</td>\n      <td>1</td>\n      <td>33.0</td>\n      <td>K0122</td>\n      <td>Niedersachsen</td>\n    </tr>\n    <tr>\n      <th>1101</th>\n      <td>67</td>\n      <td>63547.0</td>\n      <td>103123.57</td>\n      <td>1</td>\n      <td>41.0</td>\n      <td>K1045</td>\n      <td>Berlin</td>\n    </tr>\n    <tr>\n      <th>1102</th>\n      <td>37</td>\n      <td>32686.0</td>\n      <td>49215.87</td>\n      <td>1</td>\n      <td>36.0</td>\n      <td>K1096</td>\n      <td>Baden-Württemberg</td>\n    </tr>\n    <tr>\n      <th>1103</th>\n      <td>55</td>\n      <td>71240.0</td>\n      <td>106132.59</td>\n      <td>1</td>\n      <td>49.0</td>\n      <td>K0861</td>\n      <td>Bayern</td>\n    </tr>\n  </tbody>\n</table>\n<p>1104 rows × 7 columns</p>\n</div>"
          },
          "metadata": {}
        }
      ],
      "execution_count": 90
    },
    {
      "id": "2060d258-2dd8-42f8-a064-5ffe92fe7285",
      "cell_type": "markdown",
      "source": "### 5.1.2 Besucher mit Geo",
      "metadata": {
        "slideshow": {
          "slide_type": "skip"
        }
      }
    },
    {
      "id": "8eb4cb71-ba36-4f98-b58b-803d5251b16f",
      "cell_type": "code",
      "source": "besucher_geo = pd.merge(besucher, geo, on = \"KundeNr\")\nbesucher_geo",
      "metadata": {
        "slideshow": {
          "slide_type": "skip"
        },
        "trusted": true
      },
      "outputs": [
        {
          "execution_count": 91,
          "output_type": "execute_result",
          "data": {
            "text/plain": "     Alter  Einkommen  Geschlecht  Zeit KundeNr        Niederlassung\n0       30    39919.0           0  29.0   K1814               Bayern\n1       41    53431.0           0  27.0   K1544    Baden-Württemberg\n2       64    73163.0           0  32.0   K1945    Baden-Württemberg\n3       41    36761.0           0  44.0   K1825    Baden-Württemberg\n4       35    42684.0           1  33.0   K1144  Nordrhein-Westfalen\n..     ...        ...         ...   ...     ...                  ...\n886     32    34392.0           1  48.0   K1211               Hessen\n887     41    68516.0           0  34.0   K1375              Sachsen\n888     65    89685.0           0  23.0   K1965               Bayern\n889     68    95714.0           0  32.0   K1540               Bayern\n890     49    73319.0           0  27.0   K1207        Niedersachsen\n\n[891 rows x 6 columns]",
            "text/html": "<div>\n<style scoped>\n    .dataframe tbody tr th:only-of-type {\n        vertical-align: middle;\n    }\n\n    .dataframe tbody tr th {\n        vertical-align: top;\n    }\n\n    .dataframe thead th {\n        text-align: right;\n    }\n</style>\n<table border=\"1\" class=\"dataframe\">\n  <thead>\n    <tr style=\"text-align: right;\">\n      <th></th>\n      <th>Alter</th>\n      <th>Einkommen</th>\n      <th>Geschlecht</th>\n      <th>Zeit</th>\n      <th>KundeNr</th>\n      <th>Niederlassung</th>\n    </tr>\n  </thead>\n  <tbody>\n    <tr>\n      <th>0</th>\n      <td>30</td>\n      <td>39919.0</td>\n      <td>0</td>\n      <td>29.0</td>\n      <td>K1814</td>\n      <td>Bayern</td>\n    </tr>\n    <tr>\n      <th>1</th>\n      <td>41</td>\n      <td>53431.0</td>\n      <td>0</td>\n      <td>27.0</td>\n      <td>K1544</td>\n      <td>Baden-Württemberg</td>\n    </tr>\n    <tr>\n      <th>2</th>\n      <td>64</td>\n      <td>73163.0</td>\n      <td>0</td>\n      <td>32.0</td>\n      <td>K1945</td>\n      <td>Baden-Württemberg</td>\n    </tr>\n    <tr>\n      <th>3</th>\n      <td>41</td>\n      <td>36761.0</td>\n      <td>0</td>\n      <td>44.0</td>\n      <td>K1825</td>\n      <td>Baden-Württemberg</td>\n    </tr>\n    <tr>\n      <th>4</th>\n      <td>35</td>\n      <td>42684.0</td>\n      <td>1</td>\n      <td>33.0</td>\n      <td>K1144</td>\n      <td>Nordrhein-Westfalen</td>\n    </tr>\n    <tr>\n      <th>...</th>\n      <td>...</td>\n      <td>...</td>\n      <td>...</td>\n      <td>...</td>\n      <td>...</td>\n      <td>...</td>\n    </tr>\n    <tr>\n      <th>886</th>\n      <td>32</td>\n      <td>34392.0</td>\n      <td>1</td>\n      <td>48.0</td>\n      <td>K1211</td>\n      <td>Hessen</td>\n    </tr>\n    <tr>\n      <th>887</th>\n      <td>41</td>\n      <td>68516.0</td>\n      <td>0</td>\n      <td>34.0</td>\n      <td>K1375</td>\n      <td>Sachsen</td>\n    </tr>\n    <tr>\n      <th>888</th>\n      <td>65</td>\n      <td>89685.0</td>\n      <td>0</td>\n      <td>23.0</td>\n      <td>K1965</td>\n      <td>Bayern</td>\n    </tr>\n    <tr>\n      <th>889</th>\n      <td>68</td>\n      <td>95714.0</td>\n      <td>0</td>\n      <td>32.0</td>\n      <td>K1540</td>\n      <td>Bayern</td>\n    </tr>\n    <tr>\n      <th>890</th>\n      <td>49</td>\n      <td>73319.0</td>\n      <td>0</td>\n      <td>27.0</td>\n      <td>K1207</td>\n      <td>Niedersachsen</td>\n    </tr>\n  </tbody>\n</table>\n<p>891 rows × 6 columns</p>\n</div>"
          },
          "metadata": {}
        }
      ],
      "execution_count": 91
    },
    {
      "id": "5d4480c1-c2be-47b8-9646-c337ff0277ca",
      "cell_type": "markdown",
      "source": "### 5.2 kunden_geo und besucher_geo zu df_final",
      "metadata": {
        "slideshow": {
          "slide_type": "skip"
        }
      }
    },
    {
      "id": "ce8787f9-747a-4a4d-bde7-caa9a0f718d5",
      "cell_type": "code",
      "source": "df_final = pd.concat([kunden_geo, besucher_geo], axis = 0, ignore_index = True)\ndf_final",
      "metadata": {
        "slideshow": {
          "slide_type": "skip"
        },
        "trusted": true
      },
      "outputs": [
        {
          "execution_count": 92,
          "output_type": "execute_result",
          "data": {
            "text/plain": "      Alter  Einkommen      Preis  Geschlecht  Zeit KundeNr      Niederlassung\n0        64    66894.0   88160.31           1  43.0   K0310             Bayern\n1        54    77644.0  103145.70           1  40.0   K1042             Berlin\n2        55    44341.0   80565.16           0  37.0   K0382  Baden-Württemberg\n3        49    67271.0   83949.89           0  42.0   K0498             Bayern\n4        46    49832.0   93781.58           0  41.0   K0552             Hessen\n...     ...        ...        ...         ...   ...     ...                ...\n1990     32    34392.0        NaN           1  48.0   K1211             Hessen\n1991     41    68516.0        NaN           0  34.0   K1375            Sachsen\n1992     65    89685.0        NaN           0  23.0   K1965             Bayern\n1993     68    95714.0        NaN           0  32.0   K1540             Bayern\n1994     49    73319.0        NaN           0  27.0   K1207      Niedersachsen\n\n[1995 rows x 7 columns]",
            "text/html": "<div>\n<style scoped>\n    .dataframe tbody tr th:only-of-type {\n        vertical-align: middle;\n    }\n\n    .dataframe tbody tr th {\n        vertical-align: top;\n    }\n\n    .dataframe thead th {\n        text-align: right;\n    }\n</style>\n<table border=\"1\" class=\"dataframe\">\n  <thead>\n    <tr style=\"text-align: right;\">\n      <th></th>\n      <th>Alter</th>\n      <th>Einkommen</th>\n      <th>Preis</th>\n      <th>Geschlecht</th>\n      <th>Zeit</th>\n      <th>KundeNr</th>\n      <th>Niederlassung</th>\n    </tr>\n  </thead>\n  <tbody>\n    <tr>\n      <th>0</th>\n      <td>64</td>\n      <td>66894.0</td>\n      <td>88160.31</td>\n      <td>1</td>\n      <td>43.0</td>\n      <td>K0310</td>\n      <td>Bayern</td>\n    </tr>\n    <tr>\n      <th>1</th>\n      <td>54</td>\n      <td>77644.0</td>\n      <td>103145.70</td>\n      <td>1</td>\n      <td>40.0</td>\n      <td>K1042</td>\n      <td>Berlin</td>\n    </tr>\n    <tr>\n      <th>2</th>\n      <td>55</td>\n      <td>44341.0</td>\n      <td>80565.16</td>\n      <td>0</td>\n      <td>37.0</td>\n      <td>K0382</td>\n      <td>Baden-Württemberg</td>\n    </tr>\n    <tr>\n      <th>3</th>\n      <td>49</td>\n      <td>67271.0</td>\n      <td>83949.89</td>\n      <td>0</td>\n      <td>42.0</td>\n      <td>K0498</td>\n      <td>Bayern</td>\n    </tr>\n    <tr>\n      <th>4</th>\n      <td>46</td>\n      <td>49832.0</td>\n      <td>93781.58</td>\n      <td>0</td>\n      <td>41.0</td>\n      <td>K0552</td>\n      <td>Hessen</td>\n    </tr>\n    <tr>\n      <th>...</th>\n      <td>...</td>\n      <td>...</td>\n      <td>...</td>\n      <td>...</td>\n      <td>...</td>\n      <td>...</td>\n      <td>...</td>\n    </tr>\n    <tr>\n      <th>1990</th>\n      <td>32</td>\n      <td>34392.0</td>\n      <td>NaN</td>\n      <td>1</td>\n      <td>48.0</td>\n      <td>K1211</td>\n      <td>Hessen</td>\n    </tr>\n    <tr>\n      <th>1991</th>\n      <td>41</td>\n      <td>68516.0</td>\n      <td>NaN</td>\n      <td>0</td>\n      <td>34.0</td>\n      <td>K1375</td>\n      <td>Sachsen</td>\n    </tr>\n    <tr>\n      <th>1992</th>\n      <td>65</td>\n      <td>89685.0</td>\n      <td>NaN</td>\n      <td>0</td>\n      <td>23.0</td>\n      <td>K1965</td>\n      <td>Bayern</td>\n    </tr>\n    <tr>\n      <th>1993</th>\n      <td>68</td>\n      <td>95714.0</td>\n      <td>NaN</td>\n      <td>0</td>\n      <td>32.0</td>\n      <td>K1540</td>\n      <td>Bayern</td>\n    </tr>\n    <tr>\n      <th>1994</th>\n      <td>49</td>\n      <td>73319.0</td>\n      <td>NaN</td>\n      <td>0</td>\n      <td>27.0</td>\n      <td>K1207</td>\n      <td>Niedersachsen</td>\n    </tr>\n  </tbody>\n</table>\n<p>1995 rows × 7 columns</p>\n</div>"
          },
          "metadata": {}
        }
      ],
      "execution_count": 92
    },
    {
      "id": "f0253604",
      "cell_type": "markdown",
      "source": "### 5.3 CSV Datei df_final",
      "metadata": {
        "slideshow": {
          "slide_type": "skip"
        }
      }
    },
    {
      "id": "de0a6a1c",
      "cell_type": "code",
      "source": "df_final.to_csv('df_final.csv', index=False)",
      "metadata": {
        "slideshow": {
          "slide_type": "skip"
        },
        "trusted": true
      },
      "outputs": [],
      "execution_count": 93
    },
    {
      "id": "57b2a703-8845-4a90-beb6-bffe1286dd87",
      "cell_type": "code",
      "source": "<html>\n<body>\n</body>\n</html>",
      "metadata": {
        "trusted": true
      },
      "outputs": [
        {
          "ename": "<class 'SyntaxError'>",
          "evalue": "invalid syntax (<ipython-input-94-1a5546d10e5d>, line 1)",
          "traceback": [
            "\u001b[0;36m  Cell \u001b[0;32mIn[94], line 1\u001b[0;36m\u001b[0m\n\u001b[0;31m    <html>\u001b[0m\n\u001b[0m    ^\u001b[0m\n\u001b[0;31mSyntaxError\u001b[0m\u001b[0;31m:\u001b[0m invalid syntax\n"
          ],
          "output_type": "error"
        }
      ],
      "execution_count": 94
    },
    {
      "id": "d55858c6",
      "cell_type": "markdown",
      "source": "<html>\n<body>\n<font size = \"8\">Elektrauto AG</font><br>\n<i>HWR Berlin, Sommersemester 2024 </i><br>\n<i> Maximilian Czapons, Monika Nekipelova, Nicola Reitz</i><br>\n<i> 27. Juni 2024 </i>\n</body>\n</html>",
      "metadata": {
        "slideshow": {
          "slide_type": "slide"
        }
      }
    },
    {
      "id": "43d26dfc-3074-4f19-91bd-fe41c2ca29fe",
      "cell_type": "markdown",
      "source": "<font size = \"8\">CEO Präsentation: Performance Analyse</font>",
      "metadata": {}
    },
    {
      "id": "1fde6ff6-7dbb-43e3-a245-433b450e2ada",
      "cell_type": "markdown",
      "source": "<html>\n<body>\n<font size = \"8\">Gliederung</font><br>\n    <ol>\n        <li> Verkaufszahlen </li>\n        <li> Umsatzzahlen </li>\n        <li> Regionale Verteilung </li>\n        <li> Kundenanalyse </li>\n        <li> Einfluss der sozioökonomischen Faktoren </li>\n    </ol>\n</body>\n</html>",
      "metadata": {}
    },
    {
      "id": "ed0cac4c-7c3a-4e0f-8973-c3148a6ab063",
      "cell_type": "markdown",
      "source": "# Verkaufszahlen",
      "metadata": {}
    },
    {
      "id": "4ffabf5f-f067-4ede-abde-b2917eaf6dc4",
      "cell_type": "markdown",
      "source": "<html>\n<body>\n<font size = \"6\"> F1: Wie viele Autos wurden verkauft</font>\n    <h3>Trotz wenigen Monaten im Markt starke Zahlen:</h3>\n        <ul> \n            <li> 1104 verkaufte Autos </li>\n            <li> Eintritt gelungen</li>\n        </ul>\n</body>\n</html>",
      "metadata": {
        "slideshow": {
          "slide_type": "slide"
        }
      }
    },
    {
      "id": "e593f456-3d6f-43e6-8308-cfb9f1d4692f",
      "cell_type": "markdown",
      "source": "<html>\n<body>\n<font size = \"6\">F2: Was ist der Höchst-, Mindest- und Durchschnittspreis?</font>\n    <br><br><br>\n<table border=\"1\" class=\"dataframe\" style=\"float: left;\">\n  <thead>\n    <tr style=\"text-align: left;\">\n      <th></th>\n      <th>Maximaler Verkaufspreis</th>\n      <th>Minimaler Verkaufspreis</th>\n      <th>Durchschnittspreis</th>\n    </tr>\n  </thead>\n  <tbody>\n    <tr>\n      <th></th>\n      <td>165.482,31 Euro</td>\n      <td>21.471,65 Euro</td>\n      <td>88.975,20 Euro</td>\n    </tr>\n  </tbody>\n</table>\n</body>\n</html>",
      "metadata": {
        "slideshow": {
          "slide_type": "subslide"
        }
      }
    },
    {
      "id": "e6546fe7-9594-4984-9f91-f4c4e4f9b929",
      "cell_type": "markdown",
      "source": "<html>\n<body>\n    <h3> Große Spanne </h3>\n        <ul> \n            <li> Diversifizierte Produktlinie </li>\n            <li> Diverse Zusatzoptionen mit Aufpreisen </li>\n        </ul>\n\n</body>\n</html>",
      "metadata": {}
    },
    {
      "id": "21c00822-5a78-4777-8c79-c80be404e3bf",
      "cell_type": "markdown",
      "source": "<html>\n<body>\n    <h3> Nutzen der Spanne </h3>\n        <ul> Verschiedene Kostenoptionen (mit je Zusatzoptionen)\n            <li> günstig </li>\n            <li> mittel</li>\n            <li> teuer</li>\n        </ul>\n        <ul> Verschiedene Modelle (mit je Zusatzoptionen)\n            <li> Kleinwagen </li>\n            <li> SUV</li>\n            <li> Sportwagen </li>\n        </ul>\n</body>\n</html>",
      "metadata": {}
    },
    {
      "id": "47fef317-7279-4104-8dd8-a5fc686c6be6",
      "cell_type": "markdown",
      "source": "# Umsatzzahlen",
      "metadata": {}
    },
    {
      "id": "980b38c9-ebde-48ee-9132-78812447647f",
      "cell_type": "markdown",
      "source": "\n<html>\n<body>\n<font size = \"6\">F3: Wie hoch war der Gesamtumsatz?</font>\n    <h3> In den wenigen Monaten im Markt beeindruckenden Umsatz erzielt</h3>\n    <ul> \n        <li> Gesamtumsatz: 92.228.619,38 Euro</li>\n        <li> Eintritt gelungen </li>\n    </ul>\n</body>\n</html>",
      "metadata": {
        "slideshow": {
          "slide_type": "subslide"
        }
      }
    },
    {
      "id": "3756f8f3-f9c8-4236-9e7b-1802060c2887",
      "cell_type": "markdown",
      "source": "# Regionale Aufteilung",
      "metadata": {}
    },
    {
      "id": "a6f72c4f-cc79-4f7e-a715-fddb48a52931",
      "cell_type": "markdown",
      "source": "<html>    \n<body>\n    <font size=\"6\">F4: Wie viele Autos wurden pro Bundesland verkauft?</font>\n</body>\n</html>",
      "metadata": {}
    },
    {
      "id": "e0b69c7d-f90b-46b1-a02b-be4ed0b967b3",
      "cell_type": "code",
      "source": "autos_pro_bundesland = kunden_geo[\"Niederlassung\"].value_counts()\nautos_pro_bundesland\n",
      "metadata": {
        "slideshow": {
          "slide_type": "skip"
        },
        "tags": [],
        "trusted": true
      },
      "outputs": [
        {
          "execution_count": 95,
          "output_type": "execute_result",
          "data": {
            "text/plain": "Baden-Württemberg      205\nBayern                 188\nNordrhein-Westfalen    175\nBerlin                 126\nHessen                  96\nNiedersachsen           96\nSachsen                 89\nThüringen               49\nHamburg                 43\nBrandenburg             37\nName: Niederlassung, dtype: int64"
          },
          "metadata": {}
        }
      ],
      "execution_count": 95
    },
    {
      "id": "359dd30a-c13f-43f6-9486-eaa5c657b6cd",
      "cell_type": "code",
      "source": "# Erstellen eines Diagramms zur Darstellung\n# Dataframe\ndaten = {\"Bundesland\" : [\"Baden-Württemberg\" , \"Bayern\" , \"Nordrhein-Westfalen\" , \"Berlin\" , \"Hessen\" , \"Niedersachsen\",\n                        \"Sachsen\" , \"Thüringen\" , \"Hamburg\" , \"Brandenburg\"] , \n        \"Verkäufe\" : [205 , 188 , 175 , 126 , 96 , 96 , 89 , 49 , 43 , 37]}\n\ndf_autos_pro_bundesland = pd.DataFrame(daten)\n\nverkäufe_durchschnitt = df_autos_pro_bundesland[\"Verkäufe\"].mean()\n\n# Diagramm\nplt.figure(figsize=(10, 6))\ndiagramm = plt.bar(df_autos_pro_bundesland[\"Bundesland\"],df_autos_pro_bundesland[\"Verkäufe\"], color=\"lightsteelblue\")\nplt.axhline(y=verkäufe_durchschnitt, color='red', linestyle='--', linewidth=2)\n\nfor bar in diagramm:\n    height = bar.get_height()\n    plt.text(bar.get_x() + bar.get_width() / 2, height, f\"{int(height)}\", ha = \"center\", va = \"center_baseline\", fontsize=10)\n    \nplt.title(\"Anzahl der verkauften Autos pro Bundesland\")\nplt.xlabel(\"Bundesland\")\nplt.ylabel(\"Anzahl der verkauften Autos\")\nplt.xticks(rotation=45, ha='right')  \nplt.tight_layout()\nplt.show()",
      "metadata": {
        "slideshow": {
          "slide_type": "fragment"
        },
        "trusted": true
      },
      "outputs": [
        {
          "output_type": "display_data",
          "data": {
            "text/plain": "<Figure size 1000x600 with 1 Axes>",
            "image/png": "[encoded data removed]"
          },
          "metadata": {}
        }
      ],
      "execution_count": 96
    },
    {
      "id": "2558b0b0-eab0-47fa-b12a-5255965a2021",
      "cell_type": "markdown",
      "source": "",
      "metadata": {}
    },
    {
      "id": "eb1eb12c-6d1d-4d08-9358-a5e0c74e1f55",
      "cell_type": "markdown",
      "source": "<body>\n<html>\n<font size = \"6\">F5: Wie hoch war der durchschnittliche Umsatz pro Bundesland?</font>\n</body>\n</html>",
      "metadata": {
        "slideshow": {
          "slide_type": "subslide"
        }
      }
    },
    {
      "id": "df37090c-5e4e-47ee-a4c7-43e79d5d6233",
      "cell_type": "code",
      "source": "umsatz_pro_bundesland = kunden_geo.groupby(\"Niederlassung\")[\"Preis\"].agg(\"mean\")\numsatz_pro_bundesland = umsatz_pro_bundesland.round(2)\numsatz_pro_bundesland",
      "metadata": {
        "slideshow": {
          "slide_type": "skip"
        },
        "trusted": true
      },
      "outputs": [
        {
          "execution_count": 97,
          "output_type": "execute_result",
          "data": {
            "text/plain": "Niederlassung\nBaden-Württemberg      90969.56\nBayern                 89344.31\nBerlin                 89584.98\nBrandenburg            86673.64\nHamburg                85549.50\nHessen                 85864.93\nNiedersachsen          87963.31\nNordrhein-Westfalen    88633.27\nSachsen                89455.08\nThüringen              90816.99\nName: Preis, dtype: float64"
          },
          "metadata": {}
        }
      ],
      "execution_count": 97
    },
    {
      "id": "2a09408b-4db1-4b92-9cdb-d109cda49c5a",
      "cell_type": "code",
      "source": "# Erstellen eines Diagramms zur Darstellung\n# Dataframe\ndaten2 = {\"Bundesland\" : [\"Baden-Württemberg\" , \"Bayern\" , \"Nordrhein-Westfalen\" , \"Berlin\" , \"Hessen\" , \"Niedersachsen\",\n                        \"Sachsen\" , \"Thüringen\" , \"Hamburg\" , \"Brandenburg\"] , \n        \"Umsatz\" : [90969.56 , 89344.31 , 89584.98 , 86673.64 , 85549.50 , 85864.93 , 87963.31 , 88633.27 , 89455.08 , 90816.99]}\n\ndf_umsatz_pro_bundesland = pd.DataFrame(daten2)\n\n# Diagramm\nplt.figure(figsize=(10, 6))\ndiagramm2 = plt.bar(df_umsatz_pro_bundesland[\"Bundesland\"],df_umsatz_pro_bundesland[\"Umsatz\"], color=\"lightsteelblue\")\n\nfor bar in diagramm2:\n    height = bar.get_height()\n    plt.text(bar.get_x() + bar.get_width() / 2, height, f\"{int(height)}\", ha = \"center\", va = \"center_baseline\", fontsize=10)\n\nplt.title(\"Umsatz pro Bundesland\")\nplt.xlabel(\"Bundesland\")\nplt.ylabel(\"Umsatz (in €)\")\nplt.xticks(rotation=45, ha='right')  \nplt.tight_layout()\nplt.show()\n",
      "metadata": {
        "slideshow": {
          "slide_type": "fragment"
        },
        "trusted": true
      },
      "outputs": [
        {
          "output_type": "display_data",
          "data": {
            "text/plain": "<Figure size 1000x600 with 1 Axes>",
            "image/png": "[encoded data removed]"
          },
          "metadata": {}
        }
      ],
      "execution_count": 98
    },
    {
      "id": "bd377ac2-bea4-40b9-a6b5-7b772f9ee352",
      "cell_type": "markdown",
      "source": "<html>\n<body>\n<font size = \"6\"> F6: In welchem Bundesland wurde das teuerste Auto verkauft?</font>\n    <h3>Bundesland und Preis:</h3>\n        <ul> \n            <li> teuerstes Auto: In Niedersachsen für 165.482,31 Euro  </li>\n            <li> günstigstes Auto: In Sachsen für 21.471,65 Euro </li>\n        </ul>\n</body>\n</html>",
      "metadata": {
        "slideshow": {
          "slide_type": "subslide"
        }
      }
    },
    {
      "id": "00e8302d-25d2-4c10-a77d-854fd87224f3",
      "cell_type": "markdown",
      "source": "# Kundenanalyse",
      "metadata": {}
    },
    {
      "id": "0c123aa4-ec00-4c2f-b8fb-e7b1a6b57403",
      "cell_type": "markdown",
      "source": "<html>\n<body>\n<font size = \"6\">F7: Haben mehr Frauen oder mehr Männer unsere Autos gekauft?</font>\n</body>\n</html>",
      "metadata": {
        "slideshow": {
          "slide_type": "subslide"
        }
      }
    },
    {
      "id": "b4fdd350-b83b-420c-9770-fc8b012b4812",
      "cell_type": "code",
      "source": "geschlecht_vergleich = kunden_geo[\"Geschlecht\"].value_counts()\n\nlabels = [\"männlich\", \"weiblich\"]\nsizes = [700,400]\ncolors = [\"lightblue\",\"lightpink\"]\nplt.pie(sizes, labels = labels, colors = colors, autopct = \"%1.1f%%\", startangle = 90)\nplt.axis(\"equal\")\nplt.title(\"Verteilung der verkauften Autos nach Geschlecht\")\nplt.show()\n",
      "metadata": {
        "slideshow": {
          "slide_type": "fragment"
        },
        "trusted": true
      },
      "outputs": [
        {
          "output_type": "display_data",
          "data": {
            "text/plain": "<Figure size 640x480 with 1 Axes>",
            "image/png": "[encoded data removed]"
          },
          "metadata": {}
        }
      ],
      "execution_count": 110
    },
    {
      "id": "c725b277-7bd9-4f3f-9f4e-dc71d40cff15",
      "cell_type": "markdown",
      "source": "<html>\n<body> \n<font size = \"6\">F8: Wie hoch ist das Durchschnittsalter unserer Kunden und unserer Besucher?</font>\n        <h3>Durchschnittsalter der Kunden und Besucher</h3>\n        <table border=\"1\" class=\"dataframe\" style=\"float: left;\">\n            <tr>\n                <th>Kategorie</th>\n                <th>Durchschnittsalter</th>\n            </tr>\n            <tr>\n                <td>Kunden</td>\n                <td>50,38 Jahre</td>\n            </tr>\n            <tr>\n                <td>Besucher</td>\n                <td>49,88 Jahre</td>\n            </tr>\n        </table>\n</body>\n</html>",
      "metadata": {}
    },
    {
      "id": "32f401cd-d47e-4a54-9eff-a0debf3419cc",
      "cell_type": "markdown",
      "source": "<html>\n<body>\n<font size = \"6\">F9: Wie hoch ist das Durchschnittseinkommen unserer Kunden und unserer Besucher</font>\n    <h3>Durchschnittseinkommen der Kunden und Besucher</h3>\n        <table border=\"1\" class=\"dataframe\" style=\"float: left;\">\n            <tr>\n                <th>Kategorie</th>\n                <th>Durchschnittseinkommen</th>\n            </tr>\n            <tr>\n                <td>Kunden</td>\n                <td>58.850,91 Euro</td>\n            </tr>\n            <tr>\n                <td>Besucher</td>\n                <td>59.367,93 Euro</td>\n            </tr>\n        </table>\n</body>\n</html>",
      "metadata": {
        "slideshow": {
          "slide_type": "subslide"
        }
      }
    },
    {
      "id": "a9637242-d8c5-4d8e-bb3f-c6f11e0644c2",
      "cell_type": "markdown",
      "source": "<html>\n<body>\n<font size = \"6\">13. Wie viele Kunden haben keinen Bankkredit aufgenommen, um das Auto zu kaufen?</font>\n    <h3> Mögliches Risiko:</h3>\n        <ul> \n            <li> 5 Kunden haben keinen Kredit aufgenommen  </li>\n            <li> 99,55% unserer Kunden finanzieren sich ihr Auto mit einem Kredit</li>\n        </ul>\n</body>\n</html>",
      "metadata": {}
    },
    {
      "id": "36ee5bc9-24a3-49d2-a803-68db1437923e",
      "cell_type": "markdown",
      "source": "# Einfluss der sozioökonomischen Faktoren",
      "metadata": {}
    },
    {
      "id": "d2bae546-e581-4438-80f1-1f552a662ba9",
      "cell_type": "markdown",
      "source": "<html>\n<body>\n<font size = \"6\">F14: Welche sozioökonomischen Merkmale beeinflussen den Kaufpreis? </font><br>\n    <table border=\"1\" class=\"dataframe\" style=\"float: left;\">\n        <tr>\n                <th>Faktor</th>\n                <th>Preiserhöhung pro 1 Einheit des Faktors</th>\n            </tr>\n            <tr>\n                <td>Alter</td>\n                <td>499,50 Euro</td>\n            </tr>\n            <tr>\n                <td>Einkommen</td>\n                <td>1,05 Euro</td>\n            </tr>\n            <tr>\n                <td>Geschlecht (wenn männlich)</td>\n                <td>2214,94 Euro</td>\n            </tr>\n    </table>\n</body>\n</html>",
      "metadata": {}
    },
    {
      "id": "c90b73ee-f015-4cfc-8a21-30d7e6078fb4",
      "cell_type": "markdown",
      "source": "<html>\n<body>\n<font size = \"8\"> Ende der CEO Präsentation</font>\n</body>\n</html>",
      "metadata": {}
    },
    {
      "id": "f2a4e89d-a363-48b4-bbe4-6e9ddd33bda4",
      "cell_type": "markdown",
      "source": "<html>\n<body>\n<font size = \"8\"> Präsentation für Vorgesetzte und Kollegen</font>\n</body>\n</html>",
      "metadata": {}
    },
    {
      "id": "12a39386",
      "cell_type": "markdown",
      "source": "<font size = \"6\">10. Gibt es einen statistisch signifikanten Unterschied zwischen dem Durchschnittseinkommen der Kunden und dem der Besucher?</font>",
      "metadata": {
        "slideshow": {
          "slide_type": "subslide"
        }
      }
    },
    {
      "id": "76c97210-58b3-436a-9907-d7edb63ed797",
      "cell_type": "code",
      "source": "# H0:μ_kunden = μ_besucher\n# H1:μ_kunden != μ_besucher\n# α = 0.05\n\nstats.ttest_ind(kunden_geo[\"Einkommen\"], besucher_geo[\"Einkommen\"], equal_var = True)\n\n\nt_stat, p_val = stats.ttest_ind(kunden_geo[\"Einkommen\"].dropna(), besucher_geo[\"Einkommen\"].dropna(), equal_var=False)\nt_stat, p_val\n\n# Teststatistik = -0.7035, p-Wert = 0.4818\n# Da p-Wert > α , kann die H0 nicht abgelehnt werden. Es liegen nicht genügende Anhaltspunkte vor, dass das Durchschnittseinkommen der Besucher und Kunden unterschiedlich ist",
      "metadata": {
        "slideshow": {
          "slide_type": "fragment"
        }
      },
      "outputs": [
        {
          "data": {
            "text/plain": [
              "(-0.7047786382342843, 0.4810335763152168)"
            ]
          },
          "execution_count": 101,
          "metadata": {},
          "output_type": "execute_result"
        }
      ],
      "execution_count": 101
    },
    {
      "id": "c28da68e",
      "cell_type": "markdown",
      "source": "<font size = \"6\">11. Pearson-Korrelations-Koeffizient zwischen den Variablen Alter, Einkommen, Preis und Zeit</font>",
      "metadata": {
        "slideshow": {
          "slide_type": "slide"
        }
      }
    },
    {
      "id": "31136814",
      "cell_type": "code",
      "source": "ausgewählte_spalten = [\"Alter\", \"Einkommen\", \"Preis\", \"Zeit\"]\nkorrelations_matrix = kunden_geo[ausgewählte_spalten].corr(method = 'pearson')\n\nsns.heatmap(korrelations_matrix, annot = True, cmap = \"coolwarm\", linewidth = 1)\nplt.title(\"Korrelationsmatrix\")\nplt.show()",
      "metadata": {
        "slideshow": {
          "slide_type": "fragment"
        }
      },
      "outputs": [
        {
          "data": {
            "image/png": "[encoded data removed]",
            "text/plain": [
              "<Figure size 640x480 with 2 Axes>"
            ]
          },
          "metadata": {},
          "output_type": "display_data"
        }
      ],
      "execution_count": 102
    },
    {
      "id": "14d10e9f",
      "cell_type": "markdown",
      "source": "<font size = \"6\">12. ist die Variable Zeit approximativ normalverteilt? (qq-Plot)>",
      "metadata": {
        "slideshow": {
          "slide_type": "slide"
        }
      }
    },
    {
      "id": "b95dc825",
      "cell_type": "code",
      "source": "zeit = df_final[\"Zeit\"]\n\n# qq-Plot erstellen:\nplt.figure(figsize = (8, 6))\nstats.probplot(zeit, dist=\"norm\", plot=plt)\nplt.title('QQ-Plot der Variable \"Zeit\"')\nplt.xlabel('Theoretische Quantile')\nplt.ylabel('Beobachtete Quantile')\nplt.show()\n# da die Punkte entlang einer geraden Linie verlaufen kann davon ausgegangen werden, dass die Daten approvimativ normalverteilt sind",
      "metadata": {
        "slideshow": {
          "slide_type": "fragment"
        }
      },
      "outputs": [
        {
          "data": {
            "image/png": "[encoded data removed]",
            "text/plain": [
              "<Figure size 800x600 with 1 Axes>"
            ]
          },
          "metadata": {},
          "output_type": "display_data"
        }
      ],
      "execution_count": 103
    },
    {
      "id": "c3cb4c52",
      "cell_type": "markdown",
      "source": "<font size = \"6\">13. Wie viele Kunden haben keinen Bankkredit aufgenommen, um das Auto zu kaufen? Also wie viele Kunden haben ein Jahreseinkommen, das über dem Autopreis liegt?</font>",
      "metadata": {
        "slideshow": {
          "slide_type": "slide"
        }
      }
    },
    {
      "id": "19a0652f",
      "cell_type": "code",
      "source": "bedingung_einkommen_größer_preis = kunden_geo[\"Einkommen\"] > kunden_geo[\"Preis\"]\ncount_einkommen_größer_preis = bedingung_einkommen_größer_preis.sum()\ncount_einkommen_größer_preis\n# 5 Kunden haben keinen Kredit aufnehmen müssen, um das Auto zu kaufen",
      "metadata": {
        "slideshow": {
          "slide_type": "fragment"
        }
      },
      "outputs": [
        {
          "data": {
            "text/plain": [
              "5"
            ]
          },
          "execution_count": 104,
          "metadata": {},
          "output_type": "execute_result"
        }
      ],
      "execution_count": 104
    },
    {
      "id": "89f153b7",
      "cell_type": "markdown",
      "source": "<font size = \"6\">14. Welche sozioökonomischen Merkmale beeinflussen den Kaufpreis? Schätzen Sie eine Regression. </font>",
      "metadata": {
        "slideshow": {
          "slide_type": "slide"
        }
      }
    },
    {
      "id": "a8997005",
      "cell_type": "code",
      "source": "# unabhängige Variablen: Alter, Einkommen, Geschlecht\n# abhängige Variable: Preis\n\ny_kunden = kunden_geo[\"Preis\"]\n\nX_kunden = kunden_geo[['Alter', 'Einkommen', 'Geschlecht']]\n\nX_kunden = sm.add_constant(X_kunden)  # Konstante für den Intercept\n                \nmodel_kunden = sm.OLS(y_kunden, X_kunden).fit()\nmodel_kunden.summary()\n# Regression: Preis = 692.5659 +499.5016*Alter +1.0485*Einkommen + 2214.9438*Geschlecht\n# alle drei Faktoren haben einen statistischen Einfluss auf den Preis",
      "metadata": {
        "slideshow": {
          "slide_type": "fragment"
        }
      },
      "outputs": [
        {
          "data": {
            "text/html": [
              "<table class=\"simpletable\">\n",
              "<caption>OLS Regression Results</caption>\n",
              "<tr>\n",
              "  <th>Dep. Variable:</th>          <td>Preis</td>      <th>  R-squared:         </th> <td>   0.822</td> \n",
              "</tr>\n",
              "<tr>\n",
              "  <th>Model:</th>                   <td>OLS</td>       <th>  Adj. R-squared:    </th> <td>   0.821</td> \n",
              "</tr>\n",
              "<tr>\n",
              "  <th>Method:</th>             <td>Least Squares</td>  <th>  F-statistic:       </th> <td>   1692.</td> \n",
              "</tr>\n",
              "<tr>\n",
              "  <th>Date:</th>             <td>Wed, 26 Jun 2024</td> <th>  Prob (F-statistic):</th>  <td>  0.00</td>  \n",
              "</tr>\n",
              "<tr>\n",
              "  <th>Time:</th>                 <td>18:26:33</td>     <th>  Log-Likelihood:    </th> <td> -11770.</td> \n",
              "</tr>\n",
              "<tr>\n",
              "  <th>No. Observations:</th>      <td>  1104</td>      <th>  AIC:               </th> <td>2.355e+04</td>\n",
              "</tr>\n",
              "<tr>\n",
              "  <th>Df Residuals:</th>          <td>  1100</td>      <th>  BIC:               </th> <td>2.357e+04</td>\n",
              "</tr>\n",
              "<tr>\n",
              "  <th>Df Model:</th>              <td>     3</td>      <th>                     </th>     <td> </td>    \n",
              "</tr>\n",
              "<tr>\n",
              "  <th>Covariance Type:</th>      <td>nonrobust</td>    <th>                     </th>     <td> </td>    \n",
              "</tr>\n",
              "</table>\n",
              "<table class=\"simpletable\">\n",
              "<tr>\n",
              "       <td></td>         <th>coef</th>     <th>std err</th>      <th>t</th>      <th>P>|t|</th>  <th>[0.025</th>    <th>0.975]</th>  \n",
              "</tr>\n",
              "<tr>\n",
              "  <th>const</th>      <td>  692.5659</td> <td> 1416.702</td> <td>    0.489</td> <td> 0.625</td> <td>-2087.177</td> <td> 3472.308</td>\n",
              "</tr>\n",
              "<tr>\n",
              "  <th>Alter</th>      <td>  499.5016</td> <td>   40.136</td> <td>   12.445</td> <td> 0.000</td> <td>  420.750</td> <td>  578.253</td>\n",
              "</tr>\n",
              "<tr>\n",
              "  <th>Einkommen</th>  <td>    1.0485</td> <td>    0.029</td> <td>   35.925</td> <td> 0.000</td> <td>    0.991</td> <td>    1.106</td>\n",
              "</tr>\n",
              "<tr>\n",
              "  <th>Geschlecht</th> <td> 2214.9438</td> <td>  648.591</td> <td>    3.415</td> <td> 0.001</td> <td>  942.328</td> <td> 3487.559</td>\n",
              "</tr>\n",
              "</table>\n",
              "<table class=\"simpletable\">\n",
              "<tr>\n",
              "  <th>Omnibus:</th>       <td>40.847</td> <th>  Durbin-Watson:     </th> <td>   2.104</td>\n",
              "</tr>\n",
              "<tr>\n",
              "  <th>Prob(Omnibus):</th> <td> 0.000</td> <th>  Jarque-Bera (JB):  </th> <td>  79.427</td>\n",
              "</tr>\n",
              "<tr>\n",
              "  <th>Skew:</th>          <td> 0.244</td> <th>  Prob(JB):          </th> <td>5.66e-18</td>\n",
              "</tr>\n",
              "<tr>\n",
              "  <th>Kurtosis:</th>      <td> 4.220</td> <th>  Cond. No.          </th> <td>2.81e+05</td>\n",
              "</tr>\n",
              "</table><br/><br/>Notes:<br/>[1] Standard Errors assume that the covariance matrix of the errors is correctly specified.<br/>[2] The condition number is large, 2.81e+05. This might indicate that there are<br/>strong multicollinearity or other numerical problems."
            ],
            "text/latex": [
              "\\begin{center}\n",
              "\\begin{tabular}{lclc}\n",
              "\\toprule\n",
              "\\textbf{Dep. Variable:}    &      Preis       & \\textbf{  R-squared:         } &     0.822   \\\\\n",
              "\\textbf{Model:}            &       OLS        & \\textbf{  Adj. R-squared:    } &     0.821   \\\\\n",
              "\\textbf{Method:}           &  Least Squares   & \\textbf{  F-statistic:       } &     1692.   \\\\\n",
              "\\textbf{Date:}             & Wed, 26 Jun 2024 & \\textbf{  Prob (F-statistic):} &     0.00    \\\\\n",
              "\\textbf{Time:}             &     18:26:33     & \\textbf{  Log-Likelihood:    } &   -11770.   \\\\\n",
              "\\textbf{No. Observations:} &        1104      & \\textbf{  AIC:               } & 2.355e+04   \\\\\n",
              "\\textbf{Df Residuals:}     &        1100      & \\textbf{  BIC:               } & 2.357e+04   \\\\\n",
              "\\textbf{Df Model:}         &           3      & \\textbf{                     } &             \\\\\n",
              "\\textbf{Covariance Type:}  &    nonrobust     & \\textbf{                     } &             \\\\\n",
              "\\bottomrule\n",
              "\\end{tabular}\n",
              "\\begin{tabular}{lcccccc}\n",
              "                    & \\textbf{coef} & \\textbf{std err} & \\textbf{t} & \\textbf{P$> |$t$|$} & \\textbf{[0.025} & \\textbf{0.975]}  \\\\\n",
              "\\midrule\n",
              "\\textbf{const}      &     692.5659  &     1416.702     &     0.489  &         0.625        &    -2087.177    &     3472.308     \\\\\n",
              "\\textbf{Alter}      &     499.5016  &       40.136     &    12.445  &         0.000        &      420.750    &      578.253     \\\\\n",
              "\\textbf{Einkommen}  &       1.0485  &        0.029     &    35.925  &         0.000        &        0.991    &        1.106     \\\\\n",
              "\\textbf{Geschlecht} &    2214.9438  &      648.591     &     3.415  &         0.001        &      942.328    &     3487.559     \\\\\n",
              "\\bottomrule\n",
              "\\end{tabular}\n",
              "\\begin{tabular}{lclc}\n",
              "\\textbf{Omnibus:}       & 40.847 & \\textbf{  Durbin-Watson:     } &    2.104  \\\\\n",
              "\\textbf{Prob(Omnibus):} &  0.000 & \\textbf{  Jarque-Bera (JB):  } &   79.427  \\\\\n",
              "\\textbf{Skew:}          &  0.244 & \\textbf{  Prob(JB):          } & 5.66e-18  \\\\\n",
              "\\textbf{Kurtosis:}      &  4.220 & \\textbf{  Cond. No.          } & 2.81e+05  \\\\\n",
              "\\bottomrule\n",
              "\\end{tabular}\n",
              "%\\caption{OLS Regression Results}\n",
              "\\end{center}\n",
              "\n",
              "Notes: \\newline\n",
              " [1] Standard Errors assume that the covariance matrix of the errors is correctly specified. \\newline\n",
              " [2] The condition number is large, 2.81e+05. This might indicate that there are \\newline\n",
              " strong multicollinearity or other numerical problems."
            ],
            "text/plain": [
              "<class 'statsmodels.iolib.summary.Summary'>\n",
              "\"\"\"\n",
              "                            OLS Regression Results                            \n",
              "==============================================================================\n",
              "Dep. Variable:                  Preis   R-squared:                       0.822\n",
              "Model:                            OLS   Adj. R-squared:                  0.821\n",
              "Method:                 Least Squares   F-statistic:                     1692.\n",
              "Date:                Wed, 26 Jun 2024   Prob (F-statistic):               0.00\n",
              "Time:                        18:26:33   Log-Likelihood:                -11770.\n",
              "No. Observations:                1104   AIC:                         2.355e+04\n",
              "Df Residuals:                    1100   BIC:                         2.357e+04\n",
              "Df Model:                           3                                         \n",
              "Covariance Type:            nonrobust                                         \n",
              "==============================================================================\n",
              "                 coef    std err          t      P>|t|      [0.025      0.975]\n",
              "------------------------------------------------------------------------------\n",
              "const        692.5659   1416.702      0.489      0.625   -2087.177    3472.308\n",
              "Alter        499.5016     40.136     12.445      0.000     420.750     578.253\n",
              "Einkommen      1.0485      0.029     35.925      0.000       0.991       1.106\n",
              "Geschlecht  2214.9438    648.591      3.415      0.001     942.328    3487.559\n",
              "==============================================================================\n",
              "Omnibus:                       40.847   Durbin-Watson:                   2.104\n",
              "Prob(Omnibus):                  0.000   Jarque-Bera (JB):               79.427\n",
              "Skew:                           0.244   Prob(JB):                     5.66e-18\n",
              "Kurtosis:                       4.220   Cond. No.                     2.81e+05\n",
              "==============================================================================\n",
              "\n",
              "Notes:\n",
              "[1] Standard Errors assume that the covariance matrix of the errors is correctly specified.\n",
              "[2] The condition number is large, 2.81e+05. This might indicate that there are\n",
              "strong multicollinearity or other numerical problems.\n",
              "\"\"\""
            ]
          },
          "execution_count": 105,
          "metadata": {},
          "output_type": "execute_result"
        }
      ],
      "execution_count": 105
    },
    {
      "id": "76e07db6",
      "cell_type": "markdown",
      "source": "<font size = \"6\"> 15. Prognose des Kaufpreises für 32-jährigen männlichen Kunden mit Einkommen von 30 000 Euro. Prognose des Kaufpreises für einen männlichen Kunden von 51 Jahren und Einkommen von 54 000 Euro.</font> ",
      "metadata": {
        "slideshow": {
          "slide_type": "slide"
        }
      }
    },
    {
      "id": "622ec0b0",
      "cell_type": "code",
      "source": "X_predict_kunden = pd.DataFrame({\n    'Alter': [32, 51],\n    'Einkommen': [30000, 54000],\n    'Geschlecht': [1,1]\n})\n\nX_predict_kunden = sm.add_constant(X_predict_kunden, has_constant='add')\n\nprediction_kunden = model_kunden.predict(X_predict_kunden)\n\nprediction_kunden\n# Das Modell schätzt den Kaufpreis eines 32-jährigen männlichen Kundens mit Einkommen von 30 000 Euro auf 50345.86 Euro\n# Das Modell schätzt den Kaufpreis eines 51-jährigen männlichen Kundens mit Einkommen von 54 000 Euro auf 84999.83 Euro\n\n",
      "metadata": {
        "slideshow": {
          "slide_type": "fragment"
        }
      },
      "outputs": [
        {
          "data": {
            "text/plain": [
              "0    50345.858611\n",
              "1    84999.827319\n",
              "dtype: float64"
            ]
          },
          "execution_count": 106,
          "metadata": {},
          "output_type": "execute_result"
        }
      ],
      "execution_count": 106
    },
    {
      "id": "cd239c22",
      "cell_type": "markdown",
      "source": "<font size = \"6\"> 16. Welche Variable beeinflusst den Preis des Autos am\nmeisten? Vergleichbarkeit der Regressionskoeffizienten durch logistische Regression.</font>",
      "metadata": {
        "slideshow": {
          "slide_type": "slide"
        }
      }
    },
    {
      "id": "d618996b",
      "cell_type": "code",
      "source": "# unabhängige Variablen: Alter, Einkommen, Geschlecht\n# abhängige Variable: Preis\n\n# Standardisierung\nX_stand = kunden_geo[['Alter', 'Einkommen', 'Geschlecht', \"Preis\"]]\nStandard = X_stand.select_dtypes(include=[np.number]).dropna().apply(stats.zscore)\n\n# Regression\nregression = 'Preis ~ Alter + Einkommen + Geschlecht' \nresult = smf.ols(regression, data=Standard).fit()\n\n# Betas \nround(result.params, 6)\n\n# Den meisten Einfluss auf den Autopreis hat das Einkommen mit einem Beta von rund 0,7.\n",
      "metadata": {
        "slideshow": {
          "slide_type": "fragment"
        }
      },
      "outputs": [
        {
          "data": {
            "text/plain": [
              "Intercept    -0.000000\n",
              "Alter         0.244021\n",
              "Einkommen     0.704733\n",
              "Geschlecht    0.043492\n",
              "dtype: float64"
            ]
          },
          "execution_count": 107,
          "metadata": {},
          "output_type": "execute_result"
        }
      ],
      "execution_count": 107
    },
    {
      "id": "74261642",
      "cell_type": "markdown",
      "source": "<font size = \"6\">17. Regression, die die Wahrscheinlichkeit des Kaufs eines Autos ermittelt</font>",
      "metadata": {
        "slideshow": {
          "slide_type": "slide"
        }
      }
    },
    {
      "id": "180c4e09",
      "cell_type": "code",
      "source": "# spalte einfügen, ob Kunde = 1 oder Besucher = 0\nkunden_geo['Kauf'] = 1\nbesucher_geo['Kauf'] = 0\n\n# Besucher unter Kunden anfügen\ndaten_alle = pd.concat([kunden_geo, besucher_geo])\n\n# Überprüfung ob Käufer = 1 und Besucher = 0\ndaten_alle",
      "metadata": {
        "slideshow": {
          "slide_type": "fragment"
        }
      },
      "outputs": [
        {
          "data": {
            "text/html": [
              "<div>\n",
              "<style scoped>\n",
              "    .dataframe tbody tr th:only-of-type {\n",
              "        vertical-align: middle;\n",
              "    }\n",
              "\n",
              "    .dataframe tbody tr th {\n",
              "        vertical-align: top;\n",
              "    }\n",
              "\n",
              "    .dataframe thead th {\n",
              "        text-align: right;\n",
              "    }\n",
              "</style>\n",
              "<table border=\"1\" class=\"dataframe\">\n",
              "  <thead>\n",
              "    <tr style=\"text-align: right;\">\n",
              "      <th></th>\n",
              "      <th>Alter</th>\n",
              "      <th>Einkommen</th>\n",
              "      <th>Preis</th>\n",
              "      <th>Geschlecht</th>\n",
              "      <th>Zeit</th>\n",
              "      <th>KundeNr</th>\n",
              "      <th>Niederlassung</th>\n",
              "      <th>Kauf</th>\n",
              "    </tr>\n",
              "  </thead>\n",
              "  <tbody>\n",
              "    <tr>\n",
              "      <th>0</th>\n",
              "      <td>64</td>\n",
              "      <td>66894.0</td>\n",
              "      <td>88160.31</td>\n",
              "      <td>1</td>\n",
              "      <td>43.0</td>\n",
              "      <td>K0310</td>\n",
              "      <td>Bayern</td>\n",
              "      <td>1</td>\n",
              "    </tr>\n",
              "    <tr>\n",
              "      <th>1</th>\n",
              "      <td>54</td>\n",
              "      <td>77644.0</td>\n",
              "      <td>103145.70</td>\n",
              "      <td>1</td>\n",
              "      <td>40.0</td>\n",
              "      <td>K1042</td>\n",
              "      <td>Berlin</td>\n",
              "      <td>1</td>\n",
              "    </tr>\n",
              "    <tr>\n",
              "      <th>2</th>\n",
              "      <td>55</td>\n",
              "      <td>44341.0</td>\n",
              "      <td>80565.16</td>\n",
              "      <td>0</td>\n",
              "      <td>37.0</td>\n",
              "      <td>K0382</td>\n",
              "      <td>Baden-Württemberg</td>\n",
              "      <td>1</td>\n",
              "    </tr>\n",
              "    <tr>\n",
              "      <th>3</th>\n",
              "      <td>49</td>\n",
              "      <td>67271.0</td>\n",
              "      <td>83949.89</td>\n",
              "      <td>0</td>\n",
              "      <td>42.0</td>\n",
              "      <td>K0498</td>\n",
              "      <td>Bayern</td>\n",
              "      <td>1</td>\n",
              "    </tr>\n",
              "    <tr>\n",
              "      <th>4</th>\n",
              "      <td>46</td>\n",
              "      <td>49832.0</td>\n",
              "      <td>93781.58</td>\n",
              "      <td>0</td>\n",
              "      <td>41.0</td>\n",
              "      <td>K0552</td>\n",
              "      <td>Hessen</td>\n",
              "      <td>1</td>\n",
              "    </tr>\n",
              "    <tr>\n",
              "      <th>...</th>\n",
              "      <td>...</td>\n",
              "      <td>...</td>\n",
              "      <td>...</td>\n",
              "      <td>...</td>\n",
              "      <td>...</td>\n",
              "      <td>...</td>\n",
              "      <td>...</td>\n",
              "      <td>...</td>\n",
              "    </tr>\n",
              "    <tr>\n",
              "      <th>886</th>\n",
              "      <td>32</td>\n",
              "      <td>34392.0</td>\n",
              "      <td>NaN</td>\n",
              "      <td>1</td>\n",
              "      <td>48.0</td>\n",
              "      <td>K1211</td>\n",
              "      <td>Hessen</td>\n",
              "      <td>0</td>\n",
              "    </tr>\n",
              "    <tr>\n",
              "      <th>887</th>\n",
              "      <td>41</td>\n",
              "      <td>68516.0</td>\n",
              "      <td>NaN</td>\n",
              "      <td>0</td>\n",
              "      <td>34.0</td>\n",
              "      <td>K1375</td>\n",
              "      <td>Sachsen</td>\n",
              "      <td>0</td>\n",
              "    </tr>\n",
              "    <tr>\n",
              "      <th>888</th>\n",
              "      <td>65</td>\n",
              "      <td>89685.0</td>\n",
              "      <td>NaN</td>\n",
              "      <td>0</td>\n",
              "      <td>23.0</td>\n",
              "      <td>K1965</td>\n",
              "      <td>Bayern</td>\n",
              "      <td>0</td>\n",
              "    </tr>\n",
              "    <tr>\n",
              "      <th>889</th>\n",
              "      <td>68</td>\n",
              "      <td>95714.0</td>\n",
              "      <td>NaN</td>\n",
              "      <td>0</td>\n",
              "      <td>32.0</td>\n",
              "      <td>K1540</td>\n",
              "      <td>Bayern</td>\n",
              "      <td>0</td>\n",
              "    </tr>\n",
              "    <tr>\n",
              "      <th>890</th>\n",
              "      <td>49</td>\n",
              "      <td>73319.0</td>\n",
              "      <td>NaN</td>\n",
              "      <td>0</td>\n",
              "      <td>27.0</td>\n",
              "      <td>K1207</td>\n",
              "      <td>Niedersachsen</td>\n",
              "      <td>0</td>\n",
              "    </tr>\n",
              "  </tbody>\n",
              "</table>\n",
              "<p>1995 rows × 8 columns</p>\n",
              "</div>"
            ],
            "text/plain": [
              "     Alter  Einkommen      Preis  Geschlecht  Zeit KundeNr      Niederlassung  \\\n",
              "0       64    66894.0   88160.31           1  43.0   K0310             Bayern   \n",
              "1       54    77644.0  103145.70           1  40.0   K1042             Berlin   \n",
              "2       55    44341.0   80565.16           0  37.0   K0382  Baden-Württemberg   \n",
              "3       49    67271.0   83949.89           0  42.0   K0498             Bayern   \n",
              "4       46    49832.0   93781.58           0  41.0   K0552             Hessen   \n",
              "..     ...        ...        ...         ...   ...     ...                ...   \n",
              "886     32    34392.0        NaN           1  48.0   K1211             Hessen   \n",
              "887     41    68516.0        NaN           0  34.0   K1375            Sachsen   \n",
              "888     65    89685.0        NaN           0  23.0   K1965             Bayern   \n",
              "889     68    95714.0        NaN           0  32.0   K1540             Bayern   \n",
              "890     49    73319.0        NaN           0  27.0   K1207      Niedersachsen   \n",
              "\n",
              "     Kauf  \n",
              "0       1  \n",
              "1       1  \n",
              "2       1  \n",
              "3       1  \n",
              "4       1  \n",
              "..    ...  \n",
              "886     0  \n",
              "887     0  \n",
              "888     0  \n",
              "889     0  \n",
              "890     0  \n",
              "\n",
              "[1995 rows x 8 columns]"
            ]
          },
          "execution_count": 108,
          "metadata": {},
          "output_type": "execute_result"
        }
      ],
      "execution_count": 108
    },
    {
      "id": "f0c12923-f96c-45ca-8b2c-d0651edb7f5e",
      "cell_type": "code",
      "source": "# Regression\ny_lg = daten_alle[\"Kauf\"]\n\nX_lg = daten_alle[['Alter', 'Einkommen', 'Geschlecht', 'Zeit']]\n\nX_lg = sm.add_constant(X_lg)\n\nmodel_lg = sm.Logit(y_lg, X_lg).fit()\n\nprint(model_lg.summary())",
      "metadata": {
        "slideshow": {
          "slide_type": "fragment"
        }
      },
      "outputs": [
        {
          "name": "stdout",
          "output_type": "stream",
          "text": [
            "Optimization terminated successfully.\n",
            "         Current function value: 0.578825\n",
            "         Iterations 6\n",
            "                           Logit Regression Results                           \n",
            "==============================================================================\n",
            "Dep. Variable:                   Kauf   No. Observations:                 1995\n",
            "Model:                          Logit   Df Residuals:                     1990\n",
            "Method:                           MLE   Df Model:                            4\n",
            "Date:                Wed, 26 Jun 2024   Pseudo R-squ.:                  0.1580\n",
            "Time:                        18:26:33   Log-Likelihood:                -1154.8\n",
            "converged:                       True   LL-Null:                       -1371.4\n",
            "Covariance Type:            nonrobust   LLR p-value:                 1.715e-92\n",
            "==============================================================================\n",
            "                 coef    std err          z      P>|z|      [0.025      0.975]\n",
            "------------------------------------------------------------------------------\n",
            "const         -2.4360      0.264     -9.242      0.000      -2.953      -1.919\n",
            "Alter          0.0183      0.007      2.662      0.008       0.005       0.032\n",
            "Einkommen  -4.243e-05   5.44e-06     -7.801      0.000   -5.31e-05   -3.18e-05\n",
            "Geschlecht     0.2455      0.103      2.383      0.017       0.044       0.447\n",
            "Zeit           0.1022      0.006     17.535      0.000       0.091       0.114\n",
            "==============================================================================\n"
          ]
        }
      ],
      "execution_count": 109
    },
    {
      "id": "f5ebea07-0cb2-4cb9-a9ca-8e644d8028fa",
      "cell_type": "markdown",
      "source": "<font size = \"6\">18. Wie hoch ist die Wahrscheinlichkeit, dass Person x,y unser Auto kauft?</font>",
      "metadata": {
        "slideshow": {
          "slide_type": "slide"
        }
      }
    },
    {
      "id": "c6d07e51",
      "cell_type": "code",
      "source": "# Kundendaten\nPerson_x = [1, 32, 30000, 1, 30]  # Kauf (1 = Kauf), Alter, Einkommen, Geschlecht (1 = männlich), Zeit \nPerson_y = [1, 51, 54000, 1, 45] \n\n# Modell\nparams = model_lg.params\n\n# Person X\nlog_1 = np.dot(params, Person_x)\nwahrscheinlichkeit_person_x = 1 / (1 + np.exp(-log_1))\n\n# Person Y \nlog_2 = np.dot(params, Person_y)\nwahrscheinlichkeit_person_y = 1 / (1 + np.exp(-log_2))\n\nprint(wahrscheinlichkeit_person_x)\nprint(wahrscheinlichkeit_person_y)",
      "metadata": {
        "slideshow": {
          "slide_type": "fragment"
        }
      },
      "outputs": [
        {
          "name": "stdout",
          "output_type": "stream",
          "text": [
            "0.5465430448696972\n",
            "0.7404466545605655\n"
          ]
        }
      ],
      "execution_count": 110
    },
    {
      "id": "c47f1329-0d7a-4f1c-8914-f1835c9339c6",
      "cell_type": "markdown",
      "source": "<font size = \"6\">19. Probleme bei der Zusammenführung des Datensatzes und Operationen zum Zusammenführen und Bereinigen der Daten</font>",
      "metadata": {
        "slideshow": {
          "slide_type": "slide"
        }
      }
    },
    {
      "id": "e3b9356c",
      "cell_type": "code",
      "source": "# 1.Umwandlung von Geschlecht in der Kunden-Datei von float in integer: kunden[\"Geschlecht\"] = kunden[\"Geschlecht\"].astype(\"int64\")\n\n# 2.Fehlende Daten in Kunden-Datei für Geschlecht:\n# Herausgefunden mit der Operation kunden.isnull().sum(): zeigt die Werte mit \"NaN\", also wo keine Angaben sind\n# Ermittlung des Modalwerts von Geschlecht: mit kunden[\"Geschlecht\"].mode()\n# Ersetzen der fehlenden Werte mit Modalwert: kunden.fillna(value = modalwert_kunden, axis = 0, inplace = True): setzt einen Wert für \"NaN\" ein, bei uns den Modalwert\n\n\n# 3.Ausreißer in Kundendatei für Alter und Einkommen:\n# Ausreißer beim Alter der Kunden identifizieren: kunden.loc[kunden['Ausreißer'] == True]: (2 Ausreißer: Personen im Alter von 100 und 120 Jahren werden kein Auto mehr kaufen)\n# boxplot und describe-Tabelle zeigen die Ausreißer an: boxplot_alter = kunden.boxplot(column = 'Alter')\n# kunden.describe().T\n# Berechnung des Interquartilsabstandes: Q1, Q3 und IQR\n# Q1_Alter = kunden['Alter'].quantile(0.25)\n# Q3_Alter = kunden['Alter'].quantile(0.75)\n# IQR_Alter = Q3_Alter - Q1_Alter\n\n# Berechnung der Ausreißer-Grenzen:\n# untere_grenze_Alter = Q1_Alter - 1.5 * IQR_Alter\n# obere_grenze_Alter = Q3_Alter + 1.5 * IQR_Alter\n# kunden['Ausreißer'] = (kunden['Alter'] < untere_grenze_Alter) | (kunden['Alter'] > obere_grenze_Alter)\n\n# Ersetzen der Ausreißer in der Alters-Spalte durch Medianwert: alter_median = kunden['Alter'].median() und # kunden.replace([120, 100], alter_median, inplace=True)\n\n# 4. Ausreißer-Werte beim Kunden-Einkommen identifiziert und mit dem Medianwert ersetzt (gleiches Prozedere wie bei Alter)\n\n# 5. Bereinigung des Besucher-Datensatzes:\n# Bereinigung der Kommaschreibweise und Umwandlung der dtypes von Einkommen, Zeit in Floats und Geschlecht in Integer\n# Beispielhaft für Einkommen:\n# besucher[\"Einkommen\"] = besucher[\"Einkommen\"].str.replace(\",\",\".\")\n# besucher[\"Einkommen\"] = pd.to_numeric(besucher[\"Einkommen\"]) \n# besucher[\"Einkommen\"] = besucher[\"Einkommen\"].round(0).astype(\"float64\")\n# keine fehlenden Datenpunkte bei Besucher-Datei. Ausreißer entsprechen plausiblen Werten, daher wurden sie erhalten.\n\n# 6.Umwandlung der geo-Datei von txt in csv: geo = pd.read_csv(\"geo.txt\", sep = \"\\t\")\n\n# 7.Geo-Daten bereinigen: \n# Überprüfung aller einmaligen Werte: geo_niederlassung_uniques = geo[\"Niederlassung\"].unique()\n\n# Ersetzen der Werte, so dass jedes \"Bundesland\" nur einen Wert hat: \n# geo_cleaning = {\n# \"NRW\" : \"Nordrhein-Westfalen\" ,\n# \"Berlin-Charlottenburg\" : \"Berlin\" ,\n# \"Berlin-Mitte\" : \"Berlin\" ,\n# \"BERLIN\" : \"Berlin\",\n# \"Düsseldorf\" : \"Nordrhein-Westfalen\"}\n\n# geo[\"Niederlassung\"] = geo[\"Niederlassung\"].replace(geo_cleaning, regex = True)\n\n# 8. Zusammenfügen der Kunden-Datei mit der Geo-Dateo: kunden_geo = pd.merge(kunden,geo, on = \"KundeNr\")\n# Zusammefügen der Besucher-Datei mit der Geo-Datei \n# Zusammenfügen der Kunden-Geo und Besucher-Geo-Datei zu einer finalen Datei: df_final = pd.concat([kunden_geo, besucher_geo], axis = 0, ignore_index = True)\n# CSV.Datei df_final exportieren: df_final.to_csv('df_final.csv', index=False)\n",
      "metadata": {
        "slideshow": {
          "slide_type": "fragment"
        }
      },
      "outputs": [],
      "execution_count": null
    },
    {
      "id": "3b21bbd7",
      "cell_type": "markdown",
      "source": "<font size = \"6\">20. Vorschlaege für die Kundenabteilung</font>",
      "metadata": {
        "slideshow": {
          "slide_type": "slide"
        }
      }
    },
    {
      "id": "4760c2cb",
      "cell_type": "markdown",
      "source": "- Einheitliche Daten: entweder Trennung durch Komma oder Punkt\n- Vorgegebene Antwortmoeglichkeiten, um fehlende und fehlerhafte Angaben zu vermeiden\n- Geo-Daten nach genauen Standorten zum Abgleich mit lokalem Einkommensniveau und lokalen Präferenzen (Stadt, Land)\n- Weitere Informationen zu Kundenpräferenzen bezüglich Getriebe, Modell, Jahr, Kilometerstand (bei Gebrauchtwagen)\n- Messung der Kundenzufriedenheit anhand einer Skala",
      "metadata": {
        "slideshow": {
          "slide_type": "fragment"
        }
      }
    },
    {
      "id": "70593410-9442-4281-bd40-18e1e39797eb",
      "cell_type": "code",
      "source": "<font size = \"8\">Vielen Dank für Ihre Aufmerksamkeit!</font>",
      "metadata": {
        "slideshow": {
          "slide_type": "slide"
        }
      },
      "outputs": [],
      "execution_count": 113
    }
  ]
}