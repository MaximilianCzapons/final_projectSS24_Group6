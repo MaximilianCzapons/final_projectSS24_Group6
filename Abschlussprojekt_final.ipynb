{
  "metadata": {
    "kernelspec": {
      "name": "python",
      "display_name": "Python (Pyodide)",
      "language": "python"
    },
    "language_info": {
      "codemirror_mode": {
        "name": "python",
        "version": 3
      },
      "file_extension": ".py",
      "mimetype": "text/x-python",
      "name": "python",
      "nbconvert_exporter": "python",
      "pygments_lexer": "ipython3",
      "version": "3.8"
    }
  },
  "nbformat_minor": 5,
  "nbformat": 4,
  "cells": [
    {
      "id": "59dbdcb7",
      "cell_type": "markdown",
      "source": "# Bereinigung der Datensätze",
      "metadata": {
        "slideshow": {
          "slide_type": ""
        },
        "tags": []
      }
    },
    {
      "id": "6914f38d-04c5-455d-9a44-06bb29483ed6",
      "cell_type": "markdown",
      "source": "## 1. Importieren der Pakete",
      "metadata": {}
    },
    {
      "id": "611b4ad8-8f0d-42ca-8be6-2314d95e6e6f",
      "cell_type": "code",
      "source": "import pandas as pd\nimport matplotlib.pyplot as plt\nimport numpy as np\nfrom scipy import stats",
      "metadata": {
        "trusted": true
      },
      "outputs": [],
      "execution_count": null
    },
    {
      "id": "20b5f2d9",
      "cell_type": "markdown",
      "source": "## 2. Kundendaten",
      "metadata": {}
    },
    {
      "id": "0eac4c81-703d-4aff-a26d-7372a53f7a21",
      "cell_type": "markdown",
      "source": "### 2.1 Kundendatei einlesen",
      "metadata": {}
    },
    {
      "id": "fad08255",
      "cell_type": "code",
      "source": "kunden = pd.read_csv(\"kunden.csv\", decimal = '.', sep = \";\")\nkunden.head()",
      "metadata": {
        "trusted": true
      },
      "outputs": [],
      "execution_count": null
    },
    {
      "id": "d5022e9a-b102-4ea9-ae5c-0f5ea84f4577",
      "cell_type": "markdown",
      "source": "### 2.2 Überblick über Datentypen",
      "metadata": {}
    },
    {
      "id": "1f0a053f",
      "cell_type": "code",
      "source": "kunden.dtypes",
      "metadata": {
        "trusted": true
      },
      "outputs": [],
      "execution_count": null
    },
    {
      "id": "21b4b255-768d-4e12-9ac0-fac3cc16fe16",
      "cell_type": "markdown",
      "source": "### 2.3. Bereinigung",
      "metadata": {}
    },
    {
      "id": "dfc76067",
      "cell_type": "markdown",
      "source": "### 2.3.1 Fehlende Datenpunkte ermitteln und ersetzen",
      "metadata": {}
    },
    {
      "id": "0a459b24",
      "cell_type": "code",
      "source": "kunden.isnull().sum()",
      "metadata": {
        "trusted": true
      },
      "outputs": [],
      "execution_count": null
    },
    {
      "id": "8e5bfd33",
      "cell_type": "code",
      "source": "# Finden des Modalwertes:",
      "metadata": {
        "trusted": true
      },
      "outputs": [],
      "execution_count": null
    },
    {
      "id": "eb4d8d0c",
      "cell_type": "code",
      "source": "modalwert_kunden = kunden['Geschlecht'].mode()[0]",
      "metadata": {
        "trusted": true
      },
      "outputs": [],
      "execution_count": null
    },
    {
      "id": "281480c0",
      "cell_type": "code",
      "source": "modalwert_kunden",
      "metadata": {
        "trusted": true
      },
      "outputs": [],
      "execution_count": null
    },
    {
      "id": "c6bf589f",
      "cell_type": "code",
      "source": "# Ersetzen der 5 fehlenden Geschlechtseinträge mit dem Modalwert 1.0",
      "metadata": {
        "trusted": true
      },
      "outputs": [],
      "execution_count": null
    },
    {
      "id": "d2af5f2d",
      "cell_type": "code",
      "source": "kunden.fillna(value = modalwert_kunden, axis = 0, inplace = True)",
      "metadata": {
        "trusted": true
      },
      "outputs": [],
      "execution_count": null
    },
    {
      "id": "7f5e11fc-a22e-4c13-91f1-f1b5ac573517",
      "cell_type": "code",
      "source": "# Überprüfung",
      "metadata": {
        "trusted": true
      },
      "outputs": [],
      "execution_count": null
    },
    {
      "id": "08ccd3d1",
      "cell_type": "code",
      "source": "kunden.isnull().sum()",
      "metadata": {
        "trusted": true
      },
      "outputs": [],
      "execution_count": null
    },
    {
      "id": "e4febb36-807b-4f50-bd57-b643bb53b7d1",
      "cell_type": "markdown",
      "source": "### 2.3.2 Ausreißer ermitteln und entfernen",
      "metadata": {}
    },
    {
      "id": "fd6815eb-a49b-4ddd-b6c6-a302ba14f04f",
      "cell_type": "code",
      "source": "# Außreißer ermitteln\nkunden.describe().T",
      "metadata": {
        "trusted": true
      },
      "outputs": [],
      "execution_count": null
    },
    {
      "id": "ad1750cc-c3b7-4508-96b3-3019e9b3d607",
      "cell_type": "markdown",
      "source": "### 2.3.2.1 Alter ",
      "metadata": {}
    },
    {
      "id": "c6a280a6",
      "cell_type": "code",
      "source": "boxplot_alter = kunden.boxplot(column = 'Alter')\nplt.show()",
      "metadata": {
        "trusted": true
      },
      "outputs": [],
      "execution_count": null
    },
    {
      "id": "849f2d87-21fa-4f0a-a2c4-fd3b7dca90de",
      "cell_type": "code",
      "source": "# zwei (?) Ausreißer zu erkennen",
      "metadata": {
        "trusted": true
      },
      "outputs": [],
      "execution_count": null
    },
    {
      "id": "81eb8902-104b-4ac0-a4a3-3313711eb073",
      "cell_type": "code",
      "source": "# Berechnung von Q1, Q3 und IQR\nQ1_Alter = kunden['Alter'].quantile(0.25)\nQ3_Alter = kunden['Alter'].quantile(0.75)\nIQR_Alter = Q3_Alter - Q1_Alter\n# Berechnung der Ausreißer-Grenzen\nuntere_grenze_Alter = Q1_Alter - 1.5 * IQR_Alter\nobere_grenze_Alter = Q3_Alter + 1.5 * IQR_Alter\nkunden['Ausreißer'] = (kunden['Alter'] < untere_grenze_Alter) | (kunden['Alter'] > obere_grenze_Alter)\nausreißer_alter = kunden.Ausreißer.value_counts()\nausreißer_alter",
      "metadata": {
        "trusted": true
      },
      "outputs": [],
      "execution_count": null
    },
    {
      "id": "0df22729-c6e0-490c-bf09-04a119fd87ed",
      "cell_type": "code",
      "source": "# Ermitteln der genauen Werte der Ausreißer",
      "metadata": {
        "trusted": true
      },
      "outputs": [],
      "execution_count": null
    },
    {
      "id": "9b3acc1f-9773-4b15-9e2b-8ba478c0108c",
      "cell_type": "code",
      "source": "kunden.loc[kunden['Ausreißer'] == True]",
      "metadata": {
        "trusted": true
      },
      "outputs": [],
      "execution_count": null
    },
    {
      "id": "c7fccb9c-604a-493b-a158-05cbb6fa9b21",
      "cell_type": "code",
      "source": "# Personen im Alter von 100 und 120 Jahren werden kein Auto mehr kaufen",
      "metadata": {
        "trusted": true
      },
      "outputs": [],
      "execution_count": null
    },
    {
      "id": "8c56494b-9d00-43dd-a4a6-016fc3a1b581",
      "cell_type": "code",
      "source": "# Ersetzen der Ausreißer in der Alters-Spalte durch Medianwert\nalter_median = kunden['Alter'].median()\nkunden.replace([120, 100], alter_median, inplace=True)",
      "metadata": {
        "trusted": true
      },
      "outputs": [],
      "execution_count": null
    },
    {
      "id": "847ba99c-589e-4419-bd7d-a775c36fdbb0",
      "cell_type": "code",
      "source": "# Überprüfen ob noch Ausreißer vorhanden sind\nkunden['Ausreißer'] = (kunden['Alter'] < untere_grenze_Alter) | (kunden['Alter'] > obere_grenze_Alter)\nausreißer_alter = kunden.Ausreißer.value_counts()\nausreißer_alter",
      "metadata": {
        "trusted": true
      },
      "outputs": [],
      "execution_count": null
    },
    {
      "id": "8a2eb429-37fa-4b82-953d-004dc34ccb0d",
      "cell_type": "code",
      "source": "# keine Ausreißer mehr vorhanden",
      "metadata": {
        "trusted": true
      },
      "outputs": [],
      "execution_count": null
    },
    {
      "id": "f6ed8f33-4fdc-4fae-acd0-85c09cf88baf",
      "cell_type": "markdown",
      "source": "## 2.3.2.2 Einkommen ",
      "metadata": {}
    },
    {
      "id": "0cfec3d4",
      "cell_type": "code",
      "source": "boxplot_einkommen = kunden.boxplot(column = 'Einkommen')\nplt.show()",
      "metadata": {
        "trusted": true
      },
      "outputs": [],
      "execution_count": null
    },
    {
      "id": "0e47b07c-b6d2-4fb7-8cbd-d445bddf10ec",
      "cell_type": "code",
      "source": "# ?? Ausreißer zu erkennen",
      "metadata": {
        "trusted": true
      },
      "outputs": [],
      "execution_count": null
    },
    {
      "id": "44411014-f36c-449e-8a87-ecc56796cf43",
      "cell_type": "code",
      "source": "# Berechnung von Q1, Q3 und IQR der Einkommens-Spalte\nQ1_einkommen = kunden['Einkommen'].quantile(0.25)\nQ3_einkommen = kunden['Einkommen'].quantile(0.75)\nIQR_einkommen = Q3_einkommen - Q1_einkommen\nIQR_einkommen\nuntere_grenze_einkommen = Q1_einkommen - 1.5 * IQR_einkommen\nobere_grenze_einkommen = Q3_einkommen + 1.5 * IQR_einkommen\nkunden['Ausreißer'] = (kunden['Einkommen'] < untere_grenze_einkommen) | (kunden['Einkommen'] > obere_grenze_einkommen)\nausreißer_einkommen = kunden.Ausreißer.value_counts()\nausreißer_einkommen",
      "metadata": {
        "trusted": true
      },
      "outputs": [],
      "execution_count": null
    },
    {
      "id": "fd5cbd2c-a93b-4a93-82e1-f014bdc99d82",
      "cell_type": "code",
      "source": "# Ermitteln der genauen Werte der Ausreißer\nkunden.loc[kunden['Ausreißer'] == True]",
      "metadata": {
        "trusted": true
      },
      "outputs": [],
      "execution_count": null
    },
    {
      "id": "1ed00e1b-cdd4-4330-95d8-0735de9a6369",
      "cell_type": "code",
      "source": "# Ersetzen der Ausreißer in der Einkommens-Spalte durch Medianwert\neinkommen_median = kunden['Einkommen'].median()\nkunden.replace({'Einkommen': [1.000000e+09, 1.076890e+05, 0.000000e+00, -62840.374523]}, einkommen_median, inplace=True)",
      "metadata": {
        "trusted": true
      },
      "outputs": [],
      "execution_count": null
    },
    {
      "id": "d50a1586-2c17-45d9-b780-8be7fa7081ee",
      "cell_type": "code",
      "source": "# Überprüfen ob noch Ausreißer vorhanden sind\nkunden['Ausreißer'] = (kunden['Einkommen'] < untere_grenze_einkommen) | (kunden['Einkommen'] > obere_grenze_einkommen)\nausreißer_einkommen = kunden.Ausreißer.value_counts()\nausreißer_einkommen",
      "metadata": {
        "trusted": true
      },
      "outputs": [],
      "execution_count": null
    },
    {
      "id": "4da5fe78-4a32-4387-8a29-4c9d3b8144d9",
      "cell_type": "code",
      "source": "# keine Ausreißer mehr vorhanden",
      "metadata": {
        "trusted": true
      },
      "outputs": [],
      "execution_count": null
    },
    {
      "id": "9894d36d-9c58-4ec2-89a3-aa82dbda8c5d",
      "cell_type": "markdown",
      "source": "### 2.3.2.3 Preis",
      "metadata": {}
    },
    {
      "id": "b6b5af6c",
      "cell_type": "code",
      "source": "boxplot_preis = kunden.boxplot(column = 'Preis')\nplt.show()",
      "metadata": {
        "trusted": true
      },
      "outputs": [],
      "execution_count": null
    },
    {
      "id": "200399fa-2f9d-4913-84b9-da295cf3e215",
      "cell_type": "code",
      "source": "# ein (?) Ausreißer zu erkennen",
      "metadata": {
        "trusted": true
      },
      "outputs": [],
      "execution_count": null
    },
    {
      "id": "3364ad26-e096-464b-8568-5a7f30087a86",
      "cell_type": "code",
      "source": "Q1_preis = kunden['Preis'].quantile(0.25)\nQ3_preis = kunden['Preis'].quantile(0.75)\nIQR_preis = Q3_preis - Q1_preis\nIQR_preis\nuntere_grenze_preis = Q1_preis - 1.5 * IQR_preis\nobere_grenze_preis = Q3_preis + 1.5 * IQR_preis\nkunden['Ausreißer'] = (kunden['Preis'] < untere_grenze_preis) | (kunden['Preis'] > obere_grenze_preis)\nausreißer_preis = kunden.Ausreißer.value_counts()\nausreißer_preis",
      "metadata": {
        "trusted": true
      },
      "outputs": [],
      "execution_count": null
    },
    {
      "id": "c1b8f91f-954a-4c43-837d-53ed898ccb35",
      "cell_type": "code",
      "source": "# Ermitteln der genauen Werte der Ausreißer\nkunden.loc[kunden['Ausreißer'] == True]",
      "metadata": {
        "trusted": true
      },
      "outputs": [],
      "execution_count": null
    },
    {
      "id": "1ae4b8c2-5fea-4cbe-aa0c-76bd554c13f1",
      "cell_type": "code",
      "source": "# bei einem Einkommen von 59.013 ist es überraschend sich ein Auto im Preis von 165.482,31 zu kaufen, aber möglich, daher wird der Wert behalten\n",
      "metadata": {
        "trusted": true
      },
      "outputs": [],
      "execution_count": null
    },
    {
      "id": "9811adce",
      "cell_type": "markdown",
      "source": "### 2.3.2.4 Zeit",
      "metadata": {}
    },
    {
      "id": "1b839bcc-3072-4950-9d2f-49d271671c40",
      "cell_type": "code",
      "source": "boxplot_preis = kunden.boxplot(column = 'Zeit')\nplt.show()",
      "metadata": {
        "trusted": true
      },
      "outputs": [],
      "execution_count": null
    },
    {
      "id": "fecd704e-a27e-44d0-83cf-0a8a32ff1aab",
      "cell_type": "code",
      "source": "# mehrere Ausreißer zu erkennen",
      "metadata": {
        "trusted": true
      },
      "outputs": [],
      "execution_count": null
    },
    {
      "id": "18f08f32",
      "cell_type": "code",
      "source": "# Berechnung von Q1, Q3 und IQR der Zeit-Spalte\nQ1_zeit = kunden['Zeit'].quantile(0.25)\nQ3_zeit = kunden['Zeit'].quantile(0.75)\nIQR_zeit = Q3_zeit - Q1_zeit\nIQR_zeit\nuntere_grenze_zeit = Q1_zeit - 1.5 * IQR_zeit\nobere_grenze_zeit = Q3_zeit + 1.5 * IQR_zeit\nkunden['Ausreißer'] = (kunden['Zeit'] < untere_grenze_zeit) | (kunden['Zeit'] > obere_grenze_zeit)\nausreißer_zeit = kunden.Ausreißer.value_counts()\nausreißer_zeit",
      "metadata": {
        "trusted": true
      },
      "outputs": [],
      "execution_count": null
    },
    {
      "id": "2e63e8d9",
      "cell_type": "code",
      "source": "# Ermittlung der genauen Werte der Ausreißer\nkunden.loc[kunden['Ausreißer'] == True]",
      "metadata": {
        "trusted": true
      },
      "outputs": [],
      "execution_count": null
    },
    {
      "id": "30c658a9-67f0-4ef4-b6d6-1be025559ab0",
      "cell_type": "code",
      "source": "# Die Zeiten sind möglich, z.B. 12 Minuten weil keine Probefahrt gemacht wurde oder 80 Minuten weil eine lange gemacht wurde, Werte bleiben erhalten",
      "metadata": {
        "trusted": true
      },
      "outputs": [],
      "execution_count": null
    },
    {
      "id": "ba356621-0127-4ec9-b073-11219a996223",
      "cell_type": "code",
      "source": "kunden",
      "metadata": {
        "trusted": true
      },
      "outputs": [],
      "execution_count": null
    },
    {
      "id": "8c444290",
      "cell_type": "code",
      "source": "# Boolean-Spalte wieder entfernen\nkunden = kunden.drop(kunden.columns[-1], axis=1)\nkunden",
      "metadata": {
        "trusted": true
      },
      "outputs": [],
      "execution_count": null
    },
    {
      "id": "8e25bed9-a53d-4bdc-97b9-07a576355e97",
      "cell_type": "markdown",
      "source": "## 3. Besucherdaten",
      "metadata": {}
    },
    {
      "id": "8d2f50a4-b8d0-4b6e-8994-76abdfdc4253",
      "cell_type": "markdown",
      "source": "### 3.1 Besucherdatei einlesen",
      "metadata": {}
    },
    {
      "id": "09fd1f7c-1849-44b9-bc35-4fcfc760f3fe",
      "cell_type": "code",
      "source": "besucher = pd.read_csv(\"besucher.csv\", decimal = '.', sep = \";\")\nbesucher.head()",
      "metadata": {
        "trusted": true
      },
      "outputs": [],
      "execution_count": null
    },
    {
      "id": "952b4a01-a628-4ff6-bdb9-1de8fb234ca9",
      "cell_type": "markdown",
      "source": "### 3.2 Überblick über Datentypen",
      "metadata": {}
    },
    {
      "id": "9f45ee44-4546-49a5-8d16-01ba6e724738",
      "cell_type": "code",
      "source": "besucher.dtypes",
      "metadata": {
        "trusted": true
      },
      "outputs": [],
      "execution_count": null
    },
    {
      "id": "151e9427-7596-4386-b3d8-cc9e64e043f6",
      "cell_type": "code",
      "source": "# zum Vergleich: Kunden\nkunden.dtypes",
      "metadata": {
        "trusted": true
      },
      "outputs": [],
      "execution_count": null
    },
    {
      "id": "f8bcdd25-690d-423b-accc-f2d718a3546e",
      "cell_type": "code",
      "source": "# Alter = int, Einkommen = float (ändern bei besucher), Preis = float, Geschlecht = int (ändern bei kunden), Zeit = float (ändern bei besucher), KundeNr = object",
      "metadata": {
        "trusted": true
      },
      "outputs": [],
      "execution_count": null
    },
    {
      "id": "175b6b36-c3f8-4c85-a428-851a35d57c10",
      "cell_type": "markdown",
      "source": "### 3.3. Bereinigung",
      "metadata": {}
    },
    {
      "id": "03535ce2-f6bd-4636-be9e-3a5a74b9c24b",
      "cell_type": "code",
      "source": "# vermutlich ist die Kommaschreibweise aus dem deutschen, während wir die Werte in der englischen Schreibweise mit einem Punkt, statt Komma benötigen",
      "metadata": {
        "trusted": true
      },
      "outputs": [],
      "execution_count": null
    },
    {
      "id": "57d54a97-146f-44dc-9a1e-ccf0ec25ca63",
      "cell_type": "markdown",
      "source": "### 3.3.1 Bereinigung der Nachkommastellen und Umwandlung der dtypes",
      "metadata": {}
    },
    {
      "id": "dfc4734e-3852-4438-be97-a513dac153bf",
      "cell_type": "markdown",
      "source": "### 3.3.1.1 Einkommen",
      "metadata": {}
    },
    {
      "id": "9c198db0-8c5e-4407-9fbb-7c03abcb7fc4",
      "cell_type": "code",
      "source": "besucher[\"Einkommen\"] = besucher[\"Einkommen\"].str.replace(\",\",\".\")\nbesucher[\"Einkommen\"] = pd.to_numeric(besucher[\"Einkommen\"]) \nbesucher[\"Einkommen\"] = besucher[\"Einkommen\"].round(0).astype(\"float64\")\nbesucher",
      "metadata": {
        "trusted": true
      },
      "outputs": [],
      "execution_count": null
    },
    {
      "id": "23574315-6cf8-49e4-861e-e5addac7028a",
      "cell_type": "markdown",
      "source": "### 3.3.1.2 Zeit",
      "metadata": {}
    },
    {
      "id": "68414472-6a88-4178-bf20-281e3a55ff41",
      "cell_type": "code",
      "source": "besucher[\"Zeit\"] = besucher[\"Zeit\"].str.replace(\",\",\".\")\nbesucher[\"Zeit\"] = pd.to_numeric(besucher[\"Zeit\"])\nbesucher[\"Zeit\"] = besucher[\"Zeit\"].round(0).astype(\"float64\")\nbesucher",
      "metadata": {
        "trusted": true
      },
      "outputs": [],
      "execution_count": null
    },
    {
      "id": "533a46f4-ca63-485b-ad11-f163e592794c",
      "cell_type": "markdown",
      "source": "### 3.3.1.3 Geschlecht",
      "metadata": {}
    },
    {
      "id": "50b45e99-580b-491b-be14-e9c3a65d36b1",
      "cell_type": "code",
      "source": "kunden[\"Geschlecht\"] = kunden[\"Geschlecht\"].astype(\"int64\")\nkunden",
      "metadata": {
        "trusted": true
      },
      "outputs": [],
      "execution_count": null
    },
    {
      "id": "7f8d47fc-79e4-41ff-8f5e-6b95d062916a",
      "cell_type": "code",
      "source": "# Überprüfen der dtypes\nbesucher.dtypes, kunden.dtypes",
      "metadata": {
        "trusted": true
      },
      "outputs": [],
      "execution_count": null
    },
    {
      "id": "ecec2ca9-bbe4-47ec-8ff7-6e578fbcb81b",
      "cell_type": "markdown",
      "source": "### 3.3.2 Fehlende Datenpunkte ermitteln und ersetzen",
      "metadata": {}
    },
    {
      "id": "055acef9-70af-4af0-b9b3-ca8f8b3de400",
      "cell_type": "code",
      "source": "besucher.isnull().sum()",
      "metadata": {
        "trusted": true
      },
      "outputs": [],
      "execution_count": null
    },
    {
      "id": "703ca297-14dd-4032-a52a-83edcf48fd4c",
      "cell_type": "code",
      "source": "# keine fehlenden Datenpunkte im Datensatz",
      "metadata": {
        "trusted": true
      },
      "outputs": [],
      "execution_count": null
    },
    {
      "id": "720720bd-f6a7-4daf-be97-aba4c1e9fb97",
      "cell_type": "markdown",
      "source": "### 3.3.3 Ausreißer ermitteln und entfernen",
      "metadata": {}
    },
    {
      "id": "c406389b-29f5-49f1-8abc-6a00120023aa",
      "cell_type": "code",
      "source": "# Außreißer ermitteln\nkunden.describe().T",
      "metadata": {
        "trusted": true
      },
      "outputs": [],
      "execution_count": null
    },
    {
      "id": "ef8fa4df-4149-4a8e-876b-78e18545f630",
      "cell_type": "markdown",
      "source": "### 3.3.3.1 Alter",
      "metadata": {}
    },
    {
      "id": "c8972a3c-3306-411d-b7d8-0877b95f2bef",
      "cell_type": "code",
      "source": "boxplot_besucher_alter = besucher.boxplot(column = 'Alter')\nplt.show()",
      "metadata": {
        "trusted": true
      },
      "outputs": [],
      "execution_count": null
    },
    {
      "id": "6730eca4-d2c7-4254-956e-e69f63d5fbaa",
      "cell_type": "code",
      "source": "# sowohl bei describe-Tabelle als auch beim boxplot keine Ausreißer zu erkennen",
      "metadata": {
        "trusted": true
      },
      "outputs": [],
      "execution_count": null
    },
    {
      "id": "61e27a0b-4be7-4af4-8c87-de153892f9f4",
      "cell_type": "markdown",
      "source": "### 3.3.3.2 Einkommen",
      "metadata": {}
    },
    {
      "id": "69523c19-d7c8-4f1c-8021-8695caf4eb55",
      "cell_type": "code",
      "source": "boxplot_besucher_einkommen = besucher.boxplot(column = 'Einkommen')\nplt.show()",
      "metadata": {
        "trusted": true
      },
      "outputs": [],
      "execution_count": null
    },
    {
      "id": "f151db84-24a3-4550-84e8-039750251c54",
      "cell_type": "code",
      "source": "# mehrere Ausreißer zu erkennen",
      "metadata": {
        "trusted": true
      },
      "outputs": [],
      "execution_count": null
    },
    {
      "id": "f63485c2-4d8d-47f8-ab35-346c7ffe6ae9",
      "cell_type": "code",
      "source": "# Berechnung von Q1, Q3 und IQR der Zeit-Spalte\nQ1_einkommen_besucher = besucher['Einkommen'].quantile(0.25)\nQ3_einkommen_besucher = besucher['Einkommen'].quantile(0.75)\nIQR_einkommen_besucher = Q3_einkommen_besucher - Q1_einkommen_besucher\nuntere_grenze_einkommen_besucher = Q1_einkommen_besucher - 1.5 * IQR_einkommen_besucher\nobere_grenze_einkommen_besucher = Q3_einkommen_besucher + 1.5 * IQR_einkommen_besucher\nbesucher['Ausreißer'] = (besucher['Einkommen'] < untere_grenze_einkommen_besucher) | (besucher['Einkommen'] > obere_grenze_einkommen_besucher)\nausreißer_einkommen_besucher = besucher.Ausreißer.value_counts()\nausreißer_einkommen_besucher",
      "metadata": {
        "trusted": true
      },
      "outputs": [],
      "execution_count": null
    },
    {
      "id": "bcbbf688-41e1-441f-8639-5ec5192f1282",
      "cell_type": "code",
      "source": "# Ermitteln der genauen Werte der Ausreißer\nbesucher.loc[besucher['Ausreißer'] == True]",
      "metadata": {
        "trusted": true
      },
      "outputs": [],
      "execution_count": null
    },
    {
      "id": "c58942af-27b1-4263-8530-c70d0fe14583",
      "cell_type": "code",
      "source": "# so niedriges und so hohes Einkommen ist möglich, daher bleiben Werte erhalten",
      "metadata": {
        "trusted": true
      },
      "outputs": [],
      "execution_count": null
    },
    {
      "id": "8f97a96b-696b-4c6e-a53c-f940f0c122e3",
      "cell_type": "markdown",
      "source": "### 3.3.3.3 Zeit",
      "metadata": {}
    },
    {
      "id": "e4e47a9a-1213-46b8-a0d3-af6036c12a63",
      "cell_type": "code",
      "source": "boxplot_besucher_zeit = besucher.boxplot(column = 'Zeit')\nplt.show()",
      "metadata": {
        "trusted": true
      },
      "outputs": [],
      "execution_count": null
    },
    {
      "id": "d209cc1b-4b6d-4f67-8a45-f32c9050b6ab",
      "cell_type": "code",
      "source": "# mehrere Ausreißer zu erkennen",
      "metadata": {
        "trusted": true
      },
      "outputs": [],
      "execution_count": null
    },
    {
      "id": "8a3cd720-982f-418d-8256-4e583e636db0",
      "cell_type": "code",
      "source": "# Berechnung von Q1, Q3 und IQR der Zeit-Spalte\nQ1_zeit_besucher = besucher['Zeit'].quantile(0.25)\nQ3_zeit_besucher = besucher['Zeit'].quantile(0.75)\nIQR_zeit_besucher = Q3_zeit_besucher - Q1_zeit_besucher\nuntere_grenze_zeit_besucher = Q1_zeit_besucher - 1.5 * IQR_zeit_besucher\nobere_grenze_zeit_besucher = Q3_zeit_besucher + 1.5 * IQR_zeit_besucher\nbesucher['Ausreißer'] = (besucher['Zeit'] < untere_grenze_zeit_besucher) | (besucher['Zeit'] > obere_grenze_zeit_besucher)\nausreißer_zeit_besucher = besucher.Ausreißer.value_counts()\nausreißer_zeit_besucher",
      "metadata": {
        "trusted": true
      },
      "outputs": [],
      "execution_count": null
    },
    {
      "id": "b8ae8dca-eba9-4281-b887-fb06dd646dc2",
      "cell_type": "code",
      "source": "# Ermittlung der genauen Werte der Ausreißer\nbesucher.loc[besucher['Ausreißer'] == True]",
      "metadata": {
        "trusted": true
      },
      "outputs": [],
      "execution_count": null
    },
    {
      "id": "3f92fb50-266b-4ea0-86a2-06924d00b1ed",
      "cell_type": "code",
      "source": "# so kurze und lange Zeiten sind möglich, daher bleiben Werte erhalten",
      "metadata": {
        "trusted": true
      },
      "outputs": [],
      "execution_count": null
    },
    {
      "id": "785c0288-057e-4a89-aa3c-6a2f21644466",
      "cell_type": "code",
      "source": "besucher",
      "metadata": {
        "trusted": true
      },
      "outputs": [],
      "execution_count": null
    },
    {
      "id": "6313b1d5-c967-45b0-8a11-76cd690aaa00",
      "cell_type": "code",
      "source": "# Boolean-Spalte wieder entfernen",
      "metadata": {
        "trusted": true
      },
      "outputs": [],
      "execution_count": null
    },
    {
      "id": "9ed7ad57-ca0b-44eb-b6f3-49a9bcb8bbe4",
      "cell_type": "code",
      "source": "besucher = besucher.drop(besucher.columns[-1], axis=1)\nbesucher",
      "metadata": {
        "trusted": true
      },
      "outputs": [],
      "execution_count": null
    },
    {
      "id": "5bb228bf-4daa-4cfc-ba43-6c06e34edd18",
      "cell_type": "markdown",
      "source": "## 4. Geodaten",
      "metadata": {}
    },
    {
      "id": "b9f50960-5e3a-498f-8dc9-0959b4c32e6f",
      "cell_type": "markdown",
      "source": "### 4.1. Geodatei einlesen",
      "metadata": {}
    },
    {
      "id": "c4136bca-9c51-4b6f-a76e-6062d74b898c",
      "cell_type": "code",
      "source": "geo = pd.read_csv(\"geo.txt\", sep = \"\\t\")\ngeo.head()",
      "metadata": {
        "trusted": true
      },
      "outputs": [],
      "execution_count": null
    },
    {
      "id": "eac214be-89cb-44df-a00f-fbf4044d3c77",
      "cell_type": "markdown",
      "source": "## 4.2 Überblick über Datentypen",
      "metadata": {}
    },
    {
      "id": "1da63f41-b8ca-49db-98ef-44b0ed5b715b",
      "cell_type": "code",
      "source": "geo.dtypes",
      "metadata": {
        "trusted": true
      },
      "outputs": [],
      "execution_count": null
    },
    {
      "id": "0ebe1254-c964-45fc-b56c-dce433c47d42",
      "cell_type": "code",
      "source": "# bei kunden und besucher ist der dypte der KundeNr auch object, daher keine Änderung benötigt",
      "metadata": {
        "trusted": true
      },
      "outputs": [],
      "execution_count": null
    },
    {
      "id": "b2509aeb-1297-4b33-b08e-da5826ae832d",
      "cell_type": "markdown",
      "source": "### 4.3 Bereinigung",
      "metadata": {}
    },
    {
      "id": "cda090aa-6d08-48ab-bd1d-29bcabbcf8ed",
      "cell_type": "markdown",
      "source": "### 4.3.1 Fehlende Datenpunkte ermitteln und ersetzen",
      "metadata": {}
    },
    {
      "id": "646b5f4b-d218-4ab1-8be5-77caa154d1a6",
      "cell_type": "code",
      "source": "geo.isnull().sum()",
      "metadata": {
        "trusted": true
      },
      "outputs": [],
      "execution_count": null
    },
    {
      "id": "3edcca31-790f-4c65-9dcd-74d1a22740fb",
      "cell_type": "markdown",
      "source": "### 4.3.2 Ausreißer ermitteln und entfernen/ersetzen",
      "metadata": {}
    },
    {
      "id": "3d3d6633-7542-42ef-b347-c883c0c98100",
      "cell_type": "code",
      "source": "# Übersicht aller Niederlassungen\ngeo_niederlassung_uniques = geo[\"Niederlassung\"].unique()\nprint(geo_niederlassung_uniques)",
      "metadata": {
        "trusted": true
      },
      "outputs": [],
      "execution_count": null
    },
    {
      "id": "4c4af355-f44b-4c59-8091-9e295aafdc8b",
      "cell_type": "code",
      "source": "# Bereinigung der Datenpunkte (NRW, Düsseldorf zu Nordrhein-Westfalen), (Berlin-Charlottenburg, Berlin-Mitte, BERLIN zu Berlin)\ngeo_cleaning = {\n    \"NRW\" : \"Nordrhein-Westfalen\" , \n    \"Berlin-Charlottenburg\" : \"Berlin\" ,\n    \"Berlin-Mitte\" : \"Berlin\" ,\n    \"BERLIN\" : \"Berlin\",\n    \"Düsseldorf\" : \"Nordrhein-Westfalen\"}\n\ngeo[\"Niederlassung\"] = geo[\"Niederlassung\"].replace(geo_cleaning, regex = True)",
      "metadata": {
        "trusted": true
      },
      "outputs": [],
      "execution_count": null
    },
    {
      "id": "5c580644-5d8d-4562-8045-aea82c87e675",
      "cell_type": "code",
      "source": "# Überprüfung\ngeo_niederlassung_uniques2 = geo[\"Niederlassung\"].unique()\nprint(geo_niederlassung_uniques2)",
      "metadata": {
        "trusted": true
      },
      "outputs": [],
      "execution_count": null
    },
    {
      "id": "25bbee33-b3ae-48d0-b674-972f1792cd9c",
      "cell_type": "markdown",
      "source": "## 5. Zusammenführung der Listen",
      "metadata": {}
    },
    {
      "id": "aac4a8b4-20b3-45a9-9424-6a32e248185d",
      "cell_type": "markdown",
      "source": "### 5.1 Kunden und Besucher mit Geo",
      "metadata": {}
    },
    {
      "id": "db55aecc-b7c5-423c-852c-4589a0ba1a50",
      "cell_type": "markdown",
      "source": "### 5.1.1 Kunden mit Geo ",
      "metadata": {}
    },
    {
      "id": "aea65563-39a7-4710-9d12-55d504810245",
      "cell_type": "code",
      "source": "kunden_geo = pd.merge(kunden,geo, on = \"KundeNr\")\nkunden_geo",
      "metadata": {
        "trusted": true
      },
      "outputs": [],
      "execution_count": null
    },
    {
      "id": "2060d258-2dd8-42f8-a064-5ffe92fe7285",
      "cell_type": "markdown",
      "source": "### 5.1.2 Besucher mit Geo",
      "metadata": {}
    },
    {
      "id": "8eb4cb71-ba36-4f98-b58b-803d5251b16f",
      "cell_type": "code",
      "source": "besucher_geo = pd.merge(besucher, geo, on = \"KundeNr\")\nbesucher_geo",
      "metadata": {
        "trusted": true
      },
      "outputs": [],
      "execution_count": null
    },
    {
      "id": "5d4480c1-c2be-47b8-9646-c337ff0277ca",
      "cell_type": "markdown",
      "source": "### 5.2 kunden_geo und besucher_geo",
      "metadata": {}
    },
    {
      "id": "ce8787f9-747a-4a4d-bde7-caa9a0f718d5",
      "cell_type": "code",
      "source": "kunden_besucher_geo = pd.concat([kunden_geo, besucher_geo], axis = 0, ignore_index = True)\nkunden_besucher_geo",
      "metadata": {
        "trusted": true
      },
      "outputs": [],
      "execution_count": null
    },
    {
      "id": "89dbe370-694e-45de-8120-e884362b85ba",
      "cell_type": "markdown",
      "source": "## 6. Fragen",
      "metadata": {}
    },
    {
      "id": "4ffabf5f-f067-4ede-abde-b2917eaf6dc4",
      "cell_type": "markdown",
      "source": "### Frage 1: Wie viele Autos wurden verkauft?",
      "metadata": {}
    },
    {
      "id": "c5e3c5b2-3b8a-40f0-aec5-82b1f3eb1cdc",
      "cell_type": "code",
      "source": "anzahl_verkaufter_autos = len(kunden_geo)\nanzahl_verkaufter_autos",
      "metadata": {
        "trusted": true
      },
      "outputs": [],
      "execution_count": null
    },
    {
      "id": "fb39e496-8f31-4229-8d09-405f64e7c730",
      "cell_type": "code",
      "source": "autos_verkauft = kunden_geo.shape[0]\nautos_verkauft",
      "metadata": {
        "trusted": true
      },
      "outputs": [],
      "execution_count": null
    },
    {
      "id": "0104f6f6-67fe-42ec-978f-6270c38c2dd9",
      "cell_type": "code",
      "source": "# Antwort zu Frage 1: 1104",
      "metadata": {
        "trusted": true
      },
      "outputs": [],
      "execution_count": null
    },
    {
      "id": "e593f456-3d6f-43e6-8308-cfb9f1d4692f",
      "cell_type": "markdown",
      "source": "### Frage 2: Was ist der Höchst-, Mindest- und Durchschnittspreis?",
      "metadata": {}
    },
    {
      "id": "ccba228c-cc8b-4ba0-9854-69b33d6c19ed",
      "cell_type": "code",
      "source": "max_preis = kunden_geo[\"Preis\"].max()\nmin_preis = kunden_geo[\"Preis\"].min()\ndurchschnitt_preis = kunden_geo[\"Preis\"].mean()\n\nmax_preis, min_preis, durchschnitt_preis",
      "metadata": {
        "trusted": true
      },
      "outputs": [],
      "execution_count": null
    },
    {
      "id": "51e70578-817c-4d78-9faa-165558c25890",
      "cell_type": "code",
      "source": "# Antwort zu Frage 2: Höchstpreis = 165.482,31, Mindestpreis = 21.471,65 und Durchschnittspreis = 88.975,20",
      "metadata": {
        "trusted": true
      },
      "outputs": [],
      "execution_count": null
    },
    {
      "id": "980b38c9-ebde-48ee-9132-78812447647f",
      "cell_type": "markdown",
      "source": "### Frage 3: Wie hoch war der Gesamtumsatz?",
      "metadata": {}
    },
    {
      "id": "a71e79da-f9ea-4ec2-a75d-7bb32b65c9b1",
      "cell_type": "code",
      "source": "gesamtumsatz = kunden_geo[\"Preis\"].sum()\ngesamtumsatz\n",
      "metadata": {
        "trusted": true
      },
      "outputs": [],
      "execution_count": null
    },
    {
      "id": "57058795-a8ce-4fc3-9ae8-91c0a15426ae",
      "cell_type": "code",
      "source": "# Antwort zu Frage 3: Gesamtumsatz = 98.228.619,38 ",
      "metadata": {
        "trusted": true
      },
      "outputs": [],
      "execution_count": null
    },
    {
      "id": "be5a34bf-d0bc-4b48-81aa-b82614f55cda",
      "cell_type": "code",
      "source": "# Formattierung der Werte in EUR \ndef form_eur(wert):\n    return \"{:,.2f}€\".format(wert)\n\nmax_preis_eur = form_eur(max_preis)\nmin_preis_eur = form_eur(min_preis)\ndurchschnitt_preis_eur = form_eur(durchschnitt_preis)\ngesamtumsatz_eur = form_eur(gesamtumsatz)\nmax_preis_eur",
      "metadata": {
        "trusted": true
      },
      "outputs": [],
      "execution_count": null
    },
    {
      "id": "8c3e00b1-9dcf-425e-bc75-ee49a5932da9",
      "cell_type": "code",
      "source": "# Erstellung einer Preisübersicht\nPreisübersicht = pd.DataFrame({\n    \"Maximaler Verkaufspreis\" : [max_preis_eur],\n    \"Minimaler Verkaufspreis\" : [min_preis_eur],\n    \"Durchschnittspreis\" : [durchschnitt_preis_eur],\n    \"Gesamtumsatz\" : [gesamtumsatz_eur]\n})\ndisplay(Preisübersicht)",
      "metadata": {
        "trusted": true
      },
      "outputs": [],
      "execution_count": null
    },
    {
      "id": "b83fa1e2-a4b1-48ea-b4d6-2c8d916dda3e",
      "cell_type": "markdown",
      "source": "### Frage 4: Wie viele AUtos wurden pro Bundesland verkauft?",
      "metadata": {}
    },
    {
      "id": "e0b69c7d-f90b-46b1-a02b-be4ed0b967b3",
      "cell_type": "code",
      "source": "autos_pro_bundesland = kunden_geo[\"Niederlassung\"].value_counts()\nautos_pro_bundesland\n",
      "metadata": {
        "slideshow": {
          "slide_type": ""
        },
        "tags": [],
        "trusted": true
      },
      "outputs": [],
      "execution_count": null
    },
    {
      "id": "359dd30a-c13f-43f6-9486-eaa5c657b6cd",
      "cell_type": "code",
      "source": "# Erstellen eines Diagramms zur Darstellung\n# Dataframe\ndaten = {\"Bundesland\" : [\"Baden-Württemberg\" , \"Bayern\" , \"Nordrhein-Westfalen\" , \"Berlin\" , \"Hessen\" , \"Niedersachsen\",\n                        \"Sachsen\" , \"Thüringen\" , \"Hamburg\" , \"Brandenburg\"] , \n        \"Verkäufe\" : [205 , 188 , 175 , 126 , 96 , 96 , 89 , 49 , 43 , 37]}\n\ndf_autos_pro_bundesland = pd.DataFrame(daten)\n\nverkäufe_durchschnitt = df_autos_pro_bundesland[\"Verkäufe\"].mean()\n\n# Diagramm\nplt.figure(figsize=(10, 6))\ndiagramm = plt.bar(df_autos_pro_bundesland[\"Bundesland\"],df_autos_pro_bundesland[\"Verkäufe\"], color=\"lightsteelblue\")\nplt.axhline(y=verkäufe_durchschnitt, color='red', linestyle='--', linewidth=2)\n\nfor bar in diagramm:\n    height = bar.get_height()\n    plt.text(bar.get_x() + bar.get_width() / 2, height, f\"{int(height)}\", ha = \"center\", va = \"center_baseline\", fontsize=10)\n    \nplt.title(\"Anzahl der verkauften Autos pro Bundesland\")\nplt.xlabel(\"Bundesland\")\nplt.ylabel(\"Anzahl der verkauften Autos\")\nplt.xticks(rotation=45, ha='right')  \nplt.tight_layout()\nplt.show()",
      "metadata": {
        "trusted": true
      },
      "outputs": [],
      "execution_count": null
    },
    {
      "id": "f8c048c7-1715-423d-a872-9920d668ae31",
      "cell_type": "code",
      "source": "# Antwort zu Frage 4: siehe Diagramm",
      "metadata": {
        "trusted": true
      },
      "outputs": [],
      "execution_count": null
    },
    {
      "id": "eb1eb12c-6d1d-4d08-9358-a5e0c74e1f55",
      "cell_type": "markdown",
      "source": "### Frage 5: Wie hoch war der durchschnittliche Umsatz (vermutlich ist Preis gemeint) pro Bundesland?",
      "metadata": {}
    },
    {
      "id": "df37090c-5e4e-47ee-a4c7-43e79d5d6233",
      "cell_type": "code",
      "source": "umsatz_pro_bundesland = kunden_geo.groupby(\"Niederlassung\")[\"Preis\"].agg(\"mean\")\numsatz_pro_bundesland = umsatz_pro_bundesland.round(2)\numsatz_pro_bundesland",
      "metadata": {
        "trusted": true
      },
      "outputs": [],
      "execution_count": null
    },
    {
      "id": "2a09408b-4db1-4b92-9cdb-d109cda49c5a",
      "cell_type": "code",
      "source": "# Erstellen eines Diagramms zur Darstellung\n# Dataframe\ndaten2 = {\"Bundesland\" : [\"Baden-Württemberg\" , \"Bayern\" , \"Nordrhein-Westfalen\" , \"Berlin\" , \"Hessen\" , \"Niedersachsen\",\n                        \"Sachsen\" , \"Thüringen\" , \"Hamburg\" , \"Brandenburg\"] , \n        \"Umsatz\" : [90969.56 , 89344.31 , 89584.98 , 86673.64 , 85549.50 , 85864.93 , 87963.31 , 88633.27 , 89455.08 , 90816.99]}\n\ndf_umsatz_pro_bundesland = pd.DataFrame(daten2)\n\n# Diagramm\nplt.figure(figsize=(10, 6))\ndiagramm2 = plt.bar(df_umsatz_pro_bundesland[\"Bundesland\"],df_umsatz_pro_bundesland[\"Umsatz\"], color=\"lightsteelblue\")\n\nfor bar in diagramm2:\n    height = bar.get_height()\n    plt.text(bar.get_x() + bar.get_width() / 2, height, f\"{int(height)}\", ha = \"center\", va = \"center_baseline\", fontsize=10)\n\nplt.title(\"Umsatz pro Bundesland\")\nplt.xlabel(\"Bundesland\")\nplt.ylabel(\"Umsatz (in €)\")\nplt.xticks(rotation=45, ha='right')  \nplt.tight_layout()\nplt.show()\n",
      "metadata": {
        "trusted": true
      },
      "outputs": [],
      "execution_count": null
    },
    {
      "id": "738fc09e-89bd-45dc-8588-e8a6b3bc549d",
      "cell_type": "code",
      "source": "# Antwort zu Frage 5: siehe Diagramm",
      "metadata": {
        "trusted": true
      },
      "outputs": [],
      "execution_count": null
    },
    {
      "id": "bd377ac2-bea4-40b9-a6b5-7b772f9ee352",
      "cell_type": "markdown",
      "source": "### Frage 6: In welchem Bundesland wurde das teuerste Auto verkauft?",
      "metadata": {}
    },
    {
      "id": "6f610c80-ebeb-4a67-a270-af57883c32db",
      "cell_type": "code",
      "source": "teuerstes_auto_bundesland = kunden_geo.loc[kunden_geo[\"Preis\"].idxmax()][\"Niederlassung\"]\nteuerstes_auto_bundesland",
      "metadata": {
        "trusted": true
      },
      "outputs": [],
      "execution_count": null
    },
    {
      "id": "a0ede2d9-37eb-4717-a946-c2788c488ff0",
      "cell_type": "code",
      "source": "# Antwort zu Frage 6: Das teuerste Auto wurde in Niedersachsen verkauft",
      "metadata": {
        "trusted": true
      },
      "outputs": [],
      "execution_count": null
    },
    {
      "id": "0c123aa4-ec00-4c2f-b8fb-e7b1a6b57403",
      "cell_type": "markdown",
      "source": "### Frage 7: Haben mehr Frauen oder Männer unsere Autos gekauft?",
      "metadata": {}
    },
    {
      "id": "b4fdd350-b83b-420c-9770-fc8b012b4812",
      "cell_type": "code",
      "source": "geschlecht_vergleich = kunden_geo[\"Geschlecht\"].value_counts()\n\nlabels = [\"männlich\", \"weiblich\"]\nsizes = [700,400]\ncolors = [\"lightblue\",\"lightpink\"]\nplt.pie(sizes, labels = labels, colors = colors, autopct = \"%1.1f%%\", startangle = 90)\nplt.axis(\"equal\")\nplt.title(\"Verteilung der verkauften Autos nach Geschlecht\")\nplt.show()\n",
      "metadata": {
        "trusted": true
      },
      "outputs": [],
      "execution_count": null
    },
    {
      "id": "3b7de2df-bf78-4d71-bf1e-7f435a03df23",
      "cell_type": "code",
      "source": "geschlecht_vergleich = kunden_geo[\"Geschlecht\"].value_counts()\ngeschlecht_vergleich",
      "metadata": {
        "trusted": true
      },
      "outputs": [],
      "execution_count": null
    },
    {
      "id": "e6c7d95d-766a-47b1-a6d2-a3a244f1b406",
      "cell_type": "code",
      "source": "# Antwort zu Frage 7: Es haben mehr Männer unsere Autos gekauft",
      "metadata": {
        "trusted": true
      },
      "outputs": [],
      "execution_count": null
    },
    {
      "id": "c725b277-7bd9-4f3f-9f4e-dc71d40cff15",
      "cell_type": "markdown",
      "source": "### Frage 8: Wie hoch ist das Durchschnittsalter unserer Kunden? Wie hoch ist das Durchschnittsalter unserer Besucher?",
      "metadata": {}
    },
    {
      "id": "a83d6c38-c939-411d-ad9f-6e0a898ea196",
      "cell_type": "code",
      "source": "durchschnittsalter_kunden = kunden_geo[\"Alter\"].mean()\ndurchschnittsalter_besucher = besucher_geo[\"Alter\"].mean()\n\ndurchschnittsalter_kunden, durchschnittsalter_besucher",
      "metadata": {
        "trusted": true
      },
      "outputs": [],
      "execution_count": null
    },
    {
      "id": "84ab233c-9671-4c52-baa8-c7b05f10cbf6",
      "cell_type": "code",
      "source": "# Antwort zu Frage 8: Das Durchschnittsalter unserer Kunden ist 50,38 Jahre und das Durchschnittsalter unserer Besucher ist 49,88 Jahre",
      "metadata": {
        "trusted": true
      },
      "outputs": [],
      "execution_count": null
    },
    {
      "id": "32f401cd-d47e-4a54-9eff-a0debf3419cc",
      "cell_type": "markdown",
      "source": "### Frage 9: Wie hoch ist das Durchschnittseinkommen unserer Kunden? Wie hoch ist das Durchschnittseinkommen unserer Besucher?",
      "metadata": {}
    },
    {
      "id": "c56c7e7e-c117-4112-9a49-a71d41695e82",
      "cell_type": "code",
      "source": "durchschnittseinkommen_kunden = kunden_geo[\"Einkommen\"].mean()\ndurchschnittseinkommen_besucher = besucher_geo[\"Einkommen\"].mean()\n\ndurchschnittseinkommen_kunden, durchschnittseinkommen_besucher\n",
      "metadata": {
        "trusted": true
      },
      "outputs": [],
      "execution_count": null
    },
    {
      "id": "dfeb26a8-9949-4628-8603-ac6c277424be",
      "cell_type": "code",
      "source": "# Antwort zu Frage 9: Das Durchschnittseinkommen unserer Kunden ist 58.850,91 und das Durchschnittseinkommen unserer Besucher ist 59.367,93",
      "metadata": {
        "trusted": true
      },
      "outputs": [],
      "execution_count": null
    },
    {
      "id": "76c97210-58b3-436a-9907-d7edb63ed797",
      "cell_type": "code",
      "source": "t_stat, p_val = stats.ttest_ind(kunden_geo[\"Einkommen\"].dropna(), besucher_geo[\"Einkommen\"].dropna(), equal_var=False)\nt_stat, p_val\n",
      "metadata": {
        "trusted": true
      },
      "outputs": [],
      "execution_count": null
    },
    {
      "id": "a4b58aa6-cde6-460c-97c4-565e98bd1f4e",
      "cell_type": "code",
      "source": "",
      "metadata": {
        "trusted": true
      },
      "outputs": [],
      "execution_count": null
    },
    {
      "id": "1b1dabd8-0b84-4fde-a3f0-83702ad62294",
      "cell_type": "code",
      "source": "",
      "metadata": {
        "trusted": true
      },
      "outputs": [],
      "execution_count": null
    },
    {
      "id": "95432747-7440-45b2-a11f-15f968f0f3c8",
      "cell_type": "code",
      "source": "",
      "metadata": {
        "trusted": true
      },
      "outputs": [],
      "execution_count": null
    },
    {
      "id": "0ba8191d-2d75-4014-a6c6-14d4818211cc",
      "cell_type": "code",
      "source": "",
      "metadata": {
        "trusted": true
      },
      "outputs": [],
      "execution_count": null
    }
  ]
}