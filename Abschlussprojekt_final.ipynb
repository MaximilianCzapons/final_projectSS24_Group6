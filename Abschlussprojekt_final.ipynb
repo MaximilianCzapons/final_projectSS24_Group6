{
  "metadata": {
    "kernelspec": {
      "name": "python",
      "display_name": "Python (Pyodide)",
      "language": "python"
    },
    "language_info": {
      "codemirror_mode": {
        "name": "python",
        "version": 3
      },
      "file_extension": ".py",
      "mimetype": "text/x-python",
      "name": "python",
      "nbconvert_exporter": "python",
      "pygments_lexer": "ipython3",
      "version": "3.8"
    }
  },
  "nbformat_minor": 5,
  "nbformat": 4,
  "cells": [
    {
      "id": "59dbdcb7",
      "cell_type": "markdown",
      "source": "# Bereinigung der Datensätze",
      "metadata": {
        "slideshow": {
          "slide_type": ""
        },
        "tags": []
      }
    },
    {
      "id": "6914f38d-04c5-455d-9a44-06bb29483ed6",
      "cell_type": "markdown",
      "source": "## 1. Importieren der Pakete",
      "metadata": {}
    },
    {
      "id": "611b4ad8-8f0d-42ca-8be6-2314d95e6e6f",
      "cell_type": "code",
      "source": "import pandas as pd\nimport matplotlib.pyplot as plt\nimport numpy as np\nfrom scipy import stats\nimport statsmodels.api as sm\nfrom sklearn.preprocessing import StandardScaler\nimport statsmodels.formula.api as smf \n\n",
      "metadata": {
        "trusted": true
      },
      "outputs": [],
      "execution_count": 142
    },
    {
      "id": "20b5f2d9",
      "cell_type": "markdown",
      "source": "## 2. Kundendaten",
      "metadata": {}
    },
    {
      "id": "0eac4c81-703d-4aff-a26d-7372a53f7a21",
      "cell_type": "markdown",
      "source": "### 2.1 Kundendatei einlesen",
      "metadata": {}
    },
    {
      "id": "fad08255",
      "cell_type": "code",
      "source": "kunden = pd.read_csv(\"kunden.csv\", decimal = '.', sep = \";\")\nkunden.head()",
      "metadata": {
        "trusted": true
      },
      "outputs": [
        {
          "execution_count": 143,
          "output_type": "execute_result",
          "data": {
            "text/plain": "   Alter  Einkommen      Preis  Geschlecht  Zeit KundeNr\n0     64    66894.0   88160.31         1.0  43.0   K0310\n1     54    77644.0  103145.70         1.0  40.0   K1042\n2     55    44341.0   80565.16         0.0  37.0   K0382\n3     49    67271.0   83949.89         0.0  42.0   K0498\n4     46    49832.0   93781.58         0.0  41.0   K0552",
            "text/html": "<div>\n<style scoped>\n    .dataframe tbody tr th:only-of-type {\n        vertical-align: middle;\n    }\n\n    .dataframe tbody tr th {\n        vertical-align: top;\n    }\n\n    .dataframe thead th {\n        text-align: right;\n    }\n</style>\n<table border=\"1\" class=\"dataframe\">\n  <thead>\n    <tr style=\"text-align: right;\">\n      <th></th>\n      <th>Alter</th>\n      <th>Einkommen</th>\n      <th>Preis</th>\n      <th>Geschlecht</th>\n      <th>Zeit</th>\n      <th>KundeNr</th>\n    </tr>\n  </thead>\n  <tbody>\n    <tr>\n      <th>0</th>\n      <td>64</td>\n      <td>66894.0</td>\n      <td>88160.31</td>\n      <td>1.0</td>\n      <td>43.0</td>\n      <td>K0310</td>\n    </tr>\n    <tr>\n      <th>1</th>\n      <td>54</td>\n      <td>77644.0</td>\n      <td>103145.70</td>\n      <td>1.0</td>\n      <td>40.0</td>\n      <td>K1042</td>\n    </tr>\n    <tr>\n      <th>2</th>\n      <td>55</td>\n      <td>44341.0</td>\n      <td>80565.16</td>\n      <td>0.0</td>\n      <td>37.0</td>\n      <td>K0382</td>\n    </tr>\n    <tr>\n      <th>3</th>\n      <td>49</td>\n      <td>67271.0</td>\n      <td>83949.89</td>\n      <td>0.0</td>\n      <td>42.0</td>\n      <td>K0498</td>\n    </tr>\n    <tr>\n      <th>4</th>\n      <td>46</td>\n      <td>49832.0</td>\n      <td>93781.58</td>\n      <td>0.0</td>\n      <td>41.0</td>\n      <td>K0552</td>\n    </tr>\n  </tbody>\n</table>\n</div>"
          },
          "metadata": {}
        }
      ],
      "execution_count": 143
    },
    {
      "id": "d5022e9a-b102-4ea9-ae5c-0f5ea84f4577",
      "cell_type": "markdown",
      "source": "### 2.2 Überblick über Datentypen",
      "metadata": {}
    },
    {
      "id": "1f0a053f",
      "cell_type": "code",
      "source": "kunden.dtypes",
      "metadata": {
        "trusted": true
      },
      "outputs": [
        {
          "execution_count": 144,
          "output_type": "execute_result",
          "data": {
            "text/plain": "Alter           int64\nEinkommen     float64\nPreis         float64\nGeschlecht    float64\nZeit          float64\nKundeNr        object\ndtype: object"
          },
          "metadata": {}
        }
      ],
      "execution_count": 144
    },
    {
      "id": "21b4b255-768d-4e12-9ac0-fac3cc16fe16",
      "cell_type": "markdown",
      "source": "### 2.3. Bereinigung",
      "metadata": {}
    },
    {
      "id": "dfc76067",
      "cell_type": "markdown",
      "source": "### 2.3.1 Fehlende Datenpunkte ermitteln und ersetzen",
      "metadata": {}
    },
    {
      "id": "0a459b24",
      "cell_type": "code",
      "source": "kunden.isnull().sum()",
      "metadata": {
        "trusted": true
      },
      "outputs": [
        {
          "execution_count": 145,
          "output_type": "execute_result",
          "data": {
            "text/plain": "Alter         0\nEinkommen     0\nPreis         0\nGeschlecht    5\nZeit          0\nKundeNr       0\ndtype: int64"
          },
          "metadata": {}
        }
      ],
      "execution_count": 145
    },
    {
      "id": "8e5bfd33",
      "cell_type": "code",
      "source": "# Finden des Modalwertes:",
      "metadata": {
        "trusted": true
      },
      "outputs": [],
      "execution_count": 146
    },
    {
      "id": "eb4d8d0c",
      "cell_type": "code",
      "source": "modalwert_kunden = kunden['Geschlecht'].mode()[0]",
      "metadata": {
        "trusted": true
      },
      "outputs": [],
      "execution_count": 147
    },
    {
      "id": "281480c0",
      "cell_type": "code",
      "source": "modalwert_kunden",
      "metadata": {
        "trusted": true
      },
      "outputs": [
        {
          "execution_count": 148,
          "output_type": "execute_result",
          "data": {
            "text/plain": "1.0"
          },
          "metadata": {}
        }
      ],
      "execution_count": 148
    },
    {
      "id": "c6bf589f",
      "cell_type": "code",
      "source": "# Ersetzen der 5 fehlenden Geschlechtseinträge mit dem Modalwert 1.0",
      "metadata": {
        "trusted": true
      },
      "outputs": [],
      "execution_count": 149
    },
    {
      "id": "d2af5f2d",
      "cell_type": "code",
      "source": "kunden.fillna(value = modalwert_kunden, axis = 0, inplace = True)",
      "metadata": {
        "trusted": true
      },
      "outputs": [],
      "execution_count": 150
    },
    {
      "id": "7f5e11fc-a22e-4c13-91f1-f1b5ac573517",
      "cell_type": "code",
      "source": "# Überprüfung",
      "metadata": {
        "trusted": true
      },
      "outputs": [],
      "execution_count": 151
    },
    {
      "id": "08ccd3d1",
      "cell_type": "code",
      "source": "kunden.isnull().sum()",
      "metadata": {
        "trusted": true
      },
      "outputs": [
        {
          "execution_count": 152,
          "output_type": "execute_result",
          "data": {
            "text/plain": "Alter         0\nEinkommen     0\nPreis         0\nGeschlecht    0\nZeit          0\nKundeNr       0\ndtype: int64"
          },
          "metadata": {}
        }
      ],
      "execution_count": 152
    },
    {
      "id": "e4febb36-807b-4f50-bd57-b643bb53b7d1",
      "cell_type": "markdown",
      "source": "### 2.3.2 Ausreißer ermitteln und entfernen",
      "metadata": {}
    },
    {
      "id": "fd6815eb-a49b-4ddd-b6c6-a302ba14f04f",
      "cell_type": "code",
      "source": "# Außreißer ermitteln\nkunden.describe().T",
      "metadata": {
        "trusted": true
      },
      "outputs": [
        {
          "execution_count": 153,
          "output_type": "execute_result",
          "data": {
            "text/plain": "             count           mean           std           min         25%  \\\nAlter       1104.0      50.481884  1.222506e+01     30.000000     40.0000   \nEinkommen   1104.0  964474.817596  3.009470e+07 -62840.374523  46638.5000   \nPreis       1104.0   88975.198714  2.446407e+04  21471.650000  70609.4225   \nGeschlecht  1104.0       0.639493  4.803653e-01      0.000000      0.0000   \nZeit        1104.0      44.375906  1.084804e+01     12.000000     37.0000   \n\n                  50%         75%           max  \nAlter          51.000      61.000  1.200000e+02  \nEinkommen   59013.000   70298.000  1.000000e+09  \nPreis       88931.455  107093.375  1.654823e+05  \nGeschlecht      1.000       1.000  1.000000e+00  \nZeit           44.000      52.000  8.000000e+01  ",
            "text/html": "<div>\n<style scoped>\n    .dataframe tbody tr th:only-of-type {\n        vertical-align: middle;\n    }\n\n    .dataframe tbody tr th {\n        vertical-align: top;\n    }\n\n    .dataframe thead th {\n        text-align: right;\n    }\n</style>\n<table border=\"1\" class=\"dataframe\">\n  <thead>\n    <tr style=\"text-align: right;\">\n      <th></th>\n      <th>count</th>\n      <th>mean</th>\n      <th>std</th>\n      <th>min</th>\n      <th>25%</th>\n      <th>50%</th>\n      <th>75%</th>\n      <th>max</th>\n    </tr>\n  </thead>\n  <tbody>\n    <tr>\n      <th>Alter</th>\n      <td>1104.0</td>\n      <td>50.481884</td>\n      <td>1.222506e+01</td>\n      <td>30.000000</td>\n      <td>40.0000</td>\n      <td>51.000</td>\n      <td>61.000</td>\n      <td>1.200000e+02</td>\n    </tr>\n    <tr>\n      <th>Einkommen</th>\n      <td>1104.0</td>\n      <td>964474.817596</td>\n      <td>3.009470e+07</td>\n      <td>-62840.374523</td>\n      <td>46638.5000</td>\n      <td>59013.000</td>\n      <td>70298.000</td>\n      <td>1.000000e+09</td>\n    </tr>\n    <tr>\n      <th>Preis</th>\n      <td>1104.0</td>\n      <td>88975.198714</td>\n      <td>2.446407e+04</td>\n      <td>21471.650000</td>\n      <td>70609.4225</td>\n      <td>88931.455</td>\n      <td>107093.375</td>\n      <td>1.654823e+05</td>\n    </tr>\n    <tr>\n      <th>Geschlecht</th>\n      <td>1104.0</td>\n      <td>0.639493</td>\n      <td>4.803653e-01</td>\n      <td>0.000000</td>\n      <td>0.0000</td>\n      <td>1.000</td>\n      <td>1.000</td>\n      <td>1.000000e+00</td>\n    </tr>\n    <tr>\n      <th>Zeit</th>\n      <td>1104.0</td>\n      <td>44.375906</td>\n      <td>1.084804e+01</td>\n      <td>12.000000</td>\n      <td>37.0000</td>\n      <td>44.000</td>\n      <td>52.000</td>\n      <td>8.000000e+01</td>\n    </tr>\n  </tbody>\n</table>\n</div>"
          },
          "metadata": {}
        }
      ],
      "execution_count": 153
    },
    {
      "id": "ad1750cc-c3b7-4508-96b3-3019e9b3d607",
      "cell_type": "markdown",
      "source": "### 2.3.2.1 Alter ",
      "metadata": {}
    },
    {
      "id": "c6a280a6",
      "cell_type": "code",
      "source": "boxplot_alter = kunden.boxplot(column = 'Alter')\nplt.show()",
      "metadata": {
        "trusted": true
      },
      "outputs": [
        {
          "output_type": "display_data",
          "data": {
            "text/plain": "<Figure size 640x480 with 1 Axes>",
            "image/png": "[encoded data removed]"
          },
          "metadata": {}
        }
      ],
      "execution_count": 154
    },
    {
      "id": "849f2d87-21fa-4f0a-a2c4-fd3b7dca90de",
      "cell_type": "code",
      "source": "# zwei Ausreißer zu erkennen",
      "metadata": {
        "trusted": true
      },
      "outputs": [],
      "execution_count": 155
    },
    {
      "id": "81eb8902-104b-4ac0-a4a3-3313711eb073",
      "cell_type": "code",
      "source": "# Berechnung von Q1, Q3 und IQR\nQ1_Alter = kunden['Alter'].quantile(0.25)\nQ3_Alter = kunden['Alter'].quantile(0.75)\nIQR_Alter = Q3_Alter - Q1_Alter\n# Berechnung der Ausreißer-Grenzen\nuntere_grenze_Alter = Q1_Alter - 1.5 * IQR_Alter\nobere_grenze_Alter = Q3_Alter + 1.5 * IQR_Alter\nkunden['Ausreißer'] = (kunden['Alter'] < untere_grenze_Alter) | (kunden['Alter'] > obere_grenze_Alter)\nausreißer_alter = kunden.Ausreißer.value_counts()\nausreißer_alter",
      "metadata": {
        "trusted": true
      },
      "outputs": [
        {
          "execution_count": 156,
          "output_type": "execute_result",
          "data": {
            "text/plain": "False    1102\nTrue        2\nName: Ausreißer, dtype: int64"
          },
          "metadata": {}
        }
      ],
      "execution_count": 156
    },
    {
      "id": "0df22729-c6e0-490c-bf09-04a119fd87ed",
      "cell_type": "code",
      "source": "# Ermitteln der genauen Werte der Ausreißer",
      "metadata": {
        "trusted": true
      },
      "outputs": [],
      "execution_count": 157
    },
    {
      "id": "9b3acc1f-9773-4b15-9e2b-8ba478c0108c",
      "cell_type": "code",
      "source": "kunden.loc[kunden['Ausreißer'] == True]",
      "metadata": {
        "trusted": true
      },
      "outputs": [
        {
          "execution_count": 158,
          "output_type": "execute_result",
          "data": {
            "text/plain": "     Alter  Einkommen      Preis  Geschlecht  Zeit KundeNr  Ausreißer\n142    100    88749.0  119134.23         0.0  64.0   K0494       True\n711    120    61857.0  104214.07         1.0  52.0   K0039       True",
            "text/html": "<div>\n<style scoped>\n    .dataframe tbody tr th:only-of-type {\n        vertical-align: middle;\n    }\n\n    .dataframe tbody tr th {\n        vertical-align: top;\n    }\n\n    .dataframe thead th {\n        text-align: right;\n    }\n</style>\n<table border=\"1\" class=\"dataframe\">\n  <thead>\n    <tr style=\"text-align: right;\">\n      <th></th>\n      <th>Alter</th>\n      <th>Einkommen</th>\n      <th>Preis</th>\n      <th>Geschlecht</th>\n      <th>Zeit</th>\n      <th>KundeNr</th>\n      <th>Ausreißer</th>\n    </tr>\n  </thead>\n  <tbody>\n    <tr>\n      <th>142</th>\n      <td>100</td>\n      <td>88749.0</td>\n      <td>119134.23</td>\n      <td>0.0</td>\n      <td>64.0</td>\n      <td>K0494</td>\n      <td>True</td>\n    </tr>\n    <tr>\n      <th>711</th>\n      <td>120</td>\n      <td>61857.0</td>\n      <td>104214.07</td>\n      <td>1.0</td>\n      <td>52.0</td>\n      <td>K0039</td>\n      <td>True</td>\n    </tr>\n  </tbody>\n</table>\n</div>"
          },
          "metadata": {}
        }
      ],
      "execution_count": 158
    },
    {
      "id": "c7fccb9c-604a-493b-a158-05cbb6fa9b21",
      "cell_type": "code",
      "source": "# Personen im Alter von 100 und 120 Jahren werden kein Auto mehr kaufen",
      "metadata": {
        "trusted": true
      },
      "outputs": [],
      "execution_count": 159
    },
    {
      "id": "8c56494b-9d00-43dd-a4a6-016fc3a1b581",
      "cell_type": "code",
      "source": "# Ersetzen der Ausreißer in der Alters-Spalte durch Medianwert\nalter_median = kunden['Alter'].median()\nkunden.replace([120, 100], alter_median, inplace=True)",
      "metadata": {
        "trusted": true
      },
      "outputs": [],
      "execution_count": 160
    },
    {
      "id": "847ba99c-589e-4419-bd7d-a775c36fdbb0",
      "cell_type": "code",
      "source": "# Überprüfen ob noch Ausreißer vorhanden sind\nkunden['Ausreißer'] = (kunden['Alter'] < untere_grenze_Alter) | (kunden['Alter'] > obere_grenze_Alter)\nausreißer_alter = kunden.Ausreißer.value_counts()\nausreißer_alter",
      "metadata": {
        "trusted": true
      },
      "outputs": [
        {
          "execution_count": 161,
          "output_type": "execute_result",
          "data": {
            "text/plain": "False    1104\nName: Ausreißer, dtype: int64"
          },
          "metadata": {}
        }
      ],
      "execution_count": 161
    },
    {
      "id": "8a2eb429-37fa-4b82-953d-004dc34ccb0d",
      "cell_type": "code",
      "source": "# keine Ausreißer mehr vorhanden",
      "metadata": {
        "trusted": true
      },
      "outputs": [],
      "execution_count": 162
    },
    {
      "id": "f6ed8f33-4fdc-4fae-acd0-85c09cf88baf",
      "cell_type": "markdown",
      "source": "## 2.3.2.2 Einkommen ",
      "metadata": {}
    },
    {
      "id": "0cfec3d4",
      "cell_type": "code",
      "source": "boxplot_einkommen = kunden.boxplot(column = 'Einkommen')\nplt.show()",
      "metadata": {
        "trusted": true
      },
      "outputs": [
        {
          "output_type": "display_data",
          "data": {
            "text/plain": "<Figure size 640x480 with 1 Axes>",
            "image/png": "[encoded data removed]"
          },
          "metadata": {}
        }
      ],
      "execution_count": 163
    },
    {
      "id": "0e47b07c-b6d2-4fb7-8cbd-d445bddf10ec",
      "cell_type": "code",
      "source": "# 4 Ausreißer (aufgrund der Skalierung schwer zu erkennen)",
      "metadata": {
        "trusted": true
      },
      "outputs": [],
      "execution_count": 164
    },
    {
      "id": "44411014-f36c-449e-8a87-ecc56796cf43",
      "cell_type": "code",
      "source": "# Berechnung von Q1, Q3 und IQR der Einkommens-Spalte\nQ1_einkommen = kunden['Einkommen'].quantile(0.25)\nQ3_einkommen = kunden['Einkommen'].quantile(0.75)\nIQR_einkommen = Q3_einkommen - Q1_einkommen\nIQR_einkommen\nuntere_grenze_einkommen = Q1_einkommen - 1.5 * IQR_einkommen\nobere_grenze_einkommen = Q3_einkommen + 1.5 * IQR_einkommen\nkunden['Ausreißer'] = (kunden['Einkommen'] < untere_grenze_einkommen) | (kunden['Einkommen'] > obere_grenze_einkommen)\nausreißer_einkommen = kunden.Ausreißer.value_counts()\nausreißer_einkommen",
      "metadata": {
        "trusted": true
      },
      "outputs": [
        {
          "execution_count": 165,
          "output_type": "execute_result",
          "data": {
            "text/plain": "False    1100\nTrue        4\nName: Ausreißer, dtype: int64"
          },
          "metadata": {}
        }
      ],
      "execution_count": 165
    },
    {
      "id": "fd5cbd2c-a93b-4a93-82e1-f014bdc99d82",
      "cell_type": "code",
      "source": "# Ermitteln der genauen Werte der Ausreißer\nkunden.loc[kunden['Ausreißer'] == True]",
      "metadata": {
        "trusted": true
      },
      "outputs": [
        {
          "execution_count": 166,
          "output_type": "execute_result",
          "data": {
            "text/plain": "      Alter     Einkommen      Preis  Geschlecht  Zeit KundeNr  Ausreißer\n408      68  1.000000e+09   87209.72         0.0  52.0   K0701       True\n834      68  1.076890e+05  165482.31         1.0  60.0   K0415       True\n966      69  0.000000e+00  125140.05         1.0  65.0   K1021       True\n1082     59 -6.284037e+04   92837.59         0.0  46.0   K1083       True",
            "text/html": "<div>\n<style scoped>\n    .dataframe tbody tr th:only-of-type {\n        vertical-align: middle;\n    }\n\n    .dataframe tbody tr th {\n        vertical-align: top;\n    }\n\n    .dataframe thead th {\n        text-align: right;\n    }\n</style>\n<table border=\"1\" class=\"dataframe\">\n  <thead>\n    <tr style=\"text-align: right;\">\n      <th></th>\n      <th>Alter</th>\n      <th>Einkommen</th>\n      <th>Preis</th>\n      <th>Geschlecht</th>\n      <th>Zeit</th>\n      <th>KundeNr</th>\n      <th>Ausreißer</th>\n    </tr>\n  </thead>\n  <tbody>\n    <tr>\n      <th>408</th>\n      <td>68</td>\n      <td>1.000000e+09</td>\n      <td>87209.72</td>\n      <td>0.0</td>\n      <td>52.0</td>\n      <td>K0701</td>\n      <td>True</td>\n    </tr>\n    <tr>\n      <th>834</th>\n      <td>68</td>\n      <td>1.076890e+05</td>\n      <td>165482.31</td>\n      <td>1.0</td>\n      <td>60.0</td>\n      <td>K0415</td>\n      <td>True</td>\n    </tr>\n    <tr>\n      <th>966</th>\n      <td>69</td>\n      <td>0.000000e+00</td>\n      <td>125140.05</td>\n      <td>1.0</td>\n      <td>65.0</td>\n      <td>K1021</td>\n      <td>True</td>\n    </tr>\n    <tr>\n      <th>1082</th>\n      <td>59</td>\n      <td>-6.284037e+04</td>\n      <td>92837.59</td>\n      <td>0.0</td>\n      <td>46.0</td>\n      <td>K1083</td>\n      <td>True</td>\n    </tr>\n  </tbody>\n</table>\n</div>"
          },
          "metadata": {}
        }
      ],
      "execution_count": 166
    },
    {
      "id": "1ed00e1b-cdd4-4330-95d8-0735de9a6369",
      "cell_type": "code",
      "source": "# Ersetzen der Ausreißer in der Einkommens-Spalte durch Medianwert\neinkommen_median = kunden['Einkommen'].median()\nkunden.replace({'Einkommen': [1.000000e+09, 1.076890e+05, 0.000000e+00, -62840.374523]}, einkommen_median, inplace=True)",
      "metadata": {
        "trusted": true
      },
      "outputs": [],
      "execution_count": 167
    },
    {
      "id": "d50a1586-2c17-45d9-b780-8be7fa7081ee",
      "cell_type": "code",
      "source": "# Überprüfen ob noch Ausreißer vorhanden sind\nkunden['Ausreißer'] = (kunden['Einkommen'] < untere_grenze_einkommen) | (kunden['Einkommen'] > obere_grenze_einkommen)\nausreißer_einkommen = kunden.Ausreißer.value_counts()\nausreißer_einkommen",
      "metadata": {
        "trusted": true
      },
      "outputs": [
        {
          "execution_count": 168,
          "output_type": "execute_result",
          "data": {
            "text/plain": "False    1104\nName: Ausreißer, dtype: int64"
          },
          "metadata": {}
        }
      ],
      "execution_count": 168
    },
    {
      "id": "4da5fe78-4a32-4387-8a29-4c9d3b8144d9",
      "cell_type": "code",
      "source": "# keine Ausreißer mehr vorhanden",
      "metadata": {
        "trusted": true
      },
      "outputs": [],
      "execution_count": 169
    },
    {
      "id": "9894d36d-9c58-4ec2-89a3-aa82dbda8c5d",
      "cell_type": "markdown",
      "source": "### 2.3.2.3 Preis",
      "metadata": {}
    },
    {
      "id": "b6b5af6c",
      "cell_type": "code",
      "source": "boxplot_preis = kunden.boxplot(column = 'Preis')\nplt.show()",
      "metadata": {
        "trusted": true
      },
      "outputs": [
        {
          "output_type": "display_data",
          "data": {
            "text/plain": "<Figure size 640x480 with 1 Axes>",
            "image/png": "[encoded data removed]"
          },
          "metadata": {}
        }
      ],
      "execution_count": 170
    },
    {
      "id": "200399fa-2f9d-4913-84b9-da295cf3e215",
      "cell_type": "code",
      "source": "# ein Ausreißer zu erkennen",
      "metadata": {
        "trusted": true
      },
      "outputs": [],
      "execution_count": 171
    },
    {
      "id": "3364ad26-e096-464b-8568-5a7f30087a86",
      "cell_type": "code",
      "source": "Q1_preis = kunden['Preis'].quantile(0.25)\nQ3_preis = kunden['Preis'].quantile(0.75)\nIQR_preis = Q3_preis - Q1_preis\nIQR_preis\nuntere_grenze_preis = Q1_preis - 1.5 * IQR_preis\nobere_grenze_preis = Q3_preis + 1.5 * IQR_preis\nkunden['Ausreißer'] = (kunden['Preis'] < untere_grenze_preis) | (kunden['Preis'] > obere_grenze_preis)\nausreißer_preis = kunden.Ausreißer.value_counts()\nausreißer_preis",
      "metadata": {
        "trusted": true
      },
      "outputs": [
        {
          "execution_count": 172,
          "output_type": "execute_result",
          "data": {
            "text/plain": "False    1103\nTrue        1\nName: Ausreißer, dtype: int64"
          },
          "metadata": {}
        }
      ],
      "execution_count": 172
    },
    {
      "id": "c1b8f91f-954a-4c43-837d-53ed898ccb35",
      "cell_type": "code",
      "source": "# Ermitteln der genauen Werte der Ausreißer\nkunden.loc[kunden['Ausreißer'] == True]",
      "metadata": {
        "trusted": true
      },
      "outputs": [
        {
          "execution_count": 173,
          "output_type": "execute_result",
          "data": {
            "text/plain": "     Alter  Einkommen      Preis  Geschlecht  Zeit KundeNr  Ausreißer\n834     68    59013.0  165482.31         1.0  60.0   K0415       True",
            "text/html": "<div>\n<style scoped>\n    .dataframe tbody tr th:only-of-type {\n        vertical-align: middle;\n    }\n\n    .dataframe tbody tr th {\n        vertical-align: top;\n    }\n\n    .dataframe thead th {\n        text-align: right;\n    }\n</style>\n<table border=\"1\" class=\"dataframe\">\n  <thead>\n    <tr style=\"text-align: right;\">\n      <th></th>\n      <th>Alter</th>\n      <th>Einkommen</th>\n      <th>Preis</th>\n      <th>Geschlecht</th>\n      <th>Zeit</th>\n      <th>KundeNr</th>\n      <th>Ausreißer</th>\n    </tr>\n  </thead>\n  <tbody>\n    <tr>\n      <th>834</th>\n      <td>68</td>\n      <td>59013.0</td>\n      <td>165482.31</td>\n      <td>1.0</td>\n      <td>60.0</td>\n      <td>K0415</td>\n      <td>True</td>\n    </tr>\n  </tbody>\n</table>\n</div>"
          },
          "metadata": {}
        }
      ],
      "execution_count": 173
    },
    {
      "id": "1ae4b8c2-5fea-4cbe-aa0c-76bd554c13f1",
      "cell_type": "code",
      "source": "# bei einem Einkommen von 59.013 ist es überraschend sich ein Auto im Preis von 165.482,31 zu kaufen, aber möglich, daher wird der Wert behalten\n",
      "metadata": {
        "trusted": true
      },
      "outputs": [],
      "execution_count": 174
    },
    {
      "id": "9811adce",
      "cell_type": "markdown",
      "source": "### 2.3.2.4 Zeit",
      "metadata": {}
    },
    {
      "id": "1b839bcc-3072-4950-9d2f-49d271671c40",
      "cell_type": "code",
      "source": "boxplot_preis = kunden.boxplot(column = 'Zeit')\nplt.show()",
      "metadata": {
        "trusted": true
      },
      "outputs": [
        {
          "output_type": "display_data",
          "data": {
            "text/plain": "<Figure size 640x480 with 1 Axes>",
            "image/png": "[encoded data removed]"
          },
          "metadata": {}
        }
      ],
      "execution_count": 175
    },
    {
      "id": "fecd704e-a27e-44d0-83cf-0a8a32ff1aab",
      "cell_type": "code",
      "source": "# mehrere Ausreißer zu erkennen",
      "metadata": {
        "trusted": true
      },
      "outputs": [],
      "execution_count": 176
    },
    {
      "id": "18f08f32",
      "cell_type": "code",
      "source": "# Berechnung von Q1, Q3 und IQR der Zeit-Spalte\nQ1_zeit = kunden['Zeit'].quantile(0.25)\nQ3_zeit = kunden['Zeit'].quantile(0.75)\nIQR_zeit = Q3_zeit - Q1_zeit\nIQR_zeit\nuntere_grenze_zeit = Q1_zeit - 1.5 * IQR_zeit\nobere_grenze_zeit = Q3_zeit + 1.5 * IQR_zeit\nkunden['Ausreißer'] = (kunden['Zeit'] < untere_grenze_zeit) | (kunden['Zeit'] > obere_grenze_zeit)\nausreißer_zeit = kunden.Ausreißer.value_counts()\nausreißer_zeit",
      "metadata": {
        "trusted": true
      },
      "outputs": [
        {
          "execution_count": 177,
          "output_type": "execute_result",
          "data": {
            "text/plain": "False    1098\nTrue        6\nName: Ausreißer, dtype: int64"
          },
          "metadata": {}
        }
      ],
      "execution_count": 177
    },
    {
      "id": "2e63e8d9",
      "cell_type": "code",
      "source": "# Ermittlung der genauen Werte der Ausreißer\nkunden.loc[kunden['Ausreißer'] == True]",
      "metadata": {
        "trusted": true
      },
      "outputs": [
        {
          "execution_count": 178,
          "output_type": "execute_result",
          "data": {
            "text/plain": "     Alter  Einkommen      Preis  Geschlecht  Zeit KundeNr  Ausreißer\n218     33    38675.0   56493.40         1.0  13.0   K0983       True\n313     62    96569.0  140745.65         0.0  80.0   K0249       True\n327     34    24811.0   57541.73         1.0  12.0   K0395       True\n542     67    89170.0  123408.48         1.0  76.0   K1093       True\n553     38    33666.0   50494.07         1.0  13.0   K0384       True\n805     64    91409.0  140161.07         1.0  76.0   K0897       True",
            "text/html": "<div>\n<style scoped>\n    .dataframe tbody tr th:only-of-type {\n        vertical-align: middle;\n    }\n\n    .dataframe tbody tr th {\n        vertical-align: top;\n    }\n\n    .dataframe thead th {\n        text-align: right;\n    }\n</style>\n<table border=\"1\" class=\"dataframe\">\n  <thead>\n    <tr style=\"text-align: right;\">\n      <th></th>\n      <th>Alter</th>\n      <th>Einkommen</th>\n      <th>Preis</th>\n      <th>Geschlecht</th>\n      <th>Zeit</th>\n      <th>KundeNr</th>\n      <th>Ausreißer</th>\n    </tr>\n  </thead>\n  <tbody>\n    <tr>\n      <th>218</th>\n      <td>33</td>\n      <td>38675.0</td>\n      <td>56493.40</td>\n      <td>1.0</td>\n      <td>13.0</td>\n      <td>K0983</td>\n      <td>True</td>\n    </tr>\n    <tr>\n      <th>313</th>\n      <td>62</td>\n      <td>96569.0</td>\n      <td>140745.65</td>\n      <td>0.0</td>\n      <td>80.0</td>\n      <td>K0249</td>\n      <td>True</td>\n    </tr>\n    <tr>\n      <th>327</th>\n      <td>34</td>\n      <td>24811.0</td>\n      <td>57541.73</td>\n      <td>1.0</td>\n      <td>12.0</td>\n      <td>K0395</td>\n      <td>True</td>\n    </tr>\n    <tr>\n      <th>542</th>\n      <td>67</td>\n      <td>89170.0</td>\n      <td>123408.48</td>\n      <td>1.0</td>\n      <td>76.0</td>\n      <td>K1093</td>\n      <td>True</td>\n    </tr>\n    <tr>\n      <th>553</th>\n      <td>38</td>\n      <td>33666.0</td>\n      <td>50494.07</td>\n      <td>1.0</td>\n      <td>13.0</td>\n      <td>K0384</td>\n      <td>True</td>\n    </tr>\n    <tr>\n      <th>805</th>\n      <td>64</td>\n      <td>91409.0</td>\n      <td>140161.07</td>\n      <td>1.0</td>\n      <td>76.0</td>\n      <td>K0897</td>\n      <td>True</td>\n    </tr>\n  </tbody>\n</table>\n</div>"
          },
          "metadata": {}
        }
      ],
      "execution_count": 178
    },
    {
      "id": "30c658a9-67f0-4ef4-b6d6-1be025559ab0",
      "cell_type": "code",
      "source": "# Die Zeiten sind möglich, z.B. 12 Minuten weil keine Probefahrt gemacht wurde oder 80 Minuten weil eine lange gemacht wurde, Werte bleiben erhalten",
      "metadata": {
        "trusted": true
      },
      "outputs": [],
      "execution_count": 179
    },
    {
      "id": "ba356621-0127-4ec9-b073-11219a996223",
      "cell_type": "code",
      "source": "kunden",
      "metadata": {
        "trusted": true
      },
      "outputs": [
        {
          "execution_count": 180,
          "output_type": "execute_result",
          "data": {
            "text/plain": "      Alter  Einkommen      Preis  Geschlecht  Zeit KundeNr  Ausreißer\n0        64    66894.0   88160.31         1.0  43.0   K0310      False\n1        54    77644.0  103145.70         1.0  40.0   K1042      False\n2        55    44341.0   80565.16         0.0  37.0   K0382      False\n3        49    67271.0   83949.89         0.0  42.0   K0498      False\n4        46    49832.0   93781.58         0.0  41.0   K0552      False\n...     ...        ...        ...         ...   ...     ...        ...\n1099     70    69581.0  103751.58         1.0  51.0   K0467      False\n1100     38    48301.0   64230.98         1.0  33.0   K0122      False\n1101     67    63547.0  103123.57         1.0  41.0   K1045      False\n1102     37    32686.0   49215.87         1.0  36.0   K1096      False\n1103     55    71240.0  106132.59         1.0  49.0   K0861      False\n\n[1104 rows x 7 columns]",
            "text/html": "<div>\n<style scoped>\n    .dataframe tbody tr th:only-of-type {\n        vertical-align: middle;\n    }\n\n    .dataframe tbody tr th {\n        vertical-align: top;\n    }\n\n    .dataframe thead th {\n        text-align: right;\n    }\n</style>\n<table border=\"1\" class=\"dataframe\">\n  <thead>\n    <tr style=\"text-align: right;\">\n      <th></th>\n      <th>Alter</th>\n      <th>Einkommen</th>\n      <th>Preis</th>\n      <th>Geschlecht</th>\n      <th>Zeit</th>\n      <th>KundeNr</th>\n      <th>Ausreißer</th>\n    </tr>\n  </thead>\n  <tbody>\n    <tr>\n      <th>0</th>\n      <td>64</td>\n      <td>66894.0</td>\n      <td>88160.31</td>\n      <td>1.0</td>\n      <td>43.0</td>\n      <td>K0310</td>\n      <td>False</td>\n    </tr>\n    <tr>\n      <th>1</th>\n      <td>54</td>\n      <td>77644.0</td>\n      <td>103145.70</td>\n      <td>1.0</td>\n      <td>40.0</td>\n      <td>K1042</td>\n      <td>False</td>\n    </tr>\n    <tr>\n      <th>2</th>\n      <td>55</td>\n      <td>44341.0</td>\n      <td>80565.16</td>\n      <td>0.0</td>\n      <td>37.0</td>\n      <td>K0382</td>\n      <td>False</td>\n    </tr>\n    <tr>\n      <th>3</th>\n      <td>49</td>\n      <td>67271.0</td>\n      <td>83949.89</td>\n      <td>0.0</td>\n      <td>42.0</td>\n      <td>K0498</td>\n      <td>False</td>\n    </tr>\n    <tr>\n      <th>4</th>\n      <td>46</td>\n      <td>49832.0</td>\n      <td>93781.58</td>\n      <td>0.0</td>\n      <td>41.0</td>\n      <td>K0552</td>\n      <td>False</td>\n    </tr>\n    <tr>\n      <th>...</th>\n      <td>...</td>\n      <td>...</td>\n      <td>...</td>\n      <td>...</td>\n      <td>...</td>\n      <td>...</td>\n      <td>...</td>\n    </tr>\n    <tr>\n      <th>1099</th>\n      <td>70</td>\n      <td>69581.0</td>\n      <td>103751.58</td>\n      <td>1.0</td>\n      <td>51.0</td>\n      <td>K0467</td>\n      <td>False</td>\n    </tr>\n    <tr>\n      <th>1100</th>\n      <td>38</td>\n      <td>48301.0</td>\n      <td>64230.98</td>\n      <td>1.0</td>\n      <td>33.0</td>\n      <td>K0122</td>\n      <td>False</td>\n    </tr>\n    <tr>\n      <th>1101</th>\n      <td>67</td>\n      <td>63547.0</td>\n      <td>103123.57</td>\n      <td>1.0</td>\n      <td>41.0</td>\n      <td>K1045</td>\n      <td>False</td>\n    </tr>\n    <tr>\n      <th>1102</th>\n      <td>37</td>\n      <td>32686.0</td>\n      <td>49215.87</td>\n      <td>1.0</td>\n      <td>36.0</td>\n      <td>K1096</td>\n      <td>False</td>\n    </tr>\n    <tr>\n      <th>1103</th>\n      <td>55</td>\n      <td>71240.0</td>\n      <td>106132.59</td>\n      <td>1.0</td>\n      <td>49.0</td>\n      <td>K0861</td>\n      <td>False</td>\n    </tr>\n  </tbody>\n</table>\n<p>1104 rows × 7 columns</p>\n</div>"
          },
          "metadata": {}
        }
      ],
      "execution_count": 180
    },
    {
      "id": "8c444290",
      "cell_type": "code",
      "source": "# Boolean-Spalte wieder entfernen\nkunden = kunden.drop(kunden.columns[-1], axis=1)\nkunden",
      "metadata": {
        "trusted": true
      },
      "outputs": [
        {
          "execution_count": 181,
          "output_type": "execute_result",
          "data": {
            "text/plain": "      Alter  Einkommen      Preis  Geschlecht  Zeit KundeNr\n0        64    66894.0   88160.31         1.0  43.0   K0310\n1        54    77644.0  103145.70         1.0  40.0   K1042\n2        55    44341.0   80565.16         0.0  37.0   K0382\n3        49    67271.0   83949.89         0.0  42.0   K0498\n4        46    49832.0   93781.58         0.0  41.0   K0552\n...     ...        ...        ...         ...   ...     ...\n1099     70    69581.0  103751.58         1.0  51.0   K0467\n1100     38    48301.0   64230.98         1.0  33.0   K0122\n1101     67    63547.0  103123.57         1.0  41.0   K1045\n1102     37    32686.0   49215.87         1.0  36.0   K1096\n1103     55    71240.0  106132.59         1.0  49.0   K0861\n\n[1104 rows x 6 columns]",
            "text/html": "<div>\n<style scoped>\n    .dataframe tbody tr th:only-of-type {\n        vertical-align: middle;\n    }\n\n    .dataframe tbody tr th {\n        vertical-align: top;\n    }\n\n    .dataframe thead th {\n        text-align: right;\n    }\n</style>\n<table border=\"1\" class=\"dataframe\">\n  <thead>\n    <tr style=\"text-align: right;\">\n      <th></th>\n      <th>Alter</th>\n      <th>Einkommen</th>\n      <th>Preis</th>\n      <th>Geschlecht</th>\n      <th>Zeit</th>\n      <th>KundeNr</th>\n    </tr>\n  </thead>\n  <tbody>\n    <tr>\n      <th>0</th>\n      <td>64</td>\n      <td>66894.0</td>\n      <td>88160.31</td>\n      <td>1.0</td>\n      <td>43.0</td>\n      <td>K0310</td>\n    </tr>\n    <tr>\n      <th>1</th>\n      <td>54</td>\n      <td>77644.0</td>\n      <td>103145.70</td>\n      <td>1.0</td>\n      <td>40.0</td>\n      <td>K1042</td>\n    </tr>\n    <tr>\n      <th>2</th>\n      <td>55</td>\n      <td>44341.0</td>\n      <td>80565.16</td>\n      <td>0.0</td>\n      <td>37.0</td>\n      <td>K0382</td>\n    </tr>\n    <tr>\n      <th>3</th>\n      <td>49</td>\n      <td>67271.0</td>\n      <td>83949.89</td>\n      <td>0.0</td>\n      <td>42.0</td>\n      <td>K0498</td>\n    </tr>\n    <tr>\n      <th>4</th>\n      <td>46</td>\n      <td>49832.0</td>\n      <td>93781.58</td>\n      <td>0.0</td>\n      <td>41.0</td>\n      <td>K0552</td>\n    </tr>\n    <tr>\n      <th>...</th>\n      <td>...</td>\n      <td>...</td>\n      <td>...</td>\n      <td>...</td>\n      <td>...</td>\n      <td>...</td>\n    </tr>\n    <tr>\n      <th>1099</th>\n      <td>70</td>\n      <td>69581.0</td>\n      <td>103751.58</td>\n      <td>1.0</td>\n      <td>51.0</td>\n      <td>K0467</td>\n    </tr>\n    <tr>\n      <th>1100</th>\n      <td>38</td>\n      <td>48301.0</td>\n      <td>64230.98</td>\n      <td>1.0</td>\n      <td>33.0</td>\n      <td>K0122</td>\n    </tr>\n    <tr>\n      <th>1101</th>\n      <td>67</td>\n      <td>63547.0</td>\n      <td>103123.57</td>\n      <td>1.0</td>\n      <td>41.0</td>\n      <td>K1045</td>\n    </tr>\n    <tr>\n      <th>1102</th>\n      <td>37</td>\n      <td>32686.0</td>\n      <td>49215.87</td>\n      <td>1.0</td>\n      <td>36.0</td>\n      <td>K1096</td>\n    </tr>\n    <tr>\n      <th>1103</th>\n      <td>55</td>\n      <td>71240.0</td>\n      <td>106132.59</td>\n      <td>1.0</td>\n      <td>49.0</td>\n      <td>K0861</td>\n    </tr>\n  </tbody>\n</table>\n<p>1104 rows × 6 columns</p>\n</div>"
          },
          "metadata": {}
        }
      ],
      "execution_count": 181
    },
    {
      "id": "8e25bed9-a53d-4bdc-97b9-07a576355e97",
      "cell_type": "markdown",
      "source": "## 3. Besucherdaten",
      "metadata": {}
    },
    {
      "id": "8d2f50a4-b8d0-4b6e-8994-76abdfdc4253",
      "cell_type": "markdown",
      "source": "### 3.1 Besucherdatei einlesen",
      "metadata": {}
    },
    {
      "id": "09fd1f7c-1849-44b9-bc35-4fcfc760f3fe",
      "cell_type": "code",
      "source": "besucher = pd.read_csv(\"besucher.csv\", decimal = '.', sep = \";\")\nbesucher.head()",
      "metadata": {
        "trusted": true
      },
      "outputs": [
        {
          "execution_count": 182,
          "output_type": "execute_result",
          "data": {
            "text/plain": "   Alter           Einkommen  Geschlecht  Zeit KundeNr\n0     30    39919,0953348874           0  29,0   K1814\n1     41   53430,67308587748           0  27,0   K1544\n2     64    73163,2169267002           0  32,0   K1945\n3     41  36761,482581315344           0  44,0   K1825\n4     35   42684,33163178136           1  33,0   K1144",
            "text/html": "<div>\n<style scoped>\n    .dataframe tbody tr th:only-of-type {\n        vertical-align: middle;\n    }\n\n    .dataframe tbody tr th {\n        vertical-align: top;\n    }\n\n    .dataframe thead th {\n        text-align: right;\n    }\n</style>\n<table border=\"1\" class=\"dataframe\">\n  <thead>\n    <tr style=\"text-align: right;\">\n      <th></th>\n      <th>Alter</th>\n      <th>Einkommen</th>\n      <th>Geschlecht</th>\n      <th>Zeit</th>\n      <th>KundeNr</th>\n    </tr>\n  </thead>\n  <tbody>\n    <tr>\n      <th>0</th>\n      <td>30</td>\n      <td>39919,0953348874</td>\n      <td>0</td>\n      <td>29,0</td>\n      <td>K1814</td>\n    </tr>\n    <tr>\n      <th>1</th>\n      <td>41</td>\n      <td>53430,67308587748</td>\n      <td>0</td>\n      <td>27,0</td>\n      <td>K1544</td>\n    </tr>\n    <tr>\n      <th>2</th>\n      <td>64</td>\n      <td>73163,2169267002</td>\n      <td>0</td>\n      <td>32,0</td>\n      <td>K1945</td>\n    </tr>\n    <tr>\n      <th>3</th>\n      <td>41</td>\n      <td>36761,482581315344</td>\n      <td>0</td>\n      <td>44,0</td>\n      <td>K1825</td>\n    </tr>\n    <tr>\n      <th>4</th>\n      <td>35</td>\n      <td>42684,33163178136</td>\n      <td>1</td>\n      <td>33,0</td>\n      <td>K1144</td>\n    </tr>\n  </tbody>\n</table>\n</div>"
          },
          "metadata": {}
        }
      ],
      "execution_count": 182
    },
    {
      "id": "952b4a01-a628-4ff6-bdb9-1de8fb234ca9",
      "cell_type": "markdown",
      "source": "### 3.2 Überblick über Datentypen",
      "metadata": {}
    },
    {
      "id": "9f45ee44-4546-49a5-8d16-01ba6e724738",
      "cell_type": "code",
      "source": "besucher.dtypes",
      "metadata": {
        "trusted": true
      },
      "outputs": [
        {
          "execution_count": 183,
          "output_type": "execute_result",
          "data": {
            "text/plain": "Alter          int64\nEinkommen     object\nGeschlecht     int64\nZeit          object\nKundeNr       object\ndtype: object"
          },
          "metadata": {}
        }
      ],
      "execution_count": 183
    },
    {
      "id": "151e9427-7596-4386-b3d8-cc9e64e043f6",
      "cell_type": "code",
      "source": "# zum Vergleich: Kunden\nkunden.dtypes",
      "metadata": {
        "trusted": true
      },
      "outputs": [
        {
          "execution_count": 184,
          "output_type": "execute_result",
          "data": {
            "text/plain": "Alter           int64\nEinkommen     float64\nPreis         float64\nGeschlecht    float64\nZeit          float64\nKundeNr        object\ndtype: object"
          },
          "metadata": {}
        }
      ],
      "execution_count": 184
    },
    {
      "id": "f8bcdd25-690d-423b-accc-f2d718a3546e",
      "cell_type": "code",
      "source": "# Alter = int, Einkommen = float (ändern bei besucher), Preis = float, Geschlecht = int (ändern bei kunden), Zeit = float (ändern bei besucher), KundeNr = object",
      "metadata": {
        "trusted": true
      },
      "outputs": [],
      "execution_count": 185
    },
    {
      "id": "175b6b36-c3f8-4c85-a428-851a35d57c10",
      "cell_type": "markdown",
      "source": "### 3.3. Bereinigung",
      "metadata": {}
    },
    {
      "id": "03535ce2-f6bd-4636-be9e-3a5a74b9c24b",
      "cell_type": "code",
      "source": "# vermutlich ist die Kommaschreibweise aus dem deutschen, während wir die Werte in der englischen Schreibweise mit einem Punkt, statt Komma benötigen",
      "metadata": {
        "trusted": true
      },
      "outputs": [],
      "execution_count": 186
    },
    {
      "id": "57d54a97-146f-44dc-9a1e-ccf0ec25ca63",
      "cell_type": "markdown",
      "source": "### 3.3.1 Bereinigung der Nachkommastellen und Umwandlung der dtypes",
      "metadata": {}
    },
    {
      "id": "dfc4734e-3852-4438-be97-a513dac153bf",
      "cell_type": "markdown",
      "source": "### 3.3.1.1 Einkommen",
      "metadata": {}
    },
    {
      "id": "9c198db0-8c5e-4407-9fbb-7c03abcb7fc4",
      "cell_type": "code",
      "source": "besucher[\"Einkommen\"] = besucher[\"Einkommen\"].str.replace(\",\",\".\")\nbesucher[\"Einkommen\"] = pd.to_numeric(besucher[\"Einkommen\"]) \nbesucher[\"Einkommen\"] = besucher[\"Einkommen\"].round(0).astype(\"float64\")\nbesucher",
      "metadata": {
        "trusted": true
      },
      "outputs": [
        {
          "execution_count": 187,
          "output_type": "execute_result",
          "data": {
            "text/plain": "     Alter  Einkommen  Geschlecht  Zeit KundeNr\n0       30    39919.0           0  29,0   K1814\n1       41    53431.0           0  27,0   K1544\n2       64    73163.0           0  32,0   K1945\n3       41    36761.0           0  44,0   K1825\n4       35    42684.0           1  33,0   K1144\n..     ...        ...         ...   ...     ...\n886     32    34392.0           1  48,0   K1211\n887     41    68516.0           0  34,0   K1375\n888     65    89685.0           0  23,0   K1965\n889     68    95714.0           0  32,0   K1540\n890     49    73319.0           0  27,0   K1207\n\n[891 rows x 5 columns]",
            "text/html": "<div>\n<style scoped>\n    .dataframe tbody tr th:only-of-type {\n        vertical-align: middle;\n    }\n\n    .dataframe tbody tr th {\n        vertical-align: top;\n    }\n\n    .dataframe thead th {\n        text-align: right;\n    }\n</style>\n<table border=\"1\" class=\"dataframe\">\n  <thead>\n    <tr style=\"text-align: right;\">\n      <th></th>\n      <th>Alter</th>\n      <th>Einkommen</th>\n      <th>Geschlecht</th>\n      <th>Zeit</th>\n      <th>KundeNr</th>\n    </tr>\n  </thead>\n  <tbody>\n    <tr>\n      <th>0</th>\n      <td>30</td>\n      <td>39919.0</td>\n      <td>0</td>\n      <td>29,0</td>\n      <td>K1814</td>\n    </tr>\n    <tr>\n      <th>1</th>\n      <td>41</td>\n      <td>53431.0</td>\n      <td>0</td>\n      <td>27,0</td>\n      <td>K1544</td>\n    </tr>\n    <tr>\n      <th>2</th>\n      <td>64</td>\n      <td>73163.0</td>\n      <td>0</td>\n      <td>32,0</td>\n      <td>K1945</td>\n    </tr>\n    <tr>\n      <th>3</th>\n      <td>41</td>\n      <td>36761.0</td>\n      <td>0</td>\n      <td>44,0</td>\n      <td>K1825</td>\n    </tr>\n    <tr>\n      <th>4</th>\n      <td>35</td>\n      <td>42684.0</td>\n      <td>1</td>\n      <td>33,0</td>\n      <td>K1144</td>\n    </tr>\n    <tr>\n      <th>...</th>\n      <td>...</td>\n      <td>...</td>\n      <td>...</td>\n      <td>...</td>\n      <td>...</td>\n    </tr>\n    <tr>\n      <th>886</th>\n      <td>32</td>\n      <td>34392.0</td>\n      <td>1</td>\n      <td>48,0</td>\n      <td>K1211</td>\n    </tr>\n    <tr>\n      <th>887</th>\n      <td>41</td>\n      <td>68516.0</td>\n      <td>0</td>\n      <td>34,0</td>\n      <td>K1375</td>\n    </tr>\n    <tr>\n      <th>888</th>\n      <td>65</td>\n      <td>89685.0</td>\n      <td>0</td>\n      <td>23,0</td>\n      <td>K1965</td>\n    </tr>\n    <tr>\n      <th>889</th>\n      <td>68</td>\n      <td>95714.0</td>\n      <td>0</td>\n      <td>32,0</td>\n      <td>K1540</td>\n    </tr>\n    <tr>\n      <th>890</th>\n      <td>49</td>\n      <td>73319.0</td>\n      <td>0</td>\n      <td>27,0</td>\n      <td>K1207</td>\n    </tr>\n  </tbody>\n</table>\n<p>891 rows × 5 columns</p>\n</div>"
          },
          "metadata": {}
        }
      ],
      "execution_count": 187
    },
    {
      "id": "23574315-6cf8-49e4-861e-e5addac7028a",
      "cell_type": "markdown",
      "source": "### 3.3.1.2 Zeit",
      "metadata": {}
    },
    {
      "id": "68414472-6a88-4178-bf20-281e3a55ff41",
      "cell_type": "code",
      "source": "besucher[\"Zeit\"] = besucher[\"Zeit\"].str.replace(\",\",\".\")\nbesucher[\"Zeit\"] = pd.to_numeric(besucher[\"Zeit\"])\nbesucher[\"Zeit\"] = besucher[\"Zeit\"].round(0).astype(\"float64\")\nbesucher",
      "metadata": {
        "trusted": true
      },
      "outputs": [
        {
          "execution_count": 188,
          "output_type": "execute_result",
          "data": {
            "text/plain": "     Alter  Einkommen  Geschlecht  Zeit KundeNr\n0       30    39919.0           0  29.0   K1814\n1       41    53431.0           0  27.0   K1544\n2       64    73163.0           0  32.0   K1945\n3       41    36761.0           0  44.0   K1825\n4       35    42684.0           1  33.0   K1144\n..     ...        ...         ...   ...     ...\n886     32    34392.0           1  48.0   K1211\n887     41    68516.0           0  34.0   K1375\n888     65    89685.0           0  23.0   K1965\n889     68    95714.0           0  32.0   K1540\n890     49    73319.0           0  27.0   K1207\n\n[891 rows x 5 columns]",
            "text/html": "<div>\n<style scoped>\n    .dataframe tbody tr th:only-of-type {\n        vertical-align: middle;\n    }\n\n    .dataframe tbody tr th {\n        vertical-align: top;\n    }\n\n    .dataframe thead th {\n        text-align: right;\n    }\n</style>\n<table border=\"1\" class=\"dataframe\">\n  <thead>\n    <tr style=\"text-align: right;\">\n      <th></th>\n      <th>Alter</th>\n      <th>Einkommen</th>\n      <th>Geschlecht</th>\n      <th>Zeit</th>\n      <th>KundeNr</th>\n    </tr>\n  </thead>\n  <tbody>\n    <tr>\n      <th>0</th>\n      <td>30</td>\n      <td>39919.0</td>\n      <td>0</td>\n      <td>29.0</td>\n      <td>K1814</td>\n    </tr>\n    <tr>\n      <th>1</th>\n      <td>41</td>\n      <td>53431.0</td>\n      <td>0</td>\n      <td>27.0</td>\n      <td>K1544</td>\n    </tr>\n    <tr>\n      <th>2</th>\n      <td>64</td>\n      <td>73163.0</td>\n      <td>0</td>\n      <td>32.0</td>\n      <td>K1945</td>\n    </tr>\n    <tr>\n      <th>3</th>\n      <td>41</td>\n      <td>36761.0</td>\n      <td>0</td>\n      <td>44.0</td>\n      <td>K1825</td>\n    </tr>\n    <tr>\n      <th>4</th>\n      <td>35</td>\n      <td>42684.0</td>\n      <td>1</td>\n      <td>33.0</td>\n      <td>K1144</td>\n    </tr>\n    <tr>\n      <th>...</th>\n      <td>...</td>\n      <td>...</td>\n      <td>...</td>\n      <td>...</td>\n      <td>...</td>\n    </tr>\n    <tr>\n      <th>886</th>\n      <td>32</td>\n      <td>34392.0</td>\n      <td>1</td>\n      <td>48.0</td>\n      <td>K1211</td>\n    </tr>\n    <tr>\n      <th>887</th>\n      <td>41</td>\n      <td>68516.0</td>\n      <td>0</td>\n      <td>34.0</td>\n      <td>K1375</td>\n    </tr>\n    <tr>\n      <th>888</th>\n      <td>65</td>\n      <td>89685.0</td>\n      <td>0</td>\n      <td>23.0</td>\n      <td>K1965</td>\n    </tr>\n    <tr>\n      <th>889</th>\n      <td>68</td>\n      <td>95714.0</td>\n      <td>0</td>\n      <td>32.0</td>\n      <td>K1540</td>\n    </tr>\n    <tr>\n      <th>890</th>\n      <td>49</td>\n      <td>73319.0</td>\n      <td>0</td>\n      <td>27.0</td>\n      <td>K1207</td>\n    </tr>\n  </tbody>\n</table>\n<p>891 rows × 5 columns</p>\n</div>"
          },
          "metadata": {}
        }
      ],
      "execution_count": 188
    },
    {
      "id": "533a46f4-ca63-485b-ad11-f163e592794c",
      "cell_type": "markdown",
      "source": "### 3.3.1.3 Geschlecht",
      "metadata": {}
    },
    {
      "id": "50b45e99-580b-491b-be14-e9c3a65d36b1",
      "cell_type": "code",
      "source": "kunden[\"Geschlecht\"] = kunden[\"Geschlecht\"].astype(\"int64\")\nkunden",
      "metadata": {
        "trusted": true
      },
      "outputs": [
        {
          "execution_count": 189,
          "output_type": "execute_result",
          "data": {
            "text/plain": "      Alter  Einkommen      Preis  Geschlecht  Zeit KundeNr\n0        64    66894.0   88160.31           1  43.0   K0310\n1        54    77644.0  103145.70           1  40.0   K1042\n2        55    44341.0   80565.16           0  37.0   K0382\n3        49    67271.0   83949.89           0  42.0   K0498\n4        46    49832.0   93781.58           0  41.0   K0552\n...     ...        ...        ...         ...   ...     ...\n1099     70    69581.0  103751.58           1  51.0   K0467\n1100     38    48301.0   64230.98           1  33.0   K0122\n1101     67    63547.0  103123.57           1  41.0   K1045\n1102     37    32686.0   49215.87           1  36.0   K1096\n1103     55    71240.0  106132.59           1  49.0   K0861\n\n[1104 rows x 6 columns]",
            "text/html": "<div>\n<style scoped>\n    .dataframe tbody tr th:only-of-type {\n        vertical-align: middle;\n    }\n\n    .dataframe tbody tr th {\n        vertical-align: top;\n    }\n\n    .dataframe thead th {\n        text-align: right;\n    }\n</style>\n<table border=\"1\" class=\"dataframe\">\n  <thead>\n    <tr style=\"text-align: right;\">\n      <th></th>\n      <th>Alter</th>\n      <th>Einkommen</th>\n      <th>Preis</th>\n      <th>Geschlecht</th>\n      <th>Zeit</th>\n      <th>KundeNr</th>\n    </tr>\n  </thead>\n  <tbody>\n    <tr>\n      <th>0</th>\n      <td>64</td>\n      <td>66894.0</td>\n      <td>88160.31</td>\n      <td>1</td>\n      <td>43.0</td>\n      <td>K0310</td>\n    </tr>\n    <tr>\n      <th>1</th>\n      <td>54</td>\n      <td>77644.0</td>\n      <td>103145.70</td>\n      <td>1</td>\n      <td>40.0</td>\n      <td>K1042</td>\n    </tr>\n    <tr>\n      <th>2</th>\n      <td>55</td>\n      <td>44341.0</td>\n      <td>80565.16</td>\n      <td>0</td>\n      <td>37.0</td>\n      <td>K0382</td>\n    </tr>\n    <tr>\n      <th>3</th>\n      <td>49</td>\n      <td>67271.0</td>\n      <td>83949.89</td>\n      <td>0</td>\n      <td>42.0</td>\n      <td>K0498</td>\n    </tr>\n    <tr>\n      <th>4</th>\n      <td>46</td>\n      <td>49832.0</td>\n      <td>93781.58</td>\n      <td>0</td>\n      <td>41.0</td>\n      <td>K0552</td>\n    </tr>\n    <tr>\n      <th>...</th>\n      <td>...</td>\n      <td>...</td>\n      <td>...</td>\n      <td>...</td>\n      <td>...</td>\n      <td>...</td>\n    </tr>\n    <tr>\n      <th>1099</th>\n      <td>70</td>\n      <td>69581.0</td>\n      <td>103751.58</td>\n      <td>1</td>\n      <td>51.0</td>\n      <td>K0467</td>\n    </tr>\n    <tr>\n      <th>1100</th>\n      <td>38</td>\n      <td>48301.0</td>\n      <td>64230.98</td>\n      <td>1</td>\n      <td>33.0</td>\n      <td>K0122</td>\n    </tr>\n    <tr>\n      <th>1101</th>\n      <td>67</td>\n      <td>63547.0</td>\n      <td>103123.57</td>\n      <td>1</td>\n      <td>41.0</td>\n      <td>K1045</td>\n    </tr>\n    <tr>\n      <th>1102</th>\n      <td>37</td>\n      <td>32686.0</td>\n      <td>49215.87</td>\n      <td>1</td>\n      <td>36.0</td>\n      <td>K1096</td>\n    </tr>\n    <tr>\n      <th>1103</th>\n      <td>55</td>\n      <td>71240.0</td>\n      <td>106132.59</td>\n      <td>1</td>\n      <td>49.0</td>\n      <td>K0861</td>\n    </tr>\n  </tbody>\n</table>\n<p>1104 rows × 6 columns</p>\n</div>"
          },
          "metadata": {}
        }
      ],
      "execution_count": 189
    },
    {
      "id": "7f8d47fc-79e4-41ff-8f5e-6b95d062916a",
      "cell_type": "code",
      "source": "# Überprüfen der dtypes\nbesucher.dtypes, kunden.dtypes",
      "metadata": {
        "trusted": true
      },
      "outputs": [
        {
          "execution_count": 190,
          "output_type": "execute_result",
          "data": {
            "text/plain": "(Alter           int64\n Einkommen     float64\n Geschlecht      int64\n Zeit          float64\n KundeNr        object\n dtype: object,\n Alter           int64\n Einkommen     float64\n Preis         float64\n Geschlecht      int64\n Zeit          float64\n KundeNr        object\n dtype: object)"
          },
          "metadata": {}
        }
      ],
      "execution_count": 190
    },
    {
      "id": "ecec2ca9-bbe4-47ec-8ff7-6e578fbcb81b",
      "cell_type": "markdown",
      "source": "### 3.3.2 Fehlende Datenpunkte ermitteln und ersetzen",
      "metadata": {}
    },
    {
      "id": "055acef9-70af-4af0-b9b3-ca8f8b3de400",
      "cell_type": "code",
      "source": "besucher.isnull().sum()",
      "metadata": {
        "trusted": true
      },
      "outputs": [
        {
          "execution_count": 191,
          "output_type": "execute_result",
          "data": {
            "text/plain": "Alter         0\nEinkommen     0\nGeschlecht    0\nZeit          0\nKundeNr       0\ndtype: int64"
          },
          "metadata": {}
        }
      ],
      "execution_count": 191
    },
    {
      "id": "703ca297-14dd-4032-a52a-83edcf48fd4c",
      "cell_type": "code",
      "source": "# keine fehlenden Datenpunkte im Datensatz",
      "metadata": {
        "trusted": true
      },
      "outputs": [],
      "execution_count": 192
    },
    {
      "id": "720720bd-f6a7-4daf-be97-aba4c1e9fb97",
      "cell_type": "markdown",
      "source": "### 3.3.3 Ausreißer ermitteln und entfernen",
      "metadata": {}
    },
    {
      "id": "c406389b-29f5-49f1-8abc-6a00120023aa",
      "cell_type": "code",
      "source": "# Außreißer ermitteln\nkunden.describe().T",
      "metadata": {
        "trusted": true
      },
      "outputs": [
        {
          "execution_count": 193,
          "output_type": "execute_result",
          "data": {
            "text/plain": "             count          mean           std       min         25%  \\\nAlter       1104.0     50.375000     11.951426     30.00     40.0000   \nEinkommen   1104.0  58850.907609  16443.509924  14547.00  46697.0000   \nPreis       1104.0  88975.198714  24464.067781  21471.65  70609.4225   \nGeschlecht  1104.0      0.639493      0.480365      0.00      0.0000   \nZeit        1104.0     44.375906     10.848040     12.00     37.0000   \n\n                  50%         75%        max  \nAlter          51.000      61.000      70.00  \nEinkommen   59013.000   70270.250  100769.00  \nPreis       88931.455  107093.375  165482.31  \nGeschlecht      1.000       1.000       1.00  \nZeit           44.000      52.000      80.00  ",
            "text/html": "<div>\n<style scoped>\n    .dataframe tbody tr th:only-of-type {\n        vertical-align: middle;\n    }\n\n    .dataframe tbody tr th {\n        vertical-align: top;\n    }\n\n    .dataframe thead th {\n        text-align: right;\n    }\n</style>\n<table border=\"1\" class=\"dataframe\">\n  <thead>\n    <tr style=\"text-align: right;\">\n      <th></th>\n      <th>count</th>\n      <th>mean</th>\n      <th>std</th>\n      <th>min</th>\n      <th>25%</th>\n      <th>50%</th>\n      <th>75%</th>\n      <th>max</th>\n    </tr>\n  </thead>\n  <tbody>\n    <tr>\n      <th>Alter</th>\n      <td>1104.0</td>\n      <td>50.375000</td>\n      <td>11.951426</td>\n      <td>30.00</td>\n      <td>40.0000</td>\n      <td>51.000</td>\n      <td>61.000</td>\n      <td>70.00</td>\n    </tr>\n    <tr>\n      <th>Einkommen</th>\n      <td>1104.0</td>\n      <td>58850.907609</td>\n      <td>16443.509924</td>\n      <td>14547.00</td>\n      <td>46697.0000</td>\n      <td>59013.000</td>\n      <td>70270.250</td>\n      <td>100769.00</td>\n    </tr>\n    <tr>\n      <th>Preis</th>\n      <td>1104.0</td>\n      <td>88975.198714</td>\n      <td>24464.067781</td>\n      <td>21471.65</td>\n      <td>70609.4225</td>\n      <td>88931.455</td>\n      <td>107093.375</td>\n      <td>165482.31</td>\n    </tr>\n    <tr>\n      <th>Geschlecht</th>\n      <td>1104.0</td>\n      <td>0.639493</td>\n      <td>0.480365</td>\n      <td>0.00</td>\n      <td>0.0000</td>\n      <td>1.000</td>\n      <td>1.000</td>\n      <td>1.00</td>\n    </tr>\n    <tr>\n      <th>Zeit</th>\n      <td>1104.0</td>\n      <td>44.375906</td>\n      <td>10.848040</td>\n      <td>12.00</td>\n      <td>37.0000</td>\n      <td>44.000</td>\n      <td>52.000</td>\n      <td>80.00</td>\n    </tr>\n  </tbody>\n</table>\n</div>"
          },
          "metadata": {}
        }
      ],
      "execution_count": 193
    },
    {
      "id": "ef8fa4df-4149-4a8e-876b-78e18545f630",
      "cell_type": "markdown",
      "source": "### 3.3.3.1 Alter",
      "metadata": {}
    },
    {
      "id": "c8972a3c-3306-411d-b7d8-0877b95f2bef",
      "cell_type": "code",
      "source": "boxplot_besucher_alter = besucher.boxplot(column = 'Alter')\nplt.show()",
      "metadata": {
        "trusted": true
      },
      "outputs": [
        {
          "output_type": "display_data",
          "data": {
            "text/plain": "<Figure size 640x480 with 1 Axes>",
            "image/png": "[encoded data removed]"
          },
          "metadata": {}
        }
      ],
      "execution_count": 194
    },
    {
      "id": "6730eca4-d2c7-4254-956e-e69f63d5fbaa",
      "cell_type": "code",
      "source": "# sowohl bei describe-Tabelle als auch beim boxplot keine Ausreißer zu erkennen",
      "metadata": {
        "trusted": true
      },
      "outputs": [],
      "execution_count": 195
    },
    {
      "id": "61e27a0b-4be7-4af4-8c87-de153892f9f4",
      "cell_type": "markdown",
      "source": "### 3.3.3.2 Einkommen",
      "metadata": {}
    },
    {
      "id": "69523c19-d7c8-4f1c-8021-8695caf4eb55",
      "cell_type": "code",
      "source": "boxplot_besucher_einkommen = besucher.boxplot(column = 'Einkommen')\nplt.show()",
      "metadata": {
        "trusted": true
      },
      "outputs": [
        {
          "output_type": "display_data",
          "data": {
            "text/plain": "<Figure size 640x480 with 1 Axes>",
            "image/png": "[encoded data removed]"
          },
          "metadata": {}
        }
      ],
      "execution_count": 196
    },
    {
      "id": "f151db84-24a3-4550-84e8-039750251c54",
      "cell_type": "code",
      "source": "# mehrere Ausreißer zu erkennen",
      "metadata": {
        "trusted": true
      },
      "outputs": [],
      "execution_count": 197
    },
    {
      "id": "f63485c2-4d8d-47f8-ab35-346c7ffe6ae9",
      "cell_type": "code",
      "source": "# Berechnung von Q1, Q3 und IQR der Zeit-Spalte\nQ1_einkommen_besucher = besucher['Einkommen'].quantile(0.25)\nQ3_einkommen_besucher = besucher['Einkommen'].quantile(0.75)\nIQR_einkommen_besucher = Q3_einkommen_besucher - Q1_einkommen_besucher\nuntere_grenze_einkommen_besucher = Q1_einkommen_besucher - 1.5 * IQR_einkommen_besucher\nobere_grenze_einkommen_besucher = Q3_einkommen_besucher + 1.5 * IQR_einkommen_besucher\nbesucher['Ausreißer'] = (besucher['Einkommen'] < untere_grenze_einkommen_besucher) | (besucher['Einkommen'] > obere_grenze_einkommen_besucher)\nausreißer_einkommen_besucher = besucher.Ausreißer.value_counts()\nausreißer_einkommen_besucher",
      "metadata": {
        "trusted": true
      },
      "outputs": [
        {
          "execution_count": 198,
          "output_type": "execute_result",
          "data": {
            "text/plain": "False    888\nTrue       3\nName: Ausreißer, dtype: int64"
          },
          "metadata": {}
        }
      ],
      "execution_count": 198
    },
    {
      "id": "bcbbf688-41e1-441f-8639-5ec5192f1282",
      "cell_type": "code",
      "source": "# Ermitteln der genauen Werte der Ausreißer\nbesucher.loc[besucher['Ausreißer'] == True]",
      "metadata": {
        "trusted": true
      },
      "outputs": [
        {
          "execution_count": 199,
          "output_type": "execute_result",
          "data": {
            "text/plain": "     Alter  Einkommen  Geschlecht  Zeit KundeNr  Ausreißer\n44      69   108569.0           1  47.0   K1467       True\n132     31    12032.0           1  32.0   K1586       True\n265     31    10802.0           1  25.0   K1561       True",
            "text/html": "<div>\n<style scoped>\n    .dataframe tbody tr th:only-of-type {\n        vertical-align: middle;\n    }\n\n    .dataframe tbody tr th {\n        vertical-align: top;\n    }\n\n    .dataframe thead th {\n        text-align: right;\n    }\n</style>\n<table border=\"1\" class=\"dataframe\">\n  <thead>\n    <tr style=\"text-align: right;\">\n      <th></th>\n      <th>Alter</th>\n      <th>Einkommen</th>\n      <th>Geschlecht</th>\n      <th>Zeit</th>\n      <th>KundeNr</th>\n      <th>Ausreißer</th>\n    </tr>\n  </thead>\n  <tbody>\n    <tr>\n      <th>44</th>\n      <td>69</td>\n      <td>108569.0</td>\n      <td>1</td>\n      <td>47.0</td>\n      <td>K1467</td>\n      <td>True</td>\n    </tr>\n    <tr>\n      <th>132</th>\n      <td>31</td>\n      <td>12032.0</td>\n      <td>1</td>\n      <td>32.0</td>\n      <td>K1586</td>\n      <td>True</td>\n    </tr>\n    <tr>\n      <th>265</th>\n      <td>31</td>\n      <td>10802.0</td>\n      <td>1</td>\n      <td>25.0</td>\n      <td>K1561</td>\n      <td>True</td>\n    </tr>\n  </tbody>\n</table>\n</div>"
          },
          "metadata": {}
        }
      ],
      "execution_count": 199
    },
    {
      "id": "c58942af-27b1-4263-8530-c70d0fe14583",
      "cell_type": "code",
      "source": "# so niedriges und so hohes Einkommen ist möglich, daher bleiben Werte erhalten",
      "metadata": {
        "trusted": true
      },
      "outputs": [],
      "execution_count": 200
    },
    {
      "id": "8f97a96b-696b-4c6e-a53c-f940f0c122e3",
      "cell_type": "markdown",
      "source": "### 3.3.3.3 Zeit",
      "metadata": {}
    },
    {
      "id": "e4e47a9a-1213-46b8-a0d3-af6036c12a63",
      "cell_type": "code",
      "source": "boxplot_besucher_zeit = besucher.boxplot(column = 'Zeit')\nplt.show()",
      "metadata": {
        "trusted": true
      },
      "outputs": [
        {
          "output_type": "display_data",
          "data": {
            "text/plain": "<Figure size 640x480 with 1 Axes>",
            "image/png": "[encoded data removed]"
          },
          "metadata": {}
        }
      ],
      "execution_count": 201
    },
    {
      "id": "d209cc1b-4b6d-4f67-8a45-f32c9050b6ab",
      "cell_type": "code",
      "source": "# mehrere Ausreißer zu erkennen",
      "metadata": {
        "trusted": true
      },
      "outputs": [],
      "execution_count": 202
    },
    {
      "id": "8a3cd720-982f-418d-8256-4e583e636db0",
      "cell_type": "code",
      "source": "# Berechnung von Q1, Q3 und IQR der Zeit-Spalte\nQ1_zeit_besucher = besucher['Zeit'].quantile(0.25)\nQ3_zeit_besucher = besucher['Zeit'].quantile(0.75)\nIQR_zeit_besucher = Q3_zeit_besucher - Q1_zeit_besucher\nuntere_grenze_zeit_besucher = Q1_zeit_besucher - 1.5 * IQR_zeit_besucher\nobere_grenze_zeit_besucher = Q3_zeit_besucher + 1.5 * IQR_zeit_besucher\nbesucher['Ausreißer'] = (besucher['Zeit'] < untere_grenze_zeit_besucher) | (besucher['Zeit'] > obere_grenze_zeit_besucher)\nausreißer_zeit_besucher = besucher.Ausreißer.value_counts()\nausreißer_zeit_besucher",
      "metadata": {
        "trusted": true
      },
      "outputs": [
        {
          "execution_count": 203,
          "output_type": "execute_result",
          "data": {
            "text/plain": "False    888\nTrue       3\nName: Ausreißer, dtype: int64"
          },
          "metadata": {}
        }
      ],
      "execution_count": 203
    },
    {
      "id": "b8ae8dca-eba9-4281-b887-fb06dd646dc2",
      "cell_type": "code",
      "source": "# Ermittlung der genauen Werte der Ausreißer\nbesucher.loc[besucher['Ausreißer'] == True]",
      "metadata": {
        "trusted": true
      },
      "outputs": [
        {
          "execution_count": 204,
          "output_type": "execute_result",
          "data": {
            "text/plain": "     Alter  Einkommen  Geschlecht  Zeit KundeNr  Ausreißer\n105     40    39581.0           1   5.0   K1547       True\n158     31    38299.0           1   3.0   K1623       True\n603     62    84205.0           1  68.0   K1526       True",
            "text/html": "<div>\n<style scoped>\n    .dataframe tbody tr th:only-of-type {\n        vertical-align: middle;\n    }\n\n    .dataframe tbody tr th {\n        vertical-align: top;\n    }\n\n    .dataframe thead th {\n        text-align: right;\n    }\n</style>\n<table border=\"1\" class=\"dataframe\">\n  <thead>\n    <tr style=\"text-align: right;\">\n      <th></th>\n      <th>Alter</th>\n      <th>Einkommen</th>\n      <th>Geschlecht</th>\n      <th>Zeit</th>\n      <th>KundeNr</th>\n      <th>Ausreißer</th>\n    </tr>\n  </thead>\n  <tbody>\n    <tr>\n      <th>105</th>\n      <td>40</td>\n      <td>39581.0</td>\n      <td>1</td>\n      <td>5.0</td>\n      <td>K1547</td>\n      <td>True</td>\n    </tr>\n    <tr>\n      <th>158</th>\n      <td>31</td>\n      <td>38299.0</td>\n      <td>1</td>\n      <td>3.0</td>\n      <td>K1623</td>\n      <td>True</td>\n    </tr>\n    <tr>\n      <th>603</th>\n      <td>62</td>\n      <td>84205.0</td>\n      <td>1</td>\n      <td>68.0</td>\n      <td>K1526</td>\n      <td>True</td>\n    </tr>\n  </tbody>\n</table>\n</div>"
          },
          "metadata": {}
        }
      ],
      "execution_count": 204
    },
    {
      "id": "3f92fb50-266b-4ea0-86a2-06924d00b1ed",
      "cell_type": "code",
      "source": "# so kurze und lange Zeiten sind möglich, daher bleiben Werte erhalten",
      "metadata": {
        "trusted": true
      },
      "outputs": [],
      "execution_count": 205
    },
    {
      "id": "785c0288-057e-4a89-aa3c-6a2f21644466",
      "cell_type": "code",
      "source": "besucher",
      "metadata": {
        "trusted": true
      },
      "outputs": [
        {
          "execution_count": 206,
          "output_type": "execute_result",
          "data": {
            "text/plain": "     Alter  Einkommen  Geschlecht  Zeit KundeNr  Ausreißer\n0       30    39919.0           0  29.0   K1814      False\n1       41    53431.0           0  27.0   K1544      False\n2       64    73163.0           0  32.0   K1945      False\n3       41    36761.0           0  44.0   K1825      False\n4       35    42684.0           1  33.0   K1144      False\n..     ...        ...         ...   ...     ...        ...\n886     32    34392.0           1  48.0   K1211      False\n887     41    68516.0           0  34.0   K1375      False\n888     65    89685.0           0  23.0   K1965      False\n889     68    95714.0           0  32.0   K1540      False\n890     49    73319.0           0  27.0   K1207      False\n\n[891 rows x 6 columns]",
            "text/html": "<div>\n<style scoped>\n    .dataframe tbody tr th:only-of-type {\n        vertical-align: middle;\n    }\n\n    .dataframe tbody tr th {\n        vertical-align: top;\n    }\n\n    .dataframe thead th {\n        text-align: right;\n    }\n</style>\n<table border=\"1\" class=\"dataframe\">\n  <thead>\n    <tr style=\"text-align: right;\">\n      <th></th>\n      <th>Alter</th>\n      <th>Einkommen</th>\n      <th>Geschlecht</th>\n      <th>Zeit</th>\n      <th>KundeNr</th>\n      <th>Ausreißer</th>\n    </tr>\n  </thead>\n  <tbody>\n    <tr>\n      <th>0</th>\n      <td>30</td>\n      <td>39919.0</td>\n      <td>0</td>\n      <td>29.0</td>\n      <td>K1814</td>\n      <td>False</td>\n    </tr>\n    <tr>\n      <th>1</th>\n      <td>41</td>\n      <td>53431.0</td>\n      <td>0</td>\n      <td>27.0</td>\n      <td>K1544</td>\n      <td>False</td>\n    </tr>\n    <tr>\n      <th>2</th>\n      <td>64</td>\n      <td>73163.0</td>\n      <td>0</td>\n      <td>32.0</td>\n      <td>K1945</td>\n      <td>False</td>\n    </tr>\n    <tr>\n      <th>3</th>\n      <td>41</td>\n      <td>36761.0</td>\n      <td>0</td>\n      <td>44.0</td>\n      <td>K1825</td>\n      <td>False</td>\n    </tr>\n    <tr>\n      <th>4</th>\n      <td>35</td>\n      <td>42684.0</td>\n      <td>1</td>\n      <td>33.0</td>\n      <td>K1144</td>\n      <td>False</td>\n    </tr>\n    <tr>\n      <th>...</th>\n      <td>...</td>\n      <td>...</td>\n      <td>...</td>\n      <td>...</td>\n      <td>...</td>\n      <td>...</td>\n    </tr>\n    <tr>\n      <th>886</th>\n      <td>32</td>\n      <td>34392.0</td>\n      <td>1</td>\n      <td>48.0</td>\n      <td>K1211</td>\n      <td>False</td>\n    </tr>\n    <tr>\n      <th>887</th>\n      <td>41</td>\n      <td>68516.0</td>\n      <td>0</td>\n      <td>34.0</td>\n      <td>K1375</td>\n      <td>False</td>\n    </tr>\n    <tr>\n      <th>888</th>\n      <td>65</td>\n      <td>89685.0</td>\n      <td>0</td>\n      <td>23.0</td>\n      <td>K1965</td>\n      <td>False</td>\n    </tr>\n    <tr>\n      <th>889</th>\n      <td>68</td>\n      <td>95714.0</td>\n      <td>0</td>\n      <td>32.0</td>\n      <td>K1540</td>\n      <td>False</td>\n    </tr>\n    <tr>\n      <th>890</th>\n      <td>49</td>\n      <td>73319.0</td>\n      <td>0</td>\n      <td>27.0</td>\n      <td>K1207</td>\n      <td>False</td>\n    </tr>\n  </tbody>\n</table>\n<p>891 rows × 6 columns</p>\n</div>"
          },
          "metadata": {}
        }
      ],
      "execution_count": 206
    },
    {
      "id": "6313b1d5-c967-45b0-8a11-76cd690aaa00",
      "cell_type": "code",
      "source": "# Boolean-Spalte wieder entfernen",
      "metadata": {
        "trusted": true
      },
      "outputs": [],
      "execution_count": 207
    },
    {
      "id": "9ed7ad57-ca0b-44eb-b6f3-49a9bcb8bbe4",
      "cell_type": "code",
      "source": "besucher = besucher.drop(besucher.columns[-1], axis=1)\nbesucher",
      "metadata": {
        "trusted": true
      },
      "outputs": [
        {
          "execution_count": 208,
          "output_type": "execute_result",
          "data": {
            "text/plain": "     Alter  Einkommen  Geschlecht  Zeit KundeNr\n0       30    39919.0           0  29.0   K1814\n1       41    53431.0           0  27.0   K1544\n2       64    73163.0           0  32.0   K1945\n3       41    36761.0           0  44.0   K1825\n4       35    42684.0           1  33.0   K1144\n..     ...        ...         ...   ...     ...\n886     32    34392.0           1  48.0   K1211\n887     41    68516.0           0  34.0   K1375\n888     65    89685.0           0  23.0   K1965\n889     68    95714.0           0  32.0   K1540\n890     49    73319.0           0  27.0   K1207\n\n[891 rows x 5 columns]",
            "text/html": "<div>\n<style scoped>\n    .dataframe tbody tr th:only-of-type {\n        vertical-align: middle;\n    }\n\n    .dataframe tbody tr th {\n        vertical-align: top;\n    }\n\n    .dataframe thead th {\n        text-align: right;\n    }\n</style>\n<table border=\"1\" class=\"dataframe\">\n  <thead>\n    <tr style=\"text-align: right;\">\n      <th></th>\n      <th>Alter</th>\n      <th>Einkommen</th>\n      <th>Geschlecht</th>\n      <th>Zeit</th>\n      <th>KundeNr</th>\n    </tr>\n  </thead>\n  <tbody>\n    <tr>\n      <th>0</th>\n      <td>30</td>\n      <td>39919.0</td>\n      <td>0</td>\n      <td>29.0</td>\n      <td>K1814</td>\n    </tr>\n    <tr>\n      <th>1</th>\n      <td>41</td>\n      <td>53431.0</td>\n      <td>0</td>\n      <td>27.0</td>\n      <td>K1544</td>\n    </tr>\n    <tr>\n      <th>2</th>\n      <td>64</td>\n      <td>73163.0</td>\n      <td>0</td>\n      <td>32.0</td>\n      <td>K1945</td>\n    </tr>\n    <tr>\n      <th>3</th>\n      <td>41</td>\n      <td>36761.0</td>\n      <td>0</td>\n      <td>44.0</td>\n      <td>K1825</td>\n    </tr>\n    <tr>\n      <th>4</th>\n      <td>35</td>\n      <td>42684.0</td>\n      <td>1</td>\n      <td>33.0</td>\n      <td>K1144</td>\n    </tr>\n    <tr>\n      <th>...</th>\n      <td>...</td>\n      <td>...</td>\n      <td>...</td>\n      <td>...</td>\n      <td>...</td>\n    </tr>\n    <tr>\n      <th>886</th>\n      <td>32</td>\n      <td>34392.0</td>\n      <td>1</td>\n      <td>48.0</td>\n      <td>K1211</td>\n    </tr>\n    <tr>\n      <th>887</th>\n      <td>41</td>\n      <td>68516.0</td>\n      <td>0</td>\n      <td>34.0</td>\n      <td>K1375</td>\n    </tr>\n    <tr>\n      <th>888</th>\n      <td>65</td>\n      <td>89685.0</td>\n      <td>0</td>\n      <td>23.0</td>\n      <td>K1965</td>\n    </tr>\n    <tr>\n      <th>889</th>\n      <td>68</td>\n      <td>95714.0</td>\n      <td>0</td>\n      <td>32.0</td>\n      <td>K1540</td>\n    </tr>\n    <tr>\n      <th>890</th>\n      <td>49</td>\n      <td>73319.0</td>\n      <td>0</td>\n      <td>27.0</td>\n      <td>K1207</td>\n    </tr>\n  </tbody>\n</table>\n<p>891 rows × 5 columns</p>\n</div>"
          },
          "metadata": {}
        }
      ],
      "execution_count": 208
    },
    {
      "id": "5bb228bf-4daa-4cfc-ba43-6c06e34edd18",
      "cell_type": "markdown",
      "source": "## 4. Geodaten",
      "metadata": {}
    },
    {
      "id": "b9f50960-5e3a-498f-8dc9-0959b4c32e6f",
      "cell_type": "markdown",
      "source": "### 4.1. Geodatei einlesen",
      "metadata": {}
    },
    {
      "id": "c4136bca-9c51-4b6f-a76e-6062d74b898c",
      "cell_type": "code",
      "source": "geo = pd.read_csv(\"geo.txt\", sep = \"\\t\")\ngeo.head()",
      "metadata": {
        "trusted": true
      },
      "outputs": [
        {
          "execution_count": 209,
          "output_type": "execute_result",
          "data": {
            "text/plain": "  KundeNr Niederlassung\n0   K0001       Sachsen\n1   K0002           NRW\n2   K0003        Hessen\n3   K0004        Bayern\n4   K0005        Bayern",
            "text/html": "<div>\n<style scoped>\n    .dataframe tbody tr th:only-of-type {\n        vertical-align: middle;\n    }\n\n    .dataframe tbody tr th {\n        vertical-align: top;\n    }\n\n    .dataframe thead th {\n        text-align: right;\n    }\n</style>\n<table border=\"1\" class=\"dataframe\">\n  <thead>\n    <tr style=\"text-align: right;\">\n      <th></th>\n      <th>KundeNr</th>\n      <th>Niederlassung</th>\n    </tr>\n  </thead>\n  <tbody>\n    <tr>\n      <th>0</th>\n      <td>K0001</td>\n      <td>Sachsen</td>\n    </tr>\n    <tr>\n      <th>1</th>\n      <td>K0002</td>\n      <td>NRW</td>\n    </tr>\n    <tr>\n      <th>2</th>\n      <td>K0003</td>\n      <td>Hessen</td>\n    </tr>\n    <tr>\n      <th>3</th>\n      <td>K0004</td>\n      <td>Bayern</td>\n    </tr>\n    <tr>\n      <th>4</th>\n      <td>K0005</td>\n      <td>Bayern</td>\n    </tr>\n  </tbody>\n</table>\n</div>"
          },
          "metadata": {}
        }
      ],
      "execution_count": 209
    },
    {
      "id": "eac214be-89cb-44df-a00f-fbf4044d3c77",
      "cell_type": "markdown",
      "source": "## 4.2 Überblick über Datentypen",
      "metadata": {}
    },
    {
      "id": "1da63f41-b8ca-49db-98ef-44b0ed5b715b",
      "cell_type": "code",
      "source": "geo.dtypes",
      "metadata": {
        "trusted": true
      },
      "outputs": [
        {
          "execution_count": 210,
          "output_type": "execute_result",
          "data": {
            "text/plain": "KundeNr          object\nNiederlassung    object\ndtype: object"
          },
          "metadata": {}
        }
      ],
      "execution_count": 210
    },
    {
      "id": "0ebe1254-c964-45fc-b56c-dce433c47d42",
      "cell_type": "code",
      "source": "# bei kunden und besucher ist der dypte der KundeNr auch object, daher keine Änderung benötigt",
      "metadata": {
        "trusted": true
      },
      "outputs": [],
      "execution_count": 211
    },
    {
      "id": "b2509aeb-1297-4b33-b08e-da5826ae832d",
      "cell_type": "markdown",
      "source": "### 4.3 Bereinigung",
      "metadata": {}
    },
    {
      "id": "cda090aa-6d08-48ab-bd1d-29bcabbcf8ed",
      "cell_type": "markdown",
      "source": "### 4.3.1 Fehlende Datenpunkte ermitteln und ersetzen",
      "metadata": {}
    },
    {
      "id": "646b5f4b-d218-4ab1-8be5-77caa154d1a6",
      "cell_type": "code",
      "source": "geo.isnull().sum()",
      "metadata": {
        "trusted": true
      },
      "outputs": [
        {
          "execution_count": 212,
          "output_type": "execute_result",
          "data": {
            "text/plain": "KundeNr          0\nNiederlassung    0\ndtype: int64"
          },
          "metadata": {}
        }
      ],
      "execution_count": 212
    },
    {
      "id": "3edcca31-790f-4c65-9dcd-74d1a22740fb",
      "cell_type": "markdown",
      "source": "### 4.3.2 Ausreißer ermitteln und entfernen/ersetzen",
      "metadata": {}
    },
    {
      "id": "3d3d6633-7542-42ef-b347-c883c0c98100",
      "cell_type": "code",
      "source": "# Übersicht aller Niederlassungen\ngeo_niederlassung_uniques = geo[\"Niederlassung\"].unique()\nprint(geo_niederlassung_uniques)",
      "metadata": {
        "trusted": true
      },
      "outputs": [
        {
          "name": "stdout",
          "text": "['Sachsen' 'NRW' 'Hessen' 'Bayern' 'Baden-Württemberg'\n 'Nordrhein-Westfalen' 'Berlin' 'Niedersachsen' 'Brandenburg' 'Thüringen'\n 'Hamburg' 'Düsseldorf' 'Berlin-Charlottenburg' 'Berlin-Mitte' 'BERLIN']\n",
          "output_type": "stream"
        }
      ],
      "execution_count": 213
    },
    {
      "id": "4c4af355-f44b-4c59-8091-9e295aafdc8b",
      "cell_type": "code",
      "source": "# Bereinigung der Datenpunkte (NRW, Düsseldorf zu Nordrhein-Westfalen), (Berlin-Charlottenburg, Berlin-Mitte, BERLIN zu Berlin)\ngeo_cleaning = {\n    \"NRW\" : \"Nordrhein-Westfalen\" , \n    \"Berlin-Charlottenburg\" : \"Berlin\" ,\n    \"Berlin-Mitte\" : \"Berlin\" ,\n    \"BERLIN\" : \"Berlin\",\n    \"Düsseldorf\" : \"Nordrhein-Westfalen\"}\n\ngeo[\"Niederlassung\"] = geo[\"Niederlassung\"].replace(geo_cleaning, regex = True)",
      "metadata": {
        "trusted": true
      },
      "outputs": [],
      "execution_count": 214
    },
    {
      "id": "5c580644-5d8d-4562-8045-aea82c87e675",
      "cell_type": "code",
      "source": "# Überprüfung\ngeo_niederlassung_uniques2 = geo[\"Niederlassung\"].unique()\nprint(geo_niederlassung_uniques2)",
      "metadata": {
        "trusted": true
      },
      "outputs": [
        {
          "name": "stdout",
          "text": "['Sachsen' 'Nordrhein-Westfalen' 'Hessen' 'Bayern' 'Baden-Württemberg'\n 'Berlin' 'Niedersachsen' 'Brandenburg' 'Thüringen' 'Hamburg']\n",
          "output_type": "stream"
        }
      ],
      "execution_count": 215
    },
    {
      "id": "25bbee33-b3ae-48d0-b674-972f1792cd9c",
      "cell_type": "markdown",
      "source": "## 5. Zusammenführung der Listen",
      "metadata": {}
    },
    {
      "id": "aac4a8b4-20b3-45a9-9424-6a32e248185d",
      "cell_type": "markdown",
      "source": "### 5.1 Kunden und Besucher mit Geo",
      "metadata": {}
    },
    {
      "id": "db55aecc-b7c5-423c-852c-4589a0ba1a50",
      "cell_type": "markdown",
      "source": "### 5.1.1 Kunden mit Geo ",
      "metadata": {}
    },
    {
      "id": "aea65563-39a7-4710-9d12-55d504810245",
      "cell_type": "code",
      "source": "kunden_geo = pd.merge(kunden,geo, on = \"KundeNr\")\nkunden_geo",
      "metadata": {
        "trusted": true
      },
      "outputs": [
        {
          "execution_count": 216,
          "output_type": "execute_result",
          "data": {
            "text/plain": "      Alter  Einkommen      Preis  Geschlecht  Zeit KundeNr      Niederlassung\n0        64    66894.0   88160.31           1  43.0   K0310             Bayern\n1        54    77644.0  103145.70           1  40.0   K1042             Berlin\n2        55    44341.0   80565.16           0  37.0   K0382  Baden-Württemberg\n3        49    67271.0   83949.89           0  42.0   K0498             Bayern\n4        46    49832.0   93781.58           0  41.0   K0552             Hessen\n...     ...        ...        ...         ...   ...     ...                ...\n1099     70    69581.0  103751.58           1  51.0   K0467          Thüringen\n1100     38    48301.0   64230.98           1  33.0   K0122      Niedersachsen\n1101     67    63547.0  103123.57           1  41.0   K1045             Berlin\n1102     37    32686.0   49215.87           1  36.0   K1096  Baden-Württemberg\n1103     55    71240.0  106132.59           1  49.0   K0861             Bayern\n\n[1104 rows x 7 columns]",
            "text/html": "<div>\n<style scoped>\n    .dataframe tbody tr th:only-of-type {\n        vertical-align: middle;\n    }\n\n    .dataframe tbody tr th {\n        vertical-align: top;\n    }\n\n    .dataframe thead th {\n        text-align: right;\n    }\n</style>\n<table border=\"1\" class=\"dataframe\">\n  <thead>\n    <tr style=\"text-align: right;\">\n      <th></th>\n      <th>Alter</th>\n      <th>Einkommen</th>\n      <th>Preis</th>\n      <th>Geschlecht</th>\n      <th>Zeit</th>\n      <th>KundeNr</th>\n      <th>Niederlassung</th>\n    </tr>\n  </thead>\n  <tbody>\n    <tr>\n      <th>0</th>\n      <td>64</td>\n      <td>66894.0</td>\n      <td>88160.31</td>\n      <td>1</td>\n      <td>43.0</td>\n      <td>K0310</td>\n      <td>Bayern</td>\n    </tr>\n    <tr>\n      <th>1</th>\n      <td>54</td>\n      <td>77644.0</td>\n      <td>103145.70</td>\n      <td>1</td>\n      <td>40.0</td>\n      <td>K1042</td>\n      <td>Berlin</td>\n    </tr>\n    <tr>\n      <th>2</th>\n      <td>55</td>\n      <td>44341.0</td>\n      <td>80565.16</td>\n      <td>0</td>\n      <td>37.0</td>\n      <td>K0382</td>\n      <td>Baden-Württemberg</td>\n    </tr>\n    <tr>\n      <th>3</th>\n      <td>49</td>\n      <td>67271.0</td>\n      <td>83949.89</td>\n      <td>0</td>\n      <td>42.0</td>\n      <td>K0498</td>\n      <td>Bayern</td>\n    </tr>\n    <tr>\n      <th>4</th>\n      <td>46</td>\n      <td>49832.0</td>\n      <td>93781.58</td>\n      <td>0</td>\n      <td>41.0</td>\n      <td>K0552</td>\n      <td>Hessen</td>\n    </tr>\n    <tr>\n      <th>...</th>\n      <td>...</td>\n      <td>...</td>\n      <td>...</td>\n      <td>...</td>\n      <td>...</td>\n      <td>...</td>\n      <td>...</td>\n    </tr>\n    <tr>\n      <th>1099</th>\n      <td>70</td>\n      <td>69581.0</td>\n      <td>103751.58</td>\n      <td>1</td>\n      <td>51.0</td>\n      <td>K0467</td>\n      <td>Thüringen</td>\n    </tr>\n    <tr>\n      <th>1100</th>\n      <td>38</td>\n      <td>48301.0</td>\n      <td>64230.98</td>\n      <td>1</td>\n      <td>33.0</td>\n      <td>K0122</td>\n      <td>Niedersachsen</td>\n    </tr>\n    <tr>\n      <th>1101</th>\n      <td>67</td>\n      <td>63547.0</td>\n      <td>103123.57</td>\n      <td>1</td>\n      <td>41.0</td>\n      <td>K1045</td>\n      <td>Berlin</td>\n    </tr>\n    <tr>\n      <th>1102</th>\n      <td>37</td>\n      <td>32686.0</td>\n      <td>49215.87</td>\n      <td>1</td>\n      <td>36.0</td>\n      <td>K1096</td>\n      <td>Baden-Württemberg</td>\n    </tr>\n    <tr>\n      <th>1103</th>\n      <td>55</td>\n      <td>71240.0</td>\n      <td>106132.59</td>\n      <td>1</td>\n      <td>49.0</td>\n      <td>K0861</td>\n      <td>Bayern</td>\n    </tr>\n  </tbody>\n</table>\n<p>1104 rows × 7 columns</p>\n</div>"
          },
          "metadata": {}
        }
      ],
      "execution_count": 216
    },
    {
      "id": "2060d258-2dd8-42f8-a064-5ffe92fe7285",
      "cell_type": "markdown",
      "source": "### 5.1.2 Besucher mit Geo",
      "metadata": {}
    },
    {
      "id": "8eb4cb71-ba36-4f98-b58b-803d5251b16f",
      "cell_type": "code",
      "source": "besucher_geo = pd.merge(besucher, geo, on = \"KundeNr\")\nbesucher_geo",
      "metadata": {
        "trusted": true
      },
      "outputs": [
        {
          "execution_count": 217,
          "output_type": "execute_result",
          "data": {
            "text/plain": "     Alter  Einkommen  Geschlecht  Zeit KundeNr        Niederlassung\n0       30    39919.0           0  29.0   K1814               Bayern\n1       41    53431.0           0  27.0   K1544    Baden-Württemberg\n2       64    73163.0           0  32.0   K1945    Baden-Württemberg\n3       41    36761.0           0  44.0   K1825    Baden-Württemberg\n4       35    42684.0           1  33.0   K1144  Nordrhein-Westfalen\n..     ...        ...         ...   ...     ...                  ...\n886     32    34392.0           1  48.0   K1211               Hessen\n887     41    68516.0           0  34.0   K1375              Sachsen\n888     65    89685.0           0  23.0   K1965               Bayern\n889     68    95714.0           0  32.0   K1540               Bayern\n890     49    73319.0           0  27.0   K1207        Niedersachsen\n\n[891 rows x 6 columns]",
            "text/html": "<div>\n<style scoped>\n    .dataframe tbody tr th:only-of-type {\n        vertical-align: middle;\n    }\n\n    .dataframe tbody tr th {\n        vertical-align: top;\n    }\n\n    .dataframe thead th {\n        text-align: right;\n    }\n</style>\n<table border=\"1\" class=\"dataframe\">\n  <thead>\n    <tr style=\"text-align: right;\">\n      <th></th>\n      <th>Alter</th>\n      <th>Einkommen</th>\n      <th>Geschlecht</th>\n      <th>Zeit</th>\n      <th>KundeNr</th>\n      <th>Niederlassung</th>\n    </tr>\n  </thead>\n  <tbody>\n    <tr>\n      <th>0</th>\n      <td>30</td>\n      <td>39919.0</td>\n      <td>0</td>\n      <td>29.0</td>\n      <td>K1814</td>\n      <td>Bayern</td>\n    </tr>\n    <tr>\n      <th>1</th>\n      <td>41</td>\n      <td>53431.0</td>\n      <td>0</td>\n      <td>27.0</td>\n      <td>K1544</td>\n      <td>Baden-Württemberg</td>\n    </tr>\n    <tr>\n      <th>2</th>\n      <td>64</td>\n      <td>73163.0</td>\n      <td>0</td>\n      <td>32.0</td>\n      <td>K1945</td>\n      <td>Baden-Württemberg</td>\n    </tr>\n    <tr>\n      <th>3</th>\n      <td>41</td>\n      <td>36761.0</td>\n      <td>0</td>\n      <td>44.0</td>\n      <td>K1825</td>\n      <td>Baden-Württemberg</td>\n    </tr>\n    <tr>\n      <th>4</th>\n      <td>35</td>\n      <td>42684.0</td>\n      <td>1</td>\n      <td>33.0</td>\n      <td>K1144</td>\n      <td>Nordrhein-Westfalen</td>\n    </tr>\n    <tr>\n      <th>...</th>\n      <td>...</td>\n      <td>...</td>\n      <td>...</td>\n      <td>...</td>\n      <td>...</td>\n      <td>...</td>\n    </tr>\n    <tr>\n      <th>886</th>\n      <td>32</td>\n      <td>34392.0</td>\n      <td>1</td>\n      <td>48.0</td>\n      <td>K1211</td>\n      <td>Hessen</td>\n    </tr>\n    <tr>\n      <th>887</th>\n      <td>41</td>\n      <td>68516.0</td>\n      <td>0</td>\n      <td>34.0</td>\n      <td>K1375</td>\n      <td>Sachsen</td>\n    </tr>\n    <tr>\n      <th>888</th>\n      <td>65</td>\n      <td>89685.0</td>\n      <td>0</td>\n      <td>23.0</td>\n      <td>K1965</td>\n      <td>Bayern</td>\n    </tr>\n    <tr>\n      <th>889</th>\n      <td>68</td>\n      <td>95714.0</td>\n      <td>0</td>\n      <td>32.0</td>\n      <td>K1540</td>\n      <td>Bayern</td>\n    </tr>\n    <tr>\n      <th>890</th>\n      <td>49</td>\n      <td>73319.0</td>\n      <td>0</td>\n      <td>27.0</td>\n      <td>K1207</td>\n      <td>Niedersachsen</td>\n    </tr>\n  </tbody>\n</table>\n<p>891 rows × 6 columns</p>\n</div>"
          },
          "metadata": {}
        }
      ],
      "execution_count": 217
    },
    {
      "id": "5d4480c1-c2be-47b8-9646-c337ff0277ca",
      "cell_type": "markdown",
      "source": "### 5.2 kunden_geo und besucher_geo zu df_final",
      "metadata": {}
    },
    {
      "id": "ce8787f9-747a-4a4d-bde7-caa9a0f718d5",
      "cell_type": "code",
      "source": "df_final = pd.concat([kunden_geo, besucher_geo], axis = 0, ignore_index = True)\ndf_final",
      "metadata": {
        "trusted": true
      },
      "outputs": [
        {
          "execution_count": 218,
          "output_type": "execute_result",
          "data": {
            "text/plain": "      Alter  Einkommen      Preis  Geschlecht  Zeit KundeNr      Niederlassung\n0        64    66894.0   88160.31           1  43.0   K0310             Bayern\n1        54    77644.0  103145.70           1  40.0   K1042             Berlin\n2        55    44341.0   80565.16           0  37.0   K0382  Baden-Württemberg\n3        49    67271.0   83949.89           0  42.0   K0498             Bayern\n4        46    49832.0   93781.58           0  41.0   K0552             Hessen\n...     ...        ...        ...         ...   ...     ...                ...\n1990     32    34392.0        NaN           1  48.0   K1211             Hessen\n1991     41    68516.0        NaN           0  34.0   K1375            Sachsen\n1992     65    89685.0        NaN           0  23.0   K1965             Bayern\n1993     68    95714.0        NaN           0  32.0   K1540             Bayern\n1994     49    73319.0        NaN           0  27.0   K1207      Niedersachsen\n\n[1995 rows x 7 columns]",
            "text/html": "<div>\n<style scoped>\n    .dataframe tbody tr th:only-of-type {\n        vertical-align: middle;\n    }\n\n    .dataframe tbody tr th {\n        vertical-align: top;\n    }\n\n    .dataframe thead th {\n        text-align: right;\n    }\n</style>\n<table border=\"1\" class=\"dataframe\">\n  <thead>\n    <tr style=\"text-align: right;\">\n      <th></th>\n      <th>Alter</th>\n      <th>Einkommen</th>\n      <th>Preis</th>\n      <th>Geschlecht</th>\n      <th>Zeit</th>\n      <th>KundeNr</th>\n      <th>Niederlassung</th>\n    </tr>\n  </thead>\n  <tbody>\n    <tr>\n      <th>0</th>\n      <td>64</td>\n      <td>66894.0</td>\n      <td>88160.31</td>\n      <td>1</td>\n      <td>43.0</td>\n      <td>K0310</td>\n      <td>Bayern</td>\n    </tr>\n    <tr>\n      <th>1</th>\n      <td>54</td>\n      <td>77644.0</td>\n      <td>103145.70</td>\n      <td>1</td>\n      <td>40.0</td>\n      <td>K1042</td>\n      <td>Berlin</td>\n    </tr>\n    <tr>\n      <th>2</th>\n      <td>55</td>\n      <td>44341.0</td>\n      <td>80565.16</td>\n      <td>0</td>\n      <td>37.0</td>\n      <td>K0382</td>\n      <td>Baden-Württemberg</td>\n    </tr>\n    <tr>\n      <th>3</th>\n      <td>49</td>\n      <td>67271.0</td>\n      <td>83949.89</td>\n      <td>0</td>\n      <td>42.0</td>\n      <td>K0498</td>\n      <td>Bayern</td>\n    </tr>\n    <tr>\n      <th>4</th>\n      <td>46</td>\n      <td>49832.0</td>\n      <td>93781.58</td>\n      <td>0</td>\n      <td>41.0</td>\n      <td>K0552</td>\n      <td>Hessen</td>\n    </tr>\n    <tr>\n      <th>...</th>\n      <td>...</td>\n      <td>...</td>\n      <td>...</td>\n      <td>...</td>\n      <td>...</td>\n      <td>...</td>\n      <td>...</td>\n    </tr>\n    <tr>\n      <th>1990</th>\n      <td>32</td>\n      <td>34392.0</td>\n      <td>NaN</td>\n      <td>1</td>\n      <td>48.0</td>\n      <td>K1211</td>\n      <td>Hessen</td>\n    </tr>\n    <tr>\n      <th>1991</th>\n      <td>41</td>\n      <td>68516.0</td>\n      <td>NaN</td>\n      <td>0</td>\n      <td>34.0</td>\n      <td>K1375</td>\n      <td>Sachsen</td>\n    </tr>\n    <tr>\n      <th>1992</th>\n      <td>65</td>\n      <td>89685.0</td>\n      <td>NaN</td>\n      <td>0</td>\n      <td>23.0</td>\n      <td>K1965</td>\n      <td>Bayern</td>\n    </tr>\n    <tr>\n      <th>1993</th>\n      <td>68</td>\n      <td>95714.0</td>\n      <td>NaN</td>\n      <td>0</td>\n      <td>32.0</td>\n      <td>K1540</td>\n      <td>Bayern</td>\n    </tr>\n    <tr>\n      <th>1994</th>\n      <td>49</td>\n      <td>73319.0</td>\n      <td>NaN</td>\n      <td>0</td>\n      <td>27.0</td>\n      <td>K1207</td>\n      <td>Niedersachsen</td>\n    </tr>\n  </tbody>\n</table>\n<p>1995 rows × 7 columns</p>\n</div>"
          },
          "metadata": {}
        }
      ],
      "execution_count": 218
    },
    {
      "id": "f0253604",
      "cell_type": "markdown",
      "source": "### 5.3 CSV Datei df_final",
      "metadata": {}
    },
    {
      "id": "de0a6a1c",
      "cell_type": "code",
      "source": "df_final.to_csv('df_final.csv', index=False)",
      "metadata": {
        "trusted": true
      },
      "outputs": [],
      "execution_count": 219
    },
    {
      "id": "89dbe370-694e-45de-8120-e884362b85ba",
      "cell_type": "markdown",
      "source": "## 6. Fragen",
      "metadata": {}
    },
    {
      "id": "4ffabf5f-f067-4ede-abde-b2917eaf6dc4",
      "cell_type": "markdown",
      "source": "### Frage 1: Wie viele Autos wurden verkauft?",
      "metadata": {}
    },
    {
      "id": "c5e3c5b2-3b8a-40f0-aec5-82b1f3eb1cdc",
      "cell_type": "code",
      "source": "anzahl_verkaufter_autos = len(kunden_geo)\nanzahl_verkaufter_autos",
      "metadata": {
        "trusted": true
      },
      "outputs": [
        {
          "execution_count": 220,
          "output_type": "execute_result",
          "data": {
            "text/plain": "1104"
          },
          "metadata": {}
        }
      ],
      "execution_count": 220
    },
    {
      "id": "fb39e496-8f31-4229-8d09-405f64e7c730",
      "cell_type": "code",
      "source": "autos_verkauft = kunden_geo.shape[0]\nautos_verkauft",
      "metadata": {
        "trusted": true
      },
      "outputs": [
        {
          "execution_count": 221,
          "output_type": "execute_result",
          "data": {
            "text/plain": "1104"
          },
          "metadata": {}
        }
      ],
      "execution_count": 221
    },
    {
      "id": "0104f6f6-67fe-42ec-978f-6270c38c2dd9",
      "cell_type": "code",
      "source": "# Antwort zu Frage 1: 1104",
      "metadata": {
        "trusted": true
      },
      "outputs": [],
      "execution_count": 222
    },
    {
      "id": "e593f456-3d6f-43e6-8308-cfb9f1d4692f",
      "cell_type": "markdown",
      "source": "### Frage 2: Was ist der Höchst-, Mindest- und Durchschnittspreis?",
      "metadata": {}
    },
    {
      "id": "ccba228c-cc8b-4ba0-9854-69b33d6c19ed",
      "cell_type": "code",
      "source": "max_preis = kunden_geo[\"Preis\"].max()\nmin_preis = kunden_geo[\"Preis\"].min()\ndurchschnitt_preis = kunden_geo[\"Preis\"].mean()\n\nmax_preis, min_preis, durchschnitt_preis",
      "metadata": {
        "trusted": true
      },
      "outputs": [
        {
          "execution_count": 223,
          "output_type": "execute_result",
          "data": {
            "text/plain": "(165482.31, 21471.65, 88975.19871376813)"
          },
          "metadata": {}
        }
      ],
      "execution_count": 223
    },
    {
      "id": "51e70578-817c-4d78-9faa-165558c25890",
      "cell_type": "code",
      "source": "# Antwort zu Frage 2: Höchstpreis = 165.482,31, Mindestpreis = 21.471,65 und Durchschnittspreis = 88.975,20",
      "metadata": {
        "trusted": true
      },
      "outputs": [],
      "execution_count": 224
    },
    {
      "id": "980b38c9-ebde-48ee-9132-78812447647f",
      "cell_type": "markdown",
      "source": "### Frage 3: Wie hoch war der Gesamtumsatz?",
      "metadata": {}
    },
    {
      "id": "a71e79da-f9ea-4ec2-a75d-7bb32b65c9b1",
      "cell_type": "code",
      "source": "gesamtumsatz = kunden_geo[\"Preis\"].sum()\ngesamtumsatz\n",
      "metadata": {
        "trusted": true
      },
      "outputs": [
        {
          "execution_count": 225,
          "output_type": "execute_result",
          "data": {
            "text/plain": "98228619.38000001"
          },
          "metadata": {}
        }
      ],
      "execution_count": 225
    },
    {
      "id": "57058795-a8ce-4fc3-9ae8-91c0a15426ae",
      "cell_type": "code",
      "source": "# Antwort zu Frage 3: Gesamtumsatz = 98.228.619,38 ",
      "metadata": {
        "trusted": true
      },
      "outputs": [],
      "execution_count": 226
    },
    {
      "id": "be5a34bf-d0bc-4b48-81aa-b82614f55cda",
      "cell_type": "code",
      "source": "# Formattierung der Werte in EUR \ndef form_eur(wert):\n    return \"{:,.2f}€\".format(wert)\n\nmax_preis_eur = form_eur(max_preis)\nmin_preis_eur = form_eur(min_preis)\ndurchschnitt_preis_eur = form_eur(durchschnitt_preis)\ngesamtumsatz_eur = form_eur(gesamtumsatz)\nmax_preis_eur",
      "metadata": {
        "trusted": true
      },
      "outputs": [
        {
          "execution_count": 227,
          "output_type": "execute_result",
          "data": {
            "text/plain": "'165,482.31€'"
          },
          "metadata": {}
        }
      ],
      "execution_count": 227
    },
    {
      "id": "8c3e00b1-9dcf-425e-bc75-ee49a5932da9",
      "cell_type": "code",
      "source": "# Erstellung einer Preisübersicht\nPreisübersicht = pd.DataFrame({\n    \"Maximaler Verkaufspreis\" : [max_preis_eur],\n    \"Minimaler Verkaufspreis\" : [min_preis_eur],\n    \"Durchschnittspreis\" : [durchschnitt_preis_eur],\n    \"Gesamtumsatz\" : [gesamtumsatz_eur]\n})\ndisplay(Preisübersicht)",
      "metadata": {
        "trusted": true
      },
      "outputs": [
        {
          "output_type": "display_data",
          "data": {
            "text/plain": "  Maximaler Verkaufspreis Minimaler Verkaufspreis Durchschnittspreis  \\\n0             165,482.31€              21,471.65€         88,975.20€   \n\n     Gesamtumsatz  \n0  98,228,619.38€  ",
            "text/html": "<div>\n<style scoped>\n    .dataframe tbody tr th:only-of-type {\n        vertical-align: middle;\n    }\n\n    .dataframe tbody tr th {\n        vertical-align: top;\n    }\n\n    .dataframe thead th {\n        text-align: right;\n    }\n</style>\n<table border=\"1\" class=\"dataframe\">\n  <thead>\n    <tr style=\"text-align: right;\">\n      <th></th>\n      <th>Maximaler Verkaufspreis</th>\n      <th>Minimaler Verkaufspreis</th>\n      <th>Durchschnittspreis</th>\n      <th>Gesamtumsatz</th>\n    </tr>\n  </thead>\n  <tbody>\n    <tr>\n      <th>0</th>\n      <td>165,482.31€</td>\n      <td>21,471.65€</td>\n      <td>88,975.20€</td>\n      <td>98,228,619.38€</td>\n    </tr>\n  </tbody>\n</table>\n</div>"
          },
          "metadata": {}
        }
      ],
      "execution_count": 228
    },
    {
      "id": "b83fa1e2-a4b1-48ea-b4d6-2c8d916dda3e",
      "cell_type": "markdown",
      "source": "### Frage 4: Wie viele Autos wurden pro Bundesland verkauft?",
      "metadata": {}
    },
    {
      "id": "e0b69c7d-f90b-46b1-a02b-be4ed0b967b3",
      "cell_type": "code",
      "source": "autos_pro_bundesland = kunden_geo[\"Niederlassung\"].value_counts()\nautos_pro_bundesland\n",
      "metadata": {
        "slideshow": {
          "slide_type": ""
        },
        "tags": [],
        "trusted": true
      },
      "outputs": [
        {
          "execution_count": 229,
          "output_type": "execute_result",
          "data": {
            "text/plain": "Baden-Württemberg      205\nBayern                 188\nNordrhein-Westfalen    175\nBerlin                 126\nHessen                  96\nNiedersachsen           96\nSachsen                 89\nThüringen               49\nHamburg                 43\nBrandenburg             37\nName: Niederlassung, dtype: int64"
          },
          "metadata": {}
        }
      ],
      "execution_count": 229
    },
    {
      "id": "359dd30a-c13f-43f6-9486-eaa5c657b6cd",
      "cell_type": "code",
      "source": "# Erstellen eines Diagramms zur Darstellung\n# Dataframe\ndaten = {\"Bundesland\" : [\"Baden-Württemberg\" , \"Bayern\" , \"Nordrhein-Westfalen\" , \"Berlin\" , \"Hessen\" , \"Niedersachsen\",\n                        \"Sachsen\" , \"Thüringen\" , \"Hamburg\" , \"Brandenburg\"] , \n        \"Verkäufe\" : [205 , 188 , 175 , 126 , 96 , 96 , 89 , 49 , 43 , 37]}\n\ndf_autos_pro_bundesland = pd.DataFrame(daten)\n\nverkäufe_durchschnitt = df_autos_pro_bundesland[\"Verkäufe\"].mean()\n\n# Diagramm\nplt.figure(figsize=(10, 6))\ndiagramm = plt.bar(df_autos_pro_bundesland[\"Bundesland\"],df_autos_pro_bundesland[\"Verkäufe\"], color=\"lightsteelblue\")\nplt.axhline(y=verkäufe_durchschnitt, color='red', linestyle='--', linewidth=2)\n\nfor bar in diagramm:\n    height = bar.get_height()\n    plt.text(bar.get_x() + bar.get_width() / 2, height, f\"{int(height)}\", ha = \"center\", va = \"center_baseline\", fontsize=10)\n    \nplt.title(\"Anzahl der verkauften Autos pro Bundesland\")\nplt.xlabel(\"Bundesland\")\nplt.ylabel(\"Anzahl der verkauften Autos\")\nplt.xticks(rotation=45, ha='right')  \nplt.tight_layout()\nplt.show()",
      "metadata": {
        "trusted": true
      },
      "outputs": [
        {
          "output_type": "display_data",
          "data": {
            "text/plain": "<Figure size 1000x600 with 1 Axes>",
            "image/png": "[encoded data removed]"
          },
          "metadata": {}
        }
      ],
      "execution_count": 230
    },
    {
      "id": "f8c048c7-1715-423d-a872-9920d668ae31",
      "cell_type": "code",
      "source": "# Antwort zu Frage 4: siehe Diagramm",
      "metadata": {
        "trusted": true
      },
      "outputs": [],
      "execution_count": 231
    },
    {
      "id": "eb1eb12c-6d1d-4d08-9358-a5e0c74e1f55",
      "cell_type": "markdown",
      "source": "### Frage 5: Wie hoch war der durchschnittliche Umsatz (vermutlich ist Preis gemeint) pro Bundesland?",
      "metadata": {}
    },
    {
      "id": "df37090c-5e4e-47ee-a4c7-43e79d5d6233",
      "cell_type": "code",
      "source": "umsatz_pro_bundesland = kunden_geo.groupby(\"Niederlassung\")[\"Preis\"].agg(\"mean\")\numsatz_pro_bundesland = umsatz_pro_bundesland.round(2)\numsatz_pro_bundesland",
      "metadata": {
        "trusted": true
      },
      "outputs": [
        {
          "execution_count": 232,
          "output_type": "execute_result",
          "data": {
            "text/plain": "Niederlassung\nBaden-Württemberg      90969.56\nBayern                 89344.31\nBerlin                 89584.98\nBrandenburg            86673.64\nHamburg                85549.50\nHessen                 85864.93\nNiedersachsen          87963.31\nNordrhein-Westfalen    88633.27\nSachsen                89455.08\nThüringen              90816.99\nName: Preis, dtype: float64"
          },
          "metadata": {}
        }
      ],
      "execution_count": 232
    },
    {
      "id": "2a09408b-4db1-4b92-9cdb-d109cda49c5a",
      "cell_type": "code",
      "source": "# Erstellen eines Diagramms zur Darstellung\n# Dataframe\ndaten2 = {\"Bundesland\" : [\"Baden-Württemberg\" , \"Bayern\" , \"Nordrhein-Westfalen\" , \"Berlin\" , \"Hessen\" , \"Niedersachsen\",\n                        \"Sachsen\" , \"Thüringen\" , \"Hamburg\" , \"Brandenburg\"] , \n        \"Umsatz\" : [90969.56 , 89344.31 , 89584.98 , 86673.64 , 85549.50 , 85864.93 , 87963.31 , 88633.27 , 89455.08 , 90816.99]}\n\ndf_umsatz_pro_bundesland = pd.DataFrame(daten2)\n\n# Diagramm\nplt.figure(figsize=(10, 6))\ndiagramm2 = plt.bar(df_umsatz_pro_bundesland[\"Bundesland\"],df_umsatz_pro_bundesland[\"Umsatz\"], color=\"lightsteelblue\")\n\nfor bar in diagramm2:\n    height = bar.get_height()\n    plt.text(bar.get_x() + bar.get_width() / 2, height, f\"{int(height)}\", ha = \"center\", va = \"center_baseline\", fontsize=10)\n\nplt.title(\"Umsatz pro Bundesland\")\nplt.xlabel(\"Bundesland\")\nplt.ylabel(\"Umsatz (in €)\")\nplt.xticks(rotation=45, ha='right')  \nplt.tight_layout()\nplt.show()\n",
      "metadata": {
        "trusted": true
      },
      "outputs": [
        {
          "output_type": "display_data",
          "data": {
            "text/plain": "<Figure size 1000x600 with 1 Axes>",
            "image/png": "[encoded data removed]"
          },
          "metadata": {}
        }
      ],
      "execution_count": 233
    },
    {
      "id": "738fc09e-89bd-45dc-8588-e8a6b3bc549d",
      "cell_type": "code",
      "source": "# Antwort zu Frage 5: siehe Diagramm",
      "metadata": {
        "trusted": true
      },
      "outputs": [],
      "execution_count": 234
    },
    {
      "id": "bd377ac2-bea4-40b9-a6b5-7b772f9ee352",
      "cell_type": "markdown",
      "source": "### Frage 6: In welchem Bundesland wurde das teuerste Auto verkauft?",
      "metadata": {}
    },
    {
      "id": "6f610c80-ebeb-4a67-a270-af57883c32db",
      "cell_type": "code",
      "source": "teuerstes_auto_bundesland = kunden_geo.loc[kunden_geo[\"Preis\"].idxmax()][\"Niederlassung\"]\nteuerstes_auto_bundesland",
      "metadata": {
        "trusted": true
      },
      "outputs": [
        {
          "execution_count": 235,
          "output_type": "execute_result",
          "data": {
            "text/plain": "'Niedersachsen'"
          },
          "metadata": {}
        }
      ],
      "execution_count": 235
    },
    {
      "id": "a0ede2d9-37eb-4717-a946-c2788c488ff0",
      "cell_type": "code",
      "source": "# Antwort zu Frage 6: Das teuerste Auto wurde in Niedersachsen verkauft",
      "metadata": {
        "trusted": true
      },
      "outputs": [],
      "execution_count": 236
    },
    {
      "id": "0c123aa4-ec00-4c2f-b8fb-e7b1a6b57403",
      "cell_type": "markdown",
      "source": "### Frage 7: Haben mehr Frauen oder Männer unsere Autos gekauft?",
      "metadata": {}
    },
    {
      "id": "b4fdd350-b83b-420c-9770-fc8b012b4812",
      "cell_type": "code",
      "source": "geschlecht_vergleich = kunden_geo[\"Geschlecht\"].value_counts()\n\nlabels = [\"männlich\", \"weiblich\"]\nsizes = [700,400]\ncolors = [\"lightblue\",\"lightpink\"]\nplt.pie(sizes, labels = labels, colors = colors, autopct = \"%1.1f%%\", startangle = 90)\nplt.axis(\"equal\")\nplt.title(\"Verteilung der verkauften Autos nach Geschlecht\")\nplt.show()\n",
      "metadata": {
        "trusted": true
      },
      "outputs": [
        {
          "output_type": "display_data",
          "data": {
            "text/plain": "<Figure size 640x480 with 1 Axes>",
            "image/png": "[encoded data removed]"
          },
          "metadata": {}
        }
      ],
      "execution_count": 237
    },
    {
      "id": "e6c7d95d-766a-47b1-a6d2-a3a244f1b406",
      "cell_type": "code",
      "source": "# Antwort zu Frage 7: Es haben mehr Männer unsere Autos gekauft",
      "metadata": {
        "trusted": true
      },
      "outputs": [],
      "execution_count": 238
    },
    {
      "id": "c725b277-7bd9-4f3f-9f4e-dc71d40cff15",
      "cell_type": "markdown",
      "source": "### Frage 8: Wie hoch ist das Durchschnittsalter unserer Kunden? Wie hoch ist das Durchschnittsalter unserer Besucher?",
      "metadata": {}
    },
    {
      "id": "a83d6c38-c939-411d-ad9f-6e0a898ea196",
      "cell_type": "code",
      "source": "durchschnittsalter_kunden = kunden_geo[\"Alter\"].mean()\ndurchschnittsalter_besucher = besucher_geo[\"Alter\"].mean()\n\ndurchschnittsalter_kunden, durchschnittsalter_besucher",
      "metadata": {
        "trusted": true
      },
      "outputs": [
        {
          "execution_count": 239,
          "output_type": "execute_result",
          "data": {
            "text/plain": "(50.375, 49.88103254769921)"
          },
          "metadata": {}
        }
      ],
      "execution_count": 239
    },
    {
      "id": "84ab233c-9671-4c52-baa8-c7b05f10cbf6",
      "cell_type": "code",
      "source": "# Antwort zu Frage 8: Das Durchschnittsalter unserer Kunden ist 50,38 Jahre und das Durchschnittsalter unserer Besucher ist 49,88 Jahre",
      "metadata": {
        "trusted": true
      },
      "outputs": [],
      "execution_count": 240
    },
    {
      "id": "32f401cd-d47e-4a54-9eff-a0debf3419cc",
      "cell_type": "markdown",
      "source": "### Frage 9: Wie hoch ist das Durchschnittseinkommen unserer Kunden? Wie hoch ist das Durchschnittseinkommen unserer Besucher?",
      "metadata": {}
    },
    {
      "id": "c56c7e7e-c117-4112-9a49-a71d41695e82",
      "cell_type": "code",
      "source": "durchschnittseinkommen_kunden = kunden_geo[\"Einkommen\"].mean()\ndurchschnittseinkommen_besucher = besucher_geo[\"Einkommen\"].mean()\n\ndurchschnittseinkommen_kunden, durchschnittseinkommen_besucher\n",
      "metadata": {
        "trusted": true
      },
      "outputs": [
        {
          "execution_count": 241,
          "output_type": "execute_result",
          "data": {
            "text/plain": "(58850.907608695656, 59367.93265993266)"
          },
          "metadata": {}
        }
      ],
      "execution_count": 241
    },
    {
      "id": "dfeb26a8-9949-4628-8603-ac6c277424be",
      "cell_type": "code",
      "source": "# Antwort zu Frage 9: Das Durchschnittseinkommen unserer Kunden ist 58.850,91 und das Durchschnittseinkommen unserer Besucher ist 59.367,93",
      "metadata": {
        "trusted": true
      },
      "outputs": [],
      "execution_count": 242
    },
    {
      "id": "12a39386",
      "cell_type": "markdown",
      "source": "### Frage 10: Gibt es einen statistisch signifikanten Unterschied zwischen dem Durchschnittseinkommen der Kunden und dem der Besucher?",
      "metadata": {}
    },
    {
      "id": "76c97210-58b3-436a-9907-d7edb63ed797",
      "cell_type": "code",
      "source": "# H0:μ_kunden = μ_besucher\n# H1:μ_kunden != μ_besucher\n# α = 0.05\n\nstats.ttest_ind(kunden_geo[\"Einkommen\"], besucher_geo[\"Einkommen\"], equal_var = True) # Version Nici\n\n\nt_stat, p_val = stats.ttest_ind(kunden_geo[\"Einkommen\"].dropna(), besucher_geo[\"Einkommen\"].dropna(), equal_var=False)\nt_stat, p_val\n\n# Teststatistik = -0.7035, p-Wert = 0.4818\n# Da p-Wert > α , kann die H0 nicht abgelehnt werden. Es liegen nicht genügende Anhaltspunkte vor, dass das Durchschnittseinkommen der Besucher und Kunden unterschiedlich ist",
      "metadata": {
        "trusted": true
      },
      "outputs": [
        {
          "execution_count": 243,
          "output_type": "execute_result",
          "data": {
            "text/plain": "(-0.7047786382342843, 0.4810335763152168)"
          },
          "metadata": {}
        }
      ],
      "execution_count": 243
    },
    {
      "id": "c28da68e",
      "cell_type": "markdown",
      "source": "### Frage 11: Pearson-Korrelations-Koeffizient zwischen den Variablen Alter, Einkommen, Preis und Zeit",
      "metadata": {}
    },
    {
      "id": "31136814",
      "cell_type": "code",
      "source": "ausgewählte_spalten = [\"Alter\", \"Einkommen\", \"Preis\", \"Zeit\"]\nkorrelations_matrix = kunden_geo[ausgewählte_spalten].corr(method = 'pearson')\n\nsns.heatmap(korrelations_matrix, annot = True, cmap = \"coolwarm\", linewidth = 1)\nplt.title = \"Korrelationsmatrix\"\nplt.show()",
      "metadata": {
        "trusted": true
      },
      "outputs": [
        {
          "ename": "<class 'NameError'>",
          "evalue": "name 'sns' is not defined",
          "traceback": [
            "\u001b[0;31m---------------------------------------------------------------------------\u001b[0m",
            "\u001b[0;31mNameError\u001b[0m                                 Traceback (most recent call last)",
            "Cell \u001b[0;32mIn[244], line 4\u001b[0m\n\u001b[1;32m      1\u001b[0m ausgewählte_spalten \u001b[38;5;241m=\u001b[39m [\u001b[38;5;124m\"\u001b[39m\u001b[38;5;124mAlter\u001b[39m\u001b[38;5;124m\"\u001b[39m, \u001b[38;5;124m\"\u001b[39m\u001b[38;5;124mEinkommen\u001b[39m\u001b[38;5;124m\"\u001b[39m, \u001b[38;5;124m\"\u001b[39m\u001b[38;5;124mPreis\u001b[39m\u001b[38;5;124m\"\u001b[39m, \u001b[38;5;124m\"\u001b[39m\u001b[38;5;124mZeit\u001b[39m\u001b[38;5;124m\"\u001b[39m]\n\u001b[1;32m      2\u001b[0m korrelations_matrix \u001b[38;5;241m=\u001b[39m kunden_geo[ausgewählte_spalten]\u001b[38;5;241m.\u001b[39mcorr(method \u001b[38;5;241m=\u001b[39m \u001b[38;5;124m'\u001b[39m\u001b[38;5;124mpearson\u001b[39m\u001b[38;5;124m'\u001b[39m)\n\u001b[0;32m----> 4\u001b[0m \u001b[43msns\u001b[49m\u001b[38;5;241m.\u001b[39mheatmap(korrelations_matrix, annot \u001b[38;5;241m=\u001b[39m \u001b[38;5;28;01mTrue\u001b[39;00m, cmap \u001b[38;5;241m=\u001b[39m \u001b[38;5;124m\"\u001b[39m\u001b[38;5;124mcoolwarm\u001b[39m\u001b[38;5;124m\"\u001b[39m, linewidth \u001b[38;5;241m=\u001b[39m \u001b[38;5;241m1\u001b[39m)\n\u001b[1;32m      5\u001b[0m plt\u001b[38;5;241m.\u001b[39mtitle \u001b[38;5;241m=\u001b[39m \u001b[38;5;124m\"\u001b[39m\u001b[38;5;124mKorrelationsmatrix\u001b[39m\u001b[38;5;124m\"\u001b[39m\n\u001b[1;32m      6\u001b[0m plt\u001b[38;5;241m.\u001b[39mshow()\n",
            "\u001b[0;31mNameError\u001b[0m: name 'sns' is not defined"
          ],
          "output_type": "error"
        }
      ],
      "execution_count": 244
    },
    {
      "id": "14d10e9f",
      "cell_type": "markdown",
      "source": "### Frage 12: ist die Variable Zeit approximativ normalverteilt? (qq-Plot)",
      "metadata": {}
    },
    {
      "id": "b95dc825",
      "cell_type": "code",
      "source": "zeit = df_final[\"Zeit\"]\n\n# qq-Plot erstellen:\nplt.figure(figsize = (8, 6))\nstats.probplot(zeit, dist=\"norm\", plot=plt)\nplt.title('QQ-Plot der Variable \"Zeit\"')\nplt.xlabel('Theoretische Quantile')\nplt.ylabel('Beobachtete Quantile')\nplt.show()\n# da die Punkte entlang einer geraden Linie verlaufen kann davon ausgegangen werden, dass die Daten approvimativ normalverteilt sind",
      "metadata": {
        "trusted": true
      },
      "outputs": [
        {
          "output_type": "display_data",
          "data": {
            "text/plain": "<Figure size 800x600 with 1 Axes>",
            "image/png": "[encoded data removed]"
          },
          "metadata": {}
        }
      ],
      "execution_count": 245
    },
    {
      "id": "c3cb4c52",
      "cell_type": "markdown",
      "source": "### Frage 13: Wie viele Kunden haben keinen Bankkredit aufgenommen, um ein Auto zu kaufen? Also wie viele Kunden haben ein Jahreseinkommen, das über dem Autopreis liegt?",
      "metadata": {}
    },
    {
      "id": "19a0652f",
      "cell_type": "code",
      "source": "bedingung_einkommen_größer_preis = kunden_geo[\"Einkommen\"] > kunden_geo[\"Preis\"]\ncount_einkommen_größer_preis = bedingung_einkommen_größer_preis.sum()\ncount_einkommen_größer_preis\n# 5 Kunden haben keinen Kredit aufnehmen müssen, um das Auto zu kaufen",
      "metadata": {
        "trusted": true
      },
      "outputs": [
        {
          "execution_count": 246,
          "output_type": "execute_result",
          "data": {
            "text/plain": "5"
          },
          "metadata": {}
        }
      ],
      "execution_count": 246
    },
    {
      "id": "89f153b7",
      "cell_type": "markdown",
      "source": "### 14: welche sozioökonomischen Merkmale beeinflussen den Kaufpreis? Schätzen Sie eine Regression.",
      "metadata": {}
    },
    {
      "id": "a8997005",
      "cell_type": "code",
      "source": "# unabhängige Variablen: Alter, Einkommen, Geschlecht\n# abhängige Variable: Preis\n\ny_kunden = kunden_geo[\"Preis\"]\n\nX_kunden = kunden_geo[['Alter', 'Einkommen', 'Geschlecht']]\n\nX_kunden = sm.add_constant(X_kunden)  # Konstante für den Intercept\n                \nmodel_kunden = sm.OLS(y_kunden, X_kunden).fit()\nmodel_kunden.summary()\n# Regression: Preis = 692.5659 +499.5016*Alter +1.0485*Einkommen + 2214.9438*Geschlecht\n# alle drei Faktoren haben einen statistischen Einfluss auf den Preis",
      "metadata": {
        "trusted": true
      },
      "outputs": [
        {
          "execution_count": 247,
          "output_type": "execute_result",
          "data": {
            "text/plain": "<class 'statsmodels.iolib.summary.Summary'>\n\"\"\"\n                            OLS Regression Results                            \n==============================================================================\nDep. Variable:                  Preis   R-squared:                       0.822\nModel:                            OLS   Adj. R-squared:                  0.821\nMethod:                 Least Squares   F-statistic:                     1692.\nDate:                Wed, 26 Jun 2024   Prob (F-statistic):               0.00\nTime:                        06:18:29   Log-Likelihood:                -11770.\nNo. Observations:                1104   AIC:                         2.355e+04\nDf Residuals:                    1100   BIC:                         2.357e+04\nDf Model:                           3                                         \nCovariance Type:            nonrobust                                         \n==============================================================================\n                 coef    std err          t      P>|t|      [0.025      0.975]\n------------------------------------------------------------------------------\nconst        692.5659   1416.702      0.489      0.625   -2087.177    3472.308\nAlter        499.5016     40.136     12.445      0.000     420.750     578.253\nEinkommen      1.0485      0.029     35.925      0.000       0.991       1.106\nGeschlecht  2214.9438    648.591      3.415      0.001     942.328    3487.559\n==============================================================================\nOmnibus:                       40.847   Durbin-Watson:                   2.104\nProb(Omnibus):                  0.000   Jarque-Bera (JB):               79.427\nSkew:                           0.244   Prob(JB):                     5.66e-18\nKurtosis:                       4.220   Cond. No.                     2.81e+05\n==============================================================================\n\nNotes:\n[1] Standard Errors assume that the covariance matrix of the errors is correctly specified.\n[2] The condition number is large, 2.81e+05. This might indicate that there are\nstrong multicollinearity or other numerical problems.\n\"\"\"",
            "text/html": "<table class=\"simpletable\">\n<caption>OLS Regression Results</caption>\n<tr>\n  <th>Dep. Variable:</th>          <td>Preis</td>      <th>  R-squared:         </th> <td>   0.822</td> \n</tr>\n<tr>\n  <th>Model:</th>                   <td>OLS</td>       <th>  Adj. R-squared:    </th> <td>   0.821</td> \n</tr>\n<tr>\n  <th>Method:</th>             <td>Least Squares</td>  <th>  F-statistic:       </th> <td>   1692.</td> \n</tr>\n<tr>\n  <th>Date:</th>             <td>Wed, 26 Jun 2024</td> <th>  Prob (F-statistic):</th>  <td>  0.00</td>  \n</tr>\n<tr>\n  <th>Time:</th>                 <td>06:18:29</td>     <th>  Log-Likelihood:    </th> <td> -11770.</td> \n</tr>\n<tr>\n  <th>No. Observations:</th>      <td>  1104</td>      <th>  AIC:               </th> <td>2.355e+04</td>\n</tr>\n<tr>\n  <th>Df Residuals:</th>          <td>  1100</td>      <th>  BIC:               </th> <td>2.357e+04</td>\n</tr>\n<tr>\n  <th>Df Model:</th>              <td>     3</td>      <th>                     </th>     <td> </td>    \n</tr>\n<tr>\n  <th>Covariance Type:</th>      <td>nonrobust</td>    <th>                     </th>     <td> </td>    \n</tr>\n</table>\n<table class=\"simpletable\">\n<tr>\n       <td></td>         <th>coef</th>     <th>std err</th>      <th>t</th>      <th>P>|t|</th>  <th>[0.025</th>    <th>0.975]</th>  \n</tr>\n<tr>\n  <th>const</th>      <td>  692.5659</td> <td> 1416.702</td> <td>    0.489</td> <td> 0.625</td> <td>-2087.177</td> <td> 3472.308</td>\n</tr>\n<tr>\n  <th>Alter</th>      <td>  499.5016</td> <td>   40.136</td> <td>   12.445</td> <td> 0.000</td> <td>  420.750</td> <td>  578.253</td>\n</tr>\n<tr>\n  <th>Einkommen</th>  <td>    1.0485</td> <td>    0.029</td> <td>   35.925</td> <td> 0.000</td> <td>    0.991</td> <td>    1.106</td>\n</tr>\n<tr>\n  <th>Geschlecht</th> <td> 2214.9438</td> <td>  648.591</td> <td>    3.415</td> <td> 0.001</td> <td>  942.328</td> <td> 3487.559</td>\n</tr>\n</table>\n<table class=\"simpletable\">\n<tr>\n  <th>Omnibus:</th>       <td>40.847</td> <th>  Durbin-Watson:     </th> <td>   2.104</td>\n</tr>\n<tr>\n  <th>Prob(Omnibus):</th> <td> 0.000</td> <th>  Jarque-Bera (JB):  </th> <td>  79.427</td>\n</tr>\n<tr>\n  <th>Skew:</th>          <td> 0.244</td> <th>  Prob(JB):          </th> <td>5.66e-18</td>\n</tr>\n<tr>\n  <th>Kurtosis:</th>      <td> 4.220</td> <th>  Cond. No.          </th> <td>2.81e+05</td>\n</tr>\n</table><br/><br/>Notes:<br/>[1] Standard Errors assume that the covariance matrix of the errors is correctly specified.<br/>[2] The condition number is large, 2.81e+05. This might indicate that there are<br/>strong multicollinearity or other numerical problems.",
            "text/latex": "\\begin{center}\n\\begin{tabular}{lclc}\n\\toprule\n\\textbf{Dep. Variable:}    &      Preis       & \\textbf{  R-squared:         } &     0.822   \\\\\n\\textbf{Model:}            &       OLS        & \\textbf{  Adj. R-squared:    } &     0.821   \\\\\n\\textbf{Method:}           &  Least Squares   & \\textbf{  F-statistic:       } &     1692.   \\\\\n\\textbf{Date:}             & Wed, 26 Jun 2024 & \\textbf{  Prob (F-statistic):} &     0.00    \\\\\n\\textbf{Time:}             &     06:18:29     & \\textbf{  Log-Likelihood:    } &   -11770.   \\\\\n\\textbf{No. Observations:} &        1104      & \\textbf{  AIC:               } & 2.355e+04   \\\\\n\\textbf{Df Residuals:}     &        1100      & \\textbf{  BIC:               } & 2.357e+04   \\\\\n\\textbf{Df Model:}         &           3      & \\textbf{                     } &             \\\\\n\\textbf{Covariance Type:}  &    nonrobust     & \\textbf{                     } &             \\\\\n\\bottomrule\n\\end{tabular}\n\\begin{tabular}{lcccccc}\n                    & \\textbf{coef} & \\textbf{std err} & \\textbf{t} & \\textbf{P$> |$t$|$} & \\textbf{[0.025} & \\textbf{0.975]}  \\\\\n\\midrule\n\\textbf{const}      &     692.5659  &     1416.702     &     0.489  &         0.625        &    -2087.177    &     3472.308     \\\\\n\\textbf{Alter}      &     499.5016  &       40.136     &    12.445  &         0.000        &      420.750    &      578.253     \\\\\n\\textbf{Einkommen}  &       1.0485  &        0.029     &    35.925  &         0.000        &        0.991    &        1.106     \\\\\n\\textbf{Geschlecht} &    2214.9438  &      648.591     &     3.415  &         0.001        &      942.328    &     3487.559     \\\\\n\\bottomrule\n\\end{tabular}\n\\begin{tabular}{lclc}\n\\textbf{Omnibus:}       & 40.847 & \\textbf{  Durbin-Watson:     } &    2.104  \\\\\n\\textbf{Prob(Omnibus):} &  0.000 & \\textbf{  Jarque-Bera (JB):  } &   79.427  \\\\\n\\textbf{Skew:}          &  0.244 & \\textbf{  Prob(JB):          } & 5.66e-18  \\\\\n\\textbf{Kurtosis:}      &  4.220 & \\textbf{  Cond. No.          } & 2.81e+05  \\\\\n\\bottomrule\n\\end{tabular}\n%\\caption{OLS Regression Results}\n\\end{center}\n\nNotes: \\newline\n [1] Standard Errors assume that the covariance matrix of the errors is correctly specified. \\newline\n [2] The condition number is large, 2.81e+05. This might indicate that there are \\newline\n strong multicollinearity or other numerical problems."
          },
          "metadata": {}
        }
      ],
      "execution_count": 247
    },
    {
      "id": "76e07db6",
      "cell_type": "markdown",
      "source": "### 15: Prognose des Kaufpreises für 32-jährigen männlichen Kunden mit Einkommen von 30 000 Euro. Prognose des Kaufpreises für einen männlichen Kunden von 51 Jahren und Einkommen von 54 000 Euro.",
      "metadata": {}
    },
    {
      "id": "622ec0b0",
      "cell_type": "code",
      "source": "X_predict_kunden = pd.DataFrame({\n    'Alter': [32, 51],\n    'Einkommen': [30000, 54000],\n    'Geschlecht': [1,1]\n})\n\nX_predict_kunden = sm.add_constant(X_predict_kunden, has_constant='add')\n\nprediction_kunden = model_kunden.predict(X_predict_kunden)\n\nprediction_kunden\n# Das Modell schätzt den Kaufpreis eines 32-jährigen männlichen Kundens mit Einkommen von 30 000 Euro auf 50345.86 Euro\n# Das Modell schätzt den Kaufpreis eines 51-jährigen männlichen Kundens mit Einkommen von 54 000 Euro auf 84999.83 Euro\n\n",
      "metadata": {
        "trusted": true
      },
      "outputs": [
        {
          "execution_count": 248,
          "output_type": "execute_result",
          "data": {
            "text/plain": "0    50345.858611\n1    84999.827319\ndtype: float64"
          },
          "metadata": {}
        }
      ],
      "execution_count": 248
    },
    {
      "id": "cd239c22",
      "cell_type": "markdown",
      "source": "### 16: Welche Variable beeinflusst den Autopreis am meisten? Vergleichbarkeit der Regressionskoeffizienten durch logistische Regression.",
      "metadata": {}
    },
    {
      "id": "d618996b",
      "cell_type": "code",
      "source": "# unabhängige Variablen: Alter, Einkommen, Geschlecht\n# abhängige Variable: Preis\n\n# Standardisierung\nX_stand = kunden_geo[['Alter', 'Einkommen', 'Geschlecht', \"Preis\"]]\nStandard = X_stand.select_dtypes(include=[np.number]).dropna().apply(stats.zscore)\n\n# Regression\nregression = 'Preis ~ Alter + Einkommen + Geschlecht' \nresult = smf.ols(regression, data=Standard).fit()\n\n# Betas \nround(result.params, 6)\n\n# Den meisten Einfluss auf den Autopreis hat das Einkommen mit einem Beta von rund 0,7.\n",
      "metadata": {
        "trusted": true
      },
      "outputs": [
        {
          "execution_count": 260,
          "output_type": "execute_result",
          "data": {
            "text/plain": "Intercept    -0.000000\nAlter         0.244021\nEinkommen     0.704733\nGeschlecht    0.043492\ndtype: float64"
          },
          "metadata": {}
        }
      ],
      "execution_count": 260
    },
    {
      "id": "74261642",
      "cell_type": "markdown",
      "source": "### 17: Schätzen Sie eine Regression, die die Wahrscheinlichkeit des Kaufs eines Autos ermittelt",
      "metadata": {}
    },
    {
      "id": "180c4e09",
      "cell_type": "code",
      "source": "# spalte einfügen, ob Kunde = 1 oder Besucher = 0\nkunden_geo['Kauf'] = 1\nbesucher_geo['Kauf'] = 0\n\n# Besucher unter Kunden anfügen\ndaten_alle = pd.concat([kunden_geo, besucher_geo])\n\n# Überprüfung ob Käufer = 1 und Besucher = 0\ndaten_alle",
      "metadata": {
        "trusted": true
      },
      "outputs": [
        {
          "execution_count": 261,
          "output_type": "execute_result",
          "data": {
            "text/plain": "     Alter  Einkommen      Preis  Geschlecht  Zeit KundeNr      Niederlassung  \\\n0       64    66894.0   88160.31           1  43.0   K0310             Bayern   \n1       54    77644.0  103145.70           1  40.0   K1042             Berlin   \n2       55    44341.0   80565.16           0  37.0   K0382  Baden-Württemberg   \n3       49    67271.0   83949.89           0  42.0   K0498             Bayern   \n4       46    49832.0   93781.58           0  41.0   K0552             Hessen   \n..     ...        ...        ...         ...   ...     ...                ...   \n886     32    34392.0        NaN           1  48.0   K1211             Hessen   \n887     41    68516.0        NaN           0  34.0   K1375            Sachsen   \n888     65    89685.0        NaN           0  23.0   K1965             Bayern   \n889     68    95714.0        NaN           0  32.0   K1540             Bayern   \n890     49    73319.0        NaN           0  27.0   K1207      Niedersachsen   \n\n     Kauf  \n0       1  \n1       1  \n2       1  \n3       1  \n4       1  \n..    ...  \n886     0  \n887     0  \n888     0  \n889     0  \n890     0  \n\n[1995 rows x 8 columns]",
            "text/html": "<div>\n<style scoped>\n    .dataframe tbody tr th:only-of-type {\n        vertical-align: middle;\n    }\n\n    .dataframe tbody tr th {\n        vertical-align: top;\n    }\n\n    .dataframe thead th {\n        text-align: right;\n    }\n</style>\n<table border=\"1\" class=\"dataframe\">\n  <thead>\n    <tr style=\"text-align: right;\">\n      <th></th>\n      <th>Alter</th>\n      <th>Einkommen</th>\n      <th>Preis</th>\n      <th>Geschlecht</th>\n      <th>Zeit</th>\n      <th>KundeNr</th>\n      <th>Niederlassung</th>\n      <th>Kauf</th>\n    </tr>\n  </thead>\n  <tbody>\n    <tr>\n      <th>0</th>\n      <td>64</td>\n      <td>66894.0</td>\n      <td>88160.31</td>\n      <td>1</td>\n      <td>43.0</td>\n      <td>K0310</td>\n      <td>Bayern</td>\n      <td>1</td>\n    </tr>\n    <tr>\n      <th>1</th>\n      <td>54</td>\n      <td>77644.0</td>\n      <td>103145.70</td>\n      <td>1</td>\n      <td>40.0</td>\n      <td>K1042</td>\n      <td>Berlin</td>\n      <td>1</td>\n    </tr>\n    <tr>\n      <th>2</th>\n      <td>55</td>\n      <td>44341.0</td>\n      <td>80565.16</td>\n      <td>0</td>\n      <td>37.0</td>\n      <td>K0382</td>\n      <td>Baden-Württemberg</td>\n      <td>1</td>\n    </tr>\n    <tr>\n      <th>3</th>\n      <td>49</td>\n      <td>67271.0</td>\n      <td>83949.89</td>\n      <td>0</td>\n      <td>42.0</td>\n      <td>K0498</td>\n      <td>Bayern</td>\n      <td>1</td>\n    </tr>\n    <tr>\n      <th>4</th>\n      <td>46</td>\n      <td>49832.0</td>\n      <td>93781.58</td>\n      <td>0</td>\n      <td>41.0</td>\n      <td>K0552</td>\n      <td>Hessen</td>\n      <td>1</td>\n    </tr>\n    <tr>\n      <th>...</th>\n      <td>...</td>\n      <td>...</td>\n      <td>...</td>\n      <td>...</td>\n      <td>...</td>\n      <td>...</td>\n      <td>...</td>\n      <td>...</td>\n    </tr>\n    <tr>\n      <th>886</th>\n      <td>32</td>\n      <td>34392.0</td>\n      <td>NaN</td>\n      <td>1</td>\n      <td>48.0</td>\n      <td>K1211</td>\n      <td>Hessen</td>\n      <td>0</td>\n    </tr>\n    <tr>\n      <th>887</th>\n      <td>41</td>\n      <td>68516.0</td>\n      <td>NaN</td>\n      <td>0</td>\n      <td>34.0</td>\n      <td>K1375</td>\n      <td>Sachsen</td>\n      <td>0</td>\n    </tr>\n    <tr>\n      <th>888</th>\n      <td>65</td>\n      <td>89685.0</td>\n      <td>NaN</td>\n      <td>0</td>\n      <td>23.0</td>\n      <td>K1965</td>\n      <td>Bayern</td>\n      <td>0</td>\n    </tr>\n    <tr>\n      <th>889</th>\n      <td>68</td>\n      <td>95714.0</td>\n      <td>NaN</td>\n      <td>0</td>\n      <td>32.0</td>\n      <td>K1540</td>\n      <td>Bayern</td>\n      <td>0</td>\n    </tr>\n    <tr>\n      <th>890</th>\n      <td>49</td>\n      <td>73319.0</td>\n      <td>NaN</td>\n      <td>0</td>\n      <td>27.0</td>\n      <td>K1207</td>\n      <td>Niedersachsen</td>\n      <td>0</td>\n    </tr>\n  </tbody>\n</table>\n<p>1995 rows × 8 columns</p>\n</div>"
          },
          "metadata": {}
        }
      ],
      "execution_count": 261
    },
    {
      "id": "f0c12923-f96c-45ca-8b2c-d0651edb7f5e",
      "cell_type": "code",
      "source": "# Regression\ny_lg = daten_alle[\"Kauf\"]\n\nX_lg = daten_alle[['Alter', 'Einkommen', 'Geschlecht', 'Zeit']]\n\nX_lg = sm.add_constant(X_lg)\n\nmodel_lg = sm.Logit(y_lg, X_lg).fit()\n\nprint(model_lg.summary())",
      "metadata": {
        "trusted": true
      },
      "outputs": [
        {
          "name": "stdout",
          "text": "Optimization terminated successfully.\n         Current function value: 0.578825\n         Iterations 6\n                           Logit Regression Results                           \n==============================================================================\nDep. Variable:                   Kauf   No. Observations:                 1995\nModel:                          Logit   Df Residuals:                     1990\nMethod:                           MLE   Df Model:                            4\nDate:                Wed, 26 Jun 2024   Pseudo R-squ.:                  0.1580\nTime:                        06:28:22   Log-Likelihood:                -1154.8\nconverged:                       True   LL-Null:                       -1371.4\nCovariance Type:            nonrobust   LLR p-value:                 1.715e-92\n==============================================================================\n                 coef    std err          z      P>|z|      [0.025      0.975]\n------------------------------------------------------------------------------\nconst         -2.4360      0.264     -9.242      0.000      -2.953      -1.919\nAlter          0.0183      0.007      2.662      0.008       0.005       0.032\nEinkommen  -4.243e-05   5.44e-06     -7.801      0.000   -5.31e-05   -3.18e-05\nGeschlecht     0.2455      0.103      2.383      0.017       0.044       0.447\nZeit           0.1022      0.006     17.535      0.000       0.091       0.114\n==============================================================================\n",
          "output_type": "stream"
        }
      ],
      "execution_count": 262
    },
    {
      "id": "f5ebea07-0cb2-4cb9-a9ca-8e644d8028fa",
      "cell_type": "markdown",
      "source": "### 18. Wie hoch ist die Wahrscheinlichkeit, dass Person x,y unser Auto kauft?",
      "metadata": {}
    },
    {
      "id": "c6d07e51",
      "cell_type": "code",
      "source": "# Kundendaten\nPerson_x = [1, 32, 30000, 1, 30]  # Kauf (1 = Kauf), Alter, Einkommen, Geschlecht (1 = männlich), Zeit \nPerson_y = [1, 51, 54000, 1, 45] \n\n# Modell\nparams = model_lg.params\n\n# Person X\nlog_1 = np.dot(params, Person_x)\nwahrscheinlichkeit_person_x = 1 / (1 + np.exp(-log_1))\n\n# Person Y \nlog_2 = np.dot(params, Person_y)\nwahrscheinlichkeit_person_y = 1 / (1 + np.exp(-log_2))\n\nprint(wahrscheinlichkeit_person_x)\nprint(wahrscheinlichkeit_person_y)",
      "metadata": {
        "trusted": true
      },
      "outputs": [
        {
          "name": "stdout",
          "text": "0.5465430448696998\n0.7404466545605674\n",
          "output_type": "stream"
        }
      ],
      "execution_count": 270
    },
    {
      "id": "c47f1329-0d7a-4f1c-8914-f1835c9339c6",
      "cell_type": "markdown",
      "source": "### 19. Auf welche Probleme sind Sie bei der Zusammenführung des Datensatzes gestoßen? Stellen Sie die Operationen vor, die Sie zum Zusammenführen und Bereinigen der Daten durchgeführt haben",
      "metadata": {}
    },
    {
      "id": "288e4035-10e3-4351-a5c9-7c580bf37369",
      "cell_type": "code",
      "source": "# 1. Fehlende Daten in Kundendatei für Geschlecht\n\n# Herausgefunden mit der Operation isnull().sum: zeigt die Werte mit \"NaN\", also wo keine Angaben sind\n# Ermittlung des Modalwerts mit kunden[\"Geschlecht\"].mode(): gibt den Modelwert des Geschlechts an\n# Ersetzen der fehlenden Werte mit Modalwert mit .fillna(): setzt einen Wert für \"NaN\" ein, bei uns den Modalwert",
      "metadata": {
        "trusted": true
      },
      "outputs": [],
      "execution_count": null
    },
    {
      "id": "e5e3d66b-2461-45e8-a608-3f6d8a58c3c6",
      "cell_type": "code",
      "source": "",
      "metadata": {
        "trusted": true
      },
      "outputs": [],
      "execution_count": null
    },
    {
      "id": "73929d03-62eb-4dd3-a725-ea4d7eb19215",
      "cell_type": "code",
      "source": "",
      "metadata": {
        "trusted": true
      },
      "outputs": [],
      "execution_count": null
    },
    {
      "id": "70593410-9442-4281-bd40-18e1e39797eb",
      "cell_type": "code",
      "source": "",
      "metadata": {
        "trusted": true
      },
      "outputs": [],
      "execution_count": null
    },
    {
      "id": "454224fc-f705-4ef1-b8f1-4404c428384c",
      "cell_type": "code",
      "source": "",
      "metadata": {
        "trusted": true
      },
      "outputs": [],
      "execution_count": null
    },
    {
      "id": "c0244eb3-9a90-4c16-a811-a3f00c93a313",
      "cell_type": "code",
      "source": "",
      "metadata": {
        "trusted": true
      },
      "outputs": [],
      "execution_count": null
    },
    {
      "id": "d626a6e1-7da3-446e-b63d-de24b6224e94",
      "cell_type": "code",
      "source": "",
      "metadata": {
        "trusted": true
      },
      "outputs": [],
      "execution_count": null
    },
    {
      "id": "5da8b2e8-03f8-430b-8f71-7786ecf3b019",
      "cell_type": "code",
      "source": "",
      "metadata": {
        "trusted": true
      },
      "outputs": [],
      "execution_count": null
    },
    {
      "id": "c043de99-31b9-4d4a-9b46-280cd9b94cc6",
      "cell_type": "code",
      "source": "",
      "metadata": {
        "trusted": true
      },
      "outputs": [],
      "execution_count": null
    },
    {
      "id": "12a4e532-eb35-4917-9928-7a9db415cd91",
      "cell_type": "code",
      "source": "",
      "metadata": {
        "trusted": true
      },
      "outputs": [],
      "execution_count": null
    },
    {
      "id": "18bb730d-354a-41f1-bca3-87536ad8b84c",
      "cell_type": "code",
      "source": "",
      "metadata": {
        "trusted": true
      },
      "outputs": [],
      "execution_count": null
    },
    {
      "id": "e43ca4b3-f586-4de4-b113-7110dd0bae38",
      "cell_type": "code",
      "source": "",
      "metadata": {
        "trusted": true
      },
      "outputs": [],
      "execution_count": null
    },
    {
      "id": "1409f0b0-e983-4f8f-ac8d-f2bffe77e3f9",
      "cell_type": "code",
      "source": "",
      "metadata": {
        "trusted": true
      },
      "outputs": [],
      "execution_count": null
    },
    {
      "id": "51105429-fb07-4e03-898a-3762acd4b05b",
      "cell_type": "code",
      "source": "",
      "metadata": {
        "trusted": true
      },
      "outputs": [],
      "execution_count": null
    },
    {
      "id": "cd584ad7-8e30-409a-a2d3-7beba7f67e97",
      "cell_type": "code",
      "source": "",
      "metadata": {
        "trusted": true
      },
      "outputs": [],
      "execution_count": null
    },
    {
      "id": "c3c936d6-18b6-4e88-8d6f-153188c82ed7",
      "cell_type": "code",
      "source": "",
      "metadata": {
        "trusted": true
      },
      "outputs": [],
      "execution_count": null
    },
    {
      "id": "a974543c-fa95-434b-898d-dc738191cd8c",
      "cell_type": "code",
      "source": "",
      "metadata": {
        "trusted": true
      },
      "outputs": [],
      "execution_count": null
    },
    {
      "id": "c14525a8-d0cb-4520-b409-ad5110c7f002",
      "cell_type": "code",
      "source": "",
      "metadata": {
        "trusted": true
      },
      "outputs": [],
      "execution_count": null
    },
    {
      "id": "be581cd1-d94d-4277-bc94-3af17b29bc34",
      "cell_type": "code",
      "source": "",
      "metadata": {
        "trusted": true
      },
      "outputs": [],
      "execution_count": null
    },
    {
      "id": "c5c481a4-7890-4a73-93f5-e985e5f74478",
      "cell_type": "code",
      "source": "",
      "metadata": {
        "trusted": true
      },
      "outputs": [],
      "execution_count": null
    },
    {
      "id": "c2f5f573-5c60-4e82-b2f8-31f953dcaae8",
      "cell_type": "code",
      "source": "",
      "metadata": {
        "trusted": true
      },
      "outputs": [],
      "execution_count": null
    },
    {
      "id": "d84d39f7-8c94-48ee-833e-05b38f9796e9",
      "cell_type": "code",
      "source": "",
      "metadata": {
        "trusted": true
      },
      "outputs": [],
      "execution_count": null
    },
    {
      "id": "1b2cd298-6e52-46e0-b059-b1660b51d793",
      "cell_type": "code",
      "source": "",
      "metadata": {
        "trusted": true
      },
      "outputs": [],
      "execution_count": null
    },
    {
      "id": "48d3a9b3-f292-423e-b2c9-168803c11370",
      "cell_type": "code",
      "source": "",
      "metadata": {
        "trusted": true
      },
      "outputs": [],
      "execution_count": null
    },
    {
      "id": "87975b74-7e96-4aaf-9a42-f07ef887c594",
      "cell_type": "code",
      "source": "",
      "metadata": {
        "trusted": true
      },
      "outputs": [],
      "execution_count": null
    },
    {
      "id": "09e40cf9-46fb-4be1-8756-4e538f096256",
      "cell_type": "code",
      "source": "",
      "metadata": {
        "trusted": true
      },
      "outputs": [],
      "execution_count": null
    },
    {
      "id": "527e47fd-4d7f-431a-8d69-eb458b1ada6c",
      "cell_type": "code",
      "source": "",
      "metadata": {
        "trusted": true
      },
      "outputs": [],
      "execution_count": null
    },
    {
      "id": "6208225f-d78b-4a26-aa59-cf0ec2f8b306",
      "cell_type": "code",
      "source": "",
      "metadata": {
        "trusted": true
      },
      "outputs": [],
      "execution_count": null
    },
    {
      "id": "fc9f3c9e-9c2c-4653-ba41-87f4e69c5c02",
      "cell_type": "code",
      "source": "",
      "metadata": {
        "trusted": true
      },
      "outputs": [],
      "execution_count": null
    },
    {
      "id": "b20b62e3-598c-4d0b-8a26-3af69bbe7251",
      "cell_type": "code",
      "source": "",
      "metadata": {
        "trusted": true
      },
      "outputs": [],
      "execution_count": null
    },
    {
      "id": "cef4a468-0838-470d-8283-f37ba27dc451",
      "cell_type": "code",
      "source": "",
      "metadata": {
        "trusted": true
      },
      "outputs": [],
      "execution_count": null
    },
    {
      "id": "57a79cf4-f5b9-4f1b-99a8-798ac1352ebd",
      "cell_type": "code",
      "source": "",
      "metadata": {
        "trusted": true
      },
      "outputs": [],
      "execution_count": null
    },
    {
      "id": "c9d59053-61c5-45e0-8fb4-c1fd0589245e",
      "cell_type": "code",
      "source": "",
      "metadata": {
        "trusted": true
      },
      "outputs": [],
      "execution_count": null
    },
    {
      "id": "1ce936a0-95fb-4dc9-a958-4f7e4e8287be",
      "cell_type": "code",
      "source": "",
      "metadata": {
        "trusted": true
      },
      "outputs": [],
      "execution_count": null
    },
    {
      "id": "66e080fc-38b8-460d-bc3b-ac2eda0453ff",
      "cell_type": "code",
      "source": "",
      "metadata": {
        "trusted": true
      },
      "outputs": [],
      "execution_count": null
    },
    {
      "id": "c52db37b-1c9c-4da5-84d5-59890757e2e7",
      "cell_type": "code",
      "source": "",
      "metadata": {
        "trusted": true
      },
      "outputs": [],
      "execution_count": null
    },
    {
      "id": "3b80859b-2c51-4926-8386-e1a06d1034e3",
      "cell_type": "code",
      "source": "",
      "metadata": {
        "trusted": true
      },
      "outputs": [],
      "execution_count": null
    },
    {
      "id": "ba2fa217-4b4b-449a-9ed3-f8a361654735",
      "cell_type": "code",
      "source": "",
      "metadata": {
        "trusted": true
      },
      "outputs": [],
      "execution_count": null
    },
    {
      "id": "de900583-fdd5-4ca6-88ad-e0ed28fa5e1a",
      "cell_type": "code",
      "source": "",
      "metadata": {
        "trusted": true
      },
      "outputs": [],
      "execution_count": null
    },
    {
      "id": "55b39233-dbee-4db4-8ef5-724ef0330290",
      "cell_type": "code",
      "source": "",
      "metadata": {
        "trusted": true
      },
      "outputs": [],
      "execution_count": null
    },
    {
      "id": "6a7a2904-f2c8-4999-88b7-ccdac1ae8fad",
      "cell_type": "code",
      "source": "",
      "metadata": {
        "trusted": true
      },
      "outputs": [],
      "execution_count": null
    },
    {
      "id": "edd1df8d-682e-4e8b-b155-33258320f1ed",
      "cell_type": "code",
      "source": "",
      "metadata": {
        "trusted": true
      },
      "outputs": [],
      "execution_count": null
    },
    {
      "id": "537dfccd-073c-4a93-b89b-9c01a8531534",
      "cell_type": "code",
      "source": "",
      "metadata": {
        "trusted": true
      },
      "outputs": [],
      "execution_count": null
    },
    {
      "id": "38135947-3864-4e5f-bc6d-eeeb4d2a272b",
      "cell_type": "code",
      "source": "",
      "metadata": {
        "trusted": true
      },
      "outputs": [],
      "execution_count": null
    },
    {
      "id": "be996b7e-777e-4844-a96e-4e2fafbe19d4",
      "cell_type": "code",
      "source": "",
      "metadata": {
        "trusted": true
      },
      "outputs": [],
      "execution_count": null
    },
    {
      "id": "71512b16-4b90-4d7f-8b2f-db563735356c",
      "cell_type": "code",
      "source": "",
      "metadata": {
        "trusted": true
      },
      "outputs": [],
      "execution_count": null
    },
    {
      "id": "e34ca177-84e9-4471-ae91-09a58683c888",
      "cell_type": "code",
      "source": "",
      "metadata": {
        "trusted": true
      },
      "outputs": [],
      "execution_count": null
    },
    {
      "id": "0c5ff789-3d79-4337-a8b9-986c2dff62b0",
      "cell_type": "code",
      "source": "",
      "metadata": {
        "trusted": true
      },
      "outputs": [],
      "execution_count": null
    },
    {
      "id": "89a6bc3c-be8e-4622-8541-2c282ed0e218",
      "cell_type": "code",
      "source": "",
      "metadata": {
        "trusted": true
      },
      "outputs": [],
      "execution_count": null
    },
    {
      "id": "15c51732-1390-46a5-8dae-d8108f48c832",
      "cell_type": "code",
      "source": "",
      "metadata": {
        "trusted": true
      },
      "outputs": [],
      "execution_count": null
    },
    {
      "id": "aacf048a-a15f-4d14-af7b-5999d5e96fc1",
      "cell_type": "code",
      "source": "",
      "metadata": {
        "trusted": true
      },
      "outputs": [],
      "execution_count": null
    },
    {
      "id": "1540dee6-53e4-4dca-be0c-62f68e31e77a",
      "cell_type": "code",
      "source": "",
      "metadata": {
        "trusted": true
      },
      "outputs": [],
      "execution_count": null
    },
    {
      "id": "dce4ea2a-a07c-476e-b03c-42c63c31f362",
      "cell_type": "code",
      "source": "",
      "metadata": {
        "trusted": true
      },
      "outputs": [],
      "execution_count": null
    },
    {
      "id": "0325e4da-ceac-4002-8b6c-9a1db50fcb20",
      "cell_type": "code",
      "source": "",
      "metadata": {
        "trusted": true
      },
      "outputs": [],
      "execution_count": null
    },
    {
      "id": "4558b1a5-a629-42a0-8d74-41c8401eeb94",
      "cell_type": "code",
      "source": "",
      "metadata": {
        "trusted": true
      },
      "outputs": [],
      "execution_count": null
    },
    {
      "id": "85e3ba7f-07de-411b-b6de-27d559dfa223",
      "cell_type": "code",
      "source": "",
      "metadata": {
        "trusted": true
      },
      "outputs": [],
      "execution_count": null
    },
    {
      "id": "c71aab1c-038e-4959-bcd1-1dd212cd83d1",
      "cell_type": "code",
      "source": "",
      "metadata": {
        "trusted": true
      },
      "outputs": [],
      "execution_count": null
    },
    {
      "id": "e89cab0e-b0da-424a-9873-3f6adae324e6",
      "cell_type": "code",
      "source": "",
      "metadata": {
        "trusted": true
      },
      "outputs": [],
      "execution_count": null
    },
    {
      "id": "73d9ec93-1abe-45f5-ac70-c33b0b1916c5",
      "cell_type": "code",
      "source": "",
      "metadata": {
        "trusted": true
      },
      "outputs": [],
      "execution_count": null
    },
    {
      "id": "17790f52-2607-4809-9d42-b19740315ad4",
      "cell_type": "code",
      "source": "",
      "metadata": {
        "trusted": true
      },
      "outputs": [],
      "execution_count": null
    },
    {
      "id": "149b73ad-5d8a-4378-b214-26a0ccc0f6e3",
      "cell_type": "code",
      "source": "",
      "metadata": {
        "trusted": true
      },
      "outputs": [],
      "execution_count": null
    },
    {
      "id": "e502b770-6c79-4a0e-838a-df53d5daf017",
      "cell_type": "code",
      "source": "",
      "metadata": {
        "trusted": true
      },
      "outputs": [],
      "execution_count": null
    },
    {
      "id": "49b128a9-5017-4ab4-8bc6-853e9a64e3b6",
      "cell_type": "code",
      "source": "",
      "metadata": {
        "trusted": true
      },
      "outputs": [],
      "execution_count": null
    },
    {
      "id": "d0e7757e-0d9e-45cc-9499-77ef68f96272",
      "cell_type": "code",
      "source": "",
      "metadata": {
        "trusted": true
      },
      "outputs": [],
      "execution_count": null
    },
    {
      "id": "4c0445dc-2345-46b8-85b6-f2130ab8276a",
      "cell_type": "code",
      "source": "",
      "metadata": {
        "trusted": true
      },
      "outputs": [],
      "execution_count": null
    },
    {
      "id": "d1370e97-cb67-480a-bec4-92330a37cd8d",
      "cell_type": "code",
      "source": "",
      "metadata": {
        "trusted": true
      },
      "outputs": [],
      "execution_count": null
    },
    {
      "id": "cde59fe6-f413-4e5a-9508-e4a60ffb5b65",
      "cell_type": "code",
      "source": "",
      "metadata": {
        "trusted": true
      },
      "outputs": [],
      "execution_count": null
    },
    {
      "id": "4c4cd4cb-b39c-4137-93f0-9e152726e756",
      "cell_type": "code",
      "source": "",
      "metadata": {
        "trusted": true
      },
      "outputs": [],
      "execution_count": null
    },
    {
      "id": "47a436b7-817b-4618-aaa9-dcd9fa4f62c5",
      "cell_type": "code",
      "source": "",
      "metadata": {
        "trusted": true
      },
      "outputs": [],
      "execution_count": null
    },
    {
      "id": "92c386db-ed83-4e6c-962e-64003578f7fe",
      "cell_type": "code",
      "source": "",
      "metadata": {
        "trusted": true
      },
      "outputs": [],
      "execution_count": null
    },
    {
      "id": "e13958b3-5ffe-4bfe-ada1-b0f6249a430d",
      "cell_type": "code",
      "source": "",
      "metadata": {
        "trusted": true
      },
      "outputs": [],
      "execution_count": null
    },
    {
      "id": "365a06df-ce39-4448-9ae4-7cd879c748c0",
      "cell_type": "code",
      "source": "",
      "metadata": {
        "trusted": true
      },
      "outputs": [],
      "execution_count": null
    },
    {
      "id": "57feb605-a26a-42b5-8110-936528d5a5e5",
      "cell_type": "code",
      "source": "",
      "metadata": {
        "trusted": true
      },
      "outputs": [],
      "execution_count": null
    },
    {
      "id": "20a4f664-695c-40df-84ce-efb2f3633747",
      "cell_type": "code",
      "source": "",
      "metadata": {
        "trusted": true
      },
      "outputs": [],
      "execution_count": null
    },
    {
      "id": "78cc3da2-0f68-40c9-bc5a-bba65d4c3199",
      "cell_type": "code",
      "source": "",
      "metadata": {
        "trusted": true
      },
      "outputs": [],
      "execution_count": null
    },
    {
      "id": "8d594364-c728-435e-8c90-e13f31d59eb6",
      "cell_type": "code",
      "source": "",
      "metadata": {
        "trusted": true
      },
      "outputs": [],
      "execution_count": null
    },
    {
      "id": "8567a5bb-cc0a-4a69-99fc-691e45904e69",
      "cell_type": "code",
      "source": "",
      "metadata": {
        "trusted": true
      },
      "outputs": [],
      "execution_count": null
    },
    {
      "id": "4a3e703a-1c5c-4f55-9a44-d3c275b62767",
      "cell_type": "code",
      "source": "",
      "metadata": {
        "trusted": true
      },
      "outputs": [],
      "execution_count": null
    },
    {
      "id": "66513fd7-fe6c-4759-97fa-6a48913e21f8",
      "cell_type": "code",
      "source": "",
      "metadata": {
        "trusted": true
      },
      "outputs": [],
      "execution_count": null
    },
    {
      "id": "54b175b6-65d5-43bd-920b-eab9fc7b1345",
      "cell_type": "code",
      "source": "",
      "metadata": {
        "trusted": true
      },
      "outputs": [],
      "execution_count": null
    },
    {
      "id": "5cf439cb-8aeb-42dd-9253-d209a7240de9",
      "cell_type": "code",
      "source": "",
      "metadata": {
        "trusted": true
      },
      "outputs": [],
      "execution_count": null
    },
    {
      "id": "84200fc1-f8fe-49f2-a6e0-be170492b960",
      "cell_type": "code",
      "source": "",
      "metadata": {
        "trusted": true
      },
      "outputs": [],
      "execution_count": null
    },
    {
      "id": "de823c9c-bda6-4c66-9b42-34e87caf8ae3",
      "cell_type": "code",
      "source": "",
      "metadata": {
        "trusted": true
      },
      "outputs": [],
      "execution_count": null
    },
    {
      "id": "8735d62e-37b6-46c3-b636-02abcf7e5828",
      "cell_type": "code",
      "source": "",
      "metadata": {
        "trusted": true
      },
      "outputs": [],
      "execution_count": null
    },
    {
      "id": "2be2ee71-a284-4c86-add4-5a8f451b49d0",
      "cell_type": "code",
      "source": "",
      "metadata": {
        "trusted": true
      },
      "outputs": [],
      "execution_count": null
    },
    {
      "id": "41217c39-2fa7-4dc9-b11d-e0e8d167b5de",
      "cell_type": "code",
      "source": "",
      "metadata": {
        "trusted": true
      },
      "outputs": [],
      "execution_count": null
    },
    {
      "id": "ff9b2416-54de-42af-afe5-5cdba3190391",
      "cell_type": "code",
      "source": "",
      "metadata": {
        "trusted": true
      },
      "outputs": [],
      "execution_count": null
    },
    {
      "id": "e24e1241-9c2d-43f3-a34b-5e1c70741dd0",
      "cell_type": "code",
      "source": "",
      "metadata": {
        "trusted": true
      },
      "outputs": [],
      "execution_count": null
    },
    {
      "id": "af14b489-db1d-4cb9-be5a-fef568de022b",
      "cell_type": "code",
      "source": "",
      "metadata": {
        "trusted": true
      },
      "outputs": [],
      "execution_count": null
    },
    {
      "id": "95c9f0c6-6d69-4309-ab53-e9f0c0fc0c6b",
      "cell_type": "code",
      "source": "",
      "metadata": {
        "trusted": true
      },
      "outputs": [],
      "execution_count": null
    },
    {
      "id": "7b3800e5-5793-43b2-8d7a-41d9abb10749",
      "cell_type": "code",
      "source": "",
      "metadata": {
        "trusted": true
      },
      "outputs": [],
      "execution_count": null
    },
    {
      "id": "d0a56669-6ed6-4e17-9d68-419806b10bbe",
      "cell_type": "code",
      "source": "",
      "metadata": {
        "trusted": true
      },
      "outputs": [],
      "execution_count": null
    },
    {
      "id": "725c650f-536e-42b6-b137-986bac2646fe",
      "cell_type": "code",
      "source": "",
      "metadata": {
        "trusted": true
      },
      "outputs": [],
      "execution_count": null
    },
    {
      "id": "bd9452c7-633a-4b6e-9fb8-d3f8296840f5",
      "cell_type": "code",
      "source": "",
      "metadata": {
        "trusted": true
      },
      "outputs": [],
      "execution_count": null
    },
    {
      "id": "1002aa56-3a32-420c-9c8c-137b602a0022",
      "cell_type": "code",
      "source": "",
      "metadata": {
        "trusted": true
      },
      "outputs": [],
      "execution_count": null
    },
    {
      "id": "f1c81cc4-807e-4196-939a-9d7f42ed976d",
      "cell_type": "code",
      "source": "",
      "metadata": {
        "trusted": true
      },
      "outputs": [],
      "execution_count": null
    },
    {
      "id": "52d4475b-4b61-4799-b507-262281ca1de4",
      "cell_type": "code",
      "source": "",
      "metadata": {
        "trusted": true
      },
      "outputs": [],
      "execution_count": null
    },
    {
      "id": "b6465e1d-6a26-47fd-91df-cc494e9370af",
      "cell_type": "code",
      "source": "",
      "metadata": {
        "trusted": true
      },
      "outputs": [],
      "execution_count": null
    },
    {
      "id": "4038b756-45ad-46ce-a373-a6d69547556f",
      "cell_type": "code",
      "source": "",
      "metadata": {
        "trusted": true
      },
      "outputs": [],
      "execution_count": null
    },
    {
      "id": "49c04008-27f2-4e2e-9487-3469951af362",
      "cell_type": "code",
      "source": "",
      "metadata": {
        "trusted": true
      },
      "outputs": [],
      "execution_count": null
    },
    {
      "id": "ad680a32-3ea2-4148-a9b4-3c30f5f3505b",
      "cell_type": "code",
      "source": "",
      "metadata": {
        "trusted": true
      },
      "outputs": [],
      "execution_count": null
    },
    {
      "id": "9bdfbccd-cc3b-4904-ab0c-26258a36d403",
      "cell_type": "code",
      "source": "",
      "metadata": {
        "trusted": true
      },
      "outputs": [],
      "execution_count": null
    },
    {
      "id": "9e855926-18d1-4b75-a95d-1736573a0caf",
      "cell_type": "code",
      "source": "",
      "metadata": {
        "trusted": true
      },
      "outputs": [],
      "execution_count": null
    },
    {
      "id": "c2c629bf-e576-47dd-bd3f-9d605f7a4293",
      "cell_type": "code",
      "source": "",
      "metadata": {
        "trusted": true
      },
      "outputs": [],
      "execution_count": null
    },
    {
      "id": "1d15bfbd-bc92-4e28-ab4e-600655817ca0",
      "cell_type": "code",
      "source": "",
      "metadata": {
        "trusted": true
      },
      "outputs": [],
      "execution_count": null
    },
    {
      "id": "6083703d-1306-4d3c-ba64-b39d66e60c49",
      "cell_type": "code",
      "source": "",
      "metadata": {
        "trusted": true
      },
      "outputs": [],
      "execution_count": null
    },
    {
      "id": "69eaee0d-84f5-4ffe-a2c5-e025d7a131b6",
      "cell_type": "code",
      "source": "",
      "metadata": {
        "trusted": true
      },
      "outputs": [],
      "execution_count": null
    },
    {
      "id": "f460b5a2-e882-4e62-9c62-d61438979a30",
      "cell_type": "code",
      "source": "",
      "metadata": {
        "trusted": true
      },
      "outputs": [],
      "execution_count": null
    },
    {
      "id": "a16d3bf2-9976-4d19-a4d7-a4029fb4d352",
      "cell_type": "code",
      "source": "",
      "metadata": {
        "trusted": true
      },
      "outputs": [],
      "execution_count": null
    },
    {
      "id": "57544c3c-ba20-4c40-b8d6-9ad7a78a9e44",
      "cell_type": "code",
      "source": "",
      "metadata": {
        "trusted": true
      },
      "outputs": [],
      "execution_count": null
    },
    {
      "id": "27da2f82-e1eb-4243-91c9-0bc2b15a225d",
      "cell_type": "code",
      "source": "",
      "metadata": {
        "trusted": true
      },
      "outputs": [],
      "execution_count": null
    },
    {
      "id": "b123da11-7817-47c8-85d4-19027a2e7d75",
      "cell_type": "code",
      "source": "",
      "metadata": {
        "trusted": true
      },
      "outputs": [],
      "execution_count": null
    },
    {
      "id": "a491b350-7900-4f5b-b6c2-31bcdfd54af8",
      "cell_type": "code",
      "source": "",
      "metadata": {
        "trusted": true
      },
      "outputs": [],
      "execution_count": null
    },
    {
      "id": "e4bba30f-9214-44ff-bc1d-5d0818db8d5c",
      "cell_type": "code",
      "source": "",
      "metadata": {
        "trusted": true
      },
      "outputs": [],
      "execution_count": null
    },
    {
      "id": "51744df0-e8d6-44fc-9059-678ef440c923",
      "cell_type": "code",
      "source": "",
      "metadata": {
        "trusted": true
      },
      "outputs": [],
      "execution_count": null
    },
    {
      "id": "f2ad5227-5db8-4915-bade-18f057ebd1c3",
      "cell_type": "code",
      "source": "",
      "metadata": {
        "trusted": true
      },
      "outputs": [],
      "execution_count": null
    },
    {
      "id": "20fa2657-3876-42e5-9bb5-00132d9f6999",
      "cell_type": "code",
      "source": "",
      "metadata": {
        "trusted": true
      },
      "outputs": [],
      "execution_count": null
    },
    {
      "id": "9916b0df-0b4d-4062-8764-c50ac07dbb0e",
      "cell_type": "code",
      "source": "",
      "metadata": {
        "trusted": true
      },
      "outputs": [],
      "execution_count": null
    },
    {
      "id": "3cf11ffb-4f3b-4995-8b42-a0749600622c",
      "cell_type": "code",
      "source": "",
      "metadata": {
        "trusted": true
      },
      "outputs": [],
      "execution_count": null
    },
    {
      "id": "507d620d-e9da-41d7-890b-0d6f38f8d1a4",
      "cell_type": "code",
      "source": "",
      "metadata": {
        "trusted": true
      },
      "outputs": [],
      "execution_count": null
    },
    {
      "id": "cb4ace71-07eb-4c30-b370-24c3f6562638",
      "cell_type": "code",
      "source": "",
      "metadata": {
        "trusted": true
      },
      "outputs": [],
      "execution_count": null
    },
    {
      "id": "a75c1414-962f-40e6-a44c-8bd2e455483e",
      "cell_type": "code",
      "source": "",
      "metadata": {
        "trusted": true
      },
      "outputs": [],
      "execution_count": null
    },
    {
      "id": "7b9d55ec-dda0-4698-b34f-022fcf6b7421",
      "cell_type": "code",
      "source": "",
      "metadata": {
        "trusted": true
      },
      "outputs": [],
      "execution_count": null
    },
    {
      "id": "1a86357d-4904-4c7d-b152-e0ca3ebeb379",
      "cell_type": "code",
      "source": "",
      "metadata": {
        "trusted": true
      },
      "outputs": [],
      "execution_count": null
    },
    {
      "id": "89f2b992-bc53-4fb0-b33e-23cd5af16611",
      "cell_type": "code",
      "source": "",
      "metadata": {
        "trusted": true
      },
      "outputs": [],
      "execution_count": null
    },
    {
      "id": "0f328a7e-ca39-4d39-85e1-64d785b1de21",
      "cell_type": "code",
      "source": "",
      "metadata": {
        "trusted": true
      },
      "outputs": [],
      "execution_count": null
    },
    {
      "id": "cc793759-5e33-4f96-acb3-6e02c9e804d4",
      "cell_type": "code",
      "source": "",
      "metadata": {
        "trusted": true
      },
      "outputs": [],
      "execution_count": null
    },
    {
      "id": "2fb3d3d7-3e0f-465f-9b78-58edbd2880e7",
      "cell_type": "code",
      "source": "",
      "metadata": {
        "trusted": true
      },
      "outputs": [],
      "execution_count": null
    },
    {
      "id": "b4fd65a8-c2ea-4f89-9cfb-6dc31fe2c48b",
      "cell_type": "code",
      "source": "",
      "metadata": {
        "trusted": true
      },
      "outputs": [],
      "execution_count": null
    },
    {
      "id": "dc580774-622f-4d7e-a080-4ec30e4387a7",
      "cell_type": "code",
      "source": "",
      "metadata": {
        "trusted": true
      },
      "outputs": [],
      "execution_count": null
    },
    {
      "id": "a2ee4835-5087-4a42-9c52-56b67f5eb27a",
      "cell_type": "code",
      "source": "",
      "metadata": {
        "trusted": true
      },
      "outputs": [],
      "execution_count": null
    },
    {
      "id": "daa55a1f-5194-4532-895d-24b81468f9a8",
      "cell_type": "code",
      "source": "",
      "metadata": {
        "trusted": true
      },
      "outputs": [],
      "execution_count": null
    },
    {
      "id": "c9a6ed01-3a88-444c-bd66-62eb109c952f",
      "cell_type": "code",
      "source": "",
      "metadata": {
        "trusted": true
      },
      "outputs": [],
      "execution_count": null
    },
    {
      "id": "35e46721-b84a-45bf-b26b-59625cd1c165",
      "cell_type": "code",
      "source": "",
      "metadata": {
        "trusted": true
      },
      "outputs": [],
      "execution_count": null
    },
    {
      "id": "c02f62ee-ef4e-4a0c-a0aa-bea5f901b1fb",
      "cell_type": "code",
      "source": "",
      "metadata": {
        "trusted": true
      },
      "outputs": [],
      "execution_count": null
    },
    {
      "id": "444e5718-6c54-4d87-a2a5-9e83ef40fa91",
      "cell_type": "code",
      "source": "",
      "metadata": {
        "trusted": true
      },
      "outputs": [],
      "execution_count": null
    },
    {
      "id": "9e1d58f8-3680-46ad-9274-6f136605aab0",
      "cell_type": "code",
      "source": "",
      "metadata": {
        "trusted": true
      },
      "outputs": [],
      "execution_count": null
    },
    {
      "id": "0e8e20b8-220f-41af-a8a6-6c4a916bdf08",
      "cell_type": "code",
      "source": "",
      "metadata": {
        "trusted": true
      },
      "outputs": [],
      "execution_count": null
    },
    {
      "id": "36e1a16b-d6ba-47cd-a900-52c50eecd99d",
      "cell_type": "code",
      "source": "",
      "metadata": {
        "trusted": true
      },
      "outputs": [],
      "execution_count": null
    },
    {
      "id": "4cfecbc8-d69b-4cf9-8f5f-89038f9c4c83",
      "cell_type": "code",
      "source": "",
      "metadata": {
        "trusted": true
      },
      "outputs": [],
      "execution_count": null
    },
    {
      "id": "38457309-dbe8-4527-9caa-f416f4970ec5",
      "cell_type": "code",
      "source": "",
      "metadata": {
        "trusted": true
      },
      "outputs": [],
      "execution_count": null
    },
    {
      "id": "fdc07d01-9dc5-4a80-8b8f-4fd04d77244b",
      "cell_type": "code",
      "source": "",
      "metadata": {
        "trusted": true
      },
      "outputs": [],
      "execution_count": null
    },
    {
      "id": "fc8200ef-a8c0-4506-a78c-ef9962b29408",
      "cell_type": "code",
      "source": "",
      "metadata": {
        "trusted": true
      },
      "outputs": [],
      "execution_count": null
    },
    {
      "id": "fbda4f98-0b11-4daf-bca0-0d7e827fc898",
      "cell_type": "code",
      "source": "",
      "metadata": {
        "trusted": true
      },
      "outputs": [],
      "execution_count": null
    },
    {
      "id": "82a94f4f-afc0-4ea8-96ac-7a5050e0c945",
      "cell_type": "code",
      "source": "",
      "metadata": {
        "trusted": true
      },
      "outputs": [],
      "execution_count": null
    },
    {
      "id": "f05acf4a-7a7a-42eb-8d8a-528e4d2bc1a9",
      "cell_type": "code",
      "source": "",
      "metadata": {
        "trusted": true
      },
      "outputs": [],
      "execution_count": null
    },
    {
      "id": "329a101e-92c1-4386-b5ee-8a12ded0c4a6",
      "cell_type": "code",
      "source": "",
      "metadata": {
        "trusted": true
      },
      "outputs": [],
      "execution_count": null
    },
    {
      "id": "c13242aa-eb77-48c8-8121-1441f3667827",
      "cell_type": "code",
      "source": "",
      "metadata": {
        "trusted": true
      },
      "outputs": [],
      "execution_count": null
    },
    {
      "id": "0f74b74a-569a-41a5-b8c0-0c3770f25ea4",
      "cell_type": "code",
      "source": "",
      "metadata": {
        "trusted": true
      },
      "outputs": [],
      "execution_count": null
    },
    {
      "id": "d5305706-d8d6-43e6-bad1-c6ad07207ad9",
      "cell_type": "code",
      "source": "",
      "metadata": {
        "trusted": true
      },
      "outputs": [],
      "execution_count": null
    },
    {
      "id": "c9f64a33-998d-4a2a-9bbe-ee8d3d6d37da",
      "cell_type": "code",
      "source": "",
      "metadata": {
        "trusted": true
      },
      "outputs": [],
      "execution_count": null
    },
    {
      "id": "83456aa1-b509-4cf0-bd3a-657417a07a19",
      "cell_type": "code",
      "source": "",
      "metadata": {
        "trusted": true
      },
      "outputs": [],
      "execution_count": null
    },
    {
      "id": "9ce08452-5e17-4e4e-8eb0-12c30758f543",
      "cell_type": "code",
      "source": "",
      "metadata": {
        "trusted": true
      },
      "outputs": [],
      "execution_count": null
    },
    {
      "id": "c537da05-1b76-40b8-9413-407aae5adc4d",
      "cell_type": "code",
      "source": "",
      "metadata": {
        "trusted": true
      },
      "outputs": [],
      "execution_count": null
    },
    {
      "id": "302f44cb-c760-4354-ab36-509e50524183",
      "cell_type": "code",
      "source": "",
      "metadata": {
        "trusted": true
      },
      "outputs": [],
      "execution_count": null
    },
    {
      "id": "d9199b90-70eb-4f6e-9347-72fce522e27a",
      "cell_type": "code",
      "source": "\n",
      "metadata": {
        "trusted": true
      },
      "outputs": [],
      "execution_count": null
    }
  ]
}