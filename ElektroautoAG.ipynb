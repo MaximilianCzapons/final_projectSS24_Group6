{
 "cells": [
  {
   "cell_type": "code",
   "execution_count": 1,
   "metadata": {
    "slideshow": {
     "slide_type": ""
    },
    "tags": []
   },
   "outputs": [],
   "source": [
    "import pandas as pd"
   ]
  },
  {
   "cell_type": "code",
   "execution_count": 84,
   "metadata": {},
   "outputs": [],
   "source": [
    "import numpy as np"
   ]
  },
  {
   "cell_type": "code",
   "execution_count": null,
   "metadata": {},
   "outputs": [],
   "source": [
    "# kunden.csv, geo.txt, besucher.csv in Jupyter Notebook hochgeladen"
   ]
  },
  {
   "cell_type": "code",
   "execution_count": 123,
   "metadata": {},
   "outputs": [],
   "source": [
    "kunden = pd.read_csv(\"kunden.csv\", sep = \";\") # Import der Kundenliste + Separieren der Spalten"
   ]
  },
  {
   "cell_type": "code",
   "execution_count": 124,
   "metadata": {},
   "outputs": [],
   "source": [
    "kunden[\"Alter\"] = kunden[\"Alter\"].where(kunden[\"Alter\"] < 100) # Datenbereinigung um Falschangaben beim Alter (Annahme: Alter > 100 ist Falschangabe)"
   ]
  },
  {
   "cell_type": "code",
   "execution_count": 125,
   "metadata": {},
   "outputs": [],
   "source": [
    "kunden[\"Einkommen\"] = kunden[\"Einkommen\"].where(kunden[\"Einkommen\"] < 999999) # Datenbereinigung um Falschangaben beim Einkommen (Annahme 1: der Wert 1 Mrd. ist Falschangabe)"
   ]
  },
  {
   "cell_type": "code",
   "execution_count": 126,
   "metadata": {},
   "outputs": [],
   "source": [
    "kunden[\"Einkommen\"] = kunden[\"Einkommen\"].where(kunden[\"Einkommen\"] > 0) # Datenbereinigung um Falschangaben beim Einkommen (Annahme 2: Einkommen muss positiv sein)"
   ]
  },
  {
   "cell_type": "code",
   "execution_count": 127,
   "metadata": {},
   "outputs": [],
   "source": [
    "geo = pd.read_csv(\"geo.txt\", sep = \"\\t\") # Import der Geoliste + Separieren der Spalten"
   ]
  },
  {
   "cell_type": "code",
   "execution_count": 128,
   "metadata": {
    "slideshow": {
     "slide_type": ""
    },
    "tags": []
   },
   "outputs": [],
   "source": [
    "geo[\"Niederlassung\"] = geo[\"Niederlassung\"].replace({\"NRW\":\"Nordrhein-Westfalen\", \"Berlin-Charlottenburg\":\"Berlin\"}) # \"NWR\" mit \"Nordrhein-Westfalen\" und \"Berlin-Charlottenburg\" mit \"Berlin\" ersetzen"
   ]
  },
  {
   "cell_type": "code",
   "execution_count": 129,
   "metadata": {},
   "outputs": [],
   "source": [
    "besucher = pd.read_csv(\"besucher.csv\", sep = \";\") # Import der Besucherliste + Separieren der Spalten"
   ]
  },
  {
   "cell_type": "code",
   "execution_count": 130,
   "metadata": {},
   "outputs": [],
   "source": [
    "besucher[\"Einkommen\"] = besucher[\"Einkommen\"].str.replace(\",\",\".\")"
   ]
  },
  {
   "cell_type": "code",
   "execution_count": 131,
   "metadata": {},
   "outputs": [],
   "source": [
    "besucher[\"Einkommen\"] = pd.to_numeric(besucher[\"Einkommen\"])"
   ]
  },
  {
   "cell_type": "code",
   "execution_count": 132,
   "metadata": {},
   "outputs": [],
   "source": [
    "besucher[\"Einkommen\"] = besucher[\"Einkommen\"].round(0).astype(\"Int64\")"
   ]
  },
  {
   "cell_type": "code",
   "execution_count": 133,
   "metadata": {},
   "outputs": [],
   "source": [
    "besucher[\"Zeit\"] = besucher[\"Zeit\"].str.replace(\",\",\".\")"
   ]
  },
  {
   "cell_type": "code",
   "execution_count": 134,
   "metadata": {},
   "outputs": [],
   "source": [
    "besucher[\"Zeit\"] = pd.to_numeric(besucher[\"Zeit\"])"
   ]
  },
  {
   "cell_type": "code",
   "execution_count": 135,
   "metadata": {},
   "outputs": [],
   "source": [
    "besucher[\"Zeit\"] = besucher[\"Zeit\"].round(0).astype(\"Int64\")"
   ]
  },
  {
   "cell_type": "code",
   "execution_count": 136,
   "metadata": {
    "slideshow": {
     "slide_type": ""
    },
    "tags": []
   },
   "outputs": [],
   "source": [
    "kunden_geo = pd.merge(kunden, geo, on = \"KundeNr\")"
   ]
  },
  {
   "cell_type": "code",
   "execution_count": 137,
   "metadata": {},
   "outputs": [],
   "source": [
    "besucher_geo = pd.merge(besucher, geo, on = \"KundeNr\")"
   ]
  },
  {
   "cell_type": "code",
   "execution_count": 139,
   "metadata": {},
   "outputs": [
    {
     "data": {
      "text/html": [
       "<div>\n",
       "<style scoped>\n",
       "    .dataframe tbody tr th:only-of-type {\n",
       "        vertical-align: middle;\n",
       "    }\n",
       "\n",
       "    .dataframe tbody tr th {\n",
       "        vertical-align: top;\n",
       "    }\n",
       "\n",
       "    .dataframe thead th {\n",
       "        text-align: right;\n",
       "    }\n",
       "</style>\n",
       "<table border=\"1\" class=\"dataframe\">\n",
       "  <thead>\n",
       "    <tr style=\"text-align: right;\">\n",
       "      <th></th>\n",
       "      <th>Alter</th>\n",
       "      <th>Einkommen</th>\n",
       "      <th>Geschlecht</th>\n",
       "      <th>Zeit</th>\n",
       "      <th>KundeNr</th>\n",
       "      <th>Niederlassung</th>\n",
       "    </tr>\n",
       "  </thead>\n",
       "  <tbody>\n",
       "    <tr>\n",
       "      <th>0</th>\n",
       "      <td>30</td>\n",
       "      <td>39919</td>\n",
       "      <td>0</td>\n",
       "      <td>29</td>\n",
       "      <td>K1814</td>\n",
       "      <td>Bayern</td>\n",
       "    </tr>\n",
       "    <tr>\n",
       "      <th>1</th>\n",
       "      <td>41</td>\n",
       "      <td>53431</td>\n",
       "      <td>0</td>\n",
       "      <td>27</td>\n",
       "      <td>K1544</td>\n",
       "      <td>Baden-Württemberg</td>\n",
       "    </tr>\n",
       "    <tr>\n",
       "      <th>2</th>\n",
       "      <td>64</td>\n",
       "      <td>73163</td>\n",
       "      <td>0</td>\n",
       "      <td>32</td>\n",
       "      <td>K1945</td>\n",
       "      <td>Baden-Württemberg</td>\n",
       "    </tr>\n",
       "    <tr>\n",
       "      <th>3</th>\n",
       "      <td>41</td>\n",
       "      <td>36761</td>\n",
       "      <td>0</td>\n",
       "      <td>44</td>\n",
       "      <td>K1825</td>\n",
       "      <td>Baden-Württemberg</td>\n",
       "    </tr>\n",
       "    <tr>\n",
       "      <th>4</th>\n",
       "      <td>35</td>\n",
       "      <td>42684</td>\n",
       "      <td>1</td>\n",
       "      <td>33</td>\n",
       "      <td>K1144</td>\n",
       "      <td>Nordrhein-Westfalen</td>\n",
       "    </tr>\n",
       "    <tr>\n",
       "      <th>...</th>\n",
       "      <td>...</td>\n",
       "      <td>...</td>\n",
       "      <td>...</td>\n",
       "      <td>...</td>\n",
       "      <td>...</td>\n",
       "      <td>...</td>\n",
       "    </tr>\n",
       "    <tr>\n",
       "      <th>886</th>\n",
       "      <td>32</td>\n",
       "      <td>34392</td>\n",
       "      <td>1</td>\n",
       "      <td>48</td>\n",
       "      <td>K1211</td>\n",
       "      <td>Hessen</td>\n",
       "    </tr>\n",
       "    <tr>\n",
       "      <th>887</th>\n",
       "      <td>41</td>\n",
       "      <td>68516</td>\n",
       "      <td>0</td>\n",
       "      <td>34</td>\n",
       "      <td>K1375</td>\n",
       "      <td>Sachsen</td>\n",
       "    </tr>\n",
       "    <tr>\n",
       "      <th>888</th>\n",
       "      <td>65</td>\n",
       "      <td>89685</td>\n",
       "      <td>0</td>\n",
       "      <td>23</td>\n",
       "      <td>K1965</td>\n",
       "      <td>Bayern</td>\n",
       "    </tr>\n",
       "    <tr>\n",
       "      <th>889</th>\n",
       "      <td>68</td>\n",
       "      <td>95714</td>\n",
       "      <td>0</td>\n",
       "      <td>32</td>\n",
       "      <td>K1540</td>\n",
       "      <td>Bayern</td>\n",
       "    </tr>\n",
       "    <tr>\n",
       "      <th>890</th>\n",
       "      <td>49</td>\n",
       "      <td>73319</td>\n",
       "      <td>0</td>\n",
       "      <td>27</td>\n",
       "      <td>K1207</td>\n",
       "      <td>Niedersachsen</td>\n",
       "    </tr>\n",
       "  </tbody>\n",
       "</table>\n",
       "<p>891 rows × 6 columns</p>\n",
       "</div>"
      ],
      "text/plain": [
       "     Alter  Einkommen  Geschlecht  Zeit KundeNr        Niederlassung\n",
       "0       30      39919           0    29   K1814               Bayern\n",
       "1       41      53431           0    27   K1544    Baden-Württemberg\n",
       "2       64      73163           0    32   K1945    Baden-Württemberg\n",
       "3       41      36761           0    44   K1825    Baden-Württemberg\n",
       "4       35      42684           1    33   K1144  Nordrhein-Westfalen\n",
       "..     ...        ...         ...   ...     ...                  ...\n",
       "886     32      34392           1    48   K1211               Hessen\n",
       "887     41      68516           0    34   K1375              Sachsen\n",
       "888     65      89685           0    23   K1965               Bayern\n",
       "889     68      95714           0    32   K1540               Bayern\n",
       "890     49      73319           0    27   K1207        Niedersachsen\n",
       "\n",
       "[891 rows x 6 columns]"
      ]
     },
     "execution_count": 139,
     "metadata": {},
     "output_type": "execute_result"
    }
   ],
   "source": [
    "besucher_geo"
   ]
  },
  {
   "cell_type": "code",
   "execution_count": null,
   "metadata": {},
   "outputs": [],
   "source": []
  }
 ],
 "metadata": {
  "kernelspec": {
   "display_name": "Python 3 (ipykernel)",
   "language": "python",
   "name": "python3"
  },
  "language_info": {
   "codemirror_mode": {
    "name": "ipython",
    "version": 3
   },
   "file_extension": ".py",
   "mimetype": "text/x-python",
   "name": "python",
   "nbconvert_exporter": "python",
   "pygments_lexer": "ipython3",
   "version": "3.11.5"
  }
 },
 "nbformat": 4,
 "nbformat_minor": 4
}
