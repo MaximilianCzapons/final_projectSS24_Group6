{
  "metadata": {
    "kernelspec": {
      "name": "python",
      "display_name": "Python (Pyodide)",
      "language": "python"
    },
    "language_info": {
      "codemirror_mode": {
        "name": "python",
        "version": 3
      },
      "file_extension": ".py",
      "mimetype": "text/x-python",
      "name": "python",
      "nbconvert_exporter": "python",
      "pygments_lexer": "ipython3",
      "version": "3.8"
    }
  },
  "nbformat_minor": 4,
  "nbformat": 4,
  "cells": [
    {
      "cell_type": "code",
      "source": "import pandas as pd",
      "metadata": {
        "trusted": true,
        "tags": [],
        "editable": true,
        "slideshow": {
          "slide_type": ""
        }
      },
      "outputs": [],
      "execution_count": 1
    },
    {
      "cell_type": "code",
      "source": "import numpy as np",
      "metadata": {
        "trusted": true
      },
      "outputs": [],
      "execution_count": 84
    },
    {
      "cell_type": "code",
      "source": "# kunden.csv, geo.txt, besucher.csv in Jupyter Notebook hochgeladen",
      "metadata": {
        "trusted": true
      },
      "outputs": [],
      "execution_count": null
    },
    {
      "cell_type": "code",
      "source": "kunden = pd.read_csv(\"kunden.csv\", sep = \";\") # Import der Kundenliste + Separieren der Spalten",
      "metadata": {
        "trusted": true
      },
      "outputs": [],
      "execution_count": 123
    },
    {
      "cell_type": "code",
      "source": "kunden[\"Alter\"] = kunden[\"Alter\"].where(kunden[\"Alter\"] < 100) # Datenbereinigung um Falschangaben beim Alter (Annahme: Alter > 100 ist Falschangabe)",
      "metadata": {
        "trusted": true
      },
      "outputs": [],
      "execution_count": 124
    },
    {
      "cell_type": "code",
      "source": "kunden[\"Einkommen\"] = kunden[\"Einkommen\"].where(kunden[\"Einkommen\"] < 999999) # Datenbereinigung um Falschangaben beim Einkommen (Annahme 1: der Wert 1 Mrd. ist Falschangabe)",
      "metadata": {
        "trusted": true
      },
      "outputs": [],
      "execution_count": 125
    },
    {
      "cell_type": "code",
      "source": "kunden[\"Einkommen\"] = kunden[\"Einkommen\"].where(kunden[\"Einkommen\"] > 0) # Datenbereinigung um Falschangaben beim Einkommen (Annahme 2: Einkommen muss positiv sein)",
      "metadata": {
        "trusted": true
      },
      "outputs": [],
      "execution_count": 126
    },
    {
      "cell_type": "code",
      "source": "geo = pd.read_csv(\"geo.txt\", sep = \"\\t\") # Import der Geoliste + Separieren der Spalten",
      "metadata": {
        "trusted": true
      },
      "outputs": [],
      "execution_count": 127
    },
    {
      "cell_type": "code",
      "source": "geo[\"Niederlassung\"] = geo[\"Niederlassung\"].replace({\"NRW\":\"Nordrhein-Westfalen\", \"Berlin-Charlottenburg\":\"Berlin\"}) # \"NWR\" mit \"Nordrhein-Westfalen\" und \"Berlin-Charlottenburg\" mit \"Berlin\" ersetzen",
      "metadata": {
        "trusted": true,
        "tags": [],
        "editable": true,
        "slideshow": {
          "slide_type": ""
        }
      },
      "outputs": [],
      "execution_count": 128
    },
    {
      "cell_type": "code",
      "source": "besucher = pd.read_csv(\"besucher.csv\", sep = \";\") # Import der Besucherliste + Separieren der Spalten",
      "metadata": {
        "trusted": true
      },
      "outputs": [],
      "execution_count": 129
    },
    {
      "cell_type": "code",
      "source": "besucher[\"Einkommen\"] = besucher[\"Einkommen\"].str.replace(\",\",\".\")",
      "metadata": {
        "trusted": true
      },
      "outputs": [],
      "execution_count": 130
    },
    {
      "cell_type": "code",
      "source": "besucher[\"Einkommen\"] = pd.to_numeric(besucher[\"Einkommen\"])",
      "metadata": {
        "trusted": true
      },
      "outputs": [],
      "execution_count": 131
    },
    {
      "cell_type": "code",
      "source": "besucher[\"Einkommen\"] = besucher[\"Einkommen\"].round(0).astype(\"Int64\")",
      "metadata": {
        "trusted": true
      },
      "outputs": [],
      "execution_count": 132
    },
    {
      "cell_type": "code",
      "source": "besucher[\"Zeit\"] = besucher[\"Zeit\"].str.replace(\",\",\".\")",
      "metadata": {
        "trusted": true
      },
      "outputs": [],
      "execution_count": 133
    },
    {
      "cell_type": "code",
      "source": "besucher[\"Zeit\"] = pd.to_numeric(besucher[\"Zeit\"])",
      "metadata": {
        "trusted": true
      },
      "outputs": [],
      "execution_count": 134
    },
    {
      "cell_type": "code",
      "source": "besucher[\"Zeit\"] = besucher[\"Zeit\"].round(0).astype(\"Int64\")",
      "metadata": {
        "trusted": true
      },
      "outputs": [],
      "execution_count": 135
    },
    {
      "cell_type": "code",
      "source": "kunden_geo = pd.merge(kunden, geo, on = \"KundeNr\")",
      "metadata": {
        "trusted": true,
        "tags": [],
        "editable": true,
        "slideshow": {
          "slide_type": ""
        }
      },
      "outputs": [],
      "execution_count": 136
    },
    {
      "cell_type": "code",
      "source": "besucher_geo = pd.merge(besucher, geo, on = \"KundeNr\")",
      "metadata": {
        "trusted": true
      },
      "outputs": [],
      "execution_count": 137
    },
    {
      "cell_type": "code",
      "source": "besucher_geo",
      "metadata": {
        "trusted": true
      },
      "outputs": [
        {
          "execution_count": 139,
          "output_type": "execute_result",
          "data": {
            "text/plain": "     Alter  Einkommen  Geschlecht  Zeit KundeNr        Niederlassung\n0       30      39919           0    29   K1814               Bayern\n1       41      53431           0    27   K1544    Baden-Württemberg\n2       64      73163           0    32   K1945    Baden-Württemberg\n3       41      36761           0    44   K1825    Baden-Württemberg\n4       35      42684           1    33   K1144  Nordrhein-Westfalen\n..     ...        ...         ...   ...     ...                  ...\n886     32      34392           1    48   K1211               Hessen\n887     41      68516           0    34   K1375              Sachsen\n888     65      89685           0    23   K1965               Bayern\n889     68      95714           0    32   K1540               Bayern\n890     49      73319           0    27   K1207        Niedersachsen\n\n[891 rows x 6 columns]",
            "text/html": "<div>\n<style scoped>\n    .dataframe tbody tr th:only-of-type {\n        vertical-align: middle;\n    }\n\n    .dataframe tbody tr th {\n        vertical-align: top;\n    }\n\n    .dataframe thead th {\n        text-align: right;\n    }\n</style>\n<table border=\"1\" class=\"dataframe\">\n  <thead>\n    <tr style=\"text-align: right;\">\n      <th></th>\n      <th>Alter</th>\n      <th>Einkommen</th>\n      <th>Geschlecht</th>\n      <th>Zeit</th>\n      <th>KundeNr</th>\n      <th>Niederlassung</th>\n    </tr>\n  </thead>\n  <tbody>\n    <tr>\n      <th>0</th>\n      <td>30</td>\n      <td>39919</td>\n      <td>0</td>\n      <td>29</td>\n      <td>K1814</td>\n      <td>Bayern</td>\n    </tr>\n    <tr>\n      <th>1</th>\n      <td>41</td>\n      <td>53431</td>\n      <td>0</td>\n      <td>27</td>\n      <td>K1544</td>\n      <td>Baden-Württemberg</td>\n    </tr>\n    <tr>\n      <th>2</th>\n      <td>64</td>\n      <td>73163</td>\n      <td>0</td>\n      <td>32</td>\n      <td>K1945</td>\n      <td>Baden-Württemberg</td>\n    </tr>\n    <tr>\n      <th>3</th>\n      <td>41</td>\n      <td>36761</td>\n      <td>0</td>\n      <td>44</td>\n      <td>K1825</td>\n      <td>Baden-Württemberg</td>\n    </tr>\n    <tr>\n      <th>4</th>\n      <td>35</td>\n      <td>42684</td>\n      <td>1</td>\n      <td>33</td>\n      <td>K1144</td>\n      <td>Nordrhein-Westfalen</td>\n    </tr>\n    <tr>\n      <th>...</th>\n      <td>...</td>\n      <td>...</td>\n      <td>...</td>\n      <td>...</td>\n      <td>...</td>\n      <td>...</td>\n    </tr>\n    <tr>\n      <th>886</th>\n      <td>32</td>\n      <td>34392</td>\n      <td>1</td>\n      <td>48</td>\n      <td>K1211</td>\n      <td>Hessen</td>\n    </tr>\n    <tr>\n      <th>887</th>\n      <td>41</td>\n      <td>68516</td>\n      <td>0</td>\n      <td>34</td>\n      <td>K1375</td>\n      <td>Sachsen</td>\n    </tr>\n    <tr>\n      <th>888</th>\n      <td>65</td>\n      <td>89685</td>\n      <td>0</td>\n      <td>23</td>\n      <td>K1965</td>\n      <td>Bayern</td>\n    </tr>\n    <tr>\n      <th>889</th>\n      <td>68</td>\n      <td>95714</td>\n      <td>0</td>\n      <td>32</td>\n      <td>K1540</td>\n      <td>Bayern</td>\n    </tr>\n    <tr>\n      <th>890</th>\n      <td>49</td>\n      <td>73319</td>\n      <td>0</td>\n      <td>27</td>\n      <td>K1207</td>\n      <td>Niedersachsen</td>\n    </tr>\n  </tbody>\n</table>\n<p>891 rows × 6 columns</p>\n</div>"
          },
          "metadata": {}
        }
      ],
      "execution_count": 139
    },
    {
      "cell_type": "code",
      "source": "",
      "metadata": {
        "trusted": true
      },
      "outputs": [],
      "execution_count": null
    }
  ]
}