{
 "cells": [
  {
   "cell_type": "markdown",
   "id": "59dbdcb7",
   "metadata": {
    "slideshow": {
     "slide_type": "skip"
    },
    "tags": []
   },
   "source": [
    "# Bereinigung der Datensätze"
   ]
  },
  {
   "cell_type": "markdown",
   "id": "6914f38d-04c5-455d-9a44-06bb29483ed6",
   "metadata": {
    "slideshow": {
     "slide_type": "skip"
    },
    "tags": []
   },
   "source": [
    "## 1. Importieren der Pakete"
   ]
  },
  {
   "cell_type": "code",
   "execution_count": null,
   "id": "611b4ad8-8f0d-42ca-8be6-2314d95e6e6f",
   "metadata": {
    "slideshow": {
     "slide_type": "skip"
    },
    "tags": []
   },
   "outputs": [],
   "source": [
    "import pandas as pd\n",
    "import matplotlib.pyplot as plt\n",
    "import numpy as np\n",
    "from scipy import stats\n",
    "import statsmodels.api as sm\n",
    "from sklearn.preprocessing import StandardScaler\n",
    "import statsmodels.formula.api as smf \n",
    "import seaborn as sns\n"
   ]
  },
  {
   "cell_type": "markdown",
   "id": "20b5f2d9",
   "metadata": {
    "slideshow": {
     "slide_type": "skip"
    },
    "tags": []
   },
   "source": [
    "## 2. Kundendaten"
   ]
  },
  {
   "cell_type": "markdown",
   "id": "0eac4c81-703d-4aff-a26d-7372a53f7a21",
   "metadata": {
    "slideshow": {
     "slide_type": "skip"
    },
    "tags": []
   },
   "source": [
    "### 2.1 Kundendatei einlesen"
   ]
  },
  {
   "cell_type": "code",
   "execution_count": null,
   "id": "fad08255",
   "metadata": {
    "slideshow": {
     "slide_type": "skip"
    },
    "tags": []
   },
   "outputs": [],
   "source": [
    "kunden = pd.read_csv(\"kunden.csv\", decimal = '.', sep = \";\")\n",
    "kunden.head()"
   ]
  },
  {
   "cell_type": "markdown",
   "id": "d5022e9a-b102-4ea9-ae5c-0f5ea84f4577",
   "metadata": {
    "slideshow": {
     "slide_type": "skip"
    },
    "tags": []
   },
   "source": [
    "### 2.2 Überblick über Datentypen"
   ]
  },
  {
   "cell_type": "code",
   "execution_count": null,
   "id": "1f0a053f",
   "metadata": {
    "slideshow": {
     "slide_type": "skip"
    },
    "tags": []
   },
   "outputs": [],
   "source": [
    "kunden.dtypes"
   ]
  },
  {
   "cell_type": "markdown",
   "id": "21b4b255-768d-4e12-9ac0-fac3cc16fe16",
   "metadata": {
    "slideshow": {
     "slide_type": "skip"
    },
    "tags": []
   },
   "source": [
    "### 2.3. Bereinigung"
   ]
  },
  {
   "cell_type": "markdown",
   "id": "dfc76067",
   "metadata": {
    "slideshow": {
     "slide_type": "skip"
    },
    "tags": []
   },
   "source": [
    "### 2.3.1 Fehlende Datenpunkte ermitteln und ersetzen"
   ]
  },
  {
   "cell_type": "code",
   "execution_count": null,
   "id": "0a459b24",
   "metadata": {
    "slideshow": {
     "slide_type": "skip"
    },
    "tags": []
   },
   "outputs": [],
   "source": [
    "kunden.isnull().sum()"
   ]
  },
  {
   "cell_type": "code",
   "execution_count": null,
   "id": "8e5bfd33",
   "metadata": {
    "slideshow": {
     "slide_type": "skip"
    },
    "tags": []
   },
   "outputs": [],
   "source": [
    "# Finden des Modalwertes:"
   ]
  },
  {
   "cell_type": "code",
   "execution_count": null,
   "id": "eb4d8d0c",
   "metadata": {
    "slideshow": {
     "slide_type": "skip"
    },
    "tags": []
   },
   "outputs": [],
   "source": [
    "modalwert_kunden = kunden['Geschlecht'].mode()[0]"
   ]
  },
  {
   "cell_type": "code",
   "execution_count": null,
   "id": "281480c0",
   "metadata": {
    "slideshow": {
     "slide_type": "skip"
    },
    "tags": []
   },
   "outputs": [],
   "source": [
    "modalwert_kunden"
   ]
  },
  {
   "cell_type": "code",
   "execution_count": null,
   "id": "c6bf589f",
   "metadata": {
    "slideshow": {
     "slide_type": "skip"
    },
    "tags": []
   },
   "outputs": [],
   "source": [
    "# Ersetzen der 5 fehlenden Geschlechtseinträge mit dem Modalwert 1.0"
   ]
  },
  {
   "cell_type": "code",
   "execution_count": null,
   "id": "d2af5f2d",
   "metadata": {
    "slideshow": {
     "slide_type": "skip"
    },
    "tags": []
   },
   "outputs": [],
   "source": [
    "kunden.fillna(value = modalwert_kunden, axis = 0, inplace = True)"
   ]
  },
  {
   "cell_type": "code",
   "execution_count": null,
   "id": "08ccd3d1",
   "metadata": {
    "slideshow": {
     "slide_type": "skip"
    },
    "tags": []
   },
   "outputs": [],
   "source": [
    "# Überprüfung\n",
    "kunden.isnull().sum()"
   ]
  },
  {
   "cell_type": "markdown",
   "id": "e4febb36-807b-4f50-bd57-b643bb53b7d1",
   "metadata": {
    "slideshow": {
     "slide_type": "skip"
    },
    "tags": []
   },
   "source": [
    "### 2.3.2 Ausreißer ermitteln und entfernen"
   ]
  },
  {
   "cell_type": "code",
   "execution_count": null,
   "id": "fd6815eb-a49b-4ddd-b6c6-a302ba14f04f",
   "metadata": {
    "slideshow": {
     "slide_type": "skip"
    },
    "tags": []
   },
   "outputs": [],
   "source": [
    "# Außreißer ermitteln\n",
    "kunden.describe().T"
   ]
  },
  {
   "cell_type": "markdown",
   "id": "ad1750cc-c3b7-4508-96b3-3019e9b3d607",
   "metadata": {
    "slideshow": {
     "slide_type": "skip"
    },
    "tags": []
   },
   "source": [
    "### 2.3.2.1 Alter "
   ]
  },
  {
   "cell_type": "code",
   "execution_count": null,
   "id": "c6a280a6",
   "metadata": {
    "slideshow": {
     "slide_type": "skip"
    },
    "tags": []
   },
   "outputs": [],
   "source": [
    "boxplot_alter = kunden.boxplot(column = 'Alter')\n",
    "plt.show()"
   ]
  },
  {
   "cell_type": "code",
   "execution_count": null,
   "id": "849f2d87-21fa-4f0a-a2c4-fd3b7dca90de",
   "metadata": {
    "slideshow": {
     "slide_type": "skip"
    },
    "tags": []
   },
   "outputs": [],
   "source": [
    "# zwei Ausreißer zu erkennen"
   ]
  },
  {
   "cell_type": "code",
   "execution_count": null,
   "id": "81eb8902-104b-4ac0-a4a3-3313711eb073",
   "metadata": {
    "slideshow": {
     "slide_type": "skip"
    },
    "tags": []
   },
   "outputs": [],
   "source": [
    "# Berechnung von Q1, Q3 und IQR\n",
    "Q1_Alter = kunden['Alter'].quantile(0.25)\n",
    "Q3_Alter = kunden['Alter'].quantile(0.75)\n",
    "IQR_Alter = Q3_Alter - Q1_Alter\n",
    "# Berechnung der Ausreißer-Grenzen\n",
    "untere_grenze_Alter = Q1_Alter - 1.5 * IQR_Alter\n",
    "obere_grenze_Alter = Q3_Alter + 1.5 * IQR_Alter\n",
    "kunden['Ausreißer'] = (kunden['Alter'] < untere_grenze_Alter) | (kunden['Alter'] > obere_grenze_Alter)\n",
    "ausreißer_alter = kunden.Ausreißer.value_counts()\n",
    "ausreißer_alter"
   ]
  },
  {
   "cell_type": "code",
   "execution_count": null,
   "id": "0df22729-c6e0-490c-bf09-04a119fd87ed",
   "metadata": {
    "slideshow": {
     "slide_type": "skip"
    },
    "tags": []
   },
   "outputs": [],
   "source": [
    "# Ermitteln der genauen Werte der Ausreißer"
   ]
  },
  {
   "cell_type": "code",
   "execution_count": null,
   "id": "9b3acc1f-9773-4b15-9e2b-8ba478c0108c",
   "metadata": {
    "slideshow": {
     "slide_type": "skip"
    },
    "tags": []
   },
   "outputs": [],
   "source": [
    "kunden.loc[kunden['Ausreißer'] == True]"
   ]
  },
  {
   "cell_type": "code",
   "execution_count": null,
   "id": "c7fccb9c-604a-493b-a158-05cbb6fa9b21",
   "metadata": {
    "slideshow": {
     "slide_type": "skip"
    },
    "tags": []
   },
   "outputs": [],
   "source": [
    "# Personen im Alter von 100 und 120 Jahren werden kein Auto mehr kaufen"
   ]
  },
  {
   "cell_type": "code",
   "execution_count": null,
   "id": "8c56494b-9d00-43dd-a4a6-016fc3a1b581",
   "metadata": {
    "slideshow": {
     "slide_type": "skip"
    },
    "tags": []
   },
   "outputs": [],
   "source": [
    "# Ersetzen der Ausreißer in der Alters-Spalte durch Medianwert\n",
    "alter_median = kunden['Alter'].median()\n",
    "kunden.replace([120, 100], alter_median, inplace=True)"
   ]
  },
  {
   "cell_type": "code",
   "execution_count": null,
   "id": "847ba99c-589e-4419-bd7d-a775c36fdbb0",
   "metadata": {
    "slideshow": {
     "slide_type": "skip"
    },
    "tags": []
   },
   "outputs": [],
   "source": [
    "# Überprüfen ob noch Ausreißer vorhanden sind\n",
    "kunden['Ausreißer'] = (kunden['Alter'] < untere_grenze_Alter) | (kunden['Alter'] > obere_grenze_Alter)\n",
    "ausreißer_alter = kunden.Ausreißer.value_counts()\n",
    "ausreißer_alter"
   ]
  },
  {
   "cell_type": "code",
   "execution_count": null,
   "id": "8a2eb429-37fa-4b82-953d-004dc34ccb0d",
   "metadata": {
    "slideshow": {
     "slide_type": "skip"
    },
    "tags": []
   },
   "outputs": [],
   "source": [
    "# keine Ausreißer mehr vorhanden"
   ]
  },
  {
   "cell_type": "markdown",
   "id": "f6ed8f33-4fdc-4fae-acd0-85c09cf88baf",
   "metadata": {
    "slideshow": {
     "slide_type": "skip"
    },
    "tags": []
   },
   "source": [
    "## 2.3.2.2 Einkommen "
   ]
  },
  {
   "cell_type": "code",
   "execution_count": null,
   "id": "0cfec3d4",
   "metadata": {
    "slideshow": {
     "slide_type": "skip"
    },
    "tags": []
   },
   "outputs": [],
   "source": [
    "boxplot_einkommen = kunden.boxplot(column = 'Einkommen')\n",
    "plt.show()"
   ]
  },
  {
   "cell_type": "code",
   "execution_count": null,
   "id": "0e47b07c-b6d2-4fb7-8cbd-d445bddf10ec",
   "metadata": {
    "slideshow": {
     "slide_type": "skip"
    },
    "tags": []
   },
   "outputs": [],
   "source": [
    "# 4 Ausreißer (aufgrund der Skalierung schwer zu erkennen)"
   ]
  },
  {
   "cell_type": "code",
   "execution_count": null,
   "id": "44411014-f36c-449e-8a87-ecc56796cf43",
   "metadata": {
    "slideshow": {
     "slide_type": "skip"
    },
    "tags": []
   },
   "outputs": [],
   "source": [
    "# Berechnung von Q1, Q3 und IQR der Einkommens-Spalte\n",
    "Q1_einkommen = kunden['Einkommen'].quantile(0.25)\n",
    "Q3_einkommen = kunden['Einkommen'].quantile(0.75)\n",
    "IQR_einkommen = Q3_einkommen - Q1_einkommen\n",
    "IQR_einkommen\n",
    "untere_grenze_einkommen = Q1_einkommen - 1.5 * IQR_einkommen\n",
    "obere_grenze_einkommen = Q3_einkommen + 1.5 * IQR_einkommen\n",
    "kunden['Ausreißer'] = (kunden['Einkommen'] < untere_grenze_einkommen) | (kunden['Einkommen'] > obere_grenze_einkommen)\n",
    "ausreißer_einkommen = kunden.Ausreißer.value_counts()\n",
    "ausreißer_einkommen"
   ]
  },
  {
   "cell_type": "code",
   "execution_count": null,
   "id": "fd5cbd2c-a93b-4a93-82e1-f014bdc99d82",
   "metadata": {
    "slideshow": {
     "slide_type": "skip"
    },
    "tags": []
   },
   "outputs": [],
   "source": [
    "# Ermitteln der genauen Werte der 4 Ausreißer\n",
    "kunden.loc[kunden['Ausreißer'] == True]"
   ]
  },
  {
   "cell_type": "code",
   "execution_count": null,
   "id": "1ed00e1b-cdd4-4330-95d8-0735de9a6369",
   "metadata": {
    "slideshow": {
     "slide_type": "skip"
    },
    "tags": []
   },
   "outputs": [],
   "source": [
    "# Ersetzen der Ausreißer in der Einkommens-Spalte durch Medianwert\n",
    "einkommen_median = kunden['Einkommen'].median()\n",
    "kunden.replace({'Einkommen': [1.000000e+09, 1.076890e+05, 0.000000e+00, -62840.374523]}, einkommen_median, inplace=True)"
   ]
  },
  {
   "cell_type": "code",
   "execution_count": null,
   "id": "d50a1586-2c17-45d9-b780-8be7fa7081ee",
   "metadata": {
    "slideshow": {
     "slide_type": "skip"
    },
    "tags": []
   },
   "outputs": [],
   "source": [
    "# Überprüfen ob noch Ausreißer vorhanden sind\n",
    "kunden['Ausreißer'] = (kunden['Einkommen'] < untere_grenze_einkommen) | (kunden['Einkommen'] > obere_grenze_einkommen)\n",
    "ausreißer_einkommen = kunden.Ausreißer.value_counts()\n",
    "ausreißer_einkommen"
   ]
  },
  {
   "cell_type": "code",
   "execution_count": null,
   "id": "4da5fe78-4a32-4387-8a29-4c9d3b8144d9",
   "metadata": {
    "slideshow": {
     "slide_type": "skip"
    },
    "tags": []
   },
   "outputs": [],
   "source": [
    "# keine Ausreißer mehr vorhanden"
   ]
  },
  {
   "cell_type": "markdown",
   "id": "9894d36d-9c58-4ec2-89a3-aa82dbda8c5d",
   "metadata": {
    "slideshow": {
     "slide_type": "skip"
    },
    "tags": []
   },
   "source": [
    "### 2.3.2.3 Preis"
   ]
  },
  {
   "cell_type": "code",
   "execution_count": null,
   "id": "b6b5af6c",
   "metadata": {
    "slideshow": {
     "slide_type": "skip"
    },
    "tags": []
   },
   "outputs": [],
   "source": [
    "boxplot_preis = kunden.boxplot(column = 'Preis')\n",
    "plt.show()"
   ]
  },
  {
   "cell_type": "code",
   "execution_count": null,
   "id": "200399fa-2f9d-4913-84b9-da295cf3e215",
   "metadata": {
    "slideshow": {
     "slide_type": "skip"
    },
    "tags": []
   },
   "outputs": [],
   "source": [
    "# ein Ausreißer zu erkennen"
   ]
  },
  {
   "cell_type": "code",
   "execution_count": null,
   "id": "3364ad26-e096-464b-8568-5a7f30087a86",
   "metadata": {
    "slideshow": {
     "slide_type": "skip"
    },
    "tags": []
   },
   "outputs": [],
   "source": [
    "Q1_preis = kunden['Preis'].quantile(0.25)\n",
    "Q3_preis = kunden['Preis'].quantile(0.75)\n",
    "IQR_preis = Q3_preis - Q1_preis\n",
    "IQR_preis\n",
    "untere_grenze_preis = Q1_preis - 1.5 * IQR_preis\n",
    "obere_grenze_preis = Q3_preis + 1.5 * IQR_preis\n",
    "kunden['Ausreißer'] = (kunden['Preis'] < untere_grenze_preis) | (kunden['Preis'] > obere_grenze_preis)\n",
    "ausreißer_preis = kunden.Ausreißer.value_counts()\n",
    "ausreißer_preis"
   ]
  },
  {
   "cell_type": "code",
   "execution_count": null,
   "id": "c1b8f91f-954a-4c43-837d-53ed898ccb35",
   "metadata": {
    "slideshow": {
     "slide_type": "skip"
    },
    "tags": []
   },
   "outputs": [],
   "source": [
    "# Ermitteln der genauen Werte der Ausreißer\n",
    "kunden.loc[kunden['Ausreißer'] == True]"
   ]
  },
  {
   "cell_type": "code",
   "execution_count": null,
   "id": "1ae4b8c2-5fea-4cbe-aa0c-76bd554c13f1",
   "metadata": {
    "slideshow": {
     "slide_type": ""
    },
    "tags": []
   },
   "outputs": [],
   "source": [
    "# bei einem Einkommen von 59.013 ist es überraschend sich ein Auto im Preis von 165.482,31 zu kaufen, aber möglich, daher wird der Wert behalten\n"
   ]
  },
  {
   "cell_type": "markdown",
   "id": "9811adce",
   "metadata": {
    "slideshow": {
     "slide_type": "skip"
    },
    "tags": []
   },
   "source": [
    "### 2.3.2.4 Zeit"
   ]
  },
  {
   "cell_type": "code",
   "execution_count": null,
   "id": "1b839bcc-3072-4950-9d2f-49d271671c40",
   "metadata": {
    "slideshow": {
     "slide_type": "skip"
    },
    "tags": []
   },
   "outputs": [],
   "source": [
    "boxplot_preis = kunden.boxplot(column = 'Zeit')\n",
    "plt.show()"
   ]
  },
  {
   "cell_type": "code",
   "execution_count": null,
   "id": "fecd704e-a27e-44d0-83cf-0a8a32ff1aab",
   "metadata": {
    "slideshow": {
     "slide_type": "skip"
    },
    "tags": []
   },
   "outputs": [],
   "source": [
    "# mehrere Ausreißer zu erkennen"
   ]
  },
  {
   "cell_type": "code",
   "execution_count": null,
   "id": "18f08f32",
   "metadata": {
    "slideshow": {
     "slide_type": "skip"
    },
    "tags": []
   },
   "outputs": [],
   "source": [
    "# Berechnung von Q1, Q3 und IQR der Zeit-Spalte\n",
    "Q1_zeit = kunden['Zeit'].quantile(0.25)\n",
    "Q3_zeit = kunden['Zeit'].quantile(0.75)\n",
    "IQR_zeit = Q3_zeit - Q1_zeit\n",
    "IQR_zeit\n",
    "untere_grenze_zeit = Q1_zeit - 1.5 * IQR_zeit\n",
    "obere_grenze_zeit = Q3_zeit + 1.5 * IQR_zeit\n",
    "kunden['Ausreißer'] = (kunden['Zeit'] < untere_grenze_zeit) | (kunden['Zeit'] > obere_grenze_zeit)\n",
    "ausreißer_zeit = kunden.Ausreißer.value_counts()\n",
    "ausreißer_zeit"
   ]
  },
  {
   "cell_type": "code",
   "execution_count": null,
   "id": "2e63e8d9",
   "metadata": {
    "slideshow": {
     "slide_type": "skip"
    },
    "tags": []
   },
   "outputs": [],
   "source": [
    "# Ermittlung der genauen Werte der Ausreißer\n",
    "kunden.loc[kunden['Ausreißer'] == True]"
   ]
  },
  {
   "cell_type": "code",
   "execution_count": null,
   "id": "30c658a9-67f0-4ef4-b6d6-1be025559ab0",
   "metadata": {
    "slideshow": {
     "slide_type": "skip"
    },
    "tags": []
   },
   "outputs": [],
   "source": [
    "# Die Zeiten sind möglich, z.B. 12 Minuten weil keine Probefahrt gemacht wurde oder 80 Minuten weil eine lange gemacht wurde, Werte bleiben erhalten"
   ]
  },
  {
   "cell_type": "code",
   "execution_count": null,
   "id": "ba356621-0127-4ec9-b073-11219a996223",
   "metadata": {
    "slideshow": {
     "slide_type": "skip"
    },
    "tags": []
   },
   "outputs": [],
   "source": [
    "kunden"
   ]
  },
  {
   "cell_type": "code",
   "execution_count": null,
   "id": "8c444290",
   "metadata": {
    "slideshow": {
     "slide_type": "skip"
    },
    "tags": []
   },
   "outputs": [],
   "source": [
    "# Boolean-Spalte wieder entfernen\n",
    "kunden = kunden.drop(kunden.columns[-1], axis=1)\n",
    "kunden"
   ]
  },
  {
   "cell_type": "markdown",
   "id": "8e25bed9-a53d-4bdc-97b9-07a576355e97",
   "metadata": {
    "slideshow": {
     "slide_type": "skip"
    },
    "tags": []
   },
   "source": [
    "## 3. Besucherdaten"
   ]
  },
  {
   "cell_type": "markdown",
   "id": "8d2f50a4-b8d0-4b6e-8994-76abdfdc4253",
   "metadata": {
    "slideshow": {
     "slide_type": "skip"
    },
    "tags": []
   },
   "source": [
    "### 3.1 Besucherdatei einlesen"
   ]
  },
  {
   "cell_type": "code",
   "execution_count": null,
   "id": "09fd1f7c-1849-44b9-bc35-4fcfc760f3fe",
   "metadata": {
    "slideshow": {
     "slide_type": "skip"
    },
    "tags": []
   },
   "outputs": [],
   "source": [
    "besucher = pd.read_csv(\"besucher.csv\", decimal = '.', sep = \";\")\n",
    "besucher.head()"
   ]
  },
  {
   "cell_type": "markdown",
   "id": "952b4a01-a628-4ff6-bdb9-1de8fb234ca9",
   "metadata": {
    "slideshow": {
     "slide_type": "skip"
    },
    "tags": []
   },
   "source": [
    "### 3.2 Überblick über Datentypen"
   ]
  },
  {
   "cell_type": "code",
   "execution_count": null,
   "id": "9f45ee44-4546-49a5-8d16-01ba6e724738",
   "metadata": {
    "slideshow": {
     "slide_type": "skip"
    },
    "tags": []
   },
   "outputs": [],
   "source": [
    "besucher.dtypes"
   ]
  },
  {
   "cell_type": "code",
   "execution_count": null,
   "id": "151e9427-7596-4386-b3d8-cc9e64e043f6",
   "metadata": {
    "slideshow": {
     "slide_type": "skip"
    },
    "tags": []
   },
   "outputs": [],
   "source": [
    "# zum Vergleich: Kunden\n",
    "kunden.dtypes"
   ]
  },
  {
   "cell_type": "code",
   "execution_count": null,
   "id": "f8bcdd25-690d-423b-accc-f2d718a3546e",
   "metadata": {
    "slideshow": {
     "slide_type": "skip"
    },
    "tags": []
   },
   "outputs": [],
   "source": [
    "# Alter = int, Einkommen = float (ändern bei besucher), Preis = float, Geschlecht = int (ändern bei kunden), Zeit = float (ändern bei besucher), KundeNr = object"
   ]
  },
  {
   "cell_type": "markdown",
   "id": "175b6b36-c3f8-4c85-a428-851a35d57c10",
   "metadata": {
    "slideshow": {
     "slide_type": "skip"
    },
    "tags": []
   },
   "source": [
    "### 3.3. Bereinigung"
   ]
  },
  {
   "cell_type": "code",
   "execution_count": null,
   "id": "03535ce2-f6bd-4636-be9e-3a5a74b9c24b",
   "metadata": {
    "slideshow": {
     "slide_type": "skip"
    },
    "tags": []
   },
   "outputs": [],
   "source": [
    "# vermutlich ist die Kommaschreibweise aus dem deutschen, während wir die Werte in der englischen Schreibweise mit einem Punkt, statt Komma benötigen"
   ]
  },
  {
   "cell_type": "markdown",
   "id": "57d54a97-146f-44dc-9a1e-ccf0ec25ca63",
   "metadata": {
    "slideshow": {
     "slide_type": "skip"
    },
    "tags": []
   },
   "source": [
    "### 3.3.1 Bereinigung der Nachkommastellen und Umwandlung der dtypes"
   ]
  },
  {
   "cell_type": "markdown",
   "id": "dfc4734e-3852-4438-be97-a513dac153bf",
   "metadata": {
    "slideshow": {
     "slide_type": "skip"
    },
    "tags": []
   },
   "source": [
    "### 3.3.1.1 Einkommen"
   ]
  },
  {
   "cell_type": "code",
   "execution_count": null,
   "id": "9c198db0-8c5e-4407-9fbb-7c03abcb7fc4",
   "metadata": {
    "slideshow": {
     "slide_type": "skip"
    },
    "tags": []
   },
   "outputs": [],
   "source": [
    "besucher[\"Einkommen\"] = besucher[\"Einkommen\"].str.replace(\",\",\".\")\n",
    "besucher[\"Einkommen\"] = pd.to_numeric(besucher[\"Einkommen\"]) \n",
    "besucher[\"Einkommen\"] = besucher[\"Einkommen\"].round(0).astype(\"float64\")\n",
    "besucher"
   ]
  },
  {
   "cell_type": "markdown",
   "id": "23574315-6cf8-49e4-861e-e5addac7028a",
   "metadata": {
    "slideshow": {
     "slide_type": "skip"
    },
    "tags": []
   },
   "source": [
    "### 3.3.1.2 Zeit"
   ]
  },
  {
   "cell_type": "code",
   "execution_count": null,
   "id": "68414472-6a88-4178-bf20-281e3a55ff41",
   "metadata": {
    "slideshow": {
     "slide_type": "skip"
    },
    "tags": []
   },
   "outputs": [],
   "source": [
    "besucher[\"Zeit\"] = besucher[\"Zeit\"].str.replace(\",\",\".\")\n",
    "besucher[\"Zeit\"] = pd.to_numeric(besucher[\"Zeit\"])\n",
    "besucher[\"Zeit\"] = besucher[\"Zeit\"].round(0).astype(\"float64\")\n",
    "besucher"
   ]
  },
  {
   "cell_type": "markdown",
   "id": "456e30e7",
   "metadata": {
    "slideshow": {
     "slide_type": "skip"
    },
    "tags": []
   },
   "source": [
    "### 3.3.1.3 Umwandlung von Geschlecht von float in integer\n"
   ]
  },
  {
   "cell_type": "code",
   "execution_count": null,
   "id": "f5bdbdbd",
   "metadata": {
    "slideshow": {
     "slide_type": "skip"
    },
    "tags": []
   },
   "outputs": [],
   "source": [
    "kunden[\"Geschlecht\"] = kunden[\"Geschlecht\"].astype(\"int64\")\n",
    "kunden"
   ]
  },
  {
   "cell_type": "code",
   "execution_count": null,
   "id": "7f8d47fc-79e4-41ff-8f5e-6b95d062916a",
   "metadata": {
    "slideshow": {
     "slide_type": "skip"
    },
    "tags": []
   },
   "outputs": [],
   "source": [
    "# Überprüfen der dtypes\n",
    "besucher.dtypes, kunden.dtypes"
   ]
  },
  {
   "cell_type": "markdown",
   "id": "ecec2ca9-bbe4-47ec-8ff7-6e578fbcb81b",
   "metadata": {
    "slideshow": {
     "slide_type": "skip"
    },
    "tags": []
   },
   "source": [
    "### 3.3.2 Fehlende Datenpunkte ermitteln und ersetzen"
   ]
  },
  {
   "cell_type": "code",
   "execution_count": null,
   "id": "055acef9-70af-4af0-b9b3-ca8f8b3de400",
   "metadata": {
    "slideshow": {
     "slide_type": "skip"
    },
    "tags": []
   },
   "outputs": [],
   "source": [
    "besucher.isnull().sum()"
   ]
  },
  {
   "cell_type": "code",
   "execution_count": null,
   "id": "703ca297-14dd-4032-a52a-83edcf48fd4c",
   "metadata": {
    "slideshow": {
     "slide_type": "skip"
    },
    "tags": []
   },
   "outputs": [],
   "source": [
    "# keine fehlenden Datenpunkte im Datensatz"
   ]
  },
  {
   "cell_type": "markdown",
   "id": "720720bd-f6a7-4daf-be97-aba4c1e9fb97",
   "metadata": {
    "slideshow": {
     "slide_type": "skip"
    },
    "tags": []
   },
   "source": [
    "### 3.3.3 Ausreißer ermitteln und entfernen"
   ]
  },
  {
   "cell_type": "code",
   "execution_count": null,
   "id": "c406389b-29f5-49f1-8abc-6a00120023aa",
   "metadata": {
    "slideshow": {
     "slide_type": "skip"
    },
    "tags": []
   },
   "outputs": [],
   "source": [
    "# Außreißer ermitteln\n",
    "kunden.describe().T"
   ]
  },
  {
   "cell_type": "markdown",
   "id": "ef8fa4df-4149-4a8e-876b-78e18545f630",
   "metadata": {
    "slideshow": {
     "slide_type": "skip"
    },
    "tags": []
   },
   "source": [
    "### 3.3.3.1 Alter"
   ]
  },
  {
   "cell_type": "code",
   "execution_count": null,
   "id": "c8972a3c-3306-411d-b7d8-0877b95f2bef",
   "metadata": {
    "slideshow": {
     "slide_type": "skip"
    },
    "tags": []
   },
   "outputs": [],
   "source": [
    "boxplot_besucher_alter = besucher.boxplot(column = 'Alter')\n",
    "plt.show()"
   ]
  },
  {
   "cell_type": "code",
   "execution_count": null,
   "id": "6730eca4-d2c7-4254-956e-e69f63d5fbaa",
   "metadata": {
    "slideshow": {
     "slide_type": "skip"
    },
    "tags": []
   },
   "outputs": [],
   "source": [
    "# sowohl bei describe-Tabelle als auch beim boxplot keine Ausreißer zu erkennen"
   ]
  },
  {
   "cell_type": "markdown",
   "id": "61e27a0b-4be7-4af4-8c87-de153892f9f4",
   "metadata": {
    "slideshow": {
     "slide_type": "skip"
    },
    "tags": []
   },
   "source": [
    "### 3.3.3.2 Einkommen"
   ]
  },
  {
   "cell_type": "code",
   "execution_count": null,
   "id": "69523c19-d7c8-4f1c-8021-8695caf4eb55",
   "metadata": {
    "slideshow": {
     "slide_type": "skip"
    },
    "tags": []
   },
   "outputs": [],
   "source": [
    "boxplot_besucher_einkommen = besucher.boxplot(column = 'Einkommen')\n",
    "plt.show()"
   ]
  },
  {
   "cell_type": "code",
   "execution_count": null,
   "id": "f151db84-24a3-4550-84e8-039750251c54",
   "metadata": {
    "slideshow": {
     "slide_type": "skip"
    },
    "tags": []
   },
   "outputs": [],
   "source": [
    "# mehrere Ausreißer zu erkennen"
   ]
  },
  {
   "cell_type": "code",
   "execution_count": null,
   "id": "f63485c2-4d8d-47f8-ab35-346c7ffe6ae9",
   "metadata": {
    "slideshow": {
     "slide_type": "skip"
    },
    "tags": []
   },
   "outputs": [],
   "source": [
    "# Berechnung von Q1, Q3 und IQR der Zeit-Spalte\n",
    "Q1_einkommen_besucher = besucher['Einkommen'].quantile(0.25)\n",
    "Q3_einkommen_besucher = besucher['Einkommen'].quantile(0.75)\n",
    "IQR_einkommen_besucher = Q3_einkommen_besucher - Q1_einkommen_besucher\n",
    "untere_grenze_einkommen_besucher = Q1_einkommen_besucher - 1.5 * IQR_einkommen_besucher\n",
    "obere_grenze_einkommen_besucher = Q3_einkommen_besucher + 1.5 * IQR_einkommen_besucher\n",
    "besucher['Ausreißer'] = (besucher['Einkommen'] < untere_grenze_einkommen_besucher) | (besucher['Einkommen'] > obere_grenze_einkommen_besucher)\n",
    "ausreißer_einkommen_besucher = besucher.Ausreißer.value_counts()\n",
    "ausreißer_einkommen_besucher"
   ]
  },
  {
   "cell_type": "code",
   "execution_count": null,
   "id": "bcbbf688-41e1-441f-8639-5ec5192f1282",
   "metadata": {
    "slideshow": {
     "slide_type": "skip"
    },
    "tags": []
   },
   "outputs": [],
   "source": [
    "# Ermitteln der genauen Werte der Ausreißer\n",
    "besucher.loc[besucher['Ausreißer'] == True]"
   ]
  },
  {
   "cell_type": "code",
   "execution_count": null,
   "id": "c58942af-27b1-4263-8530-c70d0fe14583",
   "metadata": {
    "slideshow": {
     "slide_type": "skip"
    },
    "tags": []
   },
   "outputs": [],
   "source": [
    "# so niedriges und so hohes Einkommen ist möglich, daher bleiben Werte erhalten"
   ]
  },
  {
   "cell_type": "markdown",
   "id": "8f97a96b-696b-4c6e-a53c-f940f0c122e3",
   "metadata": {
    "slideshow": {
     "slide_type": "skip"
    },
    "tags": []
   },
   "source": [
    "### 3.3.3.3 Zeit"
   ]
  },
  {
   "cell_type": "code",
   "execution_count": null,
   "id": "e4e47a9a-1213-46b8-a0d3-af6036c12a63",
   "metadata": {
    "slideshow": {
     "slide_type": "skip"
    },
    "tags": []
   },
   "outputs": [],
   "source": [
    "boxplot_besucher_zeit = besucher.boxplot(column = 'Zeit')\n",
    "plt.show()"
   ]
  },
  {
   "cell_type": "code",
   "execution_count": null,
   "id": "d209cc1b-4b6d-4f67-8a45-f32c9050b6ab",
   "metadata": {
    "slideshow": {
     "slide_type": "skip"
    },
    "tags": []
   },
   "outputs": [],
   "source": [
    "# mehrere Ausreißer zu erkennen"
   ]
  },
  {
   "cell_type": "code",
   "execution_count": null,
   "id": "8a3cd720-982f-418d-8256-4e583e636db0",
   "metadata": {
    "slideshow": {
     "slide_type": "skip"
    },
    "tags": []
   },
   "outputs": [],
   "source": [
    "# Berechnung von Q1, Q3 und IQR der Zeit-Spalte\n",
    "Q1_zeit_besucher = besucher['Zeit'].quantile(0.25)\n",
    "Q3_zeit_besucher = besucher['Zeit'].quantile(0.75)\n",
    "IQR_zeit_besucher = Q3_zeit_besucher - Q1_zeit_besucher\n",
    "untere_grenze_zeit_besucher = Q1_zeit_besucher - 1.5 * IQR_zeit_besucher\n",
    "obere_grenze_zeit_besucher = Q3_zeit_besucher + 1.5 * IQR_zeit_besucher\n",
    "besucher['Ausreißer'] = (besucher['Zeit'] < untere_grenze_zeit_besucher) | (besucher['Zeit'] > obere_grenze_zeit_besucher)\n",
    "ausreißer_zeit_besucher = besucher.Ausreißer.value_counts()\n",
    "ausreißer_zeit_besucher"
   ]
  },
  {
   "cell_type": "code",
   "execution_count": null,
   "id": "b8ae8dca-eba9-4281-b887-fb06dd646dc2",
   "metadata": {
    "slideshow": {
     "slide_type": "skip"
    },
    "tags": []
   },
   "outputs": [],
   "source": [
    "# Ermittlung der genauen Werte der Ausreißer\n",
    "besucher.loc[besucher['Ausreißer'] == True]"
   ]
  },
  {
   "cell_type": "code",
   "execution_count": null,
   "id": "3f92fb50-266b-4ea0-86a2-06924d00b1ed",
   "metadata": {
    "slideshow": {
     "slide_type": "skip"
    },
    "tags": []
   },
   "outputs": [],
   "source": [
    "# so kurze und lange Zeiten sind möglich, daher bleiben Werte erhalten"
   ]
  },
  {
   "cell_type": "code",
   "execution_count": null,
   "id": "785c0288-057e-4a89-aa3c-6a2f21644466",
   "metadata": {
    "slideshow": {
     "slide_type": "skip"
    },
    "tags": []
   },
   "outputs": [],
   "source": [
    "besucher"
   ]
  },
  {
   "cell_type": "code",
   "execution_count": null,
   "id": "6313b1d5-c967-45b0-8a11-76cd690aaa00",
   "metadata": {
    "slideshow": {
     "slide_type": "skip"
    },
    "tags": []
   },
   "outputs": [],
   "source": [
    "# Boolean-Spalte wieder entfernen"
   ]
  },
  {
   "cell_type": "code",
   "execution_count": null,
   "id": "9ed7ad57-ca0b-44eb-b6f3-49a9bcb8bbe4",
   "metadata": {
    "slideshow": {
     "slide_type": "skip"
    },
    "tags": []
   },
   "outputs": [],
   "source": [
    "besucher = besucher.drop(besucher.columns[-1], axis=1)\n",
    "besucher"
   ]
  },
  {
   "cell_type": "markdown",
   "id": "e567d3ce",
   "metadata": {
    "slideshow": {
     "slide_type": "skip"
    },
    "tags": []
   },
   "source": [
    "# 4. Geo-Daten"
   ]
  },
  {
   "cell_type": "markdown",
   "id": "b9f50960-5e3a-498f-8dc9-0959b4c32e6f",
   "metadata": {
    "slideshow": {
     "slide_type": "skip"
    },
    "tags": []
   },
   "source": [
    "### 4.1. Geodatei einlesen"
   ]
  },
  {
   "cell_type": "code",
   "execution_count": null,
   "id": "c4136bca-9c51-4b6f-a76e-6062d74b898c",
   "metadata": {
    "slideshow": {
     "slide_type": "skip"
    },
    "tags": []
   },
   "outputs": [],
   "source": [
    "geo = pd.read_csv(\"geo.txt\", sep = \"\\t\")\n",
    "geo.head()"
   ]
  },
  {
   "cell_type": "markdown",
   "id": "eac214be-89cb-44df-a00f-fbf4044d3c77",
   "metadata": {
    "slideshow": {
     "slide_type": "skip"
    },
    "tags": []
   },
   "source": [
    "## 4.2 Überblick über Datentypen"
   ]
  },
  {
   "cell_type": "code",
   "execution_count": null,
   "id": "1da63f41-b8ca-49db-98ef-44b0ed5b715b",
   "metadata": {
    "slideshow": {
     "slide_type": "skip"
    },
    "tags": []
   },
   "outputs": [],
   "source": [
    "geo.dtypes"
   ]
  },
  {
   "cell_type": "code",
   "execution_count": null,
   "id": "0ebe1254-c964-45fc-b56c-dce433c47d42",
   "metadata": {
    "slideshow": {
     "slide_type": "skip"
    },
    "tags": []
   },
   "outputs": [],
   "source": [
    "# bei kunden und besucher ist der dypte der KundeNr auch object, daher keine Änderung benötigt"
   ]
  },
  {
   "cell_type": "markdown",
   "id": "b2509aeb-1297-4b33-b08e-da5826ae832d",
   "metadata": {
    "slideshow": {
     "slide_type": "skip"
    },
    "tags": []
   },
   "source": [
    "### 4.3 Bereinigung"
   ]
  },
  {
   "cell_type": "markdown",
   "id": "cda090aa-6d08-48ab-bd1d-29bcabbcf8ed",
   "metadata": {
    "slideshow": {
     "slide_type": "skip"
    },
    "tags": []
   },
   "source": [
    "### 4.3.1 Fehlende Datenpunkte ermitteln und ersetzen"
   ]
  },
  {
   "cell_type": "code",
   "execution_count": null,
   "id": "646b5f4b-d218-4ab1-8be5-77caa154d1a6",
   "metadata": {
    "slideshow": {
     "slide_type": "skip"
    },
    "tags": []
   },
   "outputs": [],
   "source": [
    "geo.isnull().sum()"
   ]
  },
  {
   "cell_type": "markdown",
   "id": "3edcca31-790f-4c65-9dcd-74d1a22740fb",
   "metadata": {
    "slideshow": {
     "slide_type": "skip"
    },
    "tags": []
   },
   "source": [
    "### 4.3.2 Ausreißer ermitteln und entfernen/ersetzen"
   ]
  },
  {
   "cell_type": "code",
   "execution_count": null,
   "id": "3d3d6633-7542-42ef-b347-c883c0c98100",
   "metadata": {
    "slideshow": {
     "slide_type": "skip"
    },
    "tags": []
   },
   "outputs": [],
   "source": [
    "# Übersicht aller Niederlassungen\n",
    "geo_niederlassung_uniques = geo[\"Niederlassung\"].unique()\n",
    "print(geo_niederlassung_uniques)"
   ]
  },
  {
   "cell_type": "code",
   "execution_count": null,
   "id": "4c4af355-f44b-4c59-8091-9e295aafdc8b",
   "metadata": {
    "slideshow": {
     "slide_type": "skip"
    },
    "tags": []
   },
   "outputs": [],
   "source": [
    "# Bereinigung der Datenpunkte (NRW, Düsseldorf zu Nordrhein-Westfalen), (Berlin-Charlottenburg, Berlin-Mitte, BERLIN zu Berlin)\n",
    "geo_cleaning = {\n",
    "    \"NRW\" : \"Nordrhein-Westfalen\" , \n",
    "    \"Berlin-Charlottenburg\" : \"Berlin\" ,\n",
    "    \"Berlin-Mitte\" : \"Berlin\" ,\n",
    "    \"BERLIN\" : \"Berlin\",\n",
    "    \"Düsseldorf\" : \"Nordrhein-Westfalen\"}\n",
    "\n",
    "geo[\"Niederlassung\"] = geo[\"Niederlassung\"].replace(geo_cleaning, regex = True)"
   ]
  },
  {
   "cell_type": "code",
   "execution_count": null,
   "id": "5c580644-5d8d-4562-8045-aea82c87e675",
   "metadata": {
    "slideshow": {
     "slide_type": "skip"
    },
    "tags": []
   },
   "outputs": [],
   "source": [
    "# Überprüfung\n",
    "geo_niederlassung_uniques2 = geo[\"Niederlassung\"].unique()\n",
    "print(geo_niederlassung_uniques2)"
   ]
  },
  {
   "cell_type": "markdown",
   "id": "25bbee33-b3ae-48d0-b674-972f1792cd9c",
   "metadata": {
    "slideshow": {
     "slide_type": "skip"
    },
    "tags": []
   },
   "source": [
    "## 5. Zusammenführung der Listen"
   ]
  },
  {
   "cell_type": "markdown",
   "id": "aac4a8b4-20b3-45a9-9424-6a32e248185d",
   "metadata": {
    "slideshow": {
     "slide_type": "skip"
    },
    "tags": []
   },
   "source": [
    "### 5.1 Kunden und Besucher mit Geo"
   ]
  },
  {
   "cell_type": "markdown",
   "id": "db55aecc-b7c5-423c-852c-4589a0ba1a50",
   "metadata": {
    "slideshow": {
     "slide_type": "skip"
    },
    "tags": []
   },
   "source": [
    "### 5.1.1 Kunden mit Geo "
   ]
  },
  {
   "cell_type": "code",
   "execution_count": null,
   "id": "aea65563-39a7-4710-9d12-55d504810245",
   "metadata": {
    "slideshow": {
     "slide_type": "skip"
    },
    "tags": []
   },
   "outputs": [],
   "source": [
    "kunden_geo = pd.merge(kunden,geo, on = \"KundeNr\")\n",
    "kunden_geo"
   ]
  },
  {
   "cell_type": "markdown",
   "id": "2060d258-2dd8-42f8-a064-5ffe92fe7285",
   "metadata": {
    "slideshow": {
     "slide_type": "skip"
    },
    "tags": []
   },
   "source": [
    "### 5.1.2 Besucher mit Geo"
   ]
  },
  {
   "cell_type": "code",
   "execution_count": null,
   "id": "8eb4cb71-ba36-4f98-b58b-803d5251b16f",
   "metadata": {
    "slideshow": {
     "slide_type": "skip"
    },
    "tags": []
   },
   "outputs": [],
   "source": [
    "besucher_geo = pd.merge(besucher, geo, on = \"KundeNr\")\n",
    "besucher_geo"
   ]
  },
  {
   "cell_type": "markdown",
   "id": "5d4480c1-c2be-47b8-9646-c337ff0277ca",
   "metadata": {
    "slideshow": {
     "slide_type": "skip"
    },
    "tags": []
   },
   "source": [
    "### 5.2 kunden_geo und besucher_geo zu df_final"
   ]
  },
  {
   "cell_type": "code",
   "execution_count": null,
   "id": "ce8787f9-747a-4a4d-bde7-caa9a0f718d5",
   "metadata": {
    "slideshow": {
     "slide_type": "skip"
    },
    "tags": []
   },
   "outputs": [],
   "source": [
    "df_final = pd.concat([kunden_geo, besucher_geo], axis = 0, ignore_index = True)\n",
    "df_final"
   ]
  },
  {
   "cell_type": "markdown",
   "id": "f0253604",
   "metadata": {
    "slideshow": {
     "slide_type": "skip"
    },
    "tags": []
   },
   "source": [
    "### 5.3 CSV Datei df_final"
   ]
  },
  {
   "cell_type": "code",
   "execution_count": null,
   "id": "de0a6a1c",
   "metadata": {
    "slideshow": {
     "slide_type": "skip"
    },
    "tags": []
   },
   "outputs": [],
   "source": [
    "df_final.to_csv('df_final.csv', index=False)"
   ]
  },
  {
   "cell_type": "code",
   "execution_count": null,
   "id": "57b2a703-8845-4a90-beb6-bffe1286dd87",
   "metadata": {
    "slideshow": {
     "slide_type": ""
    },
    "tags": []
   },
   "outputs": [],
   "source": [
    "<html>\n",
    "<body>\n",
    "</body>\n",
    "</html>"
   ]
  },
  {
   "cell_type": "markdown",
   "id": "d55858c6",
   "metadata": {
    "slideshow": {
     "slide_type": "slide"
    },
    "tags": []
   },
   "source": [
    "<html>\n",
    "<body>\n",
    "<font size = \"8\">Elektorauto AG</font><br>\n",
    "<i>HWR Berlin, Sommersemester 2024 </i><br>\n",
    "<i> Maximilian Czapons, Monika Nekipelova, Nicola Reitz</i><br>\n",
    "<i> 27. Juni 2024 </i>\n",
    "</body>\n",
    "</html>"
   ]
  },
  {
   "cell_type": "markdown",
   "id": "43d26dfc-3074-4f19-91bd-fe41c2ca29fe",
   "metadata": {
    "slideshow": {
     "slide_type": "slide"
    },
    "tags": []
   },
   "source": [
    "<font size = \"8\">CEO Pr&auml;sentation: Performance Analyse</font>"
   ]
  },
  {
   "cell_type": "markdown",
   "id": "1fde6ff6-7dbb-43e3-a245-433b450e2ada",
   "metadata": {
    "slideshow": {
     "slide_type": "slide"
    },
    "tags": []
   },
   "source": [
    "<html>\n",
    "<body>\n",
    "<font size = \"8\">Gliederung</font><br>\n",
    "    <ol>\n",
    "        <li> Verkaufszahlen </li>\n",
    "        <li> Umsatzzahlen </li>\n",
    "        <li> Regionale Verteilung </li>\n",
    "        <li> Kundenanalyse </li>\n",
    "        <li> Einfluss der sozio&ouml;konomischen Faktoren </li>\n",
    "    </ol>\n",
    "</body>\n",
    "</html>"
   ]
  },
  {
   "cell_type": "markdown",
   "id": "ed0cac4c-7c3a-4e0f-8973-c3148a6ab063",
   "metadata": {
    "slideshow": {
     "slide_type": "slide"
    },
    "tags": []
   },
   "source": [
    "# Verkaufszahlen"
   ]
  },
  {
   "cell_type": "markdown",
   "id": "4ffabf5f-f067-4ede-abde-b2917eaf6dc4",
   "metadata": {
    "slideshow": {
     "slide_type": "subslide"
    },
    "tags": []
   },
   "source": [
    "<html>\n",
    "<body>\n",
    "<font size = \"6\"> F1: Wie viele Autos wurden verkauft</font>\n",
    "    <h3>Trotz wenigen Monaten im Markt starke Zahlen:</h3>\n",
    "        <ul> \n",
    "            <li> 1104 verkaufte Autos </li>\n",
    "            <li> Eintritt gelungen</li>\n",
    "        </ul>\n",
    "</body>\n",
    "</html>"
   ]
  },
  {
   "cell_type": "markdown",
   "id": "e593f456-3d6f-43e6-8308-cfb9f1d4692f",
   "metadata": {
    "slideshow": {
     "slide_type": "subslide"
    },
    "tags": []
   },
   "source": [
    "<html>\n",
    "<body>\n",
    "<font size = \"6\">F2: Was ist der H&ouml;chst-, Mindest- und Durchschnittspreis?</font>\n",
    "    <br><br><br>\n",
    "<table border=\"1\" class=\"dataframe\" style=\"float: left;\">\n",
    "  <thead>\n",
    "    <tr style=\"text-align: left;\">\n",
    "      <th></th>\n",
    "      <th>Maximaler Verkaufspreis</th>\n",
    "      <th>Minimaler Verkaufspreis</th>\n",
    "      <th>Durchschnittspreis</th>\n",
    "    </tr>\n",
    "  </thead>\n",
    "  <tbody>\n",
    "    <tr>\n",
    "      <th></th>\n",
    "      <td>165.482,31 Euro</td>\n",
    "      <td>21.471,65 Euro</td>\n",
    "      <td>88.975,20 Euro</td>\n",
    "    </tr>\n",
    "  </tbody>\n",
    "</table>\n",
    "</body>\n",
    "</html>"
   ]
  },
  {
   "cell_type": "markdown",
   "id": "e6546fe7-9594-4984-9f91-f4c4e4f9b929",
   "metadata": {
    "slideshow": {
     "slide_type": "subslide"
    },
    "tags": []
   },
   "source": [
    "<html>\n",
    "<body>\n",
    "    <h3> Gro&szlig;e Spanne </h3>\n",
    "        <ul> \n",
    "            <li> Diversifizierte Produktlinie </li>\n",
    "            <li> Diverse Zusatzoptionen mit Aufpreisen </li>\n",
    "        </ul>\n",
    "\n",
    "</body>\n",
    "</html>"
   ]
  },
  {
   "cell_type": "markdown",
   "id": "21c00822-5a78-4777-8c79-c80be404e3bf",
   "metadata": {
    "slideshow": {
     "slide_type": "subslide"
    },
    "tags": []
   },
   "source": [
    "<html>\n",
    "<body>\n",
    "    <h3> Nutzen der Spanne </h3>\n",
    "        <ul> Verschiedene Kostenoptionen (mit je Zusatzoptionen)\n",
    "            <li> g&uuml;nstig </li>\n",
    "            <li> mittel</li>\n",
    "            <li> teuer</li>\n",
    "        </ul>\n",
    "        <ul> Verschiedene Modelle (mit je Zusatzoptionen)\n",
    "            <li> Kleinwagen </li>\n",
    "            <li> SUV</li>\n",
    "            <li> Sportwagen </li>\n",
    "        </ul>\n",
    "</body>\n",
    "</html>"
   ]
  },
  {
   "cell_type": "markdown",
   "id": "47fef317-7279-4104-8dd8-a5fc686c6be6",
   "metadata": {
    "slideshow": {
     "slide_type": "slide"
    },
    "tags": []
   },
   "source": [
    "# Umsatzzahlen"
   ]
  },
  {
   "cell_type": "markdown",
   "id": "980b38c9-ebde-48ee-9132-78812447647f",
   "metadata": {
    "slideshow": {
     "slide_type": "subslide"
    },
    "tags": []
   },
   "source": [
    "\n",
    "<html>\n",
    "<body>\n",
    "<font size = \"6\">F3: Wie hoch war der Gesamtumsatz?</font>\n",
    "    <h3> In den wenigen Monaten im Markt beeindruckenden Umsatz erzielt</h3>\n",
    "    <ul> \n",
    "        <li> Gesamtumsatz: 92.228.619,38 Euro</li>\n",
    "        <li> Eintritt gelungen </li>\n",
    "    </ul>\n",
    "</body>\n",
    "</html>"
   ]
  },
  {
   "cell_type": "markdown",
   "id": "3756f8f3-f9c8-4236-9e7b-1802060c2887",
   "metadata": {
    "slideshow": {
     "slide_type": "slide"
    },
    "tags": []
   },
   "source": [
    "# Regionale Aufteilung"
   ]
  },
  {
   "cell_type": "markdown",
   "id": "a6f72c4f-cc79-4f7e-a715-fddb48a52931",
   "metadata": {
    "slideshow": {
     "slide_type": "slide"
    },
    "tags": []
   },
   "source": [
    "<html>    \n",
    "<body>\n",
    "    <font size=\"6\">F4: Wie viele Autos wurden pro Bundesland verkauft?</font>\n",
    "</body>\n",
    "</html>"
   ]
  },
  {
   "cell_type": "code",
   "execution_count": null,
   "id": "e0b69c7d-f90b-46b1-a02b-be4ed0b967b3",
   "metadata": {
    "slideshow": {
     "slide_type": "skip"
    },
    "tags": []
   },
   "outputs": [],
   "source": [
    "autos_pro_bundesland = kunden_geo[\"Niederlassung\"].value_counts()\n",
    "autos_pro_bundesland\n"
   ]
  },
  {
   "cell_type": "code",
   "execution_count": null,
   "id": "359dd30a-c13f-43f6-9486-eaa5c657b6cd",
   "metadata": {
    "slideshow": {
     "slide_type": "fragment"
    },
    "tags": []
   },
   "outputs": [],
   "source": [
    "# Erstellen eines Diagramms zur Darstellung\n",
    "# Dataframe\n",
    "daten = {\"Bundesland\" : [\"Baden-Württemberg\" , \"Bayern\" , \"Nordrhein-Westfalen\" , \"Berlin\" , \"Hessen\" , \"Niedersachsen\",\n",
    "                        \"Sachsen\" , \"Thüringen\" , \"Hamburg\" , \"Brandenburg\"] , \n",
    "        \"Verkäufe\" : [205 , 188 , 175 , 126 , 96 , 96 , 89 , 49 , 43 , 37]}\n",
    "\n",
    "df_autos_pro_bundesland = pd.DataFrame(daten)\n",
    "\n",
    "verkäufe_durchschnitt = df_autos_pro_bundesland[\"Verkäufe\"].mean()\n",
    "\n",
    "# Diagramm\n",
    "plt.figure(figsize=(10, 6))\n",
    "diagramm = plt.bar(df_autos_pro_bundesland[\"Bundesland\"],df_autos_pro_bundesland[\"Verkäufe\"], color=\"lightsteelblue\")\n",
    "plt.axhline(y=verkäufe_durchschnitt, color='red', linestyle='--', linewidth=2)\n",
    "\n",
    "for bar in diagramm:\n",
    "    height = bar.get_height()\n",
    "    plt.text(bar.get_x() + bar.get_width() / 2, height, f\"{int(height)}\", ha = \"center\", va = \"center_baseline\", fontsize=10)\n",
    "    \n",
    "plt.title(\"Anzahl der verkauften Autos pro Bundesland\")\n",
    "plt.xlabel(\"Bundesland\")\n",
    "plt.ylabel(\"Anzahl der verkauften Autos\")\n",
    "plt.xticks(rotation=45, ha='right')  \n",
    "plt.tight_layout()\n",
    "plt.show()"
   ]
  },
  {
   "cell_type": "markdown",
   "id": "2558b0b0-eab0-47fa-b12a-5255965a2021",
   "metadata": {
    "slideshow": {
     "slide_type": ""
    },
    "tags": []
   },
   "source": []
  },
  {
   "cell_type": "markdown",
   "id": "eb1eb12c-6d1d-4d08-9358-a5e0c74e1f55",
   "metadata": {
    "slideshow": {
     "slide_type": "subslide"
    },
    "tags": []
   },
   "source": [
    "<body>\n",
    "<html>\n",
    "<font size = \"6\">F5: Wie hoch war der durchschnittliche Umsatz pro Bundesland?</font>\n",
    "</body>\n",
    "</html>"
   ]
  },
  {
   "cell_type": "code",
   "execution_count": null,
   "id": "df37090c-5e4e-47ee-a4c7-43e79d5d6233",
   "metadata": {
    "slideshow": {
     "slide_type": "skip"
    },
    "tags": []
   },
   "outputs": [],
   "source": [
    "umsatz_pro_bundesland = kunden_geo.groupby(\"Niederlassung\")[\"Preis\"].agg(\"mean\")\n",
    "umsatz_pro_bundesland = umsatz_pro_bundesland.round(2)\n",
    "umsatz_pro_bundesland"
   ]
  },
  {
   "cell_type": "code",
   "execution_count": null,
   "id": "2a09408b-4db1-4b92-9cdb-d109cda49c5a",
   "metadata": {
    "slideshow": {
     "slide_type": "fragment"
    },
    "tags": []
   },
   "outputs": [],
   "source": [
    "# Erstellen eines Diagramms zur Darstellung\n",
    "# Dataframe\n",
    "daten2 = {\"Bundesland\" : [\"Baden-Württemberg\" , \"Bayern\" , \"Nordrhein-Westfalen\" , \"Berlin\" , \"Hessen\" , \"Niedersachsen\",\n",
    "                        \"Sachsen\" , \"Thüringen\" , \"Hamburg\" , \"Brandenburg\"] , \n",
    "        \"Umsatz\" : [90969.56 , 89344.31 , 89584.98 , 86673.64 , 85549.50 , 85864.93 , 87963.31 , 88633.27 , 89455.08 , 90816.99]}\n",
    "\n",
    "df_umsatz_pro_bundesland = pd.DataFrame(daten2)\n",
    "\n",
    "# Diagramm\n",
    "plt.figure(figsize=(10, 6))\n",
    "diagramm2 = plt.bar(df_umsatz_pro_bundesland[\"Bundesland\"],df_umsatz_pro_bundesland[\"Umsatz\"], color=\"lightsteelblue\")\n",
    "\n",
    "for bar in diagramm2:\n",
    "    height = bar.get_height()\n",
    "    plt.text(bar.get_x() + bar.get_width() / 2, height, f\"{int(height)}\", ha = \"center\", va = \"center_baseline\", fontsize=10)\n",
    "\n",
    "plt.title(\"Umsatz pro Bundesland\")\n",
    "plt.xlabel(\"Bundesland\")\n",
    "plt.ylabel(\"Umsatz (in €)\")\n",
    "plt.xticks(rotation=45, ha='right')  \n",
    "plt.tight_layout()\n",
    "plt.show()\n"
   ]
  },
  {
   "cell_type": "markdown",
   "id": "bd377ac2-bea4-40b9-a6b5-7b772f9ee352",
   "metadata": {
    "slideshow": {
     "slide_type": "subslide"
    },
    "tags": []
   },
   "source": [
    "<html>\n",
    "<body>\n",
    "<font size = \"6\"> F6: In welchem Bundesland wurde das teuerste Auto verkauft?</font>\n",
    "    <h3>Bundesland und Preis:</h3>\n",
    "        <ul> \n",
    "            <li> teuerstes Auto: In Niedersachsen für 165.482,31 Euro  </li>\n",
    "            <li> günstigstes Auto: In Sachsen für 21.471,65 Euro </li>\n",
    "        </ul>\n",
    "</body>\n",
    "</html>"
   ]
  },
  {
   "cell_type": "markdown",
   "id": "00e8302d-25d2-4c10-a77d-854fd87224f3",
   "metadata": {
    "slideshow": {
     "slide_type": "slide"
    },
    "tags": []
   },
   "source": [
    "# Kundenanalyse"
   ]
  },
  {
   "cell_type": "markdown",
   "id": "0c123aa4-ec00-4c2f-b8fb-e7b1a6b57403",
   "metadata": {
    "slideshow": {
     "slide_type": "subslide"
    },
    "tags": []
   },
   "source": [
    "<html>\n",
    "<body>\n",
    "<font size = \"6\">F7: Haben mehr Frauen oder mehr Männer unsere Autos gekauft?</font>\n",
    "</body>\n",
    "</html>"
   ]
  },
  {
   "cell_type": "code",
   "execution_count": null,
   "id": "b4fdd350-b83b-420c-9770-fc8b012b4812",
   "metadata": {
    "slideshow": {
     "slide_type": "fragment"
    },
    "tags": []
   },
   "outputs": [],
   "source": [
    "geschlecht_vergleich = kunden_geo[\"Geschlecht\"].value_counts()\n",
    "\n",
    "labels = [\"männlich\", \"weiblich\"]\n",
    "sizes = [700,400]\n",
    "colors = [\"lightblue\",\"lightpink\"]\n",
    "plt.pie(sizes, labels = labels, colors = colors, autopct = \"%1.1f%%\", startangle = 90)\n",
    "plt.axis(\"equal\")\n",
    "plt.title(\"Verteilung der verkauften Autos nach Geschlecht\")\n",
    "plt.show()\n"
   ]
  },
  {
   "cell_type": "markdown",
   "id": "c725b277-7bd9-4f3f-9f4e-dc71d40cff15",
   "metadata": {
    "slideshow": {
     "slide_type": "subslide"
    },
    "tags": []
   },
   "source": [
    "<html>\n",
    "<body> \n",
    "<font size = \"6\">F8: Wie hoch ist das Durchschnittsalter unserer Kunden und unserer Besucher?</font>\n",
    "        <h3>Durchschnittsalter der Kunden und Besucher</h3>\n",
    "        <table border=\"1\" class=\"dataframe\" style=\"float: left;\">\n",
    "            <tr>\n",
    "                <th>Kategorie</th>\n",
    "                <th>Durchschnittsalter</th>\n",
    "            </tr>\n",
    "            <tr>\n",
    "                <td>Kunden</td>\n",
    "                <td>50,38 Jahre</td>\n",
    "            </tr>\n",
    "            <tr>\n",
    "                <td>Besucher</td>\n",
    "                <td>49,88 Jahre</td>\n",
    "            </tr>\n",
    "        </table>\n",
    "</body>\n",
    "</html>"
   ]
  },
  {
   "cell_type": "markdown",
   "id": "32f401cd-d47e-4a54-9eff-a0debf3419cc",
   "metadata": {
    "slideshow": {
     "slide_type": "subslide"
    },
    "tags": []
   },
   "source": [
    "<html>\n",
    "<body>\n",
    "<font size = \"6\">F9: Wie hoch ist das Durchschnittseinkommen unserer Kunden und unserer Besucher</font>\n",
    "    <h3>Durchschnittseinkommen der Kunden und Besucher</h3>\n",
    "        <table border=\"1\" class=\"dataframe\" style=\"float: left;\">\n",
    "            <tr>\n",
    "                <th>Kategorie</th>\n",
    "                <th>Durchschnittseinkommen</th>\n",
    "            </tr>\n",
    "            <tr>\n",
    "                <td>Kunden</td>\n",
    "                <td>58.850,91 Euro</td>\n",
    "            </tr>\n",
    "            <tr>\n",
    "                <td>Besucher</td>\n",
    "                <td>59.367,93 Euro</td>\n",
    "            </tr>\n",
    "        </table>\n",
    "</body>\n",
    "</html>"
   ]
  },
  {
   "cell_type": "markdown",
   "id": "a9637242-d8c5-4d8e-bb3f-c6f11e0644c2",
   "metadata": {
    "slideshow": {
     "slide_type": "subslide"
    },
    "tags": []
   },
   "source": [
    "<html>\n",
    "<body>\n",
    "<font size = \"6\">13. Wie viele Kunden haben keinen Bankkredit aufgenommen, um das Auto zu kaufen?</font>\n",
    "    <h3> Mögliches Risiko:</h3>\n",
    "        <ul> \n",
    "            <li> 5 Kunden haben keinen Kredit aufgenommen  </li>\n",
    "            <li> 99,55% unserer Kunden finanzieren sich ihr Auto mit einem Kredit</li>\n",
    "        </ul>\n",
    "</body>\n",
    "</html>"
   ]
  },
  {
   "cell_type": "markdown",
   "id": "36ee5bc9-24a3-49d2-a803-68db1437923e",
   "metadata": {
    "slideshow": {
     "slide_type": "slide"
    },
    "tags": []
   },
   "source": [
    "# Einfluss der sozioökonomischen Faktoren"
   ]
  },
  {
   "cell_type": "markdown",
   "id": "d2bae546-e581-4438-80f1-1f552a662ba9",
   "metadata": {
    "slideshow": {
     "slide_type": "subslide"
    },
    "tags": []
   },
   "source": [
    "<html>\n",
    "<body>\n",
    "<font size = \"6\">F14: Welche sozioökonomischen Merkmale beeinflussen den Kaufpreis? </font><br>\n",
    "    <table border=\"1\" class=\"dataframe\" style=\"float: left;\">\n",
    "        <tr>\n",
    "                <th>Faktor</th>\n",
    "                <th>Preiserhöhung pro 1 Einheit des Faktors</th>\n",
    "            </tr>\n",
    "            <tr>\n",
    "                <td>Alter</td>\n",
    "                <td>499,50 Euro</td>\n",
    "            </tr>\n",
    "            <tr>\n",
    "                <td>Einkommen</td>\n",
    "                <td>1,05 Euro</td>\n",
    "            </tr>\n",
    "            <tr>\n",
    "                <td>Geschlecht (wenn männlich)</td>\n",
    "                <td>2214,94 Euro</td>\n",
    "            </tr>\n",
    "    </table>\n",
    "</body>\n",
    "</html>"
   ]
  },
  {
   "cell_type": "markdown",
   "id": "c90b73ee-f015-4cfc-8a21-30d7e6078fb4",
   "metadata": {
    "slideshow": {
     "slide_type": "slide"
    },
    "tags": []
   },
   "source": [
    "<html>\n",
    "<body>\n",
    "<font size = \"8\"> Ende der CEO Präsentation</font>\n",
    "</body>\n",
    "</html>"
   ]
  },
  {
   "cell_type": "markdown",
   "id": "f2a4e89d-a363-48b4-bbe4-6e9ddd33bda4",
   "metadata": {
    "slideshow": {
     "slide_type": "slide"
    },
    "tags": []
   },
   "source": [
    "<html>\n",
    "<body>\n",
    "<font size = \"8\"> Präsentation für Vorgesetzte und Kollegen</font>\n",
    "</body>\n",
    "</html>"
   ]
  },
  {
   "cell_type": "markdown",
   "id": "12a39386",
   "metadata": {
    "slideshow": {
     "slide_type": "subslide"
    },
    "tags": []
   },
   "source": [
    "<font size = \"6\">10. Gibt es einen statistisch signifikanten Unterschied zwischen dem Durchschnittseinkommen der Kunden und dem der Besucher?</font>"
   ]
  },
  {
   "cell_type": "code",
   "execution_count": null,
   "id": "76c97210-58b3-436a-9907-d7edb63ed797",
   "metadata": {
    "slideshow": {
     "slide_type": "fragment"
    },
    "tags": []
   },
   "outputs": [],
   "source": [
    "# H0:μ_kunden = μ_besucher\n",
    "# H1:μ_kunden != μ_besucher\n",
    "# α = 0.05\n",
    "\n",
    "stats.ttest_ind(kunden_geo[\"Einkommen\"], besucher_geo[\"Einkommen\"], equal_var = True)\n",
    "\n",
    "\n",
    "t_stat, p_val = stats.ttest_ind(kunden_geo[\"Einkommen\"].dropna(), besucher_geo[\"Einkommen\"].dropna(), equal_var=False)\n",
    "t_stat, p_val\n",
    "\n",
    "# Teststatistik = -0.7035, p-Wert = 0.4818\n",
    "# Da p-Wert > α , kann die H0 nicht abgelehnt werden. Es liegen nicht genügende Anhaltspunkte vor, dass das Durchschnittseinkommen der Besucher und Kunden unterschiedlich ist"
   ]
  },
  {
   "cell_type": "markdown",
   "id": "c28da68e",
   "metadata": {
    "slideshow": {
     "slide_type": "slide"
    },
    "tags": []
   },
   "source": [
    "<font size = \"6\">11. Pearson-Korrelations-Koeffizient zwischen den Variablen Alter, Einkommen, Preis und Zeit</font>"
   ]
  },
  {
   "cell_type": "code",
   "execution_count": null,
   "id": "31136814",
   "metadata": {
    "slideshow": {
     "slide_type": "fragment"
    },
    "tags": []
   },
   "outputs": [],
   "source": [
    "ausgewählte_spalten = [\"Alter\", \"Einkommen\", \"Preis\", \"Zeit\"]\n",
    "korrelations_matrix = kunden_geo[ausgewählte_spalten].corr(method = 'pearson')\n",
    "\n",
    "sns.heatmap(korrelations_matrix, annot = True, cmap = \"coolwarm\", linewidth = 1)\n",
    "plt.title(\"Korrelationsmatrix\")\n",
    "plt.show()"
   ]
  },
  {
   "cell_type": "markdown",
   "id": "14d10e9f",
   "metadata": {
    "slideshow": {
     "slide_type": "slide"
    },
    "tags": []
   },
   "source": [
    "<font size = \"6\">12. ist die Variable Zeit approximativ normalverteilt? (qq-Plot)>"
   ]
  },
  {
   "cell_type": "code",
   "execution_count": null,
   "id": "b95dc825",
   "metadata": {
    "slideshow": {
     "slide_type": "fragment"
    },
    "tags": []
   },
   "outputs": [],
   "source": [
    "zeit = df_final[\"Zeit\"]\n",
    "\n",
    "# qq-Plot erstellen:\n",
    "plt.figure(figsize = (8, 6))\n",
    "stats.probplot(zeit, dist=\"norm\", plot=plt)\n",
    "plt.title('QQ-Plot der Variable \"Zeit\"')\n",
    "plt.xlabel('Theoretische Quantile')\n",
    "plt.ylabel('Beobachtete Quantile')\n",
    "plt.show()\n",
    "# da die Punkte entlang einer geraden Linie verlaufen kann davon ausgegangen werden, dass die Daten approvimativ normalverteilt sind"
   ]
  },
  {
   "cell_type": "markdown",
   "id": "c3cb4c52",
   "metadata": {
    "slideshow": {
     "slide_type": "slide"
    },
    "tags": []
   },
   "source": [
    "<font size = \"6\">13. Wie viele Kunden haben keinen Bankkredit aufgenommen, um das Auto zu kaufen? Also wie viele Kunden haben ein Jahreseinkommen, das über dem Autopreis liegt?</font>"
   ]
  },
  {
   "cell_type": "code",
   "execution_count": null,
   "id": "19a0652f",
   "metadata": {
    "slideshow": {
     "slide_type": "fragment"
    },
    "tags": []
   },
   "outputs": [],
   "source": [
    "bedingung_einkommen_größer_preis = kunden_geo[\"Einkommen\"] > kunden_geo[\"Preis\"]\n",
    "count_einkommen_größer_preis = bedingung_einkommen_größer_preis.sum()\n",
    "count_einkommen_größer_preis\n",
    "# 5 Kunden haben keinen Kredit aufnehmen müssen, um das Auto zu kaufen"
   ]
  },
  {
   "cell_type": "markdown",
   "id": "89f153b7",
   "metadata": {
    "slideshow": {
     "slide_type": "slide"
    },
    "tags": []
   },
   "source": [
    "<font size = \"6\">14. Welche sozioökonomischen Merkmale beeinflussen den Kaufpreis? Schätzen Sie eine Regression. </font>"
   ]
  },
  {
   "cell_type": "code",
   "execution_count": null,
   "id": "a8997005",
   "metadata": {
    "slideshow": {
     "slide_type": "fragment"
    },
    "tags": []
   },
   "outputs": [],
   "source": [
    "# unabhängige Variablen: Alter, Einkommen, Geschlecht\n",
    "# abhängige Variable: Preis\n",
    "\n",
    "y_kunden = kunden_geo[\"Preis\"]\n",
    "\n",
    "X_kunden = kunden_geo[['Alter', 'Einkommen', 'Geschlecht']]\n",
    "\n",
    "X_kunden = sm.add_constant(X_kunden)  # Konstante für den Intercept\n",
    "                \n",
    "model_kunden = sm.OLS(y_kunden, X_kunden).fit()\n",
    "model_kunden.summary()\n",
    "# Regression: Preis = 692.5659 +499.5016*Alter +1.0485*Einkommen + 2214.9438*Geschlecht\n",
    "# alle drei Faktoren haben einen statistischen Einfluss auf den Preis"
   ]
  },
  {
   "cell_type": "markdown",
   "id": "76e07db6",
   "metadata": {
    "slideshow": {
     "slide_type": "slide"
    },
    "tags": []
   },
   "source": [
    "<font size = \"6\"> 15. Prognose des Kaufpreises für 32-jährigen männlichen Kunden mit Einkommen von 30 000 Euro. Prognose des Kaufpreises für einen männlichen Kunden von 51 Jahren und Einkommen von 54 000 Euro.</font> "
   ]
  },
  {
   "cell_type": "code",
   "execution_count": null,
   "id": "622ec0b0",
   "metadata": {
    "slideshow": {
     "slide_type": "fragment"
    },
    "tags": []
   },
   "outputs": [],
   "source": [
    "X_predict_kunden = pd.DataFrame({\n",
    "    'Alter': [32, 51],\n",
    "    'Einkommen': [30000, 54000],\n",
    "    'Geschlecht': [1,1]\n",
    "})\n",
    "\n",
    "X_predict_kunden = sm.add_constant(X_predict_kunden, has_constant='add')\n",
    "\n",
    "prediction_kunden = model_kunden.predict(X_predict_kunden)\n",
    "\n",
    "prediction_kunden\n",
    "# Das Modell schätzt den Kaufpreis eines 32-jährigen männlichen Kundens mit Einkommen von 30 000 Euro auf 50345.86 Euro\n",
    "# Das Modell schätzt den Kaufpreis eines 51-jährigen männlichen Kundens mit Einkommen von 54 000 Euro auf 84999.83 Euro\n",
    "\n"
   ]
  },
  {
   "cell_type": "markdown",
   "id": "cd239c22",
   "metadata": {
    "slideshow": {
     "slide_type": "slide"
    },
    "tags": []
   },
   "source": [
    "<font size = \"6\"> 16. Welche Variable beeinflusst den Preis des Autos am\n",
    "meisten? Vergleichbarkeit der Regressionskoeffizienten durch logistische Regression.</font>"
   ]
  },
  {
   "cell_type": "code",
   "execution_count": null,
   "id": "d618996b",
   "metadata": {
    "slideshow": {
     "slide_type": "fragment"
    },
    "tags": []
   },
   "outputs": [],
   "source": [
    "# unabhängige Variablen: Alter, Einkommen, Geschlecht\n",
    "# abhängige Variable: Preis\n",
    "\n",
    "# Standardisierung\n",
    "X_stand = kunden_geo[['Alter', 'Einkommen', 'Geschlecht', \"Preis\"]]\n",
    "Standard = X_stand.select_dtypes(include=[np.number]).dropna().apply(stats.zscore)\n",
    "\n",
    "# Regression\n",
    "regression = 'Preis ~ Alter + Einkommen + Geschlecht' \n",
    "result = smf.ols(regression, data=Standard).fit()\n",
    "\n",
    "# Betas \n",
    "round(result.params, 6)\n",
    "\n",
    "# Den meisten Einfluss auf den Autopreis hat das Einkommen mit einem Beta von rund 0,7.\n"
   ]
  },
  {
   "cell_type": "markdown",
   "id": "74261642",
   "metadata": {
    "slideshow": {
     "slide_type": "slide"
    },
    "tags": []
   },
   "source": [
    "<font size = \"6\">17. Regression, die die Wahrscheinlichkeit des Kaufs eines Autos ermittelt</font>"
   ]
  },
  {
   "cell_type": "code",
   "execution_count": null,
   "id": "180c4e09",
   "metadata": {
    "slideshow": {
     "slide_type": "fragment"
    },
    "tags": []
   },
   "outputs": [],
   "source": [
    "# spalte einfügen, ob Kunde = 1 oder Besucher = 0\n",
    "kunden_geo['Kauf'] = 1\n",
    "besucher_geo['Kauf'] = 0\n",
    "\n",
    "# Besucher unter Kunden anfügen\n",
    "daten_alle = pd.concat([kunden_geo, besucher_geo])\n",
    "\n",
    "# Überprüfung ob Käufer = 1 und Besucher = 0\n",
    "daten_alle"
   ]
  },
  {
   "cell_type": "code",
   "execution_count": null,
   "id": "f0c12923-f96c-45ca-8b2c-d0651edb7f5e",
   "metadata": {
    "slideshow": {
     "slide_type": "fragment"
    },
    "tags": []
   },
   "outputs": [],
   "source": [
    "# Regression\n",
    "y_lg = daten_alle[\"Kauf\"]\n",
    "\n",
    "X_lg = daten_alle[['Alter', 'Einkommen', 'Geschlecht', 'Zeit']]\n",
    "\n",
    "X_lg = sm.add_constant(X_lg)\n",
    "\n",
    "model_lg = sm.Logit(y_lg, X_lg).fit()\n",
    "\n",
    "print(model_lg.summary())"
   ]
  },
  {
   "cell_type": "markdown",
   "id": "f5ebea07-0cb2-4cb9-a9ca-8e644d8028fa",
   "metadata": {
    "slideshow": {
     "slide_type": "slide"
    },
    "tags": []
   },
   "source": [
    "<font size = \"6\">18. Wie hoch ist die Wahrscheinlichkeit, dass Person x,y unser Auto kauft?</font>"
   ]
  },
  {
   "cell_type": "code",
   "execution_count": null,
   "id": "c6d07e51",
   "metadata": {
    "slideshow": {
     "slide_type": "fragment"
    },
    "tags": []
   },
   "outputs": [],
   "source": [
    "# Kundendaten\n",
    "Person_x = [1, 32, 30000, 1, 30]  # Kauf (1 = Kauf), Alter, Einkommen, Geschlecht (1 = männlich), Zeit \n",
    "Person_y = [1, 51, 54000, 1, 45] \n",
    "\n",
    "# Modell\n",
    "params = model_lg.params\n",
    "\n",
    "# Person X\n",
    "log_1 = np.dot(params, Person_x)\n",
    "wahrscheinlichkeit_person_x = 1 / (1 + np.exp(-log_1))\n",
    "\n",
    "# Person Y \n",
    "log_2 = np.dot(params, Person_y)\n",
    "wahrscheinlichkeit_person_y = 1 / (1 + np.exp(-log_2))\n",
    "\n",
    "print(wahrscheinlichkeit_person_x)\n",
    "print(wahrscheinlichkeit_person_y)"
   ]
  },
  {
   "cell_type": "markdown",
   "id": "c47f1329-0d7a-4f1c-8914-f1835c9339c6",
   "metadata": {
    "slideshow": {
     "slide_type": "slide"
    },
    "tags": []
   },
   "source": [
    "<font size = \"6\">19. Probleme bei der Zusammenführung des Datensatzes und Operationen zum Zusammenführen und Bereinigen der Daten</font>"
   ]
  },
  {
   "cell_type": "code",
   "execution_count": null,
   "id": "e3b9356c",
   "metadata": {
    "slideshow": {
     "slide_type": "fragment"
    },
    "tags": []
   },
   "outputs": [],
   "source": [
    "# 1.Umwandlung von Geschlecht in der Kunden-Datei von float in integer: kunden[\"Geschlecht\"] = kunden[\"Geschlecht\"].astype(\"int64\")\n",
    "\n",
    "# 2.Fehlende Daten in Kunden-Datei für Geschlecht:\n",
    "# Herausgefunden mit der Operation kunden.isnull().sum(): zeigt die Werte mit \"NaN\", also wo keine Angaben sind\n",
    "# Ermittlung des Modalwerts von Geschlecht: mit kunden[\"Geschlecht\"].mode()\n",
    "# Ersetzen der fehlenden Werte mit Modalwert: kunden.fillna(value = modalwert_kunden, axis = 0, inplace = True): setzt einen Wert für \"NaN\" ein, bei uns den Modalwert\n",
    "\n",
    "\n",
    "# 3.Ausreißer in Kundendatei für Alter und Einkommen:\n",
    "# Ausreißer beim Alter der Kunden identifizieren: kunden.loc[kunden['Ausreißer'] == True]: (2 Ausreißer: Personen im Alter von 100 und 120 Jahren werden kein Auto mehr kaufen)\n",
    "# boxplot und describe-Tabelle zeigen die Ausreißer an: boxplot_alter = kunden.boxplot(column = 'Alter')\n",
    "# kunden.describe().T\n",
    "# Berechnung des Interquartilsabstandes: Q1, Q3 und IQR\n",
    "# Q1_Alter = kunden['Alter'].quantile(0.25)\n",
    "# Q3_Alter = kunden['Alter'].quantile(0.75)\n",
    "# IQR_Alter = Q3_Alter - Q1_Alter\n",
    "\n",
    "# Berechnung der Ausreißer-Grenzen:\n",
    "# untere_grenze_Alter = Q1_Alter - 1.5 * IQR_Alter\n",
    "# obere_grenze_Alter = Q3_Alter + 1.5 * IQR_Alter\n",
    "# kunden['Ausreißer'] = (kunden['Alter'] < untere_grenze_Alter) | (kunden['Alter'] > obere_grenze_Alter)\n",
    "\n",
    "# Ersetzen der Ausreißer in der Alters-Spalte durch Medianwert: alter_median = kunden['Alter'].median() und # kunden.replace([120, 100], alter_median, inplace=True)\n",
    "\n",
    "# 4. Ausreißer-Werte beim Kunden-Einkommen identifiziert und mit dem Medianwert ersetzt (gleiches Prozedere wie bei Alter)\n",
    "\n",
    "# 5. Bereinigung des Besucher-Datensatzes:\n",
    "# Bereinigung der Kommaschreibweise und Umwandlung der dtypes von Einkommen, Zeit in Floats und Geschlecht in Integer\n",
    "# Beispielhaft für Einkommen:\n",
    "# besucher[\"Einkommen\"] = besucher[\"Einkommen\"].str.replace(\",\",\".\")\n",
    "# besucher[\"Einkommen\"] = pd.to_numeric(besucher[\"Einkommen\"]) \n",
    "# besucher[\"Einkommen\"] = besucher[\"Einkommen\"].round(0).astype(\"float64\")\n",
    "# keine fehlenden Datenpunkte bei Besucher-Datei. Ausreißer entsprechen plausiblen Werten, daher wurden sie erhalten.\n",
    "\n",
    "# 6.Umwandlung der geo-Datei von txt in csv: geo = pd.read_csv(\"geo.txt\", sep = \"\\t\")\n",
    "\n",
    "# 7.Geo-Daten bereinigen: \n",
    "# Überprüfung aller einmaligen Werte: geo_niederlassung_uniques = geo[\"Niederlassung\"].unique()\n",
    "\n",
    "# Ersetzen der Werte, so dass jedes \"Bundesland\" nur einen Wert hat: \n",
    "# geo_cleaning = {\n",
    "# \"NRW\" : \"Nordrhein-Westfalen\" ,\n",
    "# \"Berlin-Charlottenburg\" : \"Berlin\" ,\n",
    "# \"Berlin-Mitte\" : \"Berlin\" ,\n",
    "# \"BERLIN\" : \"Berlin\",\n",
    "# \"Düsseldorf\" : \"Nordrhein-Westfalen\"}\n",
    "\n",
    "# geo[\"Niederlassung\"] = geo[\"Niederlassung\"].replace(geo_cleaning, regex = True)\n",
    "\n",
    "# 8. Zusammenfügen der Kunden-Datei mit der Geo-Dateo: kunden_geo = pd.merge(kunden,geo, on = \"KundeNr\")\n",
    "# Zusammefügen der Besucher-Datei mit der Geo-Datei \n",
    "# Zusammenfügen der Kunden-Geo und Besucher-Geo-Datei zu einer finalen Datei: df_final = pd.concat([kunden_geo, besucher_geo], axis = 0, ignore_index = True)\n",
    "# CSV.Datei df_final exportieren: df_final.to_csv('df_final.csv', index=False)\n"
   ]
  },
  {
   "cell_type": "markdown",
   "id": "3b21bbd7",
   "metadata": {
    "slideshow": {
     "slide_type": "slide"
    },
    "tags": []
   },
   "source": [
    "<font size = \"6\">20. Vorschlaege für die Kundenabteilung</font>"
   ]
  },
  {
   "cell_type": "markdown",
   "id": "4760c2cb",
   "metadata": {
    "slideshow": {
     "slide_type": "fragment"
    },
    "tags": []
   },
   "source": [
    "- Einheitliche Daten: entweder Trennung durch Komma oder Punkt\n",
    "- Vorgegebene Antwortmoeglichkeiten, um fehlende und fehlerhafte Angaben zu vermeiden\n",
    "- Geo-Daten nach genauen Standorten zum Abgleich mit lokalem Einkommensniveau und lokalen Präferenzen (Stadt, Land)\n",
    "- Weitere Informationen zu Kundenpräferenzen bezüglich Getriebe, Modell, Jahr, Kilometerstand (bei Gebrauchtwagen)\n",
    "- Messung der Kundenzufriedenheit anhand einer Skala"
   ]
  },
  {
   "cell_type": "code",
   "execution_count": null,
   "id": "70593410-9442-4281-bd40-18e1e39797eb",
   "metadata": {
    "slideshow": {
     "slide_type": "slide"
    },
    "tags": []
   },
   "outputs": [],
   "source": [
    "<font size = \"8\">Vielen Dank für Ihre Aufmerksamkeit!</font>"
   ]
  }
 ],
 "metadata": {
  "celltoolbar": "Slideshow",
  "kernelspec": {
   "display_name": "Python 3 (ipykernel)",
   "language": "python",
   "name": "python3"
  },
  "language_info": {
   "codemirror_mode": {
    "name": "ipython",
    "version": 3
   },
   "file_extension": ".py",
   "mimetype": "text/x-python",
   "name": "python",
   "nbconvert_exporter": "python",
   "pygments_lexer": "ipython3",
   "version": "3.11.5"
  }
 },
 "nbformat": 4,
 "nbformat_minor": 5
}
