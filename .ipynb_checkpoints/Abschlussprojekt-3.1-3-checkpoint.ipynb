{
 "cells": [
  {
   "cell_type": "markdown",
   "id": "59dbdcb7",
   "metadata": {
    "slideshow": {
     "slide_type": ""
    },
    "tags": []
   },
   "source": [
    "# Bereinigung der Datensätze"
   ]
  },
  {
   "cell_type": "markdown",
   "id": "20b5f2d9",
   "metadata": {},
   "source": [
    "## Kundendaten"
   ]
  },
  {
   "cell_type": "code",
   "execution_count": 1,
   "id": "85af3016",
   "metadata": {},
   "outputs": [],
   "source": [
    "import pandas as pd\n",
    "import matplotlib.pyplot as plt\n",
    "import numpy as np\n",
    "from scipy import stats\n",
    "import statsmodels.api as sm\n"
   ]
  },
  {
   "cell_type": "code",
   "execution_count": 2,
   "id": "fad08255",
   "metadata": {},
   "outputs": [],
   "source": [
    "kunden = pd.read_csv(\"kunden.csv\", decimal = '.', sep = \";\")"
   ]
  },
  {
   "cell_type": "code",
   "execution_count": 3,
   "id": "2d227167",
   "metadata": {},
   "outputs": [
    {
     "data": {
      "text/html": [
       "<div>\n",
       "<style scoped>\n",
       "    .dataframe tbody tr th:only-of-type {\n",
       "        vertical-align: middle;\n",
       "    }\n",
       "\n",
       "    .dataframe tbody tr th {\n",
       "        vertical-align: top;\n",
       "    }\n",
       "\n",
       "    .dataframe thead th {\n",
       "        text-align: right;\n",
       "    }\n",
       "</style>\n",
       "<table border=\"1\" class=\"dataframe\">\n",
       "  <thead>\n",
       "    <tr style=\"text-align: right;\">\n",
       "      <th></th>\n",
       "      <th>Alter</th>\n",
       "      <th>Einkommen</th>\n",
       "      <th>Preis</th>\n",
       "      <th>Geschlecht</th>\n",
       "      <th>Zeit</th>\n",
       "      <th>KundeNr</th>\n",
       "    </tr>\n",
       "  </thead>\n",
       "  <tbody>\n",
       "    <tr>\n",
       "      <th>0</th>\n",
       "      <td>64</td>\n",
       "      <td>66894.0</td>\n",
       "      <td>88160.31</td>\n",
       "      <td>1.0</td>\n",
       "      <td>43.0</td>\n",
       "      <td>K0310</td>\n",
       "    </tr>\n",
       "    <tr>\n",
       "      <th>1</th>\n",
       "      <td>54</td>\n",
       "      <td>77644.0</td>\n",
       "      <td>103145.70</td>\n",
       "      <td>1.0</td>\n",
       "      <td>40.0</td>\n",
       "      <td>K1042</td>\n",
       "    </tr>\n",
       "    <tr>\n",
       "      <th>2</th>\n",
       "      <td>55</td>\n",
       "      <td>44341.0</td>\n",
       "      <td>80565.16</td>\n",
       "      <td>0.0</td>\n",
       "      <td>37.0</td>\n",
       "      <td>K0382</td>\n",
       "    </tr>\n",
       "    <tr>\n",
       "      <th>3</th>\n",
       "      <td>49</td>\n",
       "      <td>67271.0</td>\n",
       "      <td>83949.89</td>\n",
       "      <td>0.0</td>\n",
       "      <td>42.0</td>\n",
       "      <td>K0498</td>\n",
       "    </tr>\n",
       "    <tr>\n",
       "      <th>4</th>\n",
       "      <td>46</td>\n",
       "      <td>49832.0</td>\n",
       "      <td>93781.58</td>\n",
       "      <td>0.0</td>\n",
       "      <td>41.0</td>\n",
       "      <td>K0552</td>\n",
       "    </tr>\n",
       "  </tbody>\n",
       "</table>\n",
       "</div>"
      ],
      "text/plain": [
       "   Alter  Einkommen      Preis  Geschlecht  Zeit KundeNr\n",
       "0     64    66894.0   88160.31         1.0  43.0   K0310\n",
       "1     54    77644.0  103145.70         1.0  40.0   K1042\n",
       "2     55    44341.0   80565.16         0.0  37.0   K0382\n",
       "3     49    67271.0   83949.89         0.0  42.0   K0498\n",
       "4     46    49832.0   93781.58         0.0  41.0   K0552"
      ]
     },
     "execution_count": 3,
     "metadata": {},
     "output_type": "execute_result"
    }
   ],
   "source": [
    "kunden.head()"
   ]
  },
  {
   "cell_type": "code",
   "execution_count": 4,
   "id": "1f0a053f",
   "metadata": {},
   "outputs": [
    {
     "data": {
      "text/plain": [
       "Alter           int64\n",
       "Einkommen     float64\n",
       "Preis         float64\n",
       "Geschlecht    float64\n",
       "Zeit          float64\n",
       "KundeNr        object\n",
       "dtype: object"
      ]
     },
     "execution_count": 4,
     "metadata": {},
     "output_type": "execute_result"
    }
   ],
   "source": [
    "kunden.dtypes"
   ]
  },
  {
   "cell_type": "markdown",
   "id": "dfc76067",
   "metadata": {},
   "source": [
    "### Fehlende Datenpunkte im Datensatz"
   ]
  },
  {
   "cell_type": "code",
   "execution_count": 5,
   "id": "0a459b24",
   "metadata": {},
   "outputs": [
    {
     "data": {
      "text/plain": [
       "Alter         0\n",
       "Einkommen     0\n",
       "Preis         0\n",
       "Geschlecht    5\n",
       "Zeit          0\n",
       "KundeNr       0\n",
       "dtype: int64"
      ]
     },
     "execution_count": 5,
     "metadata": {},
     "output_type": "execute_result"
    }
   ],
   "source": [
    "kunden.isnull().sum()"
   ]
  },
  {
   "cell_type": "code",
   "execution_count": 6,
   "id": "47b0a8b5",
   "metadata": {},
   "outputs": [],
   "source": [
    "# Ersetzen der 5 fehlenden Geschlechtseinträge durch den Modalwert:"
   ]
  },
  {
   "cell_type": "code",
   "execution_count": 7,
   "id": "8e5bfd33",
   "metadata": {},
   "outputs": [],
   "source": [
    "# Finden des Modalwertes:"
   ]
  },
  {
   "cell_type": "code",
   "execution_count": 8,
   "id": "eb4d8d0c",
   "metadata": {},
   "outputs": [],
   "source": [
    "ges_modalwert = kunden['Geschlecht'].mode()[0]"
   ]
  },
  {
   "cell_type": "code",
   "execution_count": 9,
   "id": "281480c0",
   "metadata": {},
   "outputs": [
    {
     "data": {
      "text/plain": [
       "1.0"
      ]
     },
     "execution_count": 9,
     "metadata": {},
     "output_type": "execute_result"
    }
   ],
   "source": [
    "ges_modalwert"
   ]
  },
  {
   "cell_type": "code",
   "execution_count": 10,
   "id": "c6bf589f",
   "metadata": {},
   "outputs": [],
   "source": [
    "# Ersetzen der 5 fehlenden Geschlechtseinträge mit dem Modalwert 1.0"
   ]
  },
  {
   "cell_type": "code",
   "execution_count": 11,
   "id": "d2af5f2d",
   "metadata": {},
   "outputs": [],
   "source": [
    "kunden.fillna(value = ges_modalwert, axis = 0, inplace = True)"
   ]
  },
  {
   "cell_type": "code",
   "execution_count": 12,
   "id": "08ccd3d1",
   "metadata": {},
   "outputs": [
    {
     "data": {
      "text/plain": [
       "Alter         0\n",
       "Einkommen     0\n",
       "Preis         0\n",
       "Geschlecht    0\n",
       "Zeit          0\n",
       "KundeNr       0\n",
       "dtype: int64"
      ]
     },
     "execution_count": 12,
     "metadata": {},
     "output_type": "execute_result"
    }
   ],
   "source": [
    "kunden.isnull().sum()"
   ]
  },
  {
   "cell_type": "code",
   "execution_count": 13,
   "id": "f6d65db4",
   "metadata": {},
   "outputs": [],
   "source": [
    "# hat geklappt, juhuuu!"
   ]
  },
  {
   "cell_type": "markdown",
   "id": "2ac8ef0e",
   "metadata": {},
   "source": [
    "## Boxplots ausgeben"
   ]
  },
  {
   "cell_type": "code",
   "execution_count": 14,
   "id": "c6a280a6",
   "metadata": {},
   "outputs": [
    {
     "data": {
      "image/png": "[encoded data removed]",
      "text/plain": [
       "<Figure size 640x480 with 1 Axes>"
      ]
     },
     "metadata": {},
     "output_type": "display_data"
    }
   ],
   "source": [
    "boxplot_alter = kunden.boxplot(column = 'Alter')"
   ]
  },
  {
   "cell_type": "code",
   "execution_count": 15,
   "id": "0cfec3d4",
   "metadata": {},
   "outputs": [],
   "source": [
    "boxplot_einkommen = kunden.boxplot(column = 'Einkommen')"
   ]
  },
  {
   "cell_type": "code",
   "execution_count": 16,
   "id": "09b20c87",
   "metadata": {},
   "outputs": [
    {
     "data": {
      "image/png": "[encoded data removed]",
      "text/plain": [
       "<Figure size 640x480 with 1 Axes>"
      ]
     },
     "metadata": {},
     "output_type": "display_data"
    }
   ],
   "source": [
    "plt.show()"
   ]
  },
  {
   "cell_type": "code",
   "execution_count": 17,
   "id": "b6b5af6c",
   "metadata": {},
   "outputs": [],
   "source": [
    "boxplot_preis = kunden.boxplot(column = 'Preis')"
   ]
  },
  {
   "cell_type": "code",
   "execution_count": 18,
   "id": "67d85df7",
   "metadata": {},
   "outputs": [
    {
     "data": {
      "image/png": "[encoded data removed]",
      "text/plain": [
       "<Figure size 640x480 with 1 Axes>"
      ]
     },
     "metadata": {},
     "output_type": "display_data"
    }
   ],
   "source": [
    "plt.show()"
   ]
  },
  {
   "cell_type": "markdown",
   "id": "1e028016",
   "metadata": {},
   "source": [
    "## Außreißer identifizieren"
   ]
  },
  {
   "cell_type": "markdown",
   "id": "1028a412",
   "metadata": {},
   "source": [
    "### 1. Alter"
   ]
  },
  {
   "cell_type": "code",
   "execution_count": 19,
   "id": "15a8b30c",
   "metadata": {},
   "outputs": [],
   "source": [
    "# Berechnung von Q1, Q3 und IQR"
   ]
  },
  {
   "cell_type": "code",
   "execution_count": 20,
   "id": "520bde1f",
   "metadata": {},
   "outputs": [],
   "source": [
    "Q1_Alter = kunden['Alter'].quantile(0.25)"
   ]
  },
  {
   "cell_type": "code",
   "execution_count": 21,
   "id": "a6877d03",
   "metadata": {},
   "outputs": [],
   "source": [
    "Q3_Alter = kunden['Alter'].quantile(0.75)"
   ]
  },
  {
   "cell_type": "code",
   "execution_count": 22,
   "id": "aa130a50",
   "metadata": {},
   "outputs": [],
   "source": [
    "IQR_Alter = Q3_Alter - Q1_Alter"
   ]
  },
  {
   "cell_type": "code",
   "execution_count": 23,
   "id": "65a4edbd",
   "metadata": {},
   "outputs": [],
   "source": [
    "# Berechnung der Ausreißer-Grenzen"
   ]
  },
  {
   "cell_type": "code",
   "execution_count": 24,
   "id": "e85b892f",
   "metadata": {},
   "outputs": [],
   "source": [
    "untere_grenze_Alter = Q1_Alter - 1.5 * IQR_Alter"
   ]
  },
  {
   "cell_type": "code",
   "execution_count": 135,
   "id": "f1525f26",
   "metadata": {},
   "outputs": [],
   "source": [
    "obere_grenze_Alter = Q3_Alter + 1.5 * IQR_Alter"
   ]
  },
  {
   "cell_type": "code",
   "execution_count": 142,
   "id": "46722561",
   "metadata": {},
   "outputs": [
    {
     "data": {
      "text/plain": [
       "0       False\n",
       "1       False\n",
       "2       False\n",
       "3       False\n",
       "4       False\n",
       "        ...  \n",
       "1099    False\n",
       "1100    False\n",
       "1101    False\n",
       "1102    False\n",
       "1103    False\n",
       "Name: Ausreißer, Length: 1104, dtype: bool"
      ]
     },
     "execution_count": 142,
     "metadata": {},
     "output_type": "execute_result"
    }
   ],
   "source": [
    "kunden['Ausreißer'] = (kunden['Alter'] < untere_grenze_Alter) | (kunden['Alter'] > obere_grenze_Alter)"
   ]
  },
  {
   "cell_type": "code",
   "execution_count": 140,
   "id": "11acce54",
   "metadata": {},
   "outputs": [],
   "source": [
    "ausreißer_alter = kunden.Ausreißer.value_counts()"
   ]
  },
  {
   "cell_type": "code",
   "execution_count": 141,
   "id": "34c9b34e",
   "metadata": {},
   "outputs": [
    {
     "data": {
      "text/plain": [
       "Ausreißer\n",
       "False    1104\n",
       "Name: count, dtype: int64"
      ]
     },
     "execution_count": 141,
     "metadata": {},
     "output_type": "execute_result"
    }
   ],
   "source": [
    "ausreißer_alter"
   ]
  },
  {
   "cell_type": "code",
   "execution_count": 29,
   "id": "8dcafcee",
   "metadata": {},
   "outputs": [
    {
     "data": {
      "text/html": [
       "<div>\n",
       "<style scoped>\n",
       "    .dataframe tbody tr th:only-of-type {\n",
       "        vertical-align: middle;\n",
       "    }\n",
       "\n",
       "    .dataframe tbody tr th {\n",
       "        vertical-align: top;\n",
       "    }\n",
       "\n",
       "    .dataframe thead th {\n",
       "        text-align: right;\n",
       "    }\n",
       "</style>\n",
       "<table border=\"1\" class=\"dataframe\">\n",
       "  <thead>\n",
       "    <tr style=\"text-align: right;\">\n",
       "      <th></th>\n",
       "      <th>Alter</th>\n",
       "      <th>Einkommen</th>\n",
       "      <th>Preis</th>\n",
       "      <th>Geschlecht</th>\n",
       "      <th>Zeit</th>\n",
       "      <th>KundeNr</th>\n",
       "      <th>Ausreißer</th>\n",
       "    </tr>\n",
       "  </thead>\n",
       "  <tbody>\n",
       "    <tr>\n",
       "      <th>142</th>\n",
       "      <td>100</td>\n",
       "      <td>88749.0</td>\n",
       "      <td>119134.23</td>\n",
       "      <td>0.0</td>\n",
       "      <td>64.0</td>\n",
       "      <td>K0494</td>\n",
       "      <td>True</td>\n",
       "    </tr>\n",
       "    <tr>\n",
       "      <th>711</th>\n",
       "      <td>120</td>\n",
       "      <td>61857.0</td>\n",
       "      <td>104214.07</td>\n",
       "      <td>1.0</td>\n",
       "      <td>52.0</td>\n",
       "      <td>K0039</td>\n",
       "      <td>True</td>\n",
       "    </tr>\n",
       "  </tbody>\n",
       "</table>\n",
       "</div>"
      ],
      "text/plain": [
       "     Alter  Einkommen      Preis  Geschlecht  Zeit KundeNr  Ausreißer\n",
       "142    100    88749.0  119134.23         0.0  64.0   K0494       True\n",
       "711    120    61857.0  104214.07         1.0  52.0   K0039       True"
      ]
     },
     "execution_count": 29,
     "metadata": {},
     "output_type": "execute_result"
    }
   ],
   "source": [
    "kunden.loc[kunden['Ausreißer'] == True]"
   ]
  },
  {
   "cell_type": "code",
   "execution_count": 30,
   "id": "9e2cea90",
   "metadata": {},
   "outputs": [],
   "source": [
    "# Ersetzen der Ausreißer in der Alters-Spalte durch Medianwert"
   ]
  },
  {
   "cell_type": "code",
   "execution_count": 31,
   "id": "d2c46007",
   "metadata": {},
   "outputs": [],
   "source": [
    "alter_median = kunden['Alter'].median()"
   ]
  },
  {
   "cell_type": "code",
   "execution_count": 32,
   "id": "2974d131",
   "metadata": {},
   "outputs": [
    {
     "data": {
      "text/plain": [
       "51.0"
      ]
     },
     "execution_count": 32,
     "metadata": {},
     "output_type": "execute_result"
    }
   ],
   "source": [
    "alter_median"
   ]
  },
  {
   "cell_type": "code",
   "execution_count": 33,
   "id": "18e750cf",
   "metadata": {},
   "outputs": [
    {
     "data": {
      "text/html": [
       "<div>\n",
       "<style scoped>\n",
       "    .dataframe tbody tr th:only-of-type {\n",
       "        vertical-align: middle;\n",
       "    }\n",
       "\n",
       "    .dataframe tbody tr th {\n",
       "        vertical-align: top;\n",
       "    }\n",
       "\n",
       "    .dataframe thead th {\n",
       "        text-align: right;\n",
       "    }\n",
       "</style>\n",
       "<table border=\"1\" class=\"dataframe\">\n",
       "  <thead>\n",
       "    <tr style=\"text-align: right;\">\n",
       "      <th></th>\n",
       "      <th>Alter</th>\n",
       "      <th>Einkommen</th>\n",
       "      <th>Preis</th>\n",
       "      <th>Geschlecht</th>\n",
       "      <th>Zeit</th>\n",
       "      <th>KundeNr</th>\n",
       "      <th>Ausreißer</th>\n",
       "    </tr>\n",
       "  </thead>\n",
       "  <tbody>\n",
       "    <tr>\n",
       "      <th>0</th>\n",
       "      <td>64</td>\n",
       "      <td>66894.0</td>\n",
       "      <td>88160.31</td>\n",
       "      <td>1.0</td>\n",
       "      <td>43.0</td>\n",
       "      <td>K0310</td>\n",
       "      <td>False</td>\n",
       "    </tr>\n",
       "    <tr>\n",
       "      <th>1</th>\n",
       "      <td>54</td>\n",
       "      <td>77644.0</td>\n",
       "      <td>103145.70</td>\n",
       "      <td>1.0</td>\n",
       "      <td>40.0</td>\n",
       "      <td>K1042</td>\n",
       "      <td>False</td>\n",
       "    </tr>\n",
       "    <tr>\n",
       "      <th>2</th>\n",
       "      <td>55</td>\n",
       "      <td>44341.0</td>\n",
       "      <td>80565.16</td>\n",
       "      <td>0.0</td>\n",
       "      <td>37.0</td>\n",
       "      <td>K0382</td>\n",
       "      <td>False</td>\n",
       "    </tr>\n",
       "    <tr>\n",
       "      <th>3</th>\n",
       "      <td>49</td>\n",
       "      <td>67271.0</td>\n",
       "      <td>83949.89</td>\n",
       "      <td>0.0</td>\n",
       "      <td>42.0</td>\n",
       "      <td>K0498</td>\n",
       "      <td>False</td>\n",
       "    </tr>\n",
       "    <tr>\n",
       "      <th>4</th>\n",
       "      <td>46</td>\n",
       "      <td>49832.0</td>\n",
       "      <td>93781.58</td>\n",
       "      <td>0.0</td>\n",
       "      <td>41.0</td>\n",
       "      <td>K0552</td>\n",
       "      <td>False</td>\n",
       "    </tr>\n",
       "    <tr>\n",
       "      <th>...</th>\n",
       "      <td>...</td>\n",
       "      <td>...</td>\n",
       "      <td>...</td>\n",
       "      <td>...</td>\n",
       "      <td>...</td>\n",
       "      <td>...</td>\n",
       "      <td>...</td>\n",
       "    </tr>\n",
       "    <tr>\n",
       "      <th>1099</th>\n",
       "      <td>70</td>\n",
       "      <td>69581.0</td>\n",
       "      <td>103751.58</td>\n",
       "      <td>1.0</td>\n",
       "      <td>51.0</td>\n",
       "      <td>K0467</td>\n",
       "      <td>False</td>\n",
       "    </tr>\n",
       "    <tr>\n",
       "      <th>1100</th>\n",
       "      <td>38</td>\n",
       "      <td>48301.0</td>\n",
       "      <td>64230.98</td>\n",
       "      <td>1.0</td>\n",
       "      <td>33.0</td>\n",
       "      <td>K0122</td>\n",
       "      <td>False</td>\n",
       "    </tr>\n",
       "    <tr>\n",
       "      <th>1101</th>\n",
       "      <td>67</td>\n",
       "      <td>63547.0</td>\n",
       "      <td>103123.57</td>\n",
       "      <td>1.0</td>\n",
       "      <td>41.0</td>\n",
       "      <td>K1045</td>\n",
       "      <td>False</td>\n",
       "    </tr>\n",
       "    <tr>\n",
       "      <th>1102</th>\n",
       "      <td>37</td>\n",
       "      <td>32686.0</td>\n",
       "      <td>49215.87</td>\n",
       "      <td>1.0</td>\n",
       "      <td>36.0</td>\n",
       "      <td>K1096</td>\n",
       "      <td>False</td>\n",
       "    </tr>\n",
       "    <tr>\n",
       "      <th>1103</th>\n",
       "      <td>55</td>\n",
       "      <td>71240.0</td>\n",
       "      <td>106132.59</td>\n",
       "      <td>1.0</td>\n",
       "      <td>49.0</td>\n",
       "      <td>K0861</td>\n",
       "      <td>False</td>\n",
       "    </tr>\n",
       "  </tbody>\n",
       "</table>\n",
       "<p>1104 rows × 7 columns</p>\n",
       "</div>"
      ],
      "text/plain": [
       "      Alter  Einkommen      Preis  Geschlecht  Zeit KundeNr  Ausreißer\n",
       "0        64    66894.0   88160.31         1.0  43.0   K0310      False\n",
       "1        54    77644.0  103145.70         1.0  40.0   K1042      False\n",
       "2        55    44341.0   80565.16         0.0  37.0   K0382      False\n",
       "3        49    67271.0   83949.89         0.0  42.0   K0498      False\n",
       "4        46    49832.0   93781.58         0.0  41.0   K0552      False\n",
       "...     ...        ...        ...         ...   ...     ...        ...\n",
       "1099     70    69581.0  103751.58         1.0  51.0   K0467      False\n",
       "1100     38    48301.0   64230.98         1.0  33.0   K0122      False\n",
       "1101     67    63547.0  103123.57         1.0  41.0   K1045      False\n",
       "1102     37    32686.0   49215.87         1.0  36.0   K1096      False\n",
       "1103     55    71240.0  106132.59         1.0  49.0   K0861      False\n",
       "\n",
       "[1104 rows x 7 columns]"
      ]
     },
     "execution_count": 33,
     "metadata": {},
     "output_type": "execute_result"
    }
   ],
   "source": [
    "kunden.replace([120, 100], alter_median, inplace=True)\n",
    "kunden"
   ]
  },
  {
   "cell_type": "code",
   "execution_count": 34,
   "id": "39631cfb",
   "metadata": {},
   "outputs": [],
   "source": [
    "kunden['Ausreißer'] = (kunden['Alter'] < untere_grenze_Alter) | (kunden['Alter'] > obere_grenze_Alter)"
   ]
  },
  {
   "cell_type": "code",
   "execution_count": 35,
   "id": "d89a3982",
   "metadata": {},
   "outputs": [],
   "source": [
    "ausreißer_alter = kunden.Ausreißer.value_counts()"
   ]
  },
  {
   "cell_type": "code",
   "execution_count": 36,
   "id": "b704e385",
   "metadata": {},
   "outputs": [
    {
     "data": {
      "text/plain": [
       "Ausreißer\n",
       "False    1104\n",
       "Name: count, dtype: int64"
      ]
     },
     "execution_count": 36,
     "metadata": {},
     "output_type": "execute_result"
    }
   ],
   "source": [
    "ausreißer_alter"
   ]
  },
  {
   "cell_type": "code",
   "execution_count": 37,
   "id": "7ab25831",
   "metadata": {},
   "outputs": [],
   "source": [
    "# keine Ausreißer in der Alters-Spalte mehr vorhanden"
   ]
  },
  {
   "cell_type": "markdown",
   "id": "a717ba2c",
   "metadata": {},
   "source": [
    "### 2. Einkommen"
   ]
  },
  {
   "cell_type": "code",
   "execution_count": 38,
   "id": "f71e5633",
   "metadata": {},
   "outputs": [],
   "source": [
    "# Berechnung von Q1, Q3 und IQR der Einkommens-Spalte"
   ]
  },
  {
   "cell_type": "code",
   "execution_count": 39,
   "id": "979ee9c5",
   "metadata": {},
   "outputs": [
    {
     "data": {
      "text/plain": [
       "Ausreißer\n",
       "False    1100\n",
       "True        4\n",
       "Name: count, dtype: int64"
      ]
     },
     "execution_count": 39,
     "metadata": {},
     "output_type": "execute_result"
    }
   ],
   "source": [
    "Q1_einkommen = kunden['Einkommen'].quantile(0.25)\n",
    "Q3_einkommen = kunden['Einkommen'].quantile(0.75)\n",
    "IQR_einkommen = Q3_einkommen - Q1_einkommen\n",
    "IQR_einkommen\n",
    "untere_grenze_einkommen = Q1_einkommen - 1.5 * IQR_einkommen\n",
    "obere_grenze_einkommen = Q3_einkommen + 1.5 * IQR_einkommen\n",
    "kunden['Ausreißer'] = (kunden['Einkommen'] < untere_grenze_einkommen) | (kunden['Einkommen'] > obere_grenze_einkommen)\n",
    "ausreißer_einkommen = kunden.Ausreißer.value_counts()\n",
    "ausreißer_einkommen"
   ]
  },
  {
   "cell_type": "code",
   "execution_count": 40,
   "id": "8ebfb810",
   "metadata": {},
   "outputs": [
    {
     "data": {
      "text/html": [
       "<div>\n",
       "<style scoped>\n",
       "    .dataframe tbody tr th:only-of-type {\n",
       "        vertical-align: middle;\n",
       "    }\n",
       "\n",
       "    .dataframe tbody tr th {\n",
       "        vertical-align: top;\n",
       "    }\n",
       "\n",
       "    .dataframe thead th {\n",
       "        text-align: right;\n",
       "    }\n",
       "</style>\n",
       "<table border=\"1\" class=\"dataframe\">\n",
       "  <thead>\n",
       "    <tr style=\"text-align: right;\">\n",
       "      <th></th>\n",
       "      <th>Alter</th>\n",
       "      <th>Einkommen</th>\n",
       "      <th>Preis</th>\n",
       "      <th>Geschlecht</th>\n",
       "      <th>Zeit</th>\n",
       "      <th>KundeNr</th>\n",
       "      <th>Ausreißer</th>\n",
       "    </tr>\n",
       "  </thead>\n",
       "  <tbody>\n",
       "    <tr>\n",
       "      <th>408</th>\n",
       "      <td>68</td>\n",
       "      <td>1.000000e+09</td>\n",
       "      <td>87209.72</td>\n",
       "      <td>0.0</td>\n",
       "      <td>52.0</td>\n",
       "      <td>K0701</td>\n",
       "      <td>True</td>\n",
       "    </tr>\n",
       "    <tr>\n",
       "      <th>834</th>\n",
       "      <td>68</td>\n",
       "      <td>1.076890e+05</td>\n",
       "      <td>165482.31</td>\n",
       "      <td>1.0</td>\n",
       "      <td>60.0</td>\n",
       "      <td>K0415</td>\n",
       "      <td>True</td>\n",
       "    </tr>\n",
       "    <tr>\n",
       "      <th>966</th>\n",
       "      <td>69</td>\n",
       "      <td>0.000000e+00</td>\n",
       "      <td>125140.05</td>\n",
       "      <td>1.0</td>\n",
       "      <td>65.0</td>\n",
       "      <td>K1021</td>\n",
       "      <td>True</td>\n",
       "    </tr>\n",
       "    <tr>\n",
       "      <th>1082</th>\n",
       "      <td>59</td>\n",
       "      <td>-6.284037e+04</td>\n",
       "      <td>92837.59</td>\n",
       "      <td>0.0</td>\n",
       "      <td>46.0</td>\n",
       "      <td>K1083</td>\n",
       "      <td>True</td>\n",
       "    </tr>\n",
       "  </tbody>\n",
       "</table>\n",
       "</div>"
      ],
      "text/plain": [
       "      Alter     Einkommen      Preis  Geschlecht  Zeit KundeNr  Ausreißer\n",
       "408      68  1.000000e+09   87209.72         0.0  52.0   K0701       True\n",
       "834      68  1.076890e+05  165482.31         1.0  60.0   K0415       True\n",
       "966      69  0.000000e+00  125140.05         1.0  65.0   K1021       True\n",
       "1082     59 -6.284037e+04   92837.59         0.0  46.0   K1083       True"
      ]
     },
     "execution_count": 40,
     "metadata": {},
     "output_type": "execute_result"
    }
   ],
   "source": [
    "kunden.loc[kunden['Ausreißer'] == True]\n"
   ]
  },
  {
   "cell_type": "code",
   "execution_count": 41,
   "id": "f274978c",
   "metadata": {},
   "outputs": [
    {
     "data": {
      "text/html": [
       "<div>\n",
       "<style scoped>\n",
       "    .dataframe tbody tr th:only-of-type {\n",
       "        vertical-align: middle;\n",
       "    }\n",
       "\n",
       "    .dataframe tbody tr th {\n",
       "        vertical-align: top;\n",
       "    }\n",
       "\n",
       "    .dataframe thead th {\n",
       "        text-align: right;\n",
       "    }\n",
       "</style>\n",
       "<table border=\"1\" class=\"dataframe\">\n",
       "  <thead>\n",
       "    <tr style=\"text-align: right;\">\n",
       "      <th></th>\n",
       "      <th>Alter</th>\n",
       "      <th>Einkommen</th>\n",
       "      <th>Preis</th>\n",
       "      <th>Geschlecht</th>\n",
       "      <th>Zeit</th>\n",
       "      <th>KundeNr</th>\n",
       "      <th>Ausreißer</th>\n",
       "    </tr>\n",
       "  </thead>\n",
       "  <tbody>\n",
       "    <tr>\n",
       "      <th>408</th>\n",
       "      <td>68</td>\n",
       "      <td>59013.0</td>\n",
       "      <td>87209.72</td>\n",
       "      <td>0.0</td>\n",
       "      <td>52.0</td>\n",
       "      <td>K0701</td>\n",
       "      <td>True</td>\n",
       "    </tr>\n",
       "    <tr>\n",
       "      <th>834</th>\n",
       "      <td>68</td>\n",
       "      <td>59013.0</td>\n",
       "      <td>165482.31</td>\n",
       "      <td>1.0</td>\n",
       "      <td>60.0</td>\n",
       "      <td>K0415</td>\n",
       "      <td>True</td>\n",
       "    </tr>\n",
       "    <tr>\n",
       "      <th>966</th>\n",
       "      <td>69</td>\n",
       "      <td>59013.0</td>\n",
       "      <td>125140.05</td>\n",
       "      <td>1.0</td>\n",
       "      <td>65.0</td>\n",
       "      <td>K1021</td>\n",
       "      <td>True</td>\n",
       "    </tr>\n",
       "    <tr>\n",
       "      <th>1082</th>\n",
       "      <td>59</td>\n",
       "      <td>59013.0</td>\n",
       "      <td>92837.59</td>\n",
       "      <td>0.0</td>\n",
       "      <td>46.0</td>\n",
       "      <td>K1083</td>\n",
       "      <td>True</td>\n",
       "    </tr>\n",
       "  </tbody>\n",
       "</table>\n",
       "</div>"
      ],
      "text/plain": [
       "      Alter  Einkommen      Preis  Geschlecht  Zeit KundeNr  Ausreißer\n",
       "408      68    59013.0   87209.72         0.0  52.0   K0701       True\n",
       "834      68    59013.0  165482.31         1.0  60.0   K0415       True\n",
       "966      69    59013.0  125140.05         1.0  65.0   K1021       True\n",
       "1082     59    59013.0   92837.59         0.0  46.0   K1083       True"
      ]
     },
     "execution_count": 41,
     "metadata": {},
     "output_type": "execute_result"
    }
   ],
   "source": [
    "# Ersetzen der Ausreißer in der Einkommens-Spalte durch Medianwert\n",
    "einkommen_median = kunden['Einkommen'].median()\n",
    "kunden.replace({'Einkommen': [1.000000e+09, 1.076890e+05, 0.000000e+00, -62840.374523]}, einkommen_median, inplace=True)\n",
    "kunden.loc[kunden['Ausreißer'] == True]"
   ]
  },
  {
   "cell_type": "markdown",
   "id": "9811adce",
   "metadata": {},
   "source": [
    "### 3. Zeit"
   ]
  },
  {
   "cell_type": "code",
   "execution_count": 42,
   "id": "163837fa",
   "metadata": {},
   "outputs": [],
   "source": [
    "# Berechnung von Q1, Q3 und IQR der Zeit-Spalte"
   ]
  },
  {
   "cell_type": "code",
   "execution_count": 43,
   "id": "18f08f32",
   "metadata": {},
   "outputs": [
    {
     "data": {
      "text/plain": [
       "Ausreißer\n",
       "False    1098\n",
       "True        6\n",
       "Name: count, dtype: int64"
      ]
     },
     "execution_count": 43,
     "metadata": {},
     "output_type": "execute_result"
    }
   ],
   "source": [
    "Q1_zeit = kunden['Zeit'].quantile(0.25)\n",
    "Q3_zeit = kunden['Zeit'].quantile(0.75)\n",
    "IQR_zeit = Q3_zeit - Q1_zeit\n",
    "IQR_zeit\n",
    "untere_grenze_zeit = Q1_zeit - 1.5 * IQR_zeit\n",
    "obere_grenze_zeit = Q3_zeit + 1.5 * IQR_zeit\n",
    "kunden['Ausreißer'] = (kunden['Zeit'] < untere_grenze_zeit) | (kunden['Zeit'] > obere_grenze_zeit)\n",
    "ausreißer_zeit = kunden.Ausreißer.value_counts()\n",
    "ausreißer_zeit"
   ]
  },
  {
   "cell_type": "code",
   "execution_count": 44,
   "id": "2e63e8d9",
   "metadata": {},
   "outputs": [
    {
     "data": {
      "text/html": [
       "<div>\n",
       "<style scoped>\n",
       "    .dataframe tbody tr th:only-of-type {\n",
       "        vertical-align: middle;\n",
       "    }\n",
       "\n",
       "    .dataframe tbody tr th {\n",
       "        vertical-align: top;\n",
       "    }\n",
       "\n",
       "    .dataframe thead th {\n",
       "        text-align: right;\n",
       "    }\n",
       "</style>\n",
       "<table border=\"1\" class=\"dataframe\">\n",
       "  <thead>\n",
       "    <tr style=\"text-align: right;\">\n",
       "      <th></th>\n",
       "      <th>Alter</th>\n",
       "      <th>Einkommen</th>\n",
       "      <th>Preis</th>\n",
       "      <th>Geschlecht</th>\n",
       "      <th>Zeit</th>\n",
       "      <th>KundeNr</th>\n",
       "      <th>Ausreißer</th>\n",
       "    </tr>\n",
       "  </thead>\n",
       "  <tbody>\n",
       "    <tr>\n",
       "      <th>218</th>\n",
       "      <td>33</td>\n",
       "      <td>38675.0</td>\n",
       "      <td>56493.40</td>\n",
       "      <td>1.0</td>\n",
       "      <td>13.0</td>\n",
       "      <td>K0983</td>\n",
       "      <td>True</td>\n",
       "    </tr>\n",
       "    <tr>\n",
       "      <th>313</th>\n",
       "      <td>62</td>\n",
       "      <td>96569.0</td>\n",
       "      <td>140745.65</td>\n",
       "      <td>0.0</td>\n",
       "      <td>80.0</td>\n",
       "      <td>K0249</td>\n",
       "      <td>True</td>\n",
       "    </tr>\n",
       "    <tr>\n",
       "      <th>327</th>\n",
       "      <td>34</td>\n",
       "      <td>24811.0</td>\n",
       "      <td>57541.73</td>\n",
       "      <td>1.0</td>\n",
       "      <td>12.0</td>\n",
       "      <td>K0395</td>\n",
       "      <td>True</td>\n",
       "    </tr>\n",
       "    <tr>\n",
       "      <th>542</th>\n",
       "      <td>67</td>\n",
       "      <td>89170.0</td>\n",
       "      <td>123408.48</td>\n",
       "      <td>1.0</td>\n",
       "      <td>76.0</td>\n",
       "      <td>K1093</td>\n",
       "      <td>True</td>\n",
       "    </tr>\n",
       "    <tr>\n",
       "      <th>553</th>\n",
       "      <td>38</td>\n",
       "      <td>33666.0</td>\n",
       "      <td>50494.07</td>\n",
       "      <td>1.0</td>\n",
       "      <td>13.0</td>\n",
       "      <td>K0384</td>\n",
       "      <td>True</td>\n",
       "    </tr>\n",
       "    <tr>\n",
       "      <th>805</th>\n",
       "      <td>64</td>\n",
       "      <td>91409.0</td>\n",
       "      <td>140161.07</td>\n",
       "      <td>1.0</td>\n",
       "      <td>76.0</td>\n",
       "      <td>K0897</td>\n",
       "      <td>True</td>\n",
       "    </tr>\n",
       "  </tbody>\n",
       "</table>\n",
       "</div>"
      ],
      "text/plain": [
       "     Alter  Einkommen      Preis  Geschlecht  Zeit KundeNr  Ausreißer\n",
       "218     33    38675.0   56493.40         1.0  13.0   K0983       True\n",
       "313     62    96569.0  140745.65         0.0  80.0   K0249       True\n",
       "327     34    24811.0   57541.73         1.0  12.0   K0395       True\n",
       "542     67    89170.0  123408.48         1.0  76.0   K1093       True\n",
       "553     38    33666.0   50494.07         1.0  13.0   K0384       True\n",
       "805     64    91409.0  140161.07         1.0  76.0   K0897       True"
      ]
     },
     "execution_count": 44,
     "metadata": {},
     "output_type": "execute_result"
    }
   ],
   "source": [
    "kunden.loc[kunden['Ausreißer'] == True]"
   ]
  },
  {
   "cell_type": "code",
   "execution_count": 45,
   "id": "ba356621-0127-4ec9-b073-11219a996223",
   "metadata": {},
   "outputs": [
    {
     "data": {
      "text/html": [
       "<div>\n",
       "<style scoped>\n",
       "    .dataframe tbody tr th:only-of-type {\n",
       "        vertical-align: middle;\n",
       "    }\n",
       "\n",
       "    .dataframe tbody tr th {\n",
       "        vertical-align: top;\n",
       "    }\n",
       "\n",
       "    .dataframe thead th {\n",
       "        text-align: right;\n",
       "    }\n",
       "</style>\n",
       "<table border=\"1\" class=\"dataframe\">\n",
       "  <thead>\n",
       "    <tr style=\"text-align: right;\">\n",
       "      <th></th>\n",
       "      <th>Alter</th>\n",
       "      <th>Einkommen</th>\n",
       "      <th>Preis</th>\n",
       "      <th>Geschlecht</th>\n",
       "      <th>Zeit</th>\n",
       "      <th>KundeNr</th>\n",
       "      <th>Ausreißer</th>\n",
       "    </tr>\n",
       "  </thead>\n",
       "  <tbody>\n",
       "    <tr>\n",
       "      <th>0</th>\n",
       "      <td>64</td>\n",
       "      <td>66894.0</td>\n",
       "      <td>88160.31</td>\n",
       "      <td>1.0</td>\n",
       "      <td>43.0</td>\n",
       "      <td>K0310</td>\n",
       "      <td>False</td>\n",
       "    </tr>\n",
       "    <tr>\n",
       "      <th>1</th>\n",
       "      <td>54</td>\n",
       "      <td>77644.0</td>\n",
       "      <td>103145.70</td>\n",
       "      <td>1.0</td>\n",
       "      <td>40.0</td>\n",
       "      <td>K1042</td>\n",
       "      <td>False</td>\n",
       "    </tr>\n",
       "    <tr>\n",
       "      <th>2</th>\n",
       "      <td>55</td>\n",
       "      <td>44341.0</td>\n",
       "      <td>80565.16</td>\n",
       "      <td>0.0</td>\n",
       "      <td>37.0</td>\n",
       "      <td>K0382</td>\n",
       "      <td>False</td>\n",
       "    </tr>\n",
       "    <tr>\n",
       "      <th>3</th>\n",
       "      <td>49</td>\n",
       "      <td>67271.0</td>\n",
       "      <td>83949.89</td>\n",
       "      <td>0.0</td>\n",
       "      <td>42.0</td>\n",
       "      <td>K0498</td>\n",
       "      <td>False</td>\n",
       "    </tr>\n",
       "    <tr>\n",
       "      <th>4</th>\n",
       "      <td>46</td>\n",
       "      <td>49832.0</td>\n",
       "      <td>93781.58</td>\n",
       "      <td>0.0</td>\n",
       "      <td>41.0</td>\n",
       "      <td>K0552</td>\n",
       "      <td>False</td>\n",
       "    </tr>\n",
       "    <tr>\n",
       "      <th>...</th>\n",
       "      <td>...</td>\n",
       "      <td>...</td>\n",
       "      <td>...</td>\n",
       "      <td>...</td>\n",
       "      <td>...</td>\n",
       "      <td>...</td>\n",
       "      <td>...</td>\n",
       "    </tr>\n",
       "    <tr>\n",
       "      <th>1099</th>\n",
       "      <td>70</td>\n",
       "      <td>69581.0</td>\n",
       "      <td>103751.58</td>\n",
       "      <td>1.0</td>\n",
       "      <td>51.0</td>\n",
       "      <td>K0467</td>\n",
       "      <td>False</td>\n",
       "    </tr>\n",
       "    <tr>\n",
       "      <th>1100</th>\n",
       "      <td>38</td>\n",
       "      <td>48301.0</td>\n",
       "      <td>64230.98</td>\n",
       "      <td>1.0</td>\n",
       "      <td>33.0</td>\n",
       "      <td>K0122</td>\n",
       "      <td>False</td>\n",
       "    </tr>\n",
       "    <tr>\n",
       "      <th>1101</th>\n",
       "      <td>67</td>\n",
       "      <td>63547.0</td>\n",
       "      <td>103123.57</td>\n",
       "      <td>1.0</td>\n",
       "      <td>41.0</td>\n",
       "      <td>K1045</td>\n",
       "      <td>False</td>\n",
       "    </tr>\n",
       "    <tr>\n",
       "      <th>1102</th>\n",
       "      <td>37</td>\n",
       "      <td>32686.0</td>\n",
       "      <td>49215.87</td>\n",
       "      <td>1.0</td>\n",
       "      <td>36.0</td>\n",
       "      <td>K1096</td>\n",
       "      <td>False</td>\n",
       "    </tr>\n",
       "    <tr>\n",
       "      <th>1103</th>\n",
       "      <td>55</td>\n",
       "      <td>71240.0</td>\n",
       "      <td>106132.59</td>\n",
       "      <td>1.0</td>\n",
       "      <td>49.0</td>\n",
       "      <td>K0861</td>\n",
       "      <td>False</td>\n",
       "    </tr>\n",
       "  </tbody>\n",
       "</table>\n",
       "<p>1104 rows × 7 columns</p>\n",
       "</div>"
      ],
      "text/plain": [
       "      Alter  Einkommen      Preis  Geschlecht  Zeit KundeNr  Ausreißer\n",
       "0        64    66894.0   88160.31         1.0  43.0   K0310      False\n",
       "1        54    77644.0  103145.70         1.0  40.0   K1042      False\n",
       "2        55    44341.0   80565.16         0.0  37.0   K0382      False\n",
       "3        49    67271.0   83949.89         0.0  42.0   K0498      False\n",
       "4        46    49832.0   93781.58         0.0  41.0   K0552      False\n",
       "...     ...        ...        ...         ...   ...     ...        ...\n",
       "1099     70    69581.0  103751.58         1.0  51.0   K0467      False\n",
       "1100     38    48301.0   64230.98         1.0  33.0   K0122      False\n",
       "1101     67    63547.0  103123.57         1.0  41.0   K1045      False\n",
       "1102     37    32686.0   49215.87         1.0  36.0   K1096      False\n",
       "1103     55    71240.0  106132.59         1.0  49.0   K0861      False\n",
       "\n",
       "[1104 rows x 7 columns]"
      ]
     },
     "execution_count": 45,
     "metadata": {},
     "output_type": "execute_result"
    }
   ],
   "source": [
    "kunden"
   ]
  },
  {
   "cell_type": "code",
   "execution_count": 46,
   "id": "5857396c",
   "metadata": {},
   "outputs": [],
   "source": [
    "# Ausreißer-Zeiten scheinen nicht absurd hoch oder niedrig, daher bleiben sie im Datensatz unbereinigt stehen"
   ]
  },
  {
   "cell_type": "code",
   "execution_count": 47,
   "id": "7d55470b-1790-4f3f-b02a-a55e4a094ba3",
   "metadata": {},
   "outputs": [],
   "source": [
    "# Boolean-Spalte wieder entfernen"
   ]
  },
  {
   "cell_type": "code",
   "execution_count": 48,
   "id": "8c444290",
   "metadata": {},
   "outputs": [],
   "source": [
    "kunden = kunden.drop(kunden.columns[-1], axis=1)"
   ]
  },
  {
   "cell_type": "code",
   "execution_count": 49,
   "id": "90293be4-12e0-4dde-bb90-2e297806511d",
   "metadata": {},
   "outputs": [
    {
     "data": {
      "text/html": [
       "<div>\n",
       "<style scoped>\n",
       "    .dataframe tbody tr th:only-of-type {\n",
       "        vertical-align: middle;\n",
       "    }\n",
       "\n",
       "    .dataframe tbody tr th {\n",
       "        vertical-align: top;\n",
       "    }\n",
       "\n",
       "    .dataframe thead th {\n",
       "        text-align: right;\n",
       "    }\n",
       "</style>\n",
       "<table border=\"1\" class=\"dataframe\">\n",
       "  <thead>\n",
       "    <tr style=\"text-align: right;\">\n",
       "      <th></th>\n",
       "      <th>Alter</th>\n",
       "      <th>Einkommen</th>\n",
       "      <th>Preis</th>\n",
       "      <th>Geschlecht</th>\n",
       "      <th>Zeit</th>\n",
       "      <th>KundeNr</th>\n",
       "    </tr>\n",
       "  </thead>\n",
       "  <tbody>\n",
       "    <tr>\n",
       "      <th>0</th>\n",
       "      <td>64</td>\n",
       "      <td>66894.0</td>\n",
       "      <td>88160.31</td>\n",
       "      <td>1.0</td>\n",
       "      <td>43.0</td>\n",
       "      <td>K0310</td>\n",
       "    </tr>\n",
       "    <tr>\n",
       "      <th>1</th>\n",
       "      <td>54</td>\n",
       "      <td>77644.0</td>\n",
       "      <td>103145.70</td>\n",
       "      <td>1.0</td>\n",
       "      <td>40.0</td>\n",
       "      <td>K1042</td>\n",
       "    </tr>\n",
       "    <tr>\n",
       "      <th>2</th>\n",
       "      <td>55</td>\n",
       "      <td>44341.0</td>\n",
       "      <td>80565.16</td>\n",
       "      <td>0.0</td>\n",
       "      <td>37.0</td>\n",
       "      <td>K0382</td>\n",
       "    </tr>\n",
       "    <tr>\n",
       "      <th>3</th>\n",
       "      <td>49</td>\n",
       "      <td>67271.0</td>\n",
       "      <td>83949.89</td>\n",
       "      <td>0.0</td>\n",
       "      <td>42.0</td>\n",
       "      <td>K0498</td>\n",
       "    </tr>\n",
       "    <tr>\n",
       "      <th>4</th>\n",
       "      <td>46</td>\n",
       "      <td>49832.0</td>\n",
       "      <td>93781.58</td>\n",
       "      <td>0.0</td>\n",
       "      <td>41.0</td>\n",
       "      <td>K0552</td>\n",
       "    </tr>\n",
       "    <tr>\n",
       "      <th>...</th>\n",
       "      <td>...</td>\n",
       "      <td>...</td>\n",
       "      <td>...</td>\n",
       "      <td>...</td>\n",
       "      <td>...</td>\n",
       "      <td>...</td>\n",
       "    </tr>\n",
       "    <tr>\n",
       "      <th>1099</th>\n",
       "      <td>70</td>\n",
       "      <td>69581.0</td>\n",
       "      <td>103751.58</td>\n",
       "      <td>1.0</td>\n",
       "      <td>51.0</td>\n",
       "      <td>K0467</td>\n",
       "    </tr>\n",
       "    <tr>\n",
       "      <th>1100</th>\n",
       "      <td>38</td>\n",
       "      <td>48301.0</td>\n",
       "      <td>64230.98</td>\n",
       "      <td>1.0</td>\n",
       "      <td>33.0</td>\n",
       "      <td>K0122</td>\n",
       "    </tr>\n",
       "    <tr>\n",
       "      <th>1101</th>\n",
       "      <td>67</td>\n",
       "      <td>63547.0</td>\n",
       "      <td>103123.57</td>\n",
       "      <td>1.0</td>\n",
       "      <td>41.0</td>\n",
       "      <td>K1045</td>\n",
       "    </tr>\n",
       "    <tr>\n",
       "      <th>1102</th>\n",
       "      <td>37</td>\n",
       "      <td>32686.0</td>\n",
       "      <td>49215.87</td>\n",
       "      <td>1.0</td>\n",
       "      <td>36.0</td>\n",
       "      <td>K1096</td>\n",
       "    </tr>\n",
       "    <tr>\n",
       "      <th>1103</th>\n",
       "      <td>55</td>\n",
       "      <td>71240.0</td>\n",
       "      <td>106132.59</td>\n",
       "      <td>1.0</td>\n",
       "      <td>49.0</td>\n",
       "      <td>K0861</td>\n",
       "    </tr>\n",
       "  </tbody>\n",
       "</table>\n",
       "<p>1104 rows × 6 columns</p>\n",
       "</div>"
      ],
      "text/plain": [
       "      Alter  Einkommen      Preis  Geschlecht  Zeit KundeNr\n",
       "0        64    66894.0   88160.31         1.0  43.0   K0310\n",
       "1        54    77644.0  103145.70         1.0  40.0   K1042\n",
       "2        55    44341.0   80565.16         0.0  37.0   K0382\n",
       "3        49    67271.0   83949.89         0.0  42.0   K0498\n",
       "4        46    49832.0   93781.58         0.0  41.0   K0552\n",
       "...     ...        ...        ...         ...   ...     ...\n",
       "1099     70    69581.0  103751.58         1.0  51.0   K0467\n",
       "1100     38    48301.0   64230.98         1.0  33.0   K0122\n",
       "1101     67    63547.0  103123.57         1.0  41.0   K1045\n",
       "1102     37    32686.0   49215.87         1.0  36.0   K1096\n",
       "1103     55    71240.0  106132.59         1.0  49.0   K0861\n",
       "\n",
       "[1104 rows x 6 columns]"
      ]
     },
     "execution_count": 49,
     "metadata": {},
     "output_type": "execute_result"
    }
   ],
   "source": [
    "kunden"
   ]
  },
  {
   "cell_type": "code",
   "execution_count": 50,
   "id": "561ab19a-fcbc-4415-9c0d-19dc58b85fd3",
   "metadata": {},
   "outputs": [],
   "source": [
    "# Besucherdaten"
   ]
  },
  {
   "cell_type": "code",
   "execution_count": 51,
   "id": "09fd1f7c-1849-44b9-bc35-4fcfc760f3fe",
   "metadata": {},
   "outputs": [],
   "source": [
    "besucher = pd.read_csv(\"besucher.csv\", decimal = '.', sep = \";\")"
   ]
  },
  {
   "cell_type": "code",
   "execution_count": 52,
   "id": "751a9ef5-797b-4e80-be60-c4aeb0978a78",
   "metadata": {},
   "outputs": [
    {
     "data": {
      "text/html": [
       "<div>\n",
       "<style scoped>\n",
       "    .dataframe tbody tr th:only-of-type {\n",
       "        vertical-align: middle;\n",
       "    }\n",
       "\n",
       "    .dataframe tbody tr th {\n",
       "        vertical-align: top;\n",
       "    }\n",
       "\n",
       "    .dataframe thead th {\n",
       "        text-align: right;\n",
       "    }\n",
       "</style>\n",
       "<table border=\"1\" class=\"dataframe\">\n",
       "  <thead>\n",
       "    <tr style=\"text-align: right;\">\n",
       "      <th></th>\n",
       "      <th>Alter</th>\n",
       "      <th>Einkommen</th>\n",
       "      <th>Geschlecht</th>\n",
       "      <th>Zeit</th>\n",
       "      <th>KundeNr</th>\n",
       "    </tr>\n",
       "  </thead>\n",
       "  <tbody>\n",
       "    <tr>\n",
       "      <th>0</th>\n",
       "      <td>30</td>\n",
       "      <td>39919,0953348874</td>\n",
       "      <td>0</td>\n",
       "      <td>29,0</td>\n",
       "      <td>K1814</td>\n",
       "    </tr>\n",
       "    <tr>\n",
       "      <th>1</th>\n",
       "      <td>41</td>\n",
       "      <td>53430,67308587748</td>\n",
       "      <td>0</td>\n",
       "      <td>27,0</td>\n",
       "      <td>K1544</td>\n",
       "    </tr>\n",
       "    <tr>\n",
       "      <th>2</th>\n",
       "      <td>64</td>\n",
       "      <td>73163,2169267002</td>\n",
       "      <td>0</td>\n",
       "      <td>32,0</td>\n",
       "      <td>K1945</td>\n",
       "    </tr>\n",
       "    <tr>\n",
       "      <th>3</th>\n",
       "      <td>41</td>\n",
       "      <td>36761,482581315344</td>\n",
       "      <td>0</td>\n",
       "      <td>44,0</td>\n",
       "      <td>K1825</td>\n",
       "    </tr>\n",
       "    <tr>\n",
       "      <th>4</th>\n",
       "      <td>35</td>\n",
       "      <td>42684,33163178136</td>\n",
       "      <td>1</td>\n",
       "      <td>33,0</td>\n",
       "      <td>K1144</td>\n",
       "    </tr>\n",
       "  </tbody>\n",
       "</table>\n",
       "</div>"
      ],
      "text/plain": [
       "   Alter           Einkommen  Geschlecht  Zeit KundeNr\n",
       "0     30    39919,0953348874           0  29,0   K1814\n",
       "1     41   53430,67308587748           0  27,0   K1544\n",
       "2     64    73163,2169267002           0  32,0   K1945\n",
       "3     41  36761,482581315344           0  44,0   K1825\n",
       "4     35   42684,33163178136           1  33,0   K1144"
      ]
     },
     "execution_count": 52,
     "metadata": {},
     "output_type": "execute_result"
    }
   ],
   "source": [
    "besucher.head()"
   ]
  },
  {
   "cell_type": "code",
   "execution_count": 53,
   "id": "8c813f97-78e0-4c50-84b5-9e977c12a61f",
   "metadata": {},
   "outputs": [],
   "source": [
    "# Bereinigung um die Nachkommastellen bei Einkommen und Zeit"
   ]
  },
  {
   "cell_type": "code",
   "execution_count": 54,
   "id": "d091c701-748e-45af-846f-68518098f7f3",
   "metadata": {},
   "outputs": [],
   "source": [
    "besucher[\"Einkommen\"] = besucher[\"Einkommen\"].str.replace(\",\",\".\")"
   ]
  },
  {
   "cell_type": "code",
   "execution_count": 55,
   "id": "ea889433-0797-4fd6-b2c6-8ec664d5bc36",
   "metadata": {},
   "outputs": [],
   "source": [
    "besucher[\"Einkommen\"] = pd.to_numeric(besucher[\"Einkommen\"]) "
   ]
  },
  {
   "cell_type": "code",
   "execution_count": 56,
   "id": "a0163f43-b5aa-421a-aba0-f4db98138b15",
   "metadata": {},
   "outputs": [],
   "source": [
    "besucher[\"Einkommen\"] = besucher[\"Einkommen\"].round(0).astype(\"Int64\")"
   ]
  },
  {
   "cell_type": "code",
   "execution_count": 57,
   "id": "99cf18c8-c752-4a78-873c-85d21f7004a2",
   "metadata": {},
   "outputs": [
    {
     "data": {
      "text/html": [
       "<div>\n",
       "<style scoped>\n",
       "    .dataframe tbody tr th:only-of-type {\n",
       "        vertical-align: middle;\n",
       "    }\n",
       "\n",
       "    .dataframe tbody tr th {\n",
       "        vertical-align: top;\n",
       "    }\n",
       "\n",
       "    .dataframe thead th {\n",
       "        text-align: right;\n",
       "    }\n",
       "</style>\n",
       "<table border=\"1\" class=\"dataframe\">\n",
       "  <thead>\n",
       "    <tr style=\"text-align: right;\">\n",
       "      <th></th>\n",
       "      <th>Alter</th>\n",
       "      <th>Einkommen</th>\n",
       "      <th>Geschlecht</th>\n",
       "      <th>Zeit</th>\n",
       "      <th>KundeNr</th>\n",
       "    </tr>\n",
       "  </thead>\n",
       "  <tbody>\n",
       "    <tr>\n",
       "      <th>0</th>\n",
       "      <td>30</td>\n",
       "      <td>39919</td>\n",
       "      <td>0</td>\n",
       "      <td>29,0</td>\n",
       "      <td>K1814</td>\n",
       "    </tr>\n",
       "    <tr>\n",
       "      <th>1</th>\n",
       "      <td>41</td>\n",
       "      <td>53431</td>\n",
       "      <td>0</td>\n",
       "      <td>27,0</td>\n",
       "      <td>K1544</td>\n",
       "    </tr>\n",
       "    <tr>\n",
       "      <th>2</th>\n",
       "      <td>64</td>\n",
       "      <td>73163</td>\n",
       "      <td>0</td>\n",
       "      <td>32,0</td>\n",
       "      <td>K1945</td>\n",
       "    </tr>\n",
       "    <tr>\n",
       "      <th>3</th>\n",
       "      <td>41</td>\n",
       "      <td>36761</td>\n",
       "      <td>0</td>\n",
       "      <td>44,0</td>\n",
       "      <td>K1825</td>\n",
       "    </tr>\n",
       "    <tr>\n",
       "      <th>4</th>\n",
       "      <td>35</td>\n",
       "      <td>42684</td>\n",
       "      <td>1</td>\n",
       "      <td>33,0</td>\n",
       "      <td>K1144</td>\n",
       "    </tr>\n",
       "  </tbody>\n",
       "</table>\n",
       "</div>"
      ],
      "text/plain": [
       "   Alter  Einkommen  Geschlecht  Zeit KundeNr\n",
       "0     30      39919           0  29,0   K1814\n",
       "1     41      53431           0  27,0   K1544\n",
       "2     64      73163           0  32,0   K1945\n",
       "3     41      36761           0  44,0   K1825\n",
       "4     35      42684           1  33,0   K1144"
      ]
     },
     "execution_count": 57,
     "metadata": {},
     "output_type": "execute_result"
    }
   ],
   "source": [
    "besucher.head()"
   ]
  },
  {
   "cell_type": "code",
   "execution_count": 58,
   "id": "10841500-6ade-454b-8d1e-5291ba3b59e5",
   "metadata": {},
   "outputs": [],
   "source": [
    "besucher[\"Zeit\"] = besucher[\"Zeit\"].str.replace(\",\",\".\")"
   ]
  },
  {
   "cell_type": "code",
   "execution_count": 59,
   "id": "2afb533d-3e39-4c01-a5a7-b0a5ef4ad5a5",
   "metadata": {},
   "outputs": [],
   "source": [
    "besucher[\"Zeit\"] = pd.to_numeric(besucher[\"Zeit\"])"
   ]
  },
  {
   "cell_type": "code",
   "execution_count": 60,
   "id": "e70bde10-02cb-4f20-895c-13cb2d4ec350",
   "metadata": {},
   "outputs": [],
   "source": [
    "besucher[\"Zeit\"] = besucher[\"Zeit\"].round(0).astype(\"Int64\")"
   ]
  },
  {
   "cell_type": "code",
   "execution_count": 61,
   "id": "96f08525-e6e6-438e-8d8d-d75a9853972f",
   "metadata": {},
   "outputs": [
    {
     "data": {
      "text/html": [
       "<div>\n",
       "<style scoped>\n",
       "    .dataframe tbody tr th:only-of-type {\n",
       "        vertical-align: middle;\n",
       "    }\n",
       "\n",
       "    .dataframe tbody tr th {\n",
       "        vertical-align: top;\n",
       "    }\n",
       "\n",
       "    .dataframe thead th {\n",
       "        text-align: right;\n",
       "    }\n",
       "</style>\n",
       "<table border=\"1\" class=\"dataframe\">\n",
       "  <thead>\n",
       "    <tr style=\"text-align: right;\">\n",
       "      <th></th>\n",
       "      <th>Alter</th>\n",
       "      <th>Einkommen</th>\n",
       "      <th>Geschlecht</th>\n",
       "      <th>Zeit</th>\n",
       "      <th>KundeNr</th>\n",
       "    </tr>\n",
       "  </thead>\n",
       "  <tbody>\n",
       "    <tr>\n",
       "      <th>0</th>\n",
       "      <td>30</td>\n",
       "      <td>39919</td>\n",
       "      <td>0</td>\n",
       "      <td>29</td>\n",
       "      <td>K1814</td>\n",
       "    </tr>\n",
       "    <tr>\n",
       "      <th>1</th>\n",
       "      <td>41</td>\n",
       "      <td>53431</td>\n",
       "      <td>0</td>\n",
       "      <td>27</td>\n",
       "      <td>K1544</td>\n",
       "    </tr>\n",
       "    <tr>\n",
       "      <th>2</th>\n",
       "      <td>64</td>\n",
       "      <td>73163</td>\n",
       "      <td>0</td>\n",
       "      <td>32</td>\n",
       "      <td>K1945</td>\n",
       "    </tr>\n",
       "    <tr>\n",
       "      <th>3</th>\n",
       "      <td>41</td>\n",
       "      <td>36761</td>\n",
       "      <td>0</td>\n",
       "      <td>44</td>\n",
       "      <td>K1825</td>\n",
       "    </tr>\n",
       "    <tr>\n",
       "      <th>4</th>\n",
       "      <td>35</td>\n",
       "      <td>42684</td>\n",
       "      <td>1</td>\n",
       "      <td>33</td>\n",
       "      <td>K1144</td>\n",
       "    </tr>\n",
       "  </tbody>\n",
       "</table>\n",
       "</div>"
      ],
      "text/plain": [
       "   Alter  Einkommen  Geschlecht  Zeit KundeNr\n",
       "0     30      39919           0    29   K1814\n",
       "1     41      53431           0    27   K1544\n",
       "2     64      73163           0    32   K1945\n",
       "3     41      36761           0    44   K1825\n",
       "4     35      42684           1    33   K1144"
      ]
     },
     "execution_count": 61,
     "metadata": {},
     "output_type": "execute_result"
    }
   ],
   "source": [
    "besucher.head()"
   ]
  },
  {
   "cell_type": "code",
   "execution_count": 62,
   "id": "703ca297-14dd-4032-a52a-83edcf48fd4c",
   "metadata": {},
   "outputs": [],
   "source": [
    "# Fehlende Datenpunkte im Datensatz"
   ]
  },
  {
   "cell_type": "code",
   "execution_count": 63,
   "id": "cf5407c9-e489-4301-bc77-2b7e3e4b6d10",
   "metadata": {},
   "outputs": [
    {
     "data": {
      "text/plain": [
       "Alter         0\n",
       "Einkommen     0\n",
       "Geschlecht    0\n",
       "Zeit          0\n",
       "KundeNr       0\n",
       "dtype: int64"
      ]
     },
     "execution_count": 63,
     "metadata": {},
     "output_type": "execute_result"
    }
   ],
   "source": [
    "besucher.isnull().sum()"
   ]
  },
  {
   "cell_type": "code",
   "execution_count": 64,
   "id": "fe420a54-bf17-49d7-97c0-c85f3682c937",
   "metadata": {},
   "outputs": [],
   "source": [
    "# keine Fehlenden Datenpunkte"
   ]
  },
  {
   "cell_type": "code",
   "execution_count": 65,
   "id": "c406389b-29f5-49f1-8abc-6a00120023aa",
   "metadata": {},
   "outputs": [],
   "source": [
    "# Boxplots"
   ]
  },
  {
   "cell_type": "code",
   "execution_count": 66,
   "id": "c8972a3c-3306-411d-b7d8-0877b95f2bef",
   "metadata": {},
   "outputs": [],
   "source": [
    "boxplot_besucher_alter = besucher.boxplot(column = 'Alter')"
   ]
  },
  {
   "cell_type": "code",
   "execution_count": 67,
   "id": "cc38cd47-4679-4b79-a570-0e8de93dae81",
   "metadata": {},
   "outputs": [
    {
     "data": {
      "image/png": "[encoded data removed]",
      "text/plain": [
       "<Figure size 640x480 with 1 Axes>"
      ]
     },
     "metadata": {},
     "output_type": "display_data"
    }
   ],
   "source": [
    "plt.show()"
   ]
  },
  {
   "cell_type": "code",
   "execution_count": 68,
   "id": "69523c19-d7c8-4f1c-8021-8695caf4eb55",
   "metadata": {},
   "outputs": [],
   "source": [
    "boxplot_besucher_einkommen = besucher.boxplot(column = 'Einkommen')"
   ]
  },
  {
   "cell_type": "code",
   "execution_count": 69,
   "id": "7fa5dc11-493d-4d6c-900b-266a4e0ca88a",
   "metadata": {},
   "outputs": [
    {
     "data": {
      "image/png": "[encoded data removed]",
      "text/plain": [
       "<Figure size 640x480 with 1 Axes>"
      ]
     },
     "metadata": {},
     "output_type": "display_data"
    }
   ],
   "source": [
    "plt.show()"
   ]
  },
  {
   "cell_type": "code",
   "execution_count": 70,
   "id": "dd8c238c-7edb-4f21-8df2-bf25a0688be6",
   "metadata": {},
   "outputs": [],
   "source": [
    "boxplot_besucher_zeit = besucher.boxplot(column = 'Zeit')"
   ]
  },
  {
   "cell_type": "code",
   "execution_count": 71,
   "id": "700cdf1e-3068-4943-aac7-68dee16107ab",
   "metadata": {},
   "outputs": [
    {
     "data": {
      "image/png": "[encoded data removed]",
      "text/plain": [
       "<Figure size 640x480 with 1 Axes>"
      ]
     },
     "metadata": {},
     "output_type": "display_data"
    }
   ],
   "source": [
    "plt.show()"
   ]
  },
  {
   "cell_type": "code",
   "execution_count": 72,
   "id": "1388183a-d7fd-4843-a66e-197659f50c40",
   "metadata": {},
   "outputs": [],
   "source": [
    "# Ausreißer identifizieren"
   ]
  },
  {
   "cell_type": "code",
   "execution_count": 73,
   "id": "66409a3a-bac3-4ae9-9bbd-4e31b1b3a556",
   "metadata": {},
   "outputs": [],
   "source": [
    "# 1. Einkommen"
   ]
  },
  {
   "cell_type": "code",
   "execution_count": 74,
   "id": "f63485c2-4d8d-47f8-ab35-346c7ffe6ae9",
   "metadata": {},
   "outputs": [
    {
     "data": {
      "text/plain": [
       "Ausreißer\n",
       "False    888\n",
       "True       3\n",
       "Name: count, dtype: Int64"
      ]
     },
     "execution_count": 74,
     "metadata": {},
     "output_type": "execute_result"
    }
   ],
   "source": [
    "Q1_einkommen_besucher = besucher['Einkommen'].quantile(0.25)\n",
    "Q3_einkommen_besucher = besucher['Einkommen'].quantile(0.75)\n",
    "IQR_einkommen_besucher = Q3_einkommen_besucher - Q1_einkommen_besucher\n",
    "untere_grenze_einkommen_besucher = Q1_einkommen_besucher - 1.5 * IQR_einkommen_besucher\n",
    "obere_grenze_einkommen_besucher = Q3_einkommen_besucher + 1.5 * IQR_einkommen_besucher\n",
    "besucher['Ausreißer'] = (besucher['Einkommen'] < untere_grenze_einkommen_besucher) | (besucher['Einkommen'] > obere_grenze_einkommen_besucher)\n",
    "ausreißer_einkommen_besucher = besucher.Ausreißer.value_counts()\n",
    "ausreißer_einkommen_besucher"
   ]
  },
  {
   "cell_type": "code",
   "execution_count": 75,
   "id": "c58942af-27b1-4263-8530-c70d0fe14583",
   "metadata": {},
   "outputs": [
    {
     "data": {
      "text/html": [
       "<div>\n",
       "<style scoped>\n",
       "    .dataframe tbody tr th:only-of-type {\n",
       "        vertical-align: middle;\n",
       "    }\n",
       "\n",
       "    .dataframe tbody tr th {\n",
       "        vertical-align: top;\n",
       "    }\n",
       "\n",
       "    .dataframe thead th {\n",
       "        text-align: right;\n",
       "    }\n",
       "</style>\n",
       "<table border=\"1\" class=\"dataframe\">\n",
       "  <thead>\n",
       "    <tr style=\"text-align: right;\">\n",
       "      <th></th>\n",
       "      <th>Alter</th>\n",
       "      <th>Einkommen</th>\n",
       "      <th>Geschlecht</th>\n",
       "      <th>Zeit</th>\n",
       "      <th>KundeNr</th>\n",
       "      <th>Ausreißer</th>\n",
       "    </tr>\n",
       "  </thead>\n",
       "  <tbody>\n",
       "    <tr>\n",
       "      <th>44</th>\n",
       "      <td>69</td>\n",
       "      <td>108569</td>\n",
       "      <td>1</td>\n",
       "      <td>47</td>\n",
       "      <td>K1467</td>\n",
       "      <td>True</td>\n",
       "    </tr>\n",
       "    <tr>\n",
       "      <th>132</th>\n",
       "      <td>31</td>\n",
       "      <td>12032</td>\n",
       "      <td>1</td>\n",
       "      <td>32</td>\n",
       "      <td>K1586</td>\n",
       "      <td>True</td>\n",
       "    </tr>\n",
       "    <tr>\n",
       "      <th>265</th>\n",
       "      <td>31</td>\n",
       "      <td>10802</td>\n",
       "      <td>1</td>\n",
       "      <td>25</td>\n",
       "      <td>K1561</td>\n",
       "      <td>True</td>\n",
       "    </tr>\n",
       "  </tbody>\n",
       "</table>\n",
       "</div>"
      ],
      "text/plain": [
       "     Alter  Einkommen  Geschlecht  Zeit KundeNr  Ausreißer\n",
       "44      69     108569           1    47   K1467       True\n",
       "132     31      12032           1    32   K1586       True\n",
       "265     31      10802           1    25   K1561       True"
      ]
     },
     "execution_count": 75,
     "metadata": {},
     "output_type": "execute_result"
    }
   ],
   "source": [
    "besucher.loc[besucher['Ausreißer'] == True]"
   ]
  },
  {
   "cell_type": "code",
   "execution_count": 76,
   "id": "6642bdf2-b747-478d-b15f-07eedf5ed970",
   "metadata": {},
   "outputs": [],
   "source": [
    "# Ausreißer erscheinen plausibel (Autobesichtigung mit Einkommen i. H. v. den oben stehenden Werten ist plausibel)"
   ]
  },
  {
   "cell_type": "code",
   "execution_count": 77,
   "id": "e4e47a9a-1213-46b8-a0d3-af6036c12a63",
   "metadata": {},
   "outputs": [],
   "source": [
    "# 2. Zeit"
   ]
  },
  {
   "cell_type": "code",
   "execution_count": 78,
   "id": "8a3cd720-982f-418d-8256-4e583e636db0",
   "metadata": {},
   "outputs": [
    {
     "data": {
      "text/plain": [
       "Ausreißer\n",
       "False    888\n",
       "True       3\n",
       "Name: count, dtype: Int64"
      ]
     },
     "execution_count": 78,
     "metadata": {},
     "output_type": "execute_result"
    }
   ],
   "source": [
    "Q1_zeit_besucher = besucher['Zeit'].quantile(0.25)\n",
    "Q3_zeit_besucher = besucher['Zeit'].quantile(0.75)\n",
    "IQR_zeit_besucher = Q3_zeit_besucher - Q1_zeit_besucher\n",
    "untere_grenze_zeit_besucher = Q1_zeit_besucher - 1.5 * IQR_zeit_besucher\n",
    "obere_grenze_zeit_besucher = Q3_zeit_besucher + 1.5 * IQR_zeit_besucher\n",
    "besucher['Ausreißer'] = (besucher['Zeit'] < untere_grenze_zeit_besucher) | (besucher['Zeit'] > obere_grenze_zeit_besucher)\n",
    "ausreißer_zeit_besucher = besucher.Ausreißer.value_counts()\n",
    "ausreißer_zeit_besucher"
   ]
  },
  {
   "cell_type": "code",
   "execution_count": 79,
   "id": "b8ae8dca-eba9-4281-b887-fb06dd646dc2",
   "metadata": {},
   "outputs": [
    {
     "data": {
      "text/html": [
       "<div>\n",
       "<style scoped>\n",
       "    .dataframe tbody tr th:only-of-type {\n",
       "        vertical-align: middle;\n",
       "    }\n",
       "\n",
       "    .dataframe tbody tr th {\n",
       "        vertical-align: top;\n",
       "    }\n",
       "\n",
       "    .dataframe thead th {\n",
       "        text-align: right;\n",
       "    }\n",
       "</style>\n",
       "<table border=\"1\" class=\"dataframe\">\n",
       "  <thead>\n",
       "    <tr style=\"text-align: right;\">\n",
       "      <th></th>\n",
       "      <th>Alter</th>\n",
       "      <th>Einkommen</th>\n",
       "      <th>Geschlecht</th>\n",
       "      <th>Zeit</th>\n",
       "      <th>KundeNr</th>\n",
       "      <th>Ausreißer</th>\n",
       "    </tr>\n",
       "  </thead>\n",
       "  <tbody>\n",
       "    <tr>\n",
       "      <th>105</th>\n",
       "      <td>40</td>\n",
       "      <td>39581</td>\n",
       "      <td>1</td>\n",
       "      <td>5</td>\n",
       "      <td>K1547</td>\n",
       "      <td>True</td>\n",
       "    </tr>\n",
       "    <tr>\n",
       "      <th>158</th>\n",
       "      <td>31</td>\n",
       "      <td>38299</td>\n",
       "      <td>1</td>\n",
       "      <td>3</td>\n",
       "      <td>K1623</td>\n",
       "      <td>True</td>\n",
       "    </tr>\n",
       "    <tr>\n",
       "      <th>603</th>\n",
       "      <td>62</td>\n",
       "      <td>84205</td>\n",
       "      <td>1</td>\n",
       "      <td>68</td>\n",
       "      <td>K1526</td>\n",
       "      <td>True</td>\n",
       "    </tr>\n",
       "  </tbody>\n",
       "</table>\n",
       "</div>"
      ],
      "text/plain": [
       "     Alter  Einkommen  Geschlecht  Zeit KundeNr  Ausreißer\n",
       "105     40      39581           1     5   K1547       True\n",
       "158     31      38299           1     3   K1623       True\n",
       "603     62      84205           1    68   K1526       True"
      ]
     },
     "execution_count": 79,
     "metadata": {},
     "output_type": "execute_result"
    }
   ],
   "source": [
    "besucher.loc[besucher['Ausreißer'] == True]"
   ]
  },
  {
   "cell_type": "code",
   "execution_count": 80,
   "id": "3f92fb50-266b-4ea0-86a2-06924d00b1ed",
   "metadata": {},
   "outputs": [],
   "source": [
    "# Ausreißer erscheinen plausibel (Autobesichtigung über 3; 5 und 68 Minuten ist plausibel)"
   ]
  },
  {
   "cell_type": "code",
   "execution_count": 81,
   "id": "68f2c004-0a6c-4ecc-a208-cb6aa5c9b713",
   "metadata": {},
   "outputs": [],
   "source": [
    "# 3. beim Alter sind auf den Boxplots keine Ausreißer zu erkennen, daher werden keine Ausreißer untersucht"
   ]
  },
  {
   "cell_type": "code",
   "execution_count": 82,
   "id": "6313b1d5-c967-45b0-8a11-76cd690aaa00",
   "metadata": {},
   "outputs": [],
   "source": [
    "# Boolean-Spalte wieder entfernen"
   ]
  },
  {
   "cell_type": "code",
   "execution_count": 83,
   "id": "9ed7ad57-ca0b-44eb-b6f3-49a9bcb8bbe4",
   "metadata": {},
   "outputs": [],
   "source": [
    "besucher = besucher.drop(besucher.columns[-1], axis=1)"
   ]
  },
  {
   "cell_type": "code",
   "execution_count": 84,
   "id": "3e271bb2-2a86-470b-9e53-07413ada7fc1",
   "metadata": {},
   "outputs": [
    {
     "data": {
      "text/html": [
       "<div>\n",
       "<style scoped>\n",
       "    .dataframe tbody tr th:only-of-type {\n",
       "        vertical-align: middle;\n",
       "    }\n",
       "\n",
       "    .dataframe tbody tr th {\n",
       "        vertical-align: top;\n",
       "    }\n",
       "\n",
       "    .dataframe thead th {\n",
       "        text-align: right;\n",
       "    }\n",
       "</style>\n",
       "<table border=\"1\" class=\"dataframe\">\n",
       "  <thead>\n",
       "    <tr style=\"text-align: right;\">\n",
       "      <th></th>\n",
       "      <th>Alter</th>\n",
       "      <th>Einkommen</th>\n",
       "      <th>Geschlecht</th>\n",
       "      <th>Zeit</th>\n",
       "      <th>KundeNr</th>\n",
       "    </tr>\n",
       "  </thead>\n",
       "  <tbody>\n",
       "    <tr>\n",
       "      <th>0</th>\n",
       "      <td>30</td>\n",
       "      <td>39919</td>\n",
       "      <td>0</td>\n",
       "      <td>29</td>\n",
       "      <td>K1814</td>\n",
       "    </tr>\n",
       "    <tr>\n",
       "      <th>1</th>\n",
       "      <td>41</td>\n",
       "      <td>53431</td>\n",
       "      <td>0</td>\n",
       "      <td>27</td>\n",
       "      <td>K1544</td>\n",
       "    </tr>\n",
       "    <tr>\n",
       "      <th>2</th>\n",
       "      <td>64</td>\n",
       "      <td>73163</td>\n",
       "      <td>0</td>\n",
       "      <td>32</td>\n",
       "      <td>K1945</td>\n",
       "    </tr>\n",
       "    <tr>\n",
       "      <th>3</th>\n",
       "      <td>41</td>\n",
       "      <td>36761</td>\n",
       "      <td>0</td>\n",
       "      <td>44</td>\n",
       "      <td>K1825</td>\n",
       "    </tr>\n",
       "    <tr>\n",
       "      <th>4</th>\n",
       "      <td>35</td>\n",
       "      <td>42684</td>\n",
       "      <td>1</td>\n",
       "      <td>33</td>\n",
       "      <td>K1144</td>\n",
       "    </tr>\n",
       "    <tr>\n",
       "      <th>...</th>\n",
       "      <td>...</td>\n",
       "      <td>...</td>\n",
       "      <td>...</td>\n",
       "      <td>...</td>\n",
       "      <td>...</td>\n",
       "    </tr>\n",
       "    <tr>\n",
       "      <th>886</th>\n",
       "      <td>32</td>\n",
       "      <td>34392</td>\n",
       "      <td>1</td>\n",
       "      <td>48</td>\n",
       "      <td>K1211</td>\n",
       "    </tr>\n",
       "    <tr>\n",
       "      <th>887</th>\n",
       "      <td>41</td>\n",
       "      <td>68516</td>\n",
       "      <td>0</td>\n",
       "      <td>34</td>\n",
       "      <td>K1375</td>\n",
       "    </tr>\n",
       "    <tr>\n",
       "      <th>888</th>\n",
       "      <td>65</td>\n",
       "      <td>89685</td>\n",
       "      <td>0</td>\n",
       "      <td>23</td>\n",
       "      <td>K1965</td>\n",
       "    </tr>\n",
       "    <tr>\n",
       "      <th>889</th>\n",
       "      <td>68</td>\n",
       "      <td>95714</td>\n",
       "      <td>0</td>\n",
       "      <td>32</td>\n",
       "      <td>K1540</td>\n",
       "    </tr>\n",
       "    <tr>\n",
       "      <th>890</th>\n",
       "      <td>49</td>\n",
       "      <td>73319</td>\n",
       "      <td>0</td>\n",
       "      <td>27</td>\n",
       "      <td>K1207</td>\n",
       "    </tr>\n",
       "  </tbody>\n",
       "</table>\n",
       "<p>891 rows × 5 columns</p>\n",
       "</div>"
      ],
      "text/plain": [
       "     Alter  Einkommen  Geschlecht  Zeit KundeNr\n",
       "0       30      39919           0    29   K1814\n",
       "1       41      53431           0    27   K1544\n",
       "2       64      73163           0    32   K1945\n",
       "3       41      36761           0    44   K1825\n",
       "4       35      42684           1    33   K1144\n",
       "..     ...        ...         ...   ...     ...\n",
       "886     32      34392           1    48   K1211\n",
       "887     41      68516           0    34   K1375\n",
       "888     65      89685           0    23   K1965\n",
       "889     68      95714           0    32   K1540\n",
       "890     49      73319           0    27   K1207\n",
       "\n",
       "[891 rows x 5 columns]"
      ]
     },
     "execution_count": 84,
     "metadata": {},
     "output_type": "execute_result"
    }
   ],
   "source": [
    "besucher"
   ]
  },
  {
   "cell_type": "code",
   "execution_count": 85,
   "id": "f900052e-b79c-41fe-9a4b-16a448dba319",
   "metadata": {},
   "outputs": [],
   "source": [
    "# Geodaten"
   ]
  },
  {
   "cell_type": "code",
   "execution_count": 86,
   "id": "c4136bca-9c51-4b6f-a76e-6062d74b898c",
   "metadata": {},
   "outputs": [],
   "source": [
    "geo = pd.read_csv(\"geo.txt\", sep = \"\\t\")"
   ]
  },
  {
   "cell_type": "code",
   "execution_count": 87,
   "id": "dbe75196-a6aa-4418-bf3d-3980c53df64f",
   "metadata": {
    "slideshow": {
     "slide_type": ""
    },
    "tags": []
   },
   "outputs": [
    {
     "data": {
      "text/html": [
       "<div>\n",
       "<style scoped>\n",
       "    .dataframe tbody tr th:only-of-type {\n",
       "        vertical-align: middle;\n",
       "    }\n",
       "\n",
       "    .dataframe tbody tr th {\n",
       "        vertical-align: top;\n",
       "    }\n",
       "\n",
       "    .dataframe thead th {\n",
       "        text-align: right;\n",
       "    }\n",
       "</style>\n",
       "<table border=\"1\" class=\"dataframe\">\n",
       "  <thead>\n",
       "    <tr style=\"text-align: right;\">\n",
       "      <th></th>\n",
       "      <th>KundeNr</th>\n",
       "      <th>Niederlassung</th>\n",
       "    </tr>\n",
       "  </thead>\n",
       "  <tbody>\n",
       "    <tr>\n",
       "      <th>0</th>\n",
       "      <td>K0001</td>\n",
       "      <td>Sachsen</td>\n",
       "    </tr>\n",
       "    <tr>\n",
       "      <th>1</th>\n",
       "      <td>K0002</td>\n",
       "      <td>NRW</td>\n",
       "    </tr>\n",
       "    <tr>\n",
       "      <th>2</th>\n",
       "      <td>K0003</td>\n",
       "      <td>Hessen</td>\n",
       "    </tr>\n",
       "    <tr>\n",
       "      <th>3</th>\n",
       "      <td>K0004</td>\n",
       "      <td>Bayern</td>\n",
       "    </tr>\n",
       "    <tr>\n",
       "      <th>4</th>\n",
       "      <td>K0005</td>\n",
       "      <td>Bayern</td>\n",
       "    </tr>\n",
       "    <tr>\n",
       "      <th>...</th>\n",
       "      <td>...</td>\n",
       "      <td>...</td>\n",
       "    </tr>\n",
       "    <tr>\n",
       "      <th>1990</th>\n",
       "      <td>K1991</td>\n",
       "      <td>Hessen</td>\n",
       "    </tr>\n",
       "    <tr>\n",
       "      <th>1991</th>\n",
       "      <td>K1992</td>\n",
       "      <td>Baden-Württemberg</td>\n",
       "    </tr>\n",
       "    <tr>\n",
       "      <th>1992</th>\n",
       "      <td>K1993</td>\n",
       "      <td>Nordrhein-Westfalen</td>\n",
       "    </tr>\n",
       "    <tr>\n",
       "      <th>1993</th>\n",
       "      <td>K1994</td>\n",
       "      <td>Berlin</td>\n",
       "    </tr>\n",
       "    <tr>\n",
       "      <th>1994</th>\n",
       "      <td>K1995</td>\n",
       "      <td>Berlin-Charlottenburg</td>\n",
       "    </tr>\n",
       "  </tbody>\n",
       "</table>\n",
       "<p>1995 rows × 2 columns</p>\n",
       "</div>"
      ],
      "text/plain": [
       "     KundeNr          Niederlassung\n",
       "0      K0001                Sachsen\n",
       "1      K0002                    NRW\n",
       "2      K0003                 Hessen\n",
       "3      K0004                 Bayern\n",
       "4      K0005                 Bayern\n",
       "...      ...                    ...\n",
       "1990   K1991                 Hessen\n",
       "1991   K1992      Baden-Württemberg\n",
       "1992   K1993    Nordrhein-Westfalen\n",
       "1993   K1994                 Berlin\n",
       "1994   K1995  Berlin-Charlottenburg\n",
       "\n",
       "[1995 rows x 2 columns]"
      ]
     },
     "execution_count": 87,
     "metadata": {},
     "output_type": "execute_result"
    }
   ],
   "source": [
    "geo\n"
   ]
  },
  {
   "cell_type": "code",
   "execution_count": 88,
   "id": "3d3d6633-7542-42ef-b347-c883c0c98100",
   "metadata": {},
   "outputs": [],
   "source": [
    "geo_niederlassung_uniques = geo[\"Niederlassung\"].unique()"
   ]
  },
  {
   "cell_type": "code",
   "execution_count": 89,
   "id": "a56abc9b-4df7-46bd-a98e-aa84d826dc3f",
   "metadata": {},
   "outputs": [
    {
     "name": "stdout",
     "output_type": "stream",
     "text": [
      "['Sachsen' 'NRW' 'Hessen' 'Bayern' 'Baden-Württemberg'\n",
      " 'Nordrhein-Westfalen' 'Berlin' 'Niedersachsen' 'Brandenburg' 'Thüringen'\n",
      " 'Hamburg' 'Düsseldorf' 'Berlin-Charlottenburg' 'Berlin-Mitte' 'BERLIN']\n"
     ]
    }
   ],
   "source": [
    "print(geo_niederlassung_uniques)"
   ]
  },
  {
   "cell_type": "code",
   "execution_count": 90,
   "id": "da4e7ddf-31e2-438b-8bac-02be1403edd1",
   "metadata": {},
   "outputs": [],
   "source": [
    "# Bereinigung der Datenpunkte (NRW, Düsseldorf zu Nordrhein-Westfalen), (Berlin-Charlottenburg, Berlin-Mitte, BERLIN zu Berlin)"
   ]
  },
  {
   "cell_type": "code",
   "execution_count": 91,
   "id": "4c4af355-f44b-4c59-8091-9e295aafdc8b",
   "metadata": {},
   "outputs": [],
   "source": [
    "geo_cleaning = {\n",
    "    \"NRW\" : \"Nordrhein-Westfalen\" , \n",
    "    \"Berlin-Charlottenburg\" : \"Berlin\" ,\n",
    "    \"Berlin-Mitte\" : \"Berlin\" ,\n",
    "    \"BERLIN\" : \"Berlin\",\n",
    "    \"Düsseldorf\" : \"Nordrhein-Westfalen\"}\n",
    "\n",
    "geo[\"Niederlassung\"] = geo[\"Niederlassung\"].replace(geo_cleaning, regex = True)"
   ]
  },
  {
   "cell_type": "code",
   "execution_count": 92,
   "id": "5c580644-5d8d-4562-8045-aea82c87e675",
   "metadata": {},
   "outputs": [],
   "source": [
    "geo_niederlassung_uniques2 = geo[\"Niederlassung\"].unique()"
   ]
  },
  {
   "cell_type": "code",
   "execution_count": 93,
   "id": "cefeaad5-24d2-4574-8e43-594527bd008d",
   "metadata": {},
   "outputs": [
    {
     "name": "stdout",
     "output_type": "stream",
     "text": [
      "['Sachsen' 'Nordrhein-Westfalen' 'Hessen' 'Bayern' 'Baden-Württemberg'\n",
      " 'Berlin' 'Niedersachsen' 'Brandenburg' 'Thüringen' 'Hamburg']\n"
     ]
    }
   ],
   "source": [
    "print(geo_niederlassung_uniques2)"
   ]
  },
  {
   "cell_type": "code",
   "execution_count": 94,
   "id": "5a1b9ec4-1edf-4618-8e05-abdb19ce9b75",
   "metadata": {},
   "outputs": [],
   "source": [
    "# Verbinden der Besucher und Kundenliste, jeweils mit der Geoliste"
   ]
  },
  {
   "cell_type": "code",
   "execution_count": 95,
   "id": "1aa4ee74-bd60-4759-9675-a6e2655ee6cf",
   "metadata": {},
   "outputs": [],
   "source": [
    "besucher_geo = pd.merge(besucher, geo, on = \"KundeNr\")"
   ]
  },
  {
   "cell_type": "code",
   "execution_count": 96,
   "id": "5184bf5c-aa60-4c97-931b-fc1cd9254ae5",
   "metadata": {},
   "outputs": [
    {
     "data": {
      "text/html": [
       "<div>\n",
       "<style scoped>\n",
       "    .dataframe tbody tr th:only-of-type {\n",
       "        vertical-align: middle;\n",
       "    }\n",
       "\n",
       "    .dataframe tbody tr th {\n",
       "        vertical-align: top;\n",
       "    }\n",
       "\n",
       "    .dataframe thead th {\n",
       "        text-align: right;\n",
       "    }\n",
       "</style>\n",
       "<table border=\"1\" class=\"dataframe\">\n",
       "  <thead>\n",
       "    <tr style=\"text-align: right;\">\n",
       "      <th></th>\n",
       "      <th>Alter</th>\n",
       "      <th>Einkommen</th>\n",
       "      <th>Geschlecht</th>\n",
       "      <th>Zeit</th>\n",
       "      <th>KundeNr</th>\n",
       "      <th>Niederlassung</th>\n",
       "    </tr>\n",
       "  </thead>\n",
       "  <tbody>\n",
       "    <tr>\n",
       "      <th>0</th>\n",
       "      <td>30</td>\n",
       "      <td>39919</td>\n",
       "      <td>0</td>\n",
       "      <td>29</td>\n",
       "      <td>K1814</td>\n",
       "      <td>Bayern</td>\n",
       "    </tr>\n",
       "    <tr>\n",
       "      <th>1</th>\n",
       "      <td>41</td>\n",
       "      <td>53431</td>\n",
       "      <td>0</td>\n",
       "      <td>27</td>\n",
       "      <td>K1544</td>\n",
       "      <td>Baden-Württemberg</td>\n",
       "    </tr>\n",
       "    <tr>\n",
       "      <th>2</th>\n",
       "      <td>64</td>\n",
       "      <td>73163</td>\n",
       "      <td>0</td>\n",
       "      <td>32</td>\n",
       "      <td>K1945</td>\n",
       "      <td>Baden-Württemberg</td>\n",
       "    </tr>\n",
       "    <tr>\n",
       "      <th>3</th>\n",
       "      <td>41</td>\n",
       "      <td>36761</td>\n",
       "      <td>0</td>\n",
       "      <td>44</td>\n",
       "      <td>K1825</td>\n",
       "      <td>Baden-Württemberg</td>\n",
       "    </tr>\n",
       "    <tr>\n",
       "      <th>4</th>\n",
       "      <td>35</td>\n",
       "      <td>42684</td>\n",
       "      <td>1</td>\n",
       "      <td>33</td>\n",
       "      <td>K1144</td>\n",
       "      <td>Nordrhein-Westfalen</td>\n",
       "    </tr>\n",
       "    <tr>\n",
       "      <th>...</th>\n",
       "      <td>...</td>\n",
       "      <td>...</td>\n",
       "      <td>...</td>\n",
       "      <td>...</td>\n",
       "      <td>...</td>\n",
       "      <td>...</td>\n",
       "    </tr>\n",
       "    <tr>\n",
       "      <th>886</th>\n",
       "      <td>32</td>\n",
       "      <td>34392</td>\n",
       "      <td>1</td>\n",
       "      <td>48</td>\n",
       "      <td>K1211</td>\n",
       "      <td>Hessen</td>\n",
       "    </tr>\n",
       "    <tr>\n",
       "      <th>887</th>\n",
       "      <td>41</td>\n",
       "      <td>68516</td>\n",
       "      <td>0</td>\n",
       "      <td>34</td>\n",
       "      <td>K1375</td>\n",
       "      <td>Sachsen</td>\n",
       "    </tr>\n",
       "    <tr>\n",
       "      <th>888</th>\n",
       "      <td>65</td>\n",
       "      <td>89685</td>\n",
       "      <td>0</td>\n",
       "      <td>23</td>\n",
       "      <td>K1965</td>\n",
       "      <td>Bayern</td>\n",
       "    </tr>\n",
       "    <tr>\n",
       "      <th>889</th>\n",
       "      <td>68</td>\n",
       "      <td>95714</td>\n",
       "      <td>0</td>\n",
       "      <td>32</td>\n",
       "      <td>K1540</td>\n",
       "      <td>Bayern</td>\n",
       "    </tr>\n",
       "    <tr>\n",
       "      <th>890</th>\n",
       "      <td>49</td>\n",
       "      <td>73319</td>\n",
       "      <td>0</td>\n",
       "      <td>27</td>\n",
       "      <td>K1207</td>\n",
       "      <td>Niedersachsen</td>\n",
       "    </tr>\n",
       "  </tbody>\n",
       "</table>\n",
       "<p>891 rows × 6 columns</p>\n",
       "</div>"
      ],
      "text/plain": [
       "     Alter  Einkommen  Geschlecht  Zeit KundeNr        Niederlassung\n",
       "0       30      39919           0    29   K1814               Bayern\n",
       "1       41      53431           0    27   K1544    Baden-Württemberg\n",
       "2       64      73163           0    32   K1945    Baden-Württemberg\n",
       "3       41      36761           0    44   K1825    Baden-Württemberg\n",
       "4       35      42684           1    33   K1144  Nordrhein-Westfalen\n",
       "..     ...        ...         ...   ...     ...                  ...\n",
       "886     32      34392           1    48   K1211               Hessen\n",
       "887     41      68516           0    34   K1375              Sachsen\n",
       "888     65      89685           0    23   K1965               Bayern\n",
       "889     68      95714           0    32   K1540               Bayern\n",
       "890     49      73319           0    27   K1207        Niedersachsen\n",
       "\n",
       "[891 rows x 6 columns]"
      ]
     },
     "execution_count": 96,
     "metadata": {},
     "output_type": "execute_result"
    }
   ],
   "source": [
    "besucher_geo"
   ]
  },
  {
   "cell_type": "code",
   "execution_count": 97,
   "id": "98d38547-243a-41b0-a999-da3b49d10fd4",
   "metadata": {},
   "outputs": [],
   "source": [
    "kunden_geo = pd.merge(kunden,geo, on = \"KundeNr\")"
   ]
  },
  {
   "cell_type": "code",
   "execution_count": 98,
   "id": "2bfc447e-8b5a-4f83-9937-84cc5c3b17cf",
   "metadata": {},
   "outputs": [
    {
     "data": {
      "text/html": [
       "<div>\n",
       "<style scoped>\n",
       "    .dataframe tbody tr th:only-of-type {\n",
       "        vertical-align: middle;\n",
       "    }\n",
       "\n",
       "    .dataframe tbody tr th {\n",
       "        vertical-align: top;\n",
       "    }\n",
       "\n",
       "    .dataframe thead th {\n",
       "        text-align: right;\n",
       "    }\n",
       "</style>\n",
       "<table border=\"1\" class=\"dataframe\">\n",
       "  <thead>\n",
       "    <tr style=\"text-align: right;\">\n",
       "      <th></th>\n",
       "      <th>Alter</th>\n",
       "      <th>Einkommen</th>\n",
       "      <th>Preis</th>\n",
       "      <th>Geschlecht</th>\n",
       "      <th>Zeit</th>\n",
       "      <th>KundeNr</th>\n",
       "      <th>Niederlassung</th>\n",
       "    </tr>\n",
       "  </thead>\n",
       "  <tbody>\n",
       "    <tr>\n",
       "      <th>0</th>\n",
       "      <td>64</td>\n",
       "      <td>66894.0</td>\n",
       "      <td>88160.31</td>\n",
       "      <td>1.0</td>\n",
       "      <td>43.0</td>\n",
       "      <td>K0310</td>\n",
       "      <td>Bayern</td>\n",
       "    </tr>\n",
       "    <tr>\n",
       "      <th>1</th>\n",
       "      <td>54</td>\n",
       "      <td>77644.0</td>\n",
       "      <td>103145.70</td>\n",
       "      <td>1.0</td>\n",
       "      <td>40.0</td>\n",
       "      <td>K1042</td>\n",
       "      <td>Berlin</td>\n",
       "    </tr>\n",
       "    <tr>\n",
       "      <th>2</th>\n",
       "      <td>55</td>\n",
       "      <td>44341.0</td>\n",
       "      <td>80565.16</td>\n",
       "      <td>0.0</td>\n",
       "      <td>37.0</td>\n",
       "      <td>K0382</td>\n",
       "      <td>Baden-Württemberg</td>\n",
       "    </tr>\n",
       "    <tr>\n",
       "      <th>3</th>\n",
       "      <td>49</td>\n",
       "      <td>67271.0</td>\n",
       "      <td>83949.89</td>\n",
       "      <td>0.0</td>\n",
       "      <td>42.0</td>\n",
       "      <td>K0498</td>\n",
       "      <td>Bayern</td>\n",
       "    </tr>\n",
       "    <tr>\n",
       "      <th>4</th>\n",
       "      <td>46</td>\n",
       "      <td>49832.0</td>\n",
       "      <td>93781.58</td>\n",
       "      <td>0.0</td>\n",
       "      <td>41.0</td>\n",
       "      <td>K0552</td>\n",
       "      <td>Hessen</td>\n",
       "    </tr>\n",
       "    <tr>\n",
       "      <th>...</th>\n",
       "      <td>...</td>\n",
       "      <td>...</td>\n",
       "      <td>...</td>\n",
       "      <td>...</td>\n",
       "      <td>...</td>\n",
       "      <td>...</td>\n",
       "      <td>...</td>\n",
       "    </tr>\n",
       "    <tr>\n",
       "      <th>1099</th>\n",
       "      <td>70</td>\n",
       "      <td>69581.0</td>\n",
       "      <td>103751.58</td>\n",
       "      <td>1.0</td>\n",
       "      <td>51.0</td>\n",
       "      <td>K0467</td>\n",
       "      <td>Thüringen</td>\n",
       "    </tr>\n",
       "    <tr>\n",
       "      <th>1100</th>\n",
       "      <td>38</td>\n",
       "      <td>48301.0</td>\n",
       "      <td>64230.98</td>\n",
       "      <td>1.0</td>\n",
       "      <td>33.0</td>\n",
       "      <td>K0122</td>\n",
       "      <td>Niedersachsen</td>\n",
       "    </tr>\n",
       "    <tr>\n",
       "      <th>1101</th>\n",
       "      <td>67</td>\n",
       "      <td>63547.0</td>\n",
       "      <td>103123.57</td>\n",
       "      <td>1.0</td>\n",
       "      <td>41.0</td>\n",
       "      <td>K1045</td>\n",
       "      <td>Berlin</td>\n",
       "    </tr>\n",
       "    <tr>\n",
       "      <th>1102</th>\n",
       "      <td>37</td>\n",
       "      <td>32686.0</td>\n",
       "      <td>49215.87</td>\n",
       "      <td>1.0</td>\n",
       "      <td>36.0</td>\n",
       "      <td>K1096</td>\n",
       "      <td>Baden-Württemberg</td>\n",
       "    </tr>\n",
       "    <tr>\n",
       "      <th>1103</th>\n",
       "      <td>55</td>\n",
       "      <td>71240.0</td>\n",
       "      <td>106132.59</td>\n",
       "      <td>1.0</td>\n",
       "      <td>49.0</td>\n",
       "      <td>K0861</td>\n",
       "      <td>Bayern</td>\n",
       "    </tr>\n",
       "  </tbody>\n",
       "</table>\n",
       "<p>1104 rows × 7 columns</p>\n",
       "</div>"
      ],
      "text/plain": [
       "      Alter  Einkommen      Preis  Geschlecht  Zeit KundeNr      Niederlassung\n",
       "0        64    66894.0   88160.31         1.0  43.0   K0310             Bayern\n",
       "1        54    77644.0  103145.70         1.0  40.0   K1042             Berlin\n",
       "2        55    44341.0   80565.16         0.0  37.0   K0382  Baden-Württemberg\n",
       "3        49    67271.0   83949.89         0.0  42.0   K0498             Bayern\n",
       "4        46    49832.0   93781.58         0.0  41.0   K0552             Hessen\n",
       "...     ...        ...        ...         ...   ...     ...                ...\n",
       "1099     70    69581.0  103751.58         1.0  51.0   K0467          Thüringen\n",
       "1100     38    48301.0   64230.98         1.0  33.0   K0122      Niedersachsen\n",
       "1101     67    63547.0  103123.57         1.0  41.0   K1045             Berlin\n",
       "1102     37    32686.0   49215.87         1.0  36.0   K1096  Baden-Württemberg\n",
       "1103     55    71240.0  106132.59         1.0  49.0   K0861             Bayern\n",
       "\n",
       "[1104 rows x 7 columns]"
      ]
     },
     "execution_count": 98,
     "metadata": {},
     "output_type": "execute_result"
    }
   ],
   "source": [
    "kunden_geo"
   ]
  },
  {
   "cell_type": "code",
   "execution_count": 99,
   "id": "724769cb-f8d0-4abb-9526-d939a5c70823",
   "metadata": {},
   "outputs": [],
   "source": [
    "# Bereinigung der Nachkommestellen bei Geschlecht und Zeit bei kunden_geo (Einkommen und Preis nicht, da hier Cent-Beträge vorhanden sind)"
   ]
  },
  {
   "cell_type": "code",
   "execution_count": 100,
   "id": "f80b2b6f-8769-4a4d-93d3-57502aa211dc",
   "metadata": {},
   "outputs": [],
   "source": [
    "kunden_geo[\"Geschlecht\"] = kunden_geo[\"Geschlecht\"].round(0).astype(\"Int64\")"
   ]
  },
  {
   "cell_type": "code",
   "execution_count": 101,
   "id": "a44e39e0-a3c0-4095-99bc-7c670ac5661a",
   "metadata": {},
   "outputs": [],
   "source": [
    "kunden_geo[\"Zeit\"] = kunden_geo[\"Zeit\"].round(0).astype(\"Int64\")"
   ]
  },
  {
   "cell_type": "code",
   "execution_count": 102,
   "id": "1fc7a124-aade-4468-b453-b070d0c0b57f",
   "metadata": {},
   "outputs": [
    {
     "data": {
      "text/html": [
       "<div>\n",
       "<style scoped>\n",
       "    .dataframe tbody tr th:only-of-type {\n",
       "        vertical-align: middle;\n",
       "    }\n",
       "\n",
       "    .dataframe tbody tr th {\n",
       "        vertical-align: top;\n",
       "    }\n",
       "\n",
       "    .dataframe thead th {\n",
       "        text-align: right;\n",
       "    }\n",
       "</style>\n",
       "<table border=\"1\" class=\"dataframe\">\n",
       "  <thead>\n",
       "    <tr style=\"text-align: right;\">\n",
       "      <th></th>\n",
       "      <th>Alter</th>\n",
       "      <th>Einkommen</th>\n",
       "      <th>Preis</th>\n",
       "      <th>Geschlecht</th>\n",
       "      <th>Zeit</th>\n",
       "      <th>KundeNr</th>\n",
       "      <th>Niederlassung</th>\n",
       "    </tr>\n",
       "  </thead>\n",
       "  <tbody>\n",
       "    <tr>\n",
       "      <th>0</th>\n",
       "      <td>64</td>\n",
       "      <td>66894.0</td>\n",
       "      <td>88160.31</td>\n",
       "      <td>1</td>\n",
       "      <td>43</td>\n",
       "      <td>K0310</td>\n",
       "      <td>Bayern</td>\n",
       "    </tr>\n",
       "    <tr>\n",
       "      <th>1</th>\n",
       "      <td>54</td>\n",
       "      <td>77644.0</td>\n",
       "      <td>103145.70</td>\n",
       "      <td>1</td>\n",
       "      <td>40</td>\n",
       "      <td>K1042</td>\n",
       "      <td>Berlin</td>\n",
       "    </tr>\n",
       "    <tr>\n",
       "      <th>2</th>\n",
       "      <td>55</td>\n",
       "      <td>44341.0</td>\n",
       "      <td>80565.16</td>\n",
       "      <td>0</td>\n",
       "      <td>37</td>\n",
       "      <td>K0382</td>\n",
       "      <td>Baden-Württemberg</td>\n",
       "    </tr>\n",
       "    <tr>\n",
       "      <th>3</th>\n",
       "      <td>49</td>\n",
       "      <td>67271.0</td>\n",
       "      <td>83949.89</td>\n",
       "      <td>0</td>\n",
       "      <td>42</td>\n",
       "      <td>K0498</td>\n",
       "      <td>Bayern</td>\n",
       "    </tr>\n",
       "    <tr>\n",
       "      <th>4</th>\n",
       "      <td>46</td>\n",
       "      <td>49832.0</td>\n",
       "      <td>93781.58</td>\n",
       "      <td>0</td>\n",
       "      <td>41</td>\n",
       "      <td>K0552</td>\n",
       "      <td>Hessen</td>\n",
       "    </tr>\n",
       "    <tr>\n",
       "      <th>...</th>\n",
       "      <td>...</td>\n",
       "      <td>...</td>\n",
       "      <td>...</td>\n",
       "      <td>...</td>\n",
       "      <td>...</td>\n",
       "      <td>...</td>\n",
       "      <td>...</td>\n",
       "    </tr>\n",
       "    <tr>\n",
       "      <th>1099</th>\n",
       "      <td>70</td>\n",
       "      <td>69581.0</td>\n",
       "      <td>103751.58</td>\n",
       "      <td>1</td>\n",
       "      <td>51</td>\n",
       "      <td>K0467</td>\n",
       "      <td>Thüringen</td>\n",
       "    </tr>\n",
       "    <tr>\n",
       "      <th>1100</th>\n",
       "      <td>38</td>\n",
       "      <td>48301.0</td>\n",
       "      <td>64230.98</td>\n",
       "      <td>1</td>\n",
       "      <td>33</td>\n",
       "      <td>K0122</td>\n",
       "      <td>Niedersachsen</td>\n",
       "    </tr>\n",
       "    <tr>\n",
       "      <th>1101</th>\n",
       "      <td>67</td>\n",
       "      <td>63547.0</td>\n",
       "      <td>103123.57</td>\n",
       "      <td>1</td>\n",
       "      <td>41</td>\n",
       "      <td>K1045</td>\n",
       "      <td>Berlin</td>\n",
       "    </tr>\n",
       "    <tr>\n",
       "      <th>1102</th>\n",
       "      <td>37</td>\n",
       "      <td>32686.0</td>\n",
       "      <td>49215.87</td>\n",
       "      <td>1</td>\n",
       "      <td>36</td>\n",
       "      <td>K1096</td>\n",
       "      <td>Baden-Württemberg</td>\n",
       "    </tr>\n",
       "    <tr>\n",
       "      <th>1103</th>\n",
       "      <td>55</td>\n",
       "      <td>71240.0</td>\n",
       "      <td>106132.59</td>\n",
       "      <td>1</td>\n",
       "      <td>49</td>\n",
       "      <td>K0861</td>\n",
       "      <td>Bayern</td>\n",
       "    </tr>\n",
       "  </tbody>\n",
       "</table>\n",
       "<p>1104 rows × 7 columns</p>\n",
       "</div>"
      ],
      "text/plain": [
       "      Alter  Einkommen      Preis  Geschlecht  Zeit KundeNr      Niederlassung\n",
       "0        64    66894.0   88160.31           1    43   K0310             Bayern\n",
       "1        54    77644.0  103145.70           1    40   K1042             Berlin\n",
       "2        55    44341.0   80565.16           0    37   K0382  Baden-Württemberg\n",
       "3        49    67271.0   83949.89           0    42   K0498             Bayern\n",
       "4        46    49832.0   93781.58           0    41   K0552             Hessen\n",
       "...     ...        ...        ...         ...   ...     ...                ...\n",
       "1099     70    69581.0  103751.58           1    51   K0467          Thüringen\n",
       "1100     38    48301.0   64230.98           1    33   K0122      Niedersachsen\n",
       "1101     67    63547.0  103123.57           1    41   K1045             Berlin\n",
       "1102     37    32686.0   49215.87           1    36   K1096  Baden-Württemberg\n",
       "1103     55    71240.0  106132.59           1    49   K0861             Bayern\n",
       "\n",
       "[1104 rows x 7 columns]"
      ]
     },
     "execution_count": 102,
     "metadata": {},
     "output_type": "execute_result"
    }
   ],
   "source": [
    "kunden_geo"
   ]
  },
  {
   "cell_type": "code",
   "execution_count": 103,
   "id": "3de9026c",
   "metadata": {},
   "outputs": [
    {
     "name": "stdout",
     "output_type": "stream",
     "text": [
      "Nicht-numerische Einkommensdaten in 'kunden_geo':\n",
      "Series([], Name: Einkommen, dtype: float64)\n",
      "Nicht-numerische Einkommensdaten in 'besucher_geo':\n",
      "Series([], Name: Einkommen, dtype: Int64)\n"
     ]
    }
   ],
   "source": [
    "# Funktion zur Identifizierung nicht-numerischer Werte\n",
    "def finde_nicht_numerische(df, spalte):\n",
    "    nicht_numerisch = df[~df[spalte].apply(pd.to_numeric, errors='coerce').notnull()]\n",
    "    return nicht_numerisch[spalte]\n",
    "\n",
    "# Nicht-numerische Einkommen-Daten in kunden_geo\n",
    "nicht_numerisch_kunden = finde_nicht_numerische(kunden_geo, 'Einkommen')\n",
    "print(\"Nicht-numerische Einkommensdaten in 'kunden_geo':\")\n",
    "print(nicht_numerisch_kunden)\n",
    "\n",
    "# Nicht-numerische Einkommen-Daten in besucher_geo\n",
    "nicht_numerisch_besucher = finde_nicht_numerische(besucher_geo, 'Einkommen')\n",
    "print(\"Nicht-numerische Einkommensdaten in 'besucher_geo':\")\n",
    "print(nicht_numerisch_besucher)"
   ]
  },
  {
   "cell_type": "code",
   "execution_count": 104,
   "id": "63bc61ba",
   "metadata": {},
   "outputs": [],
   "source": [
    "kunden_geo[\"Einkommen\"] = pd.to_numeric(kunden_geo[\"Einkommen\"], errors='coerce')\n",
    "besucher_geo[\"Einkommen\"] = pd.to_numeric(besucher_geo[\"Einkommen\"], errors='coerce')"
   ]
  },
  {
   "cell_type": "code",
   "execution_count": 105,
   "id": "18d44586",
   "metadata": {},
   "outputs": [
    {
     "name": "stdout",
     "output_type": "stream",
     "text": [
      "0\n",
      "0\n"
     ]
    }
   ],
   "source": [
    "print(kunden_geo[\"Einkommen\"].isna().sum())\n",
    "print(besucher_geo[\"Einkommen\"].isna().sum())\n"
   ]
  },
  {
   "cell_type": "markdown",
   "id": "d2f0363d",
   "metadata": {},
   "source": [
    "# Zusammenfügen Kunden, Besucher, Geo zum Gesamtdatensatz"
   ]
  },
  {
   "cell_type": "code",
   "execution_count": 143,
   "id": "e979efd1",
   "metadata": {},
   "outputs": [],
   "source": [
    "# spalte einfügen, ob Kunde = true oder Besucher = false\n",
    "kunden_geo['Kunden'] = True\n",
    "besucher_geo['Kunden'] = False"
   ]
  },
  {
   "cell_type": "code",
   "execution_count": 144,
   "id": "27359c62",
   "metadata": {},
   "outputs": [
    {
     "data": {
      "text/html": [
       "<div>\n",
       "<style scoped>\n",
       "    .dataframe tbody tr th:only-of-type {\n",
       "        vertical-align: middle;\n",
       "    }\n",
       "\n",
       "    .dataframe tbody tr th {\n",
       "        vertical-align: top;\n",
       "    }\n",
       "\n",
       "    .dataframe thead th {\n",
       "        text-align: right;\n",
       "    }\n",
       "</style>\n",
       "<table border=\"1\" class=\"dataframe\">\n",
       "  <thead>\n",
       "    <tr style=\"text-align: right;\">\n",
       "      <th></th>\n",
       "      <th>Alter</th>\n",
       "      <th>Einkommen</th>\n",
       "      <th>Preis</th>\n",
       "      <th>Geschlecht</th>\n",
       "      <th>Zeit</th>\n",
       "      <th>KundeNr</th>\n",
       "      <th>Niederlassung</th>\n",
       "      <th>Kunden</th>\n",
       "    </tr>\n",
       "  </thead>\n",
       "  <tbody>\n",
       "    <tr>\n",
       "      <th>0</th>\n",
       "      <td>64</td>\n",
       "      <td>66894.0</td>\n",
       "      <td>88160.31</td>\n",
       "      <td>1</td>\n",
       "      <td>43</td>\n",
       "      <td>K0310</td>\n",
       "      <td>Bayern</td>\n",
       "      <td>True</td>\n",
       "    </tr>\n",
       "    <tr>\n",
       "      <th>1</th>\n",
       "      <td>54</td>\n",
       "      <td>77644.0</td>\n",
       "      <td>103145.70</td>\n",
       "      <td>1</td>\n",
       "      <td>40</td>\n",
       "      <td>K1042</td>\n",
       "      <td>Berlin</td>\n",
       "      <td>True</td>\n",
       "    </tr>\n",
       "    <tr>\n",
       "      <th>2</th>\n",
       "      <td>55</td>\n",
       "      <td>44341.0</td>\n",
       "      <td>80565.16</td>\n",
       "      <td>0</td>\n",
       "      <td>37</td>\n",
       "      <td>K0382</td>\n",
       "      <td>Baden-Württemberg</td>\n",
       "      <td>True</td>\n",
       "    </tr>\n",
       "    <tr>\n",
       "      <th>3</th>\n",
       "      <td>49</td>\n",
       "      <td>67271.0</td>\n",
       "      <td>83949.89</td>\n",
       "      <td>0</td>\n",
       "      <td>42</td>\n",
       "      <td>K0498</td>\n",
       "      <td>Bayern</td>\n",
       "      <td>True</td>\n",
       "    </tr>\n",
       "    <tr>\n",
       "      <th>4</th>\n",
       "      <td>46</td>\n",
       "      <td>49832.0</td>\n",
       "      <td>93781.58</td>\n",
       "      <td>0</td>\n",
       "      <td>41</td>\n",
       "      <td>K0552</td>\n",
       "      <td>Hessen</td>\n",
       "      <td>True</td>\n",
       "    </tr>\n",
       "    <tr>\n",
       "      <th>...</th>\n",
       "      <td>...</td>\n",
       "      <td>...</td>\n",
       "      <td>...</td>\n",
       "      <td>...</td>\n",
       "      <td>...</td>\n",
       "      <td>...</td>\n",
       "      <td>...</td>\n",
       "      <td>...</td>\n",
       "    </tr>\n",
       "    <tr>\n",
       "      <th>886</th>\n",
       "      <td>32</td>\n",
       "      <td>34392.0</td>\n",
       "      <td>NaN</td>\n",
       "      <td>1</td>\n",
       "      <td>48</td>\n",
       "      <td>K1211</td>\n",
       "      <td>Hessen</td>\n",
       "      <td>False</td>\n",
       "    </tr>\n",
       "    <tr>\n",
       "      <th>887</th>\n",
       "      <td>41</td>\n",
       "      <td>68516.0</td>\n",
       "      <td>NaN</td>\n",
       "      <td>0</td>\n",
       "      <td>34</td>\n",
       "      <td>K1375</td>\n",
       "      <td>Sachsen</td>\n",
       "      <td>False</td>\n",
       "    </tr>\n",
       "    <tr>\n",
       "      <th>888</th>\n",
       "      <td>65</td>\n",
       "      <td>89685.0</td>\n",
       "      <td>NaN</td>\n",
       "      <td>0</td>\n",
       "      <td>23</td>\n",
       "      <td>K1965</td>\n",
       "      <td>Bayern</td>\n",
       "      <td>False</td>\n",
       "    </tr>\n",
       "    <tr>\n",
       "      <th>889</th>\n",
       "      <td>68</td>\n",
       "      <td>95714.0</td>\n",
       "      <td>NaN</td>\n",
       "      <td>0</td>\n",
       "      <td>32</td>\n",
       "      <td>K1540</td>\n",
       "      <td>Bayern</td>\n",
       "      <td>False</td>\n",
       "    </tr>\n",
       "    <tr>\n",
       "      <th>890</th>\n",
       "      <td>49</td>\n",
       "      <td>73319.0</td>\n",
       "      <td>NaN</td>\n",
       "      <td>0</td>\n",
       "      <td>27</td>\n",
       "      <td>K1207</td>\n",
       "      <td>Niedersachsen</td>\n",
       "      <td>False</td>\n",
       "    </tr>\n",
       "  </tbody>\n",
       "</table>\n",
       "<p>1995 rows × 8 columns</p>\n",
       "</div>"
      ],
      "text/plain": [
       "     Alter  Einkommen      Preis  Geschlecht  Zeit KundeNr      Niederlassung  \\\n",
       "0       64    66894.0   88160.31           1    43   K0310             Bayern   \n",
       "1       54    77644.0  103145.70           1    40   K1042             Berlin   \n",
       "2       55    44341.0   80565.16           0    37   K0382  Baden-Württemberg   \n",
       "3       49    67271.0   83949.89           0    42   K0498             Bayern   \n",
       "4       46    49832.0   93781.58           0    41   K0552             Hessen   \n",
       "..     ...        ...        ...         ...   ...     ...                ...   \n",
       "886     32    34392.0        NaN           1    48   K1211             Hessen   \n",
       "887     41    68516.0        NaN           0    34   K1375            Sachsen   \n",
       "888     65    89685.0        NaN           0    23   K1965             Bayern   \n",
       "889     68    95714.0        NaN           0    32   K1540             Bayern   \n",
       "890     49    73319.0        NaN           0    27   K1207      Niedersachsen   \n",
       "\n",
       "     Kunden  \n",
       "0      True  \n",
       "1      True  \n",
       "2      True  \n",
       "3      True  \n",
       "4      True  \n",
       "..      ...  \n",
       "886   False  \n",
       "887   False  \n",
       "888   False  \n",
       "889   False  \n",
       "890   False  \n",
       "\n",
       "[1995 rows x 8 columns]"
      ]
     },
     "execution_count": 144,
     "metadata": {},
     "output_type": "execute_result"
    }
   ],
   "source": [
    "# Besucher unter Kunden anfügen\n",
    "daten_alle = pd.concat([kunden_geo, besucher_geo])\n",
    "daten_alle"
   ]
  },
  {
   "cell_type": "markdown",
   "id": "0acb2208",
   "metadata": {},
   "source": [
    "# Aufgabe 1"
   ]
  },
  {
   "cell_type": "code",
   "execution_count": 106,
   "id": "c5e3c5b2-3b8a-40f0-aec5-82b1f3eb1cdc",
   "metadata": {},
   "outputs": [
    {
     "data": {
      "text/plain": [
       "1104"
      ]
     },
     "execution_count": 106,
     "metadata": {},
     "output_type": "execute_result"
    }
   ],
   "source": [
    "anzahl_verkaufter_autos = len(kunden_geo)\n",
    "anzahl_verkaufter_autos"
   ]
  },
  {
   "cell_type": "code",
   "execution_count": 107,
   "id": "8041e57a",
   "metadata": {},
   "outputs": [],
   "source": [
    "autos_verkauft = kunden_geo.shape[0] \n",
    "# Nici: Brauchen wir diese Zeilen noch oder reiht die Lengenfunktion oben?"
   ]
  },
  {
   "cell_type": "markdown",
   "id": "7007224f",
   "metadata": {},
   "source": [
    "# Aufgabe 2"
   ]
  },
  {
   "cell_type": "code",
   "execution_count": 108,
   "id": "ccba228c-cc8b-4ba0-9854-69b33d6c19ed",
   "metadata": {},
   "outputs": [
    {
     "data": {
      "text/plain": [
       "(165482.31, 21471.65, 88975.2)"
      ]
     },
     "execution_count": 108,
     "metadata": {},
     "output_type": "execute_result"
    }
   ],
   "source": [
    "max_preis = kunden_geo[\"Preis\"].max()\n",
    "min_preis = kunden_geo[\"Preis\"].min()\n",
    "durchschnitt_preis = round(kunden_geo[\"Preis\"].mean(), 2)\n",
    "\n",
    "max_preis, min_preis,durchschnitt_preis\n",
    "# Nici: habe hier noch den Durchschnittspreis auf 2 Nachkommastellen gerundet"
   ]
  },
  {
   "cell_type": "markdown",
   "id": "ad4d0ba1",
   "metadata": {},
   "source": [
    "# Aufgabe 3"
   ]
  },
  {
   "cell_type": "code",
   "execution_count": 109,
   "id": "a71e79da-f9ea-4ec2-a75d-7bb32b65c9b1",
   "metadata": {},
   "outputs": [
    {
     "data": {
      "text/plain": [
       "98228619.38"
      ]
     },
     "execution_count": 109,
     "metadata": {},
     "output_type": "execute_result"
    }
   ],
   "source": [
    "gesamtumsatz = round(kunden_geo[\"Preis\"].sum(), 2)\n",
    "# Nici: habe hier den Gesamtumsatz noch auf 2 Nachkommastellen gerundet\n",
    "gesamtumsatz"
   ]
  },
  {
   "cell_type": "code",
   "execution_count": 110,
   "id": "be5a34bf-d0bc-4b48-81aa-b82614f55cda",
   "metadata": {},
   "outputs": [
    {
     "data": {
      "text/plain": [
       "'165,482.31€'"
      ]
     },
     "execution_count": 110,
     "metadata": {},
     "output_type": "execute_result"
    }
   ],
   "source": [
    "# Formattierung der Werte in EUR \n",
    "# Nici. ich könnte diese Formel nicht gut erklären; von mir aus brauchen wir nicht in € umwandeln; Runden reicht mir\n",
    "\n",
    "def form_eur(wert):\n",
    "    return \"{:,.2f}€\".format(wert)\n",
    "\n",
    "max_preis_eur = form_eur(max_preis)\n",
    "min_preis_eur = form_eur(min_preis)\n",
    "durchschnitt_preis_eur = form_eur(durchschnitt_preis)\n",
    "gesamtumsatz_eur = form_eur(gesamtumsatz)\n",
    "max_preis_eur"
   ]
  },
  {
   "cell_type": "code",
   "execution_count": 111,
   "id": "d098f0b7-f8b7-484d-9c58-1df52f70a73f",
   "metadata": {},
   "outputs": [],
   "source": [
    "# Erstellung einer Preisübersicht"
   ]
  },
  {
   "cell_type": "code",
   "execution_count": 112,
   "id": "8c3e00b1-9dcf-425e-bc75-ee49a5932da9",
   "metadata": {},
   "outputs": [],
   "source": [
    "Preisübersicht = pd.DataFrame({\n",
    "    \"Maximaler Verkaufspreis\" : [max_preis_eur],\n",
    "    \"Minimaler Verkaufspreis\" : [min_preis_eur],\n",
    "    \"Durchschnittspreis\" : [durchschnitt_preis_eur],\n",
    "    \"Gesamtumsatz\" : [gesamtumsatz_eur]\n",
    "})"
   ]
  },
  {
   "cell_type": "code",
   "execution_count": 113,
   "id": "9bbbf40b-953e-425b-8332-79f80dfe819d",
   "metadata": {},
   "outputs": [
    {
     "data": {
      "text/html": [
       "<div>\n",
       "<style scoped>\n",
       "    .dataframe tbody tr th:only-of-type {\n",
       "        vertical-align: middle;\n",
       "    }\n",
       "\n",
       "    .dataframe tbody tr th {\n",
       "        vertical-align: top;\n",
       "    }\n",
       "\n",
       "    .dataframe thead th {\n",
       "        text-align: right;\n",
       "    }\n",
       "</style>\n",
       "<table border=\"1\" class=\"dataframe\">\n",
       "  <thead>\n",
       "    <tr style=\"text-align: right;\">\n",
       "      <th></th>\n",
       "      <th>Maximaler Verkaufspreis</th>\n",
       "      <th>Minimaler Verkaufspreis</th>\n",
       "      <th>Durchschnittspreis</th>\n",
       "      <th>Gesamtumsatz</th>\n",
       "    </tr>\n",
       "  </thead>\n",
       "  <tbody>\n",
       "    <tr>\n",
       "      <th>0</th>\n",
       "      <td>165,482.31€</td>\n",
       "      <td>21,471.65€</td>\n",
       "      <td>88,975.20€</td>\n",
       "      <td>98,228,619.38€</td>\n",
       "    </tr>\n",
       "  </tbody>\n",
       "</table>\n",
       "</div>"
      ],
      "text/plain": [
       "  Maximaler Verkaufspreis Minimaler Verkaufspreis Durchschnittspreis  \\\n",
       "0             165,482.31€              21,471.65€         88,975.20€   \n",
       "\n",
       "     Gesamtumsatz  \n",
       "0  98,228,619.38€  "
      ]
     },
     "metadata": {},
     "output_type": "display_data"
    }
   ],
   "source": [
    "display(Preisübersicht)"
   ]
  },
  {
   "cell_type": "markdown",
   "id": "cf909d28",
   "metadata": {},
   "source": [
    "# Aufgabe 4"
   ]
  },
  {
   "cell_type": "code",
   "execution_count": 114,
   "id": "e0b69c7d-f90b-46b1-a02b-be4ed0b967b3",
   "metadata": {
    "slideshow": {
     "slide_type": ""
    },
    "tags": []
   },
   "outputs": [
    {
     "data": {
      "text/plain": [
       "Niederlassung\n",
       "Baden-Württemberg      205\n",
       "Bayern                 188\n",
       "Nordrhein-Westfalen    175\n",
       "Berlin                 126\n",
       "Hessen                  96\n",
       "Niedersachsen           96\n",
       "Sachsen                 89\n",
       "Thüringen               49\n",
       "Hamburg                 43\n",
       "Brandenburg             37\n",
       "Name: count, dtype: int64"
      ]
     },
     "execution_count": 114,
     "metadata": {},
     "output_type": "execute_result"
    }
   ],
   "source": [
    "autos_pro_bundesland = kunden_geo[\"Niederlassung\"].value_counts()\n",
    "autos_pro_bundesland\n"
   ]
  },
  {
   "cell_type": "code",
   "execution_count": 115,
   "id": "9841c24d-0392-41e8-871a-76e2ca0c48b2",
   "metadata": {},
   "outputs": [],
   "source": [
    "# Erstellen eines Diagramms zur Darstellung"
   ]
  },
  {
   "cell_type": "code",
   "execution_count": 116,
   "id": "359dd30a-c13f-43f6-9486-eaa5c657b6cd",
   "metadata": {},
   "outputs": [
    {
     "data": {
      "image/png": "[encoded data removed]",
      "text/plain": [
       "<Figure size 800x600 with 1 Axes>"
      ]
     },
     "metadata": {},
     "output_type": "display_data"
    }
   ],
   "source": [
    "#Nici: Leerzeichen vor und nach =. Und bei mri wird kein Unterschied mit und ohne plt.tight_layout() angezeigt\n",
    "plt.figure(figsize = (8, 6))\n",
    "autos_pro_bundesland.plot(kind = \"bar\", color = \"navy\")\n",
    "plt.title(\"Anzahl der verkauften Autos pro Bundesland\")\n",
    "plt.xlabel(\"Bundesland\")\n",
    "plt.ylabel(\"Anzahl der verkauften Autos\")\n",
    "plt.xticks(rotation=45, ha='right')\n",
    "plt.tight_layout()\n",
    "plt.show()"
   ]
  },
  {
   "cell_type": "code",
   "execution_count": 117,
   "id": "2a09408b-4db1-4b92-9cdb-d109cda49c5a",
   "metadata": {},
   "outputs": [
    {
     "data": {
      "image/png": "[encoded data removed]",
      "text/plain": [
       "<Figure size 800x600 with 1 Axes>"
      ]
     },
     "metadata": {},
     "output_type": "display_data"
    }
   ],
   "source": [
    "umsatz_pro_bundesland = kunden_geo.groupby(\"Niederlassung\")[\"Preis\"].agg(\"mean\")\n",
    "\n",
    "plt.figure(figsize=(8, 6))\n",
    "umsatz_pro_bundesland.plot(kind=\"bar\", color=\"navy\")\n",
    "plt.title(\"Umsatz pro Bundesland\")\n",
    "plt.xlabel(\"Bundesland\")\n",
    "plt.ylabel(\"Umsatz\")\n",
    "plt.xticks(rotation=45, ha='right')  \n",
    "plt.tight_layout()\n",
    "plt.show()\n"
   ]
  },
  {
   "cell_type": "code",
   "execution_count": 118,
   "id": "6f610c80-ebeb-4a67-a270-af57883c32db",
   "metadata": {},
   "outputs": [
    {
     "data": {
      "text/plain": [
       "'Niedersachsen'"
      ]
     },
     "execution_count": 118,
     "metadata": {},
     "output_type": "execute_result"
    }
   ],
   "source": [
    "teuerstes_auto_bundesland = kunden_geo.loc[kunden_geo[\"Preis\"].idxmax()][\"Niederlassung\"]\n",
    "teuerstes_auto_bundesland"
   ]
  },
  {
   "cell_type": "code",
   "execution_count": 119,
   "id": "b4fdd350-b83b-420c-9770-fc8b012b4812",
   "metadata": {},
   "outputs": [
    {
     "data": {
      "image/png": "[encoded data removed]",
      "text/plain": [
       "<Figure size 640x480 with 1 Axes>"
      ]
     },
     "metadata": {},
     "output_type": "display_data"
    }
   ],
   "source": [
    "geschlecht_vergleich = kunden_geo[\"Geschlecht\"].value_counts()\n",
    "\n",
    "labels = [\"männlich\", \"weiblich\"]\n",
    "sizes = [700,400]\n",
    "colors = [\"lightblue\",\"lightpink\"]\n",
    "plt.pie(sizes, labels = labels, colors = colors, autopct = \"%1.1f%%\", startangle = 90)\n",
    "plt.axis(\"equal\")\n",
    "plt.title(\"Verteilung der verkauften Autos nach Geschlecht\")\n",
    "plt.show()\n"
   ]
  },
  {
   "cell_type": "code",
   "execution_count": 120,
   "id": "a83d6c38-c939-411d-ad9f-6e0a898ea196",
   "metadata": {},
   "outputs": [
    {
     "data": {
      "text/plain": [
       "(50.375, 49.88103254769921)"
      ]
     },
     "execution_count": 120,
     "metadata": {},
     "output_type": "execute_result"
    }
   ],
   "source": [
    "durchschnittsalter_kunden = kunden_geo[\"Alter\"].mean()\n",
    "durchschnittsalter_besucher = besucher_geo[\"Alter\"].mean()\n",
    "\n",
    "durchschnittsalter_kunden, durchschnittsalter_besucher"
   ]
  },
  {
   "cell_type": "code",
   "execution_count": 121,
   "id": "c56c7e7e-c117-4112-9a49-a71d41695e82",
   "metadata": {},
   "outputs": [
    {
     "data": {
      "text/plain": [
       "(58850.907608695656, 59367.93265993266)"
      ]
     },
     "execution_count": 121,
     "metadata": {},
     "output_type": "execute_result"
    }
   ],
   "source": [
    "durchschnittseinkommen_kunden = kunden_geo[\"Einkommen\"].mean()\n",
    "durchschnittseinkommen_besucher = besucher_geo[\"Einkommen\"].mean()\n",
    "\n",
    "durchschnittseinkommen_kunden, durchschnittseinkommen_besucher\n"
   ]
  },
  {
   "cell_type": "code",
   "execution_count": 122,
   "id": "4659d1c2",
   "metadata": {},
   "outputs": [
    {
     "name": "stdout",
     "output_type": "stream",
     "text": [
      "float64\n",
      "Int64\n"
     ]
    }
   ],
   "source": [
    "print(kunden_geo[\"Einkommen\"].dtype)\n",
    "print(besucher_geo[\"Einkommen\"].dtype)"
   ]
  },
  {
   "cell_type": "code",
   "execution_count": 123,
   "id": "76c97210-58b3-436a-9907-d7edb63ed797",
   "metadata": {},
   "outputs": [
    {
     "name": "stdout",
     "output_type": "stream",
     "text": [
      "float64\n",
      "float64\n"
     ]
    },
    {
     "data": {
      "text/plain": [
       "(-0.7047786382342843, 0.4810335763152168)"
      ]
     },
     "execution_count": 123,
     "metadata": {},
     "output_type": "execute_result"
    }
   ],
   "source": [
    "# Konvertiere beide Spalten zu float64\n",
    "kunden_geo[\"Einkommen\"] = kunden_geo[\"Einkommen\"].astype(float)\n",
    "besucher_geo[\"Einkommen\"] = besucher_geo[\"Einkommen\"].astype(float)\n",
    "\n",
    "# Überprüfe die Konvertierung\n",
    "print(kunden_geo[\"Einkommen\"].dtype)\n",
    "print(besucher_geo[\"Einkommen\"].dtype)\n",
    "\n",
    "# t-Test \n",
    "t_stat, p_val = stats.ttest_ind(kunden_geo[\"Einkommen\"].dropna(), besucher_geo[\"Einkommen\"].dropna(), equal_var=False)\n",
    "t_stat, p_val\n"
   ]
  },
  {
   "cell_type": "code",
   "execution_count": 124,
   "id": "a4b58aa6-cde6-460c-97c4-565e98bd1f4e",
   "metadata": {},
   "outputs": [
    {
     "data": {
      "text/plain": [
       "(-0.703490826024534, False)"
      ]
     },
     "execution_count": 124,
     "metadata": {},
     "output_type": "execute_result"
    }
   ],
   "source": [
    "\n",
    "# Einkommensdaten\n",
    "kunden_einkommen = kunden_geo[\"Einkommen\"].dropna().astype(float)\n",
    "besucher_einkommen = besucher_geo[\"Einkommen\"].dropna().astype(float)\n",
    "\n",
    "# Zweistichproben-t-Test mit gleich angenommenen Varianzen\n",
    "t_stat, p_val = stats.ttest_ind(kunden_einkommen, besucher_einkommen, equal_var=True)\n",
    "\n",
    "t_stat, p_val < 0.05  # True bedeutet, dass der Unterschied signifikant ist\n"
   ]
  },
  {
   "cell_type": "code",
   "execution_count": 125,
   "id": "ca48d7b4",
   "metadata": {},
   "outputs": [
    {
     "data": {
      "text/html": [
       "<div>\n",
       "<style scoped>\n",
       "    .dataframe tbody tr th:only-of-type {\n",
       "        vertical-align: middle;\n",
       "    }\n",
       "\n",
       "    .dataframe tbody tr th {\n",
       "        vertical-align: top;\n",
       "    }\n",
       "\n",
       "    .dataframe thead th {\n",
       "        text-align: right;\n",
       "    }\n",
       "</style>\n",
       "<table border=\"1\" class=\"dataframe\">\n",
       "  <thead>\n",
       "    <tr style=\"text-align: right;\">\n",
       "      <th></th>\n",
       "      <th>Alter</th>\n",
       "      <th>Einkommen</th>\n",
       "      <th>Preis</th>\n",
       "      <th>Zeit</th>\n",
       "    </tr>\n",
       "  </thead>\n",
       "  <tbody>\n",
       "    <tr>\n",
       "      <th>Alter</th>\n",
       "      <td>1.000000</td>\n",
       "      <td>0.760632</td>\n",
       "      <td>0.780478</td>\n",
       "      <td>0.588912</td>\n",
       "    </tr>\n",
       "    <tr>\n",
       "      <th>Einkommen</th>\n",
       "      <td>0.760632</td>\n",
       "      <td>1.000000</td>\n",
       "      <td>0.891739</td>\n",
       "      <td>0.775427</td>\n",
       "    </tr>\n",
       "    <tr>\n",
       "      <th>Preis</th>\n",
       "      <td>0.780478</td>\n",
       "      <td>0.891739</td>\n",
       "      <td>1.000000</td>\n",
       "      <td>0.707778</td>\n",
       "    </tr>\n",
       "    <tr>\n",
       "      <th>Zeit</th>\n",
       "      <td>0.588912</td>\n",
       "      <td>0.775427</td>\n",
       "      <td>0.707778</td>\n",
       "      <td>1.000000</td>\n",
       "    </tr>\n",
       "  </tbody>\n",
       "</table>\n",
       "</div>"
      ],
      "text/plain": [
       "              Alter  Einkommen     Preis      Zeit\n",
       "Alter      1.000000   0.760632  0.780478  0.588912\n",
       "Einkommen  0.760632   1.000000  0.891739  0.775427\n",
       "Preis      0.780478   0.891739  1.000000  0.707778\n",
       "Zeit       0.588912   0.775427  0.707778  1.000000"
      ]
     },
     "execution_count": 125,
     "metadata": {},
     "output_type": "execute_result"
    }
   ],
   "source": [
    "# Pearson-Korrelation berechnen\n",
    "korrelation_matrix = kunden_geo[[\"Alter\", \"Einkommen\", \"Preis\", \"Zeit\"]].corr(method=\"pearson\")\n",
    "\n",
    "korrelation_matrix\n"
   ]
  },
  {
   "cell_type": "code",
   "execution_count": 126,
   "id": "18c8187c",
   "metadata": {},
   "outputs": [
    {
     "data": {
      "image/png": "[encoded data removed]",
      "text/plain": [
       "<Figure size 640x480 with 1 Axes>"
      ]
     },
     "metadata": {},
     "output_type": "display_data"
    }
   ],
   "source": [
    "zeit_data = kunden_geo[\"Zeit\"].dropna().astype(float)\n",
    "\n",
    "# QQ-Plot für 'Zeit' mit vorbereiteten Daten\n",
    "stats.probplot(zeit_data, dist=\"norm\", plot=plt)\n",
    "plt.title(\"QQ-Plot für die Variable Zeit\")\n",
    "plt.show()\n"
   ]
  },
  {
   "cell_type": "code",
   "execution_count": 127,
   "id": "e303ab53",
   "metadata": {},
   "outputs": [
    {
     "data": {
      "text/plain": [
       "5"
      ]
     },
     "execution_count": 127,
     "metadata": {},
     "output_type": "execute_result"
    }
   ],
   "source": [
    "# Anzahl der Kunden ohne Kredit\n",
    "kunden_ohne_kredit = kunden_geo[kunden_geo[\"Einkommen\"] > kunden_geo[\"Preis\"]].shape[0]\n",
    "\n",
    "kunden_ohne_kredit\n"
   ]
  },
  {
   "cell_type": "code",
   "execution_count": 128,
   "id": "8242cb86",
   "metadata": {},
   "outputs": [
    {
     "data": {
      "text/html": [
       "<table class=\"simpletable\">\n",
       "<caption>OLS Regression Results</caption>\n",
       "<tr>\n",
       "  <th>Dep. Variable:</th>            <td>y</td>        <th>  R-squared:         </th>  <td>   1.000</td> \n",
       "</tr>\n",
       "<tr>\n",
       "  <th>Model:</th>                   <td>OLS</td>       <th>  Adj. R-squared:    </th>  <td>   1.000</td> \n",
       "</tr>\n",
       "<tr>\n",
       "  <th>Method:</th>             <td>Least Squares</td>  <th>  F-statistic:       </th>  <td>1.319e+33</td>\n",
       "</tr>\n",
       "<tr>\n",
       "  <th>Date:</th>             <td>Fri, 14 Jun 2024</td> <th>  Prob (F-statistic):</th>   <td>  0.00</td>  \n",
       "</tr>\n",
       "<tr>\n",
       "  <th>Time:</th>                 <td>19:25:38</td>     <th>  Log-Likelihood:    </th>  <td>  26275.</td> \n",
       "</tr>\n",
       "<tr>\n",
       "  <th>No. Observations:</th>      <td>  1104</td>      <th>  AIC:               </th> <td>-5.254e+04</td>\n",
       "</tr>\n",
       "<tr>\n",
       "  <th>Df Residuals:</th>          <td>  1099</td>      <th>  BIC:               </th> <td>-5.251e+04</td>\n",
       "</tr>\n",
       "<tr>\n",
       "  <th>Df Model:</th>              <td>     4</td>      <th>                     </th>      <td> </td>    \n",
       "</tr>\n",
       "<tr>\n",
       "  <th>Covariance Type:</th>      <td>nonrobust</td>    <th>                     </th>      <td> </td>    \n",
       "</tr>\n",
       "</table>\n",
       "<table class=\"simpletable\">\n",
       "<tr>\n",
       "    <td></td>       <th>coef</th>     <th>std err</th>      <th>t</th>      <th>P>|t|</th>  <th>[0.025</th>    <th>0.975]</th>  \n",
       "</tr>\n",
       "<tr>\n",
       "  <th>const</th> <td> 7.276e-12</td> <td> 1.63e-12</td> <td>    4.460</td> <td> 0.000</td> <td> 4.08e-12</td> <td> 1.05e-11</td>\n",
       "</tr>\n",
       "<tr>\n",
       "  <th>x1</th>    <td> 4.832e-13</td> <td> 4.63e-14</td> <td>   10.433</td> <td> 0.000</td> <td> 3.92e-13</td> <td> 5.74e-13</td>\n",
       "</tr>\n",
       "<tr>\n",
       "  <th>x2</th>    <td>  1.11e-16</td> <td> 5.19e-17</td> <td>    2.138</td> <td> 0.033</td> <td> 9.13e-18</td> <td> 2.13e-16</td>\n",
       "</tr>\n",
       "<tr>\n",
       "  <th>x3</th>    <td>    1.0000</td> <td> 3.25e-17</td> <td> 3.08e+16</td> <td> 0.000</td> <td>    1.000</td> <td>    1.000</td>\n",
       "</tr>\n",
       "<tr>\n",
       "  <th>x4</th>    <td>-4.263e-14</td> <td> 4.93e-14</td> <td>   -0.865</td> <td> 0.387</td> <td>-1.39e-13</td> <td>  5.4e-14</td>\n",
       "</tr>\n",
       "</table>\n",
       "<table class=\"simpletable\">\n",
       "<tr>\n",
       "  <th>Omnibus:</th>       <td>5447.010</td> <th>  Durbin-Watson:     </th> <td>   0.762</td>\n",
       "</tr>\n",
       "<tr>\n",
       "  <th>Prob(Omnibus):</th>  <td> 0.000</td>  <th>  Jarque-Bera (JB):  </th> <td> 155.030</td>\n",
       "</tr>\n",
       "<tr>\n",
       "  <th>Skew:</th>           <td> 0.371</td>  <th>  Prob(JB):          </th> <td>2.17e-34</td>\n",
       "</tr>\n",
       "<tr>\n",
       "  <th>Kurtosis:</th>       <td> 1.321</td>  <th>  Cond. No.          </th> <td>5.36e+05</td>\n",
       "</tr>\n",
       "</table><br/><br/>Notes:<br/>[1] Standard Errors assume that the covariance matrix of the errors is correctly specified.<br/>[2] The condition number is large, 5.36e+05. This might indicate that there are<br/>strong multicollinearity or other numerical problems."
      ],
      "text/latex": [
       "\\begin{center}\n",
       "\\begin{tabular}{lclc}\n",
       "\\toprule\n",
       "\\textbf{Dep. Variable:}    &        y         & \\textbf{  R-squared:         } &     1.000   \\\\\n",
       "\\textbf{Model:}            &       OLS        & \\textbf{  Adj. R-squared:    } &     1.000   \\\\\n",
       "\\textbf{Method:}           &  Least Squares   & \\textbf{  F-statistic:       } & 1.319e+33   \\\\\n",
       "\\textbf{Date:}             & Fri, 14 Jun 2024 & \\textbf{  Prob (F-statistic):} &     0.00    \\\\\n",
       "\\textbf{Time:}             &     19:25:38     & \\textbf{  Log-Likelihood:    } &    26275.   \\\\\n",
       "\\textbf{No. Observations:} &        1104      & \\textbf{  AIC:               } & -5.254e+04  \\\\\n",
       "\\textbf{Df Residuals:}     &        1099      & \\textbf{  BIC:               } & -5.251e+04  \\\\\n",
       "\\textbf{Df Model:}         &           4      & \\textbf{                     } &             \\\\\n",
       "\\textbf{Covariance Type:}  &    nonrobust     & \\textbf{                     } &             \\\\\n",
       "\\bottomrule\n",
       "\\end{tabular}\n",
       "\\begin{tabular}{lcccccc}\n",
       "               & \\textbf{coef} & \\textbf{std err} & \\textbf{t} & \\textbf{P$> |$t$|$} & \\textbf{[0.025} & \\textbf{0.975]}  \\\\\n",
       "\\midrule\n",
       "\\textbf{const} &    7.276e-12  &     1.63e-12     &     4.460  &         0.000        &     4.08e-12    &     1.05e-11     \\\\\n",
       "\\textbf{x1}    &    4.832e-13  &     4.63e-14     &    10.433  &         0.000        &     3.92e-13    &     5.74e-13     \\\\\n",
       "\\textbf{x2}    &     1.11e-16  &     5.19e-17     &     2.138  &         0.033        &     9.13e-18    &     2.13e-16     \\\\\n",
       "\\textbf{x3}    &       1.0000  &     3.25e-17     &  3.08e+16  &         0.000        &        1.000    &        1.000     \\\\\n",
       "\\textbf{x4}    &   -4.263e-14  &     4.93e-14     &    -0.865  &         0.387        &    -1.39e-13    &      5.4e-14     \\\\\n",
       "\\bottomrule\n",
       "\\end{tabular}\n",
       "\\begin{tabular}{lclc}\n",
       "\\textbf{Omnibus:}       & 5447.010 & \\textbf{  Durbin-Watson:     } &    0.762  \\\\\n",
       "\\textbf{Prob(Omnibus):} &   0.000  & \\textbf{  Jarque-Bera (JB):  } &  155.030  \\\\\n",
       "\\textbf{Skew:}          &   0.371  & \\textbf{  Prob(JB):          } & 2.17e-34  \\\\\n",
       "\\textbf{Kurtosis:}      &   1.321  & \\textbf{  Cond. No.          } & 5.36e+05  \\\\\n",
       "\\bottomrule\n",
       "\\end{tabular}\n",
       "%\\caption{OLS Regression Results}\n",
       "\\end{center}\n",
       "\n",
       "Notes: \\newline\n",
       " [1] Standard Errors assume that the covariance matrix of the errors is correctly specified. \\newline\n",
       " [2] The condition number is large, 5.36e+05. This might indicate that there are \\newline\n",
       " strong multicollinearity or other numerical problems."
      ],
      "text/plain": [
       "<class 'statsmodels.iolib.summary.Summary'>\n",
       "\"\"\"\n",
       "                            OLS Regression Results                            \n",
       "==============================================================================\n",
       "Dep. Variable:                      y   R-squared:                       1.000\n",
       "Model:                            OLS   Adj. R-squared:                  1.000\n",
       "Method:                 Least Squares   F-statistic:                 1.319e+33\n",
       "Date:                Fri, 14 Jun 2024   Prob (F-statistic):               0.00\n",
       "Time:                        19:25:38   Log-Likelihood:                 26275.\n",
       "No. Observations:                1104   AIC:                        -5.254e+04\n",
       "Df Residuals:                    1099   BIC:                        -5.251e+04\n",
       "Df Model:                           4                                         \n",
       "Covariance Type:            nonrobust                                         \n",
       "==============================================================================\n",
       "                 coef    std err          t      P>|t|      [0.025      0.975]\n",
       "------------------------------------------------------------------------------\n",
       "const       7.276e-12   1.63e-12      4.460      0.000    4.08e-12    1.05e-11\n",
       "x1          4.832e-13   4.63e-14     10.433      0.000    3.92e-13    5.74e-13\n",
       "x2           1.11e-16   5.19e-17      2.138      0.033    9.13e-18    2.13e-16\n",
       "x3             1.0000   3.25e-17   3.08e+16      0.000       1.000       1.000\n",
       "x4         -4.263e-14   4.93e-14     -0.865      0.387   -1.39e-13     5.4e-14\n",
       "==============================================================================\n",
       "Omnibus:                     5447.010   Durbin-Watson:                   0.762\n",
       "Prob(Omnibus):                  0.000   Jarque-Bera (JB):              155.030\n",
       "Skew:                           0.371   Prob(JB):                     2.17e-34\n",
       "Kurtosis:                       1.321   Cond. No.                     5.36e+05\n",
       "==============================================================================\n",
       "\n",
       "Notes:\n",
       "[1] Standard Errors assume that the covariance matrix of the errors is correctly specified.\n",
       "[2] The condition number is large, 5.36e+05. This might indicate that there are\n",
       "strong multicollinearity or other numerical problems.\n",
       "\"\"\""
      ]
     },
     "execution_count": 128,
     "metadata": {},
     "output_type": "execute_result"
    }
   ],
   "source": [
    "# Beispiel-Daten\n",
    "X = kunden_geo[['Alter', 'Einkommen', 'Preis', 'Zeit']]  # Exogene Variablen\n",
    "y = kunden_geo['Preis']  # Endogene Variable\n",
    "\n",
    "# Konvertierung in NumPy-Arrays\n",
    "X = sm.add_constant(X)  # Hinzufügen der Konstante für den Intercept\n",
    "X = np.asarray(X, dtype=float)  # Sicherstellen, dass X ein NumPy-Array mit float-Datentyp ist\n",
    "y = np.asarray(y, dtype=float)  # Sicherstellen, dass y ein NumPy-Array mit float-Datentyp ist\n",
    "\n",
    "# Regression schätzen\n",
    "modell = sm.OLS(y, X).fit()\n",
    "\n",
    "\n",
    "modell.summary()"
   ]
  },
  {
   "cell_type": "code",
   "execution_count": 129,
   "id": "9f9122cb",
   "metadata": {},
   "outputs": [
    {
     "data": {
      "text/plain": [
       "0    150.0\n",
       "1    200.0\n",
       "dtype: float64"
      ]
     },
     "execution_count": 129,
     "metadata": {},
     "output_type": "execute_result"
    }
   ],
   "source": [
    "# Aufgabe 15: Vorhersage für neue Kunden\n",
    "# Daten für neue Kunden vorbereiten\n",
    "neue_kunden = pd.DataFrame({\n",
    "    \"const\": [1, 1],  # Konstante hinzufügen\n",
    "    \"Alter\": [32, 51],\n",
    "    \"Einkommen\": [30000, 54000],\n",
    "    \"Preis\": [150, 200],  # Beispiel für die Preisvariable der neuen Kunden\n",
    "    \"Zeit\": [0, 0]  # Zeit wird hier nicht berücksichtigt, kann aber angepasst werden\n",
    "})\n",
    "\n",
    "# Stellen Sie sicher, dass die Reihenfolge der Spalten korrekt ist\n",
    "neue_kunden = neue_kunden[['const', 'Alter', 'Einkommen', 'Preis', 'Zeit']]\n",
    "\n",
    "# Vorhersage des Kaufpreises\n",
    "prognosen = modell.predict(neue_kunden)\n",
    "\n",
    "\n",
    "prognosen"
   ]
  },
  {
   "cell_type": "code",
   "execution_count": 130,
   "id": "a5dbcbfe",
   "metadata": {},
   "outputs": [
    {
     "data": {
      "text/html": [
       "<table class=\"simpletable\">\n",
       "<caption>OLS Regression Results</caption>\n",
       "<tr>\n",
       "  <th>Dep. Variable:</th>            <td>y</td>        <th>  R-squared:         </th>  <td>   1.000</td> \n",
       "</tr>\n",
       "<tr>\n",
       "  <th>Model:</th>                   <td>OLS</td>       <th>  Adj. R-squared:    </th>  <td>   1.000</td> \n",
       "</tr>\n",
       "<tr>\n",
       "  <th>Method:</th>             <td>Least Squares</td>  <th>  F-statistic:       </th>  <td>3.125e+28</td>\n",
       "</tr>\n",
       "<tr>\n",
       "  <th>Date:</th>             <td>Fri, 14 Jun 2024</td> <th>  Prob (F-statistic):</th>   <td>  0.00</td>  \n",
       "</tr>\n",
       "<tr>\n",
       "  <th>Time:</th>                 <td>19:25:38</td>     <th>  Log-Likelihood:    </th>  <td>  20396.</td> \n",
       "</tr>\n",
       "<tr>\n",
       "  <th>No. Observations:</th>      <td>  1104</td>      <th>  AIC:               </th> <td>-4.078e+04</td>\n",
       "</tr>\n",
       "<tr>\n",
       "  <th>Df Residuals:</th>          <td>  1099</td>      <th>  BIC:               </th> <td>-4.076e+04</td>\n",
       "</tr>\n",
       "<tr>\n",
       "  <th>Df Model:</th>              <td>     4</td>      <th>                     </th>      <td> </td>    \n",
       "</tr>\n",
       "<tr>\n",
       "  <th>Covariance Type:</th>      <td>nonrobust</td>    <th>                     </th>      <td> </td>    \n",
       "</tr>\n",
       "</table>\n",
       "<table class=\"simpletable\">\n",
       "<tr>\n",
       "   <td></td>     <th>coef</th>     <th>std err</th>      <th>t</th>      <th>P>|t|</th>  <th>[0.025</th>    <th>0.975]</th>  \n",
       "</tr>\n",
       "<tr>\n",
       "  <th>x1</th> <td>-3.968e+04</td> <td> 5.57e-07</td> <td>-7.12e+10</td> <td> 0.000</td> <td>-3.97e+04</td> <td>-3.97e+04</td>\n",
       "</tr>\n",
       "<tr>\n",
       "  <th>x2</th> <td> 1.676e-08</td> <td> 3.78e-07</td> <td>    0.044</td> <td> 0.965</td> <td>-7.24e-07</td> <td> 7.58e-07</td>\n",
       "</tr>\n",
       "<tr>\n",
       "  <th>x3</th> <td>-7.276e-12</td> <td> 4.23e-10</td> <td>   -0.017</td> <td> 0.986</td> <td>-8.38e-10</td> <td> 8.23e-10</td>\n",
       "</tr>\n",
       "<tr>\n",
       "  <th>x4</th> <td> 3.968e+04</td> <td> 2.65e-10</td> <td>  1.5e+14</td> <td> 0.000</td> <td> 3.97e+04</td> <td> 3.97e+04</td>\n",
       "</tr>\n",
       "<tr>\n",
       "  <th>x5</th> <td> 6.519e-09</td> <td> 4.02e-07</td> <td>    0.016</td> <td> 0.987</td> <td>-7.81e-07</td> <td> 7.94e-07</td>\n",
       "</tr>\n",
       "</table>\n",
       "<table class=\"simpletable\">\n",
       "<tr>\n",
       "  <th>Omnibus:</th>       <td>29.440</td> <th>  Durbin-Watson:     </th> <td>   0.000</td>\n",
       "</tr>\n",
       "<tr>\n",
       "  <th>Prob(Omnibus):</th> <td> 0.000</td> <th>  Jarque-Bera (JB):  </th> <td>  31.102</td>\n",
       "</tr>\n",
       "<tr>\n",
       "  <th>Skew:</th>          <td> 0.399</td> <th>  Prob(JB):          </th> <td>1.76e-07</td>\n",
       "</tr>\n",
       "<tr>\n",
       "  <th>Kurtosis:</th>      <td> 3.197</td> <th>  Cond. No.          </th> <td>2.16e+04</td>\n",
       "</tr>\n",
       "</table><br/><br/>Notes:<br/>[1] Standard Errors assume that the covariance matrix of the errors is correctly specified.<br/>[2] The condition number is large, 2.16e+04. This might indicate that there are<br/>strong multicollinearity or other numerical problems."
      ],
      "text/latex": [
       "\\begin{center}\n",
       "\\begin{tabular}{lclc}\n",
       "\\toprule\n",
       "\\textbf{Dep. Variable:}    &        y         & \\textbf{  R-squared:         } &     1.000   \\\\\n",
       "\\textbf{Model:}            &       OLS        & \\textbf{  Adj. R-squared:    } &     1.000   \\\\\n",
       "\\textbf{Method:}           &  Least Squares   & \\textbf{  F-statistic:       } & 3.125e+28   \\\\\n",
       "\\textbf{Date:}             & Fri, 14 Jun 2024 & \\textbf{  Prob (F-statistic):} &     0.00    \\\\\n",
       "\\textbf{Time:}             &     19:25:38     & \\textbf{  Log-Likelihood:    } &    20396.   \\\\\n",
       "\\textbf{No. Observations:} &        1104      & \\textbf{  AIC:               } & -4.078e+04  \\\\\n",
       "\\textbf{Df Residuals:}     &        1099      & \\textbf{  BIC:               } & -4.076e+04  \\\\\n",
       "\\textbf{Df Model:}         &           4      & \\textbf{                     } &             \\\\\n",
       "\\textbf{Covariance Type:}  &    nonrobust     & \\textbf{                     } &             \\\\\n",
       "\\bottomrule\n",
       "\\end{tabular}\n",
       "\\begin{tabular}{lcccccc}\n",
       "            & \\textbf{coef} & \\textbf{std err} & \\textbf{t} & \\textbf{P$> |$t$|$} & \\textbf{[0.025} & \\textbf{0.975]}  \\\\\n",
       "\\midrule\n",
       "\\textbf{x1} &   -3.968e+04  &     5.57e-07     & -7.12e+10  &         0.000        &    -3.97e+04    &    -3.97e+04     \\\\\n",
       "\\textbf{x2} &    1.676e-08  &     3.78e-07     &     0.044  &         0.965        &    -7.24e-07    &     7.58e-07     \\\\\n",
       "\\textbf{x3} &   -7.276e-12  &     4.23e-10     &    -0.017  &         0.986        &    -8.38e-10    &     8.23e-10     \\\\\n",
       "\\textbf{x4} &    3.968e+04  &     2.65e-10     &   1.5e+14  &         0.000        &     3.97e+04    &     3.97e+04     \\\\\n",
       "\\textbf{x5} &    6.519e-09  &     4.02e-07     &     0.016  &         0.987        &    -7.81e-07    &     7.94e-07     \\\\\n",
       "\\bottomrule\n",
       "\\end{tabular}\n",
       "\\begin{tabular}{lclc}\n",
       "\\textbf{Omnibus:}       & 29.440 & \\textbf{  Durbin-Watson:     } &    0.000  \\\\\n",
       "\\textbf{Prob(Omnibus):} &  0.000 & \\textbf{  Jarque-Bera (JB):  } &   31.102  \\\\\n",
       "\\textbf{Skew:}          &  0.399 & \\textbf{  Prob(JB):          } & 1.76e-07  \\\\\n",
       "\\textbf{Kurtosis:}      &  3.197 & \\textbf{  Cond. No.          } & 2.16e+04  \\\\\n",
       "\\bottomrule\n",
       "\\end{tabular}\n",
       "%\\caption{OLS Regression Results}\n",
       "\\end{center}\n",
       "\n",
       "Notes: \\newline\n",
       " [1] Standard Errors assume that the covariance matrix of the errors is correctly specified. \\newline\n",
       " [2] The condition number is large, 2.16e+04. This might indicate that there are \\newline\n",
       " strong multicollinearity or other numerical problems."
      ],
      "text/plain": [
       "<class 'statsmodels.iolib.summary.Summary'>\n",
       "\"\"\"\n",
       "                            OLS Regression Results                            \n",
       "==============================================================================\n",
       "Dep. Variable:                      y   R-squared:                       1.000\n",
       "Model:                            OLS   Adj. R-squared:                  1.000\n",
       "Method:                 Least Squares   F-statistic:                 3.125e+28\n",
       "Date:                Fri, 14 Jun 2024   Prob (F-statistic):               0.00\n",
       "Time:                        19:25:38   Log-Likelihood:                 20396.\n",
       "No. Observations:                1104   AIC:                        -4.078e+04\n",
       "Df Residuals:                    1099   BIC:                        -4.076e+04\n",
       "Df Model:                           4                                         \n",
       "Covariance Type:            nonrobust                                         \n",
       "==============================================================================\n",
       "                 coef    std err          t      P>|t|      [0.025      0.975]\n",
       "------------------------------------------------------------------------------\n",
       "x1         -3.968e+04   5.57e-07  -7.12e+10      0.000   -3.97e+04   -3.97e+04\n",
       "x2          1.676e-08   3.78e-07      0.044      0.965   -7.24e-07    7.58e-07\n",
       "x3         -7.276e-12   4.23e-10     -0.017      0.986   -8.38e-10    8.23e-10\n",
       "x4          3.968e+04   2.65e-10    1.5e+14      0.000    3.97e+04    3.97e+04\n",
       "x5          6.519e-09   4.02e-07      0.016      0.987   -7.81e-07    7.94e-07\n",
       "==============================================================================\n",
       "Omnibus:                       29.440   Durbin-Watson:                   0.000\n",
       "Prob(Omnibus):                  0.000   Jarque-Bera (JB):               31.102\n",
       "Skew:                           0.399   Prob(JB):                     1.76e-07\n",
       "Kurtosis:                       3.197   Cond. No.                     2.16e+04\n",
       "==============================================================================\n",
       "\n",
       "Notes:\n",
       "[1] Standard Errors assume that the covariance matrix of the errors is correctly specified.\n",
       "[2] The condition number is large, 2.16e+04. This might indicate that there are\n",
       "strong multicollinearity or other numerical problems.\n",
       "\"\"\""
      ]
     },
     "execution_count": 130,
     "metadata": {},
     "output_type": "execute_result"
    }
   ],
   "source": [
    "# Standardisierung der Variablen\n",
    "X_standardisiert = (X - X.mean()) / X.std()\n",
    "\n",
    "# Regression schätzen\n",
    "modell_standardisiert = sm.OLS(y, X_standardisiert).fit()\n",
    "\n",
    "modell_standardisiert.summary()\n"
   ]
  },
  {
   "cell_type": "code",
   "execution_count": 131,
   "id": "9765333f",
   "metadata": {},
   "outputs": [
    {
     "name": "stdout",
     "output_type": "stream",
     "text": [
      "Optimization terminated successfully    (Exit mode 0)\n",
      "            Current function value: 0.0028194805710913913\n",
      "            Iterations: 21\n",
      "            Function evaluations: 31\n",
      "            Gradient evaluations: 21\n",
      "                           Logit Regression Results                           \n",
      "==============================================================================\n",
      "Dep. Variable:                  Preis   No. Observations:                 1104\n",
      "Model:                          Logit   Df Residuals:                     1104\n",
      "Method:                           MLE   Df Model:                           -1\n",
      "Date:                Fri, 14 Jun 2024   Pseudo R-squ.:                     inf\n",
      "Time:                        19:25:38   Log-Likelihood:                -765.23\n",
      "converged:                       True   LL-Null:                        0.0000\n",
      "Covariance Type:            nonrobust   LLR p-value:                       nan\n",
      "==============================================================================\n",
      "                 coef    std err          z      P>|z|      [0.025      0.975]\n",
      "------------------------------------------------------------------------------\n",
      "const               0        nan        nan        nan         nan         nan\n",
      "Alter               0        nan        nan        nan         nan         nan\n",
      "Einkommen           0        nan        nan        nan         nan         nan\n",
      "Preis               0        nan        nan        nan         nan         nan\n",
      "Zeit                0        nan        nan        nan         nan         nan\n",
      "==============================================================================\n"
     ]
    },
    {
     "name": "stderr",
     "output_type": "stream",
     "text": [
      "C:\\ProgramData\\anaconda3\\Lib\\site-packages\\statsmodels\\discrete\\discrete_model.py:2383: RuntimeWarning: overflow encountered in exp\n",
      "  return 1/(1+np.exp(-X))\n",
      "C:\\ProgramData\\anaconda3\\Lib\\site-packages\\statsmodels\\discrete\\discrete_model.py:227: PerfectSeparationWarning: Perfect separation or prediction detected, parameter may not be identified\n",
      "  warnings.warn(msg, category=PerfectSeparationWarning)\n",
      "C:\\ProgramData\\anaconda3\\Lib\\site-packages\\statsmodels\\discrete\\discrete_model.py:227: PerfectSeparationWarning: Perfect separation or prediction detected, parameter may not be identified\n",
      "  warnings.warn(msg, category=PerfectSeparationWarning)\n",
      "C:\\ProgramData\\anaconda3\\Lib\\site-packages\\statsmodels\\discrete\\discrete_model.py:227: PerfectSeparationWarning: Perfect separation or prediction detected, parameter may not be identified\n",
      "  warnings.warn(msg, category=PerfectSeparationWarning)\n",
      "C:\\ProgramData\\anaconda3\\Lib\\site-packages\\statsmodels\\discrete\\discrete_model.py:227: PerfectSeparationWarning: Perfect separation or prediction detected, parameter may not be identified\n",
      "  warnings.warn(msg, category=PerfectSeparationWarning)\n",
      "C:\\ProgramData\\anaconda3\\Lib\\site-packages\\statsmodels\\discrete\\discrete_model.py:227: PerfectSeparationWarning: Perfect separation or prediction detected, parameter may not be identified\n",
      "  warnings.warn(msg, category=PerfectSeparationWarning)\n",
      "C:\\ProgramData\\anaconda3\\Lib\\site-packages\\statsmodels\\discrete\\discrete_model.py:227: PerfectSeparationWarning: Perfect separation or prediction detected, parameter may not be identified\n",
      "  warnings.warn(msg, category=PerfectSeparationWarning)\n",
      "C:\\ProgramData\\anaconda3\\Lib\\site-packages\\statsmodels\\discrete\\discrete_model.py:227: PerfectSeparationWarning: Perfect separation or prediction detected, parameter may not be identified\n",
      "  warnings.warn(msg, category=PerfectSeparationWarning)\n",
      "C:\\ProgramData\\anaconda3\\Lib\\site-packages\\statsmodels\\discrete\\discrete_model.py:227: PerfectSeparationWarning: Perfect separation or prediction detected, parameter may not be identified\n",
      "  warnings.warn(msg, category=PerfectSeparationWarning)\n",
      "C:\\ProgramData\\anaconda3\\Lib\\site-packages\\statsmodels\\discrete\\discrete_model.py:227: PerfectSeparationWarning: Perfect separation or prediction detected, parameter may not be identified\n",
      "  warnings.warn(msg, category=PerfectSeparationWarning)\n",
      "C:\\ProgramData\\anaconda3\\Lib\\site-packages\\statsmodels\\discrete\\discrete_model.py:227: PerfectSeparationWarning: Perfect separation or prediction detected, parameter may not be identified\n",
      "  warnings.warn(msg, category=PerfectSeparationWarning)\n",
      "C:\\ProgramData\\anaconda3\\Lib\\site-packages\\statsmodels\\discrete\\discrete_model.py:227: PerfectSeparationWarning: Perfect separation or prediction detected, parameter may not be identified\n",
      "  warnings.warn(msg, category=PerfectSeparationWarning)\n",
      "C:\\ProgramData\\anaconda3\\Lib\\site-packages\\statsmodels\\discrete\\discrete_model.py:227: PerfectSeparationWarning: Perfect separation or prediction detected, parameter may not be identified\n",
      "  warnings.warn(msg, category=PerfectSeparationWarning)\n",
      "C:\\ProgramData\\anaconda3\\Lib\\site-packages\\statsmodels\\discrete\\discrete_model.py:227: PerfectSeparationWarning: Perfect separation or prediction detected, parameter may not be identified\n",
      "  warnings.warn(msg, category=PerfectSeparationWarning)\n",
      "C:\\ProgramData\\anaconda3\\Lib\\site-packages\\statsmodels\\discrete\\discrete_model.py:227: PerfectSeparationWarning: Perfect separation or prediction detected, parameter may not be identified\n",
      "  warnings.warn(msg, category=PerfectSeparationWarning)\n",
      "C:\\ProgramData\\anaconda3\\Lib\\site-packages\\statsmodels\\discrete\\discrete_model.py:227: PerfectSeparationWarning: Perfect separation or prediction detected, parameter may not be identified\n",
      "  warnings.warn(msg, category=PerfectSeparationWarning)\n",
      "C:\\ProgramData\\anaconda3\\Lib\\site-packages\\statsmodels\\discrete\\discrete_model.py:227: PerfectSeparationWarning: Perfect separation or prediction detected, parameter may not be identified\n",
      "  warnings.warn(msg, category=PerfectSeparationWarning)\n",
      "C:\\ProgramData\\anaconda3\\Lib\\site-packages\\statsmodels\\discrete\\discrete_model.py:227: PerfectSeparationWarning: Perfect separation or prediction detected, parameter may not be identified\n",
      "  warnings.warn(msg, category=PerfectSeparationWarning)\n",
      "C:\\ProgramData\\anaconda3\\Lib\\site-packages\\statsmodels\\discrete\\discrete_model.py:227: PerfectSeparationWarning: Perfect separation or prediction detected, parameter may not be identified\n",
      "  warnings.warn(msg, category=PerfectSeparationWarning)\n",
      "C:\\ProgramData\\anaconda3\\Lib\\site-packages\\statsmodels\\discrete\\discrete_model.py:227: PerfectSeparationWarning: Perfect separation or prediction detected, parameter may not be identified\n",
      "  warnings.warn(msg, category=PerfectSeparationWarning)\n",
      "C:\\ProgramData\\anaconda3\\Lib\\site-packages\\statsmodels\\discrete\\discrete_model.py:227: PerfectSeparationWarning: Perfect separation or prediction detected, parameter may not be identified\n",
      "  warnings.warn(msg, category=PerfectSeparationWarning)\n",
      "C:\\ProgramData\\anaconda3\\Lib\\site-packages\\statsmodels\\discrete\\discrete_model.py:227: PerfectSeparationWarning: Perfect separation or prediction detected, parameter may not be identified\n",
      "  warnings.warn(msg, category=PerfectSeparationWarning)\n",
      "C:\\ProgramData\\anaconda3\\Lib\\site-packages\\statsmodels\\discrete\\discrete_model.py:4465: RuntimeWarning: divide by zero encountered in scalar divide\n",
      "  return 1 - self.llf/self.llnull\n"
     ]
    }
   ],
   "source": [
    "# Beispiel: Laden der Daten\n",
    "# X und y definieren (Anpassung je nach Ihren Daten)\n",
    "X = kunden_geo[['Alter', 'Einkommen', 'Preis', 'Zeit']].astype(float)  # Exogene Variablen\n",
    "y = (kunden_geo['Preis'] == 1).astype(int)  # Endogene Variable (abhängige Variable)\n",
    "\n",
    "# Logistische Regression mit Regularisierung (Ridge)\n",
    "ridge_logit_model = sm.Logit(y, sm.add_constant(X))  # Konstante hinzufügen\n",
    "ridge_logit_result = ridge_logit_model.fit_regularized(method='l1', alpha=0.1, maxiter=100)\n",
    "\n",
    "\n",
    "print(ridge_logit_result.summary())\n"
   ]
  },
  {
   "cell_type": "code",
   "execution_count": 132,
   "id": "b2506f93",
   "metadata": {},
   "outputs": [
    {
     "ename": "NameError",
     "evalue": "name 'logit_modell' is not defined",
     "output_type": "error",
     "traceback": [
      "\u001b[1;31m---------------------------------------------------------------------------\u001b[0m",
      "\u001b[1;31mNameError\u001b[0m                                 Traceback (most recent call last)",
      "Cell \u001b[1;32mIn[132], line 10\u001b[0m\n\u001b[0;32m      2\u001b[0m neue_kunden_logit \u001b[38;5;241m=\u001b[39m pd\u001b[38;5;241m.\u001b[39mDataFrame({\n\u001b[0;32m      3\u001b[0m     \u001b[38;5;124m\"\u001b[39m\u001b[38;5;124mconst\u001b[39m\u001b[38;5;124m\"\u001b[39m: [\u001b[38;5;241m1\u001b[39m, \u001b[38;5;241m1\u001b[39m],\n\u001b[0;32m      4\u001b[0m     \u001b[38;5;124m\"\u001b[39m\u001b[38;5;124mAlter\u001b[39m\u001b[38;5;124m\"\u001b[39m: [\u001b[38;5;241m32\u001b[39m, \u001b[38;5;241m51\u001b[39m],\n\u001b[0;32m      5\u001b[0m     \u001b[38;5;124m\"\u001b[39m\u001b[38;5;124mEinkommen\u001b[39m\u001b[38;5;124m\"\u001b[39m: [\u001b[38;5;241m30000\u001b[39m, \u001b[38;5;241m54000\u001b[39m],\n\u001b[0;32m      6\u001b[0m     \u001b[38;5;124m\"\u001b[39m\u001b[38;5;124mZeit\u001b[39m\u001b[38;5;124m\"\u001b[39m: [\u001b[38;5;241m30\u001b[39m, \u001b[38;5;241m45\u001b[39m]\n\u001b[0;32m      7\u001b[0m })\n\u001b[0;32m      9\u001b[0m \u001b[38;5;66;03m# Kaufwahrscheinlichkeit vorhersagen\u001b[39;00m\n\u001b[1;32m---> 10\u001b[0m wahrscheinlichkeiten \u001b[38;5;241m=\u001b[39m logit_modell\u001b[38;5;241m.\u001b[39mpredict(neue_kunden_logit)\n\u001b[0;32m     12\u001b[0m wahrscheinlichkeiten\n",
      "\u001b[1;31mNameError\u001b[0m: name 'logit_modell' is not defined"
     ]
    }
   ],
   "source": [
    "# Neue Kundeninformationen für logistische Regression\n",
    "neue_kunden_logit = pd.DataFrame({\n",
    "    \"const\": [1, 1],\n",
    "    \"Alter\": [32, 51],\n",
    "    \"Einkommen\": [30000, 54000],\n",
    "    \"Zeit\": [30, 45]\n",
    "})\n",
    "\n",
    "# Kaufwahrscheinlichkeit vorhersagen\n",
    "wahrscheinlichkeiten = logit_modell.predict(neue_kunden_logit)\n",
    "\n",
    "wahrscheinlichkeiten  # Zeigt die Kaufwahrscheinlichkeiten für die neuen Kunden\n"
   ]
  },
  {
   "cell_type": "code",
   "execution_count": null,
   "id": "2508476a",
   "metadata": {},
   "outputs": [],
   "source": []
  }
 ],
 "metadata": {
  "kernelspec": {
   "display_name": "Python 3 (ipykernel)",
   "language": "python",
   "name": "python3"
  },
  "language_info": {
   "codemirror_mode": {
    "name": "ipython",
    "version": 3
   },
   "file_extension": ".py",
   "mimetype": "text/x-python",
   "name": "python",
   "nbconvert_exporter": "python",
   "pygments_lexer": "ipython3",
   "version": "3.11.5"
  }
 },
 "nbformat": 4,
 "nbformat_minor": 5
}
